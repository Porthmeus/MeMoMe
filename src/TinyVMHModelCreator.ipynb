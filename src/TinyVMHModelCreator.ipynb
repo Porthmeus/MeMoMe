{
 "cells": [
  {
   "cell_type": "code",
   "execution_count": 1,
   "metadata": {},
   "outputs": [],
   "source": [
    "import cobra\n",
    "import pandas as pd\n",
    "import os"
   ]
  },
  {
   "cell_type": "code",
   "execution_count": 2,
   "metadata": {},
   "outputs": [
    {
     "name": "stdout",
     "output_type": "stream",
     "text": [
      "Set parameter Username\n",
      "Academic license - for non-commercial use only - expires 2024-06-26\n"
     ]
    }
   ],
   "source": [
    "model = cobra.io.read_sbml_model(\"../tests/dat/Adlercreutzia_equolifaciens_DSM_19450.xml\")"
   ]
  },
  {
   "cell_type": "code",
   "execution_count": 6,
   "metadata": {},
   "outputs": [
    {
     "data": {
      "text/plain": [
       "[('group1', 'Alanine and aspartate metabolism', 7),\n",
       " ('group2', 'Aminosugar metabolism', 8),\n",
       " ('group3', 'Arginine and proline metabolism', 13),\n",
       " ('group4', 'Benzoate degradation', 2),\n",
       " ('group5', 'Biotin metabolism', 2),\n",
       " ('group6', 'Butanoate metabolism', 1),\n",
       " ('group7', 'Cell wall biosynthesis', 44),\n",
       " ('group8', 'Cholesterol metabolism', 3),\n",
       " ('group9', 'Citric acid cycle', 13),\n",
       " ('group10', 'CoA synthesis', 10),\n",
       " ('group11', 'Exchange/demand reaction', 100),\n",
       " ('group12', 'Fatty acid oxidation', 2),\n",
       " ('group13', 'Fatty acid synthesis', 112),\n",
       " ('group14', 'Folate metabolism', 18),\n",
       " ('group15', 'Fructose and mannose metabolism', 3),\n",
       " ('group16', 'Galactose metabolism', 5),\n",
       " ('group17', 'Glutamate metabolism', 6),\n",
       " ('group18', 'Glutathione metabolism', 3),\n",
       " ('group19', 'Glycerophospholipid metabolism', 148),\n",
       " ('group20', 'Glycine, serine, alanine, and threonine metabolism', 12),\n",
       " ('group21', 'Glycolysis/gluconeogenesis', 14),\n",
       " ('group22', 'Glyoxylate and dicarboxylate metabolism', 3),\n",
       " ('group23', 'Heme synthesis', 1),\n",
       " ('group24', 'Histidine metabolism', 11),\n",
       " ('group25', 'Lipopolysaccharide biosynthesis', 29),\n",
       " ('group26', 'Lysine metabolism', 6),\n",
       " ('group27', 'Methionine and cysteine metabolism', 11),\n",
       " ('group28', 'Miscellaneous', 1),\n",
       " ('group29', 'NAD metabolism', 10),\n",
       " ('group30', 'Nitrogen metabolism', 2),\n",
       " ('group31', 'Nucleotide interconversion', 37),\n",
       " ('group32', 'Nucleotide salvage pathway', 4),\n",
       " ('group33', 'Nucleotide sugar metabolism', 2),\n",
       " ('group34', 'Others', 1),\n",
       " ('group35', 'Oxidative phosphorylation', 1),\n",
       " ('group36', 'Pentose and glucuronate interconversions', 1),\n",
       " ('group37', 'Pentose phosphate pathway', 6),\n",
       " ('group38', 'Peptide metabolism', 18),\n",
       " ('group39', 'Phenylalanine metabolism', 10),\n",
       " ('group40', 'Propanoate metabolism', 5),\n",
       " ('group41', 'Purine catabolism', 7),\n",
       " ('group42', 'Purine synthesis', 11),\n",
       " ('group43', 'Pyrimidine catabolism', 2),\n",
       " ('group44', 'Pyrimidine synthesis', 11),\n",
       " ('group45', 'Pyruvate metabolism', 9),\n",
       " ('group46', 'ROS detoxification', 1),\n",
       " ('group47', 'Respiration', 13),\n",
       " ('group48', 'Sulfur metabolism', 1),\n",
       " ('group49', 'Terpenoid backbone biosynthesis', 14),\n",
       " ('group50', 'Tetrahydrobiopterin metabolism', 1),\n",
       " ('group51', 'Thiamine metabolism', 7),\n",
       " ('group52', 'Transport, extracellular', 100),\n",
       " ('group53', 'Tyrosine metabolism', 3),\n",
       " ('group54', 'Ubiquinone and other terpenoid-quinone biosynthesis', 19),\n",
       " ('group55', 'Unassigned', 5),\n",
       " ('group56', 'Urea cycle', 5),\n",
       " ('group57', 'Valine, leucine, and isoleucine metabolism', 22),\n",
       " ('group58', 'Vitamin B12 metabolism', 5),\n",
       " ('group59', 'Vitamin B2 metabolism', 9),\n",
       " ('group60', 'Vitamin B6 metabolism', 7),\n",
       " ('group61', 'beta-Alanine metabolism', 3),\n",
       " ('group62', 'tRNA Charging', 1)]"
      ]
     },
     "execution_count": 6,
     "metadata": {},
     "output_type": "execute_result"
    }
   ],
   "source": [
    "[(gr.id,gr.name,len(gr.members)) for gr in model.groups]"
   ]
  },
  {
   "cell_type": "code",
   "execution_count": 53,
   "metadata": {},
   "outputs": [
    {
     "data": {
      "text/plain": [
       "{<Reaction ACONT at 0x7fe9b1f0c9d0>,\n",
       " <Reaction ACONTa at 0x7fe9b1f0ce50>,\n",
       " <Reaction ACONTb at 0x7fe9b1f0d960>,\n",
       " <Reaction FRD2 at 0x7fe9b1d26b60>,\n",
       " <Reaction FRD3 at 0x7fe9b1d26cb0>,\n",
       " <Reaction FRD7 at 0x7fe9b1d58cd0>,\n",
       " <Reaction FUM at 0x7fe9b1d27040>,\n",
       " <Reaction OAASr at 0x7fe9b1b529b0>,\n",
       " <Reaction OOR2r at 0x7fe9b1b53550>,\n",
       " <Reaction PC at 0x7fe9b1995c30>,\n",
       " <Reaction SUCD1 at 0x7fe9b1894940>,\n",
       " <Reaction SUCD4 at 0x7fe9b18951e0>,\n",
       " <Reaction SUCDi at 0x7fe9b1896e90>}"
      ]
     },
     "execution_count": 53,
     "metadata": {},
     "output_type": "execute_result"
    }
   ],
   "source": [
    "subs_reacs = model.groups.get_by_id(\"group9\").members\n",
    "subs_reacs"
   ]
  },
  {
   "cell_type": "code",
   "execution_count": 39,
   "metadata": {},
   "outputs": [
    {
     "data": {
      "text/html": [
       "\n",
       "        <table>\n",
       "            <tr>\n",
       "                <td><strong>Reaction identifier</strong></td><td>G5SADs</td>\n",
       "            </tr><tr>\n",
       "                <td><strong>Name</strong></td><td>L-Glutamate 5-Semialdehyde Dehydratase (Spontaneous)</td>\n",
       "            </tr><tr>\n",
       "                <td><strong>Memory address</strong></td>\n",
       "                <td>0x7fe9b1b90610</td>\n",
       "            </tr><tr>\n",
       "                <td><strong>Stoichiometry</strong></td>\n",
       "                <td>\n",
       "                    <p style='text-align:right'>glu5sa[c] --> 1pyr5c[c] + h2o[c] + h[c]</p>\n",
       "                    <p style='text-align:right'>L-Glutamate 5-semialdehyde --> 1-Pyrroline-5-carboxylate + Water + proton</p>\n",
       "                </td>\n",
       "            </tr><tr>\n",
       "                <td><strong>GPR</strong></td><td></td>\n",
       "            </tr><tr>\n",
       "                <td><strong>Lower bound</strong></td><td>0.0</td>\n",
       "            </tr><tr>\n",
       "                <td><strong>Upper bound</strong></td><td>1000.0</td>\n",
       "            </tr>\n",
       "        </table>\n",
       "        "
      ],
      "text/plain": [
       "<Reaction G5SADs at 0x7fe9b1b90610>"
      ]
     },
     "execution_count": 39,
     "metadata": {},
     "output_type": "execute_result"
    }
   ],
   "source": [
    "list(subs_reacs)[0]"
   ]
  },
  {
   "cell_type": "code",
   "execution_count": 40,
   "metadata": {},
   "outputs": [
    {
     "data": {
      "text/html": [
       "\n",
       "        <table>\n",
       "            <tr>\n",
       "                <td><strong>Reaction identifier</strong></td><td>ACGS</td>\n",
       "            </tr><tr>\n",
       "                <td><strong>Name</strong></td><td>N-acetylglutamate synthase</td>\n",
       "            </tr><tr>\n",
       "                <td><strong>Memory address</strong></td>\n",
       "                <td>0x7fe9b1ec7e80</td>\n",
       "            </tr><tr>\n",
       "                <td><strong>Stoichiometry</strong></td>\n",
       "                <td>\n",
       "                    <p style='text-align:right'>accoa[c] + glu_L[c] --> acglu[c] + coa[c] + h[c]</p>\n",
       "                    <p style='text-align:right'>Acetyl-CoA + L-glutamate(1-) --> N-acetyl-L-glutamate(2-) + Coenzyme A + proton</p>\n",
       "                </td>\n",
       "            </tr><tr>\n",
       "                <td><strong>GPR</strong></td><td>g.210980.CDS.513</td>\n",
       "            </tr><tr>\n",
       "                <td><strong>Lower bound</strong></td><td>0.0</td>\n",
       "            </tr><tr>\n",
       "                <td><strong>Upper bound</strong></td><td>1000.0</td>\n",
       "            </tr>\n",
       "        </table>\n",
       "        "
      ],
      "text/plain": [
       "<Reaction ACGS at 0x7fe9b1ec7e80>"
      ]
     },
     "execution_count": 40,
     "metadata": {},
     "output_type": "execute_result"
    }
   ],
   "source": [
    "list(subs_reacs)[1]"
   ]
  },
  {
   "cell_type": "code",
   "execution_count": 41,
   "metadata": {},
   "outputs": [
    {
     "data": {
      "text/html": [
       "\n",
       "        <table>\n",
       "            <tr>\n",
       "                <td><strong>Reaction identifier</strong></td><td>OCBT</td>\n",
       "            </tr><tr>\n",
       "                <td><strong>Name</strong></td><td>ornithine carbamoyltransferase</td>\n",
       "            </tr><tr>\n",
       "                <td><strong>Memory address</strong></td>\n",
       "                <td>0x7fe9b1b524a0</td>\n",
       "            </tr><tr>\n",
       "                <td><strong>Stoichiometry</strong></td>\n",
       "                <td>\n",
       "                    <p style='text-align:right'>cbp[c] + orn[c] <=> citr_L[c] + h[c] + pi[c]</p>\n",
       "                    <p style='text-align:right'>Carbamoyl phosphate + Ornithine <=> L-citrulline + proton + hydrogenphosphate</p>\n",
       "                </td>\n",
       "            </tr><tr>\n",
       "                <td><strong>GPR</strong></td><td>g.210980.CDS.143 or g.210980.CDS.239 or g.210980.CDS.203</td>\n",
       "            </tr><tr>\n",
       "                <td><strong>Lower bound</strong></td><td>-1000.0</td>\n",
       "            </tr><tr>\n",
       "                <td><strong>Upper bound</strong></td><td>1000.0</td>\n",
       "            </tr>\n",
       "        </table>\n",
       "        "
      ],
      "text/plain": [
       "<Reaction OCBT at 0x7fe9b1b524a0>"
      ]
     },
     "execution_count": 41,
     "metadata": {},
     "output_type": "execute_result"
    }
   ],
   "source": [
    "list(subs_reacs)[2]"
   ]
  },
  {
   "cell_type": "code",
   "execution_count": 42,
   "metadata": {},
   "outputs": [
    {
     "data": {
      "text/html": [
       "\n",
       "        <table>\n",
       "            <tr>\n",
       "                <td><strong>Reaction identifier</strong></td><td>ORNDC</td>\n",
       "            </tr><tr>\n",
       "                <td><strong>Name</strong></td><td>Ornithine Decarboxylase</td>\n",
       "            </tr><tr>\n",
       "                <td><strong>Memory address</strong></td>\n",
       "                <td>0x7fe9b1b53eb0</td>\n",
       "            </tr><tr>\n",
       "                <td><strong>Stoichiometry</strong></td>\n",
       "                <td>\n",
       "                    <p style='text-align:right'>h[c] + orn[c] --> co2[c] + ptrc[c]</p>\n",
       "                    <p style='text-align:right'>proton + Ornithine --> carbon dioxide + Putrescine</p>\n",
       "                </td>\n",
       "            </tr><tr>\n",
       "                <td><strong>GPR</strong></td><td></td>\n",
       "            </tr><tr>\n",
       "                <td><strong>Lower bound</strong></td><td>0.0</td>\n",
       "            </tr><tr>\n",
       "                <td><strong>Upper bound</strong></td><td>1000.0</td>\n",
       "            </tr>\n",
       "        </table>\n",
       "        "
      ],
      "text/plain": [
       "<Reaction ORNDC at 0x7fe9b1b53eb0>"
      ]
     },
     "execution_count": 42,
     "metadata": {},
     "output_type": "execute_result"
    }
   ],
   "source": [
    "list(subs_reacs)[3]"
   ]
  },
  {
   "cell_type": "code",
   "execution_count": 43,
   "metadata": {},
   "outputs": [
    {
     "data": {
      "text/html": [
       "\n",
       "        <table>\n",
       "            <tr>\n",
       "                <td><strong>Reaction identifier</strong></td><td>AGPR</td>\n",
       "            </tr><tr>\n",
       "                <td><strong>Name</strong></td><td>N-acetyl-g-glutamyl-phosphate reductase</td>\n",
       "            </tr><tr>\n",
       "                <td><strong>Memory address</strong></td>\n",
       "                <td>0x7fe9b1f2b3a0</td>\n",
       "            </tr><tr>\n",
       "                <td><strong>Stoichiometry</strong></td>\n",
       "                <td>\n",
       "                    <p style='text-align:right'>acg5sa[c] + nadp[c] + pi[c] <=> acg5p[c] + h[c] + nadph[c]</p>\n",
       "                    <p style='text-align:right'>2-acetamido-5-oxopentanoate + Nicotinamide adenine dinucleotide phosphate + hydrogenphosphate <=> N-acetyl-L-gamma-glutamyl phosphate(3-) + proton + Nicotinamide adenine dinucleotide phosphate -...</p>\n",
       "                </td>\n",
       "            </tr><tr>\n",
       "                <td><strong>GPR</strong></td><td>g.210980.CDS.629</td>\n",
       "            </tr><tr>\n",
       "                <td><strong>Lower bound</strong></td><td>-1000.0</td>\n",
       "            </tr><tr>\n",
       "                <td><strong>Upper bound</strong></td><td>1000.0</td>\n",
       "            </tr>\n",
       "        </table>\n",
       "        "
      ],
      "text/plain": [
       "<Reaction AGPR at 0x7fe9b1f2b3a0>"
      ]
     },
     "execution_count": 43,
     "metadata": {},
     "output_type": "execute_result"
    }
   ],
   "source": [
    "list(subs_reacs)[4]"
   ]
  },
  {
   "cell_type": "code",
   "execution_count": 45,
   "metadata": {},
   "outputs": [
    {
     "name": "stdout",
     "output_type": "stream",
     "text": [
      "[('nadp[c]', 'Nicotinamide adenine dinucleotide phosphate'), ('coa[c]', 'Coenzyme A'), ('nadph[c]', 'Nicotinamide adenine dinucleotide phosphate - reduced'), ('1pyr5c[c]', '1-Pyrroline-5-carboxylate'), ('accoa[c]', 'Acetyl-CoA'), ('citr_L[c]', 'L-citrulline'), ('acg5p[c]', 'N-acetyl-L-gamma-glutamyl phosphate(3-)'), ('acg5sa[c]', '2-acetamido-5-oxopentanoate'), ('co2[c]', 'carbon dioxide'), ('ptrc[c]', 'Putrescine'), ('acglu[c]', 'N-acetyl-L-glutamate(2-)'), ('glu5sa[c]', 'L-Glutamate 5-semialdehyde'), ('cbp[c]', 'Carbamoyl phosphate'), ('pi[c]', 'hydrogenphosphate'), ('glu_L[c]', 'L-glutamate(1-)'), ('orn[c]', 'Ornithine'), ('h2o[c]', 'Water'), ('h[c]', 'proton')]\n",
      "18\n"
     ]
    }
   ],
   "source": [
    "metabolites = set()\n",
    "for met_set in [set(reac.metabolites.keys()) for reac in list(subs_reacs)]:\n",
    "    metabolites = metabolites.union(met_set)\n",
    "print([(met.id, met.name) for met in metabolites])\n",
    "print(len(metabolites))"
   ]
  },
  {
   "cell_type": "code",
   "execution_count": 47,
   "metadata": {},
   "outputs": [
    {
     "data": {
      "text/plain": [
       "[<Reaction EX_co2(e) at 0x7fe9b1cb2e30>]"
      ]
     },
     "execution_count": 47,
     "metadata": {},
     "output_type": "execute_result"
    }
   ],
   "source": [
    "exchanges_to_include = []\n",
    "exchanges_to_include.append(model.reactions.get_by_id(\"EX_co2(e)\"))\n",
    "EX_pi(e)\n",
    "EX_h2o(e)\n",
    "\n",
    "exchanges_to_include"
   ]
  },
  {
   "cell_type": "code",
   "execution_count": 51,
   "metadata": {},
   "outputs": [
    {
     "data": {
      "text/html": [
       "\n",
       "        <table>\n",
       "            <tr>\n",
       "                <td><strong>Metabolite identifier</strong></td><td>ptrc[c]</td>\n",
       "            </tr><tr>\n",
       "                <td><strong>Name</strong></td><td>Putrescine</td>\n",
       "            </tr><tr>\n",
       "                <td><strong>Memory address</strong></td>\n",
       "                <td>0x7fe9b21081f0</td>\n",
       "            </tr><tr>\n",
       "                <td><strong>Formula</strong></td><td>C4H14N2</td>\n",
       "            </tr><tr>\n",
       "                <td><strong>Compartment</strong></td><td>c</td>\n",
       "            </tr><tr>\n",
       "                <td><strong>In 2 reaction(s)</strong></td><td>\n",
       "                    ORNDC, biomass456\n",
       "                    </td>\n",
       "            </tr>\n",
       "        </table>"
      ],
      "text/plain": [
       "<Metabolite ptrc[c] at 0x7fe9b21081f0>"
      ]
     },
     "execution_count": 51,
     "metadata": {},
     "output_type": "execute_result"
    }
   ],
   "source": [
    "model.metabolites.get_by_id(\"ptrc[c]\")"
   ]
  },
  {
   "cell_type": "code",
   "execution_count": 52,
   "metadata": {},
   "outputs": [
    {
     "data": {
      "text/html": [
       "\n",
       "        <table>\n",
       "            <tr>\n",
       "                <td><strong>Reaction identifier</strong></td><td>biomass456</td>\n",
       "            </tr><tr>\n",
       "                <td><strong>Name</strong></td><td>biomass456</td>\n",
       "            </tr><tr>\n",
       "                <td><strong>Memory address</strong></td>\n",
       "                <td>0x7fe9b17a8dc0</td>\n",
       "            </tr><tr>\n",
       "                <td><strong>Stoichiometry</strong></td>\n",
       "                <td>\n",
       "                    <p style='text-align:right'>0.0030965 10fthf[c] + 0.0030965 2dmmq8[c] + 0.0030965 5mthf[c] + 0.0030965 ACP[c] + 0.025011 PGP[c] + 0.0030965 adocbl[c] + 0.42793 ala_L[c] + 0.0030965 amet[c] + 0.2467 arg_L[c] + 0.20083 asn_L[c]...</p>\n",
       "                    <p style='text-align:right'>0.0030965 10-Formyltetrahydrofolate + 0.0030965 2-Demethylmenaquinone 8 + 0.0030965 5-Methyltetrahydrofolate + 0.0030965 acyl carrier protein + 0.025011 Peptidoglycan polymer (n subunits) +...</p>\n",
       "                </td>\n",
       "            </tr><tr>\n",
       "                <td><strong>GPR</strong></td><td></td>\n",
       "            </tr><tr>\n",
       "                <td><strong>Lower bound</strong></td><td>0.0</td>\n",
       "            </tr><tr>\n",
       "                <td><strong>Upper bound</strong></td><td>1000.0</td>\n",
       "            </tr>\n",
       "        </table>\n",
       "        "
      ],
      "text/plain": [
       "<Reaction biomass456 at 0x7fe9b17a8dc0>"
      ]
     },
     "execution_count": 52,
     "metadata": {},
     "output_type": "execute_result"
    }
   ],
   "source": [
    "model.reactions.get_by_id(\"biomass456\")"
   ]
  },
  {
   "cell_type": "code",
   "execution_count": 32,
   "metadata": {},
   "outputs": [],
   "source": [
    "for met in metabolites:\n",
    "    for reac in met.reactions:\n",
    "        if met.id.replace(\"[c]\",\"[e]\") in list(reac.metabolites.keys()):\n",
    "            print(reac)"
   ]
  },
  {
   "cell_type": "code",
   "execution_count": 37,
   "metadata": {},
   "outputs": [],
   "source": [
    "h2oreacs = model.metabolites.get_by_id(\"h2o[c]\").reactions"
   ]
  },
  {
   "cell_type": "code",
   "execution_count": null,
   "metadata": {},
   "outputs": [],
   "source": [
    "for reac in h2oreacs\n",
    "    if \"h2o[c]\" in list(reac.metabolites.keys())"
   ]
  },
  {
   "cell_type": "code",
   "execution_count": 36,
   "metadata": {},
   "outputs": [
    {
     "data": {
      "text/plain": [
       "{'EX_4hbz(e)': 1000.0,\n",
       " 'EX_ac(e)': 1000.0,\n",
       " 'EX_adocbl(e)': 1000.0,\n",
       " 'EX_ala_L(e)': 1000.0,\n",
       " 'EX_alaasp(e)': 1000.0,\n",
       " 'EX_alagln(e)': 1000.0,\n",
       " 'EX_alaglu(e)': 1000.0,\n",
       " 'EX_alagly(e)': 1000.0,\n",
       " 'EX_alahis(e)': 1000.0,\n",
       " 'EX_alaleu(e)': 1000.0,\n",
       " 'EX_alathr(e)': 1000.0,\n",
       " 'EX_arab_D(e)': 1000.0,\n",
       " 'EX_arab_L(e)': 1000.0,\n",
       " 'EX_arg_L(e)': 1000.0,\n",
       " 'EX_asn_L(e)': 1000.0,\n",
       " 'EX_asp_L(e)': 1000.0,\n",
       " 'EX_btn(e)': 1000.0,\n",
       " 'EX_ca2(e)': 1000.0,\n",
       " 'EX_cbl1(e)': 1000.0,\n",
       " 'EX_cbl2(e)': 1000.0,\n",
       " 'EX_cd2(e)': 1000.0,\n",
       " 'EX_cgly(e)': 1000.0,\n",
       " 'EX_cl(e)': 1000.0,\n",
       " 'EX_co2(e)': 1000.0,\n",
       " 'EX_cobalt2(e)': 1000.0,\n",
       " 'EX_cu2(e)': 1000.0,\n",
       " 'EX_cys_L(e)': 1000.0,\n",
       " 'EX_ddca(e)': 1000.0,\n",
       " 'EX_fe2(e)': 1000.0,\n",
       " 'EX_fe3(e)': 1000.0,\n",
       " 'EX_fecrm(e)': 1000.0,\n",
       " 'EX_fol(e)': 1000.0,\n",
       " 'EX_for(e)': 1000.0,\n",
       " 'EX_glc_D(e)': 1000.0,\n",
       " 'EX_gln_L(e)': 1000.0,\n",
       " 'EX_glu_L(e)': 1000.0,\n",
       " 'EX_gly(e)': 1000.0,\n",
       " 'EX_glyasn(e)': 1000.0,\n",
       " 'EX_glyasp(e)': 1000.0,\n",
       " 'EX_glycys(e)': 1000.0,\n",
       " 'EX_glygln(e)': 1000.0,\n",
       " 'EX_glyglu(e)': 1000.0,\n",
       " 'EX_glyleu(e)': 1000.0,\n",
       " 'EX_glymet(e)': 1000.0,\n",
       " 'EX_glyphe(e)': 1000.0,\n",
       " 'EX_glypro(e)': 1000.0,\n",
       " 'EX_glytyr(e)': 1000.0,\n",
       " 'EX_h(e)': 1000.0,\n",
       " 'EX_h2o(e)': 1000.0,\n",
       " 'EX_hg2(e)': 1000.0,\n",
       " 'EX_his_L(e)': 1000.0,\n",
       " 'EX_ile_L(e)': 1000.0,\n",
       " 'EX_k(e)': 1000.0,\n",
       " 'EX_leu_L(e)': 1000.0,\n",
       " 'EX_lys_L(e)': 1000.0,\n",
       " 'EX_malt(e)': 1000.0,\n",
       " 'EX_met_L(e)': 1000.0,\n",
       " 'EX_metala(e)': 1000.0,\n",
       " 'EX_mg2(e)': 1000.0,\n",
       " 'EX_mn2(e)': 1000.0,\n",
       " 'EX_na1(e)': 1000.0,\n",
       " 'EX_nac(e)': 1000.0,\n",
       " 'EX_nh4(e)': 1000.0,\n",
       " 'EX_no2(e)': 1000.0,\n",
       " 'EX_no3(e)': 1000.0,\n",
       " 'EX_o2(e)': 1000.0,\n",
       " 'EX_ocdca(e)': 1000.0,\n",
       " 'EX_orn(e)': 1000.0,\n",
       " 'EX_pb(e)': 1000.0,\n",
       " 'EX_phe_L(e)': 1000.0,\n",
       " 'EX_pheme(e)': 1000.0,\n",
       " 'EX_pi(e)': 1000.0,\n",
       " 'EX_pnto_R(e)': 1000.0,\n",
       " 'EX_ppi(e)': 1000.0,\n",
       " 'EX_pro_L(e)': 1000.0,\n",
       " 'EX_ribflv(e)': 1000.0,\n",
       " 'EX_ser_L(e)': 1000.0,\n",
       " 'EX_sheme(e)': 1000.0,\n",
       " 'EX_so4(e)': 1000.0,\n",
       " 'EX_spmd(e)': 1000.0,\n",
       " 'EX_succ(e)': 1000.0,\n",
       " 'EX_thm(e)': 1000.0,\n",
       " 'EX_thr_L(e)': 1000.0,\n",
       " 'EX_trp_L(e)': 1000.0,\n",
       " 'EX_tsul(e)': 1000.0,\n",
       " 'EX_ttdca(e)': 1000.0,\n",
       " 'EX_tyr_L(e)': 1000.0,\n",
       " 'EX_ura(e)': 1000.0,\n",
       " 'EX_val_L(e)': 1000.0,\n",
       " 'EX_xan(e)': 1000.0,\n",
       " 'EX_zn2(e)': 1000.0}"
      ]
     },
     "execution_count": 36,
     "metadata": {},
     "output_type": "execute_result"
    }
   ],
   "source": [
    "model.medium"
   ]
  },
  {
   "cell_type": "code",
   "execution_count": 4,
   "metadata": {},
   "outputs": [],
   "source": [
    "reac = models[list(models.keys())[0]].reactions[0]"
   ]
  },
  {
   "cell_type": "code",
   "execution_count": 5,
   "metadata": {},
   "outputs": [
    {
     "data": {
      "text/plain": [
       "{'sbo': ['SBO:0000167', 'SBO:0000176'],\n",
       " 'ec-code': ['2.2.1.6', '4.1.3.18'],\n",
       " 'seed.reaction': ['rxn00003'],\n",
       " 'kegg.reaction': 'R00006',\n",
       " 'metanetx.reaction': 'MNXR106335'}"
      ]
     },
     "execution_count": 5,
     "metadata": {},
     "output_type": "execute_result"
    }
   ],
   "source": [
    "reac.annotation"
   ]
  },
  {
   "cell_type": "code",
   "execution_count": 6,
   "metadata": {},
   "outputs": [
    {
     "data": {
      "text/plain": [
       "''"
      ]
     },
     "execution_count": 6,
     "metadata": {},
     "output_type": "execute_result"
    }
   ],
   "source": [
    "reac.gene_name_reaction_rule"
   ]
  },
  {
   "cell_type": "code",
   "execution_count": 7,
   "metadata": {},
   "outputs": [
    {
     "data": {
      "text/plain": [
       "''"
      ]
     },
     "execution_count": 7,
     "metadata": {},
     "output_type": "execute_result"
    }
   ],
   "source": [
    "reac.gene_reaction_rule"
   ]
  },
  {
   "cell_type": "code",
   "execution_count": 8,
   "metadata": {},
   "outputs": [
    {
     "data": {
      "text/plain": [
       "str"
      ]
     },
     "execution_count": 8,
     "metadata": {},
     "output_type": "execute_result"
    }
   ],
   "source": [
    "type(reac.gene_reaction_rule)"
   ]
  },
  {
   "cell_type": "code",
   "execution_count": 9,
   "metadata": {},
   "outputs": [
    {
     "data": {
      "text/plain": [
       "frozenset"
      ]
     },
     "execution_count": 9,
     "metadata": {},
     "output_type": "execute_result"
    }
   ],
   "source": [
    "type(reac.genes)"
   ]
  },
  {
   "cell_type": "code",
   "execution_count": 10,
   "metadata": {},
   "outputs": [
    {
     "data": {
      "text/plain": [
       "frozenset()"
      ]
     },
     "execution_count": 10,
     "metadata": {},
     "output_type": "execute_result"
    }
   ],
   "source": [
    "reac.genes"
   ]
  },
  {
   "cell_type": "code",
   "execution_count": 11,
   "metadata": {},
   "outputs": [
    {
     "data": {
      "text/plain": [
       "{}"
      ]
     },
     "execution_count": 11,
     "metadata": {},
     "output_type": "execute_result"
    }
   ],
   "source": [
    "reac.notes"
   ]
  },
  {
   "cell_type": "code",
   "execution_count": 12,
   "metadata": {},
   "outputs": [
    {
     "data": {
      "text/plain": [
       "dict"
      ]
     },
     "execution_count": 12,
     "metadata": {},
     "output_type": "execute_result"
    }
   ],
   "source": [
    "type(reac.notes)"
   ]
  },
  {
   "cell_type": "code",
   "execution_count": 13,
   "metadata": {},
   "outputs": [
    {
     "data": {
      "text/plain": [
       "''"
      ]
     },
     "execution_count": 13,
     "metadata": {},
     "output_type": "execute_result"
    }
   ],
   "source": [
    "reac.subsystem"
   ]
  },
  {
   "cell_type": "code",
   "execution_count": null,
   "metadata": {},
   "outputs": [],
   "source": []
  },
  {
   "cell_type": "code",
   "execution_count": 14,
   "metadata": {},
   "outputs": [
    {
     "data": {
      "text/plain": [
       "{}"
      ]
     },
     "execution_count": 14,
     "metadata": {},
     "output_type": "execute_result"
    }
   ],
   "source": [
    "models[list(models.keys())[0]].annotation"
   ]
  },
  {
   "cell_type": "code",
   "execution_count": 15,
   "metadata": {},
   "outputs": [
    {
     "data": {
      "text/plain": [
       "{'c0': '', 'e0': '', 'p0': ''}"
      ]
     },
     "execution_count": 15,
     "metadata": {},
     "output_type": "execute_result"
    }
   ],
   "source": [
    "models[list(models.keys())[0]].compartments"
   ]
  },
  {
   "cell_type": "code",
   "execution_count": null,
   "metadata": {},
   "outputs": [],
   "source": []
  },
  {
   "cell_type": "code",
   "execution_count": 16,
   "metadata": {},
   "outputs": [
    {
     "data": {
      "text/plain": [
       "[<Gene opera_contig_4473_24 at 0x7f903f54f6a0>,\n",
       " <Gene opera_contig_4986_3 at 0x7f903f550f40>,\n",
       " <Gene opera_contig_4986_4 at 0x7f903f551000>,\n",
       " <Gene opera_contig_19077_13 at 0x7f903f550fa0>,\n",
       " <Gene opera_contig_19077_5 at 0x7f903f550f70>,\n",
       " <Gene opera_contig_1238_51 at 0x7f903f551030>,\n",
       " <Gene opera_contig_17096_6 at 0x7f903f551060>,\n",
       " <Gene opera_contig_1775_6 at 0x7f903f551090>,\n",
       " <Gene opera_contig_29192_16 at 0x7f903f5510c0>,\n",
       " <Gene opera_contig_31034_8 at 0x7f903f5510f0>,\n",
       " <Gene opera_contig_3200_40 at 0x7f903f551120>,\n",
       " <Gene opera_contig_53712_5 at 0x7f903f551150>,\n",
       " <Gene opera_contig_9235_25 at 0x7f903f551180>,\n",
       " <Gene opera_contig_97203_3 at 0x7f903f5511b0>,\n",
       " <Gene opera_contig_31819_4 at 0x7f903f5511e0>,\n",
       " <Gene opera_contig_31819_5 at 0x7f903f551210>,\n",
       " <Gene opera_contig_1044_27 at 0x7f903f551240>,\n",
       " <Gene opera_contig_10208_2 at 0x7f903f551270>,\n",
       " <Gene opera_contig_1044_94 at 0x7f903f5512a0>,\n",
       " <Gene opera_contig_10744_9 at 0x7f903f5512d0>,\n",
       " <Gene opera_contig_11001_20 at 0x7f903f551300>,\n",
       " <Gene opera_contig_11066_15 at 0x7f903f551330>,\n",
       " <Gene opera_contig_11066_27 at 0x7f903f551360>,\n",
       " <Gene opera_contig_1238_13 at 0x7f903f551390>,\n",
       " <Gene opera_contig_1238_18 at 0x7f903f5513c0>,\n",
       " <Gene opera_contig_1238_86 at 0x7f903f5513f0>,\n",
       " <Gene opera_contig_1238_96 at 0x7f903f551420>,\n",
       " <Gene opera_contig_12634_8 at 0x7f903f551450>,\n",
       " <Gene opera_contig_12851_9 at 0x7f903f551480>,\n",
       " <Gene opera_contig_14540_17 at 0x7f903f5514b0>,\n",
       " <Gene opera_contig_1466_80 at 0x7f903f5514e0>,\n",
       " <Gene opera_contig_1466_90 at 0x7f903f551510>,\n",
       " <Gene opera_contig_1775_71 at 0x7f903f551540>,\n",
       " <Gene opera_contig_1775_72 at 0x7f903f551570>,\n",
       " <Gene opera_contig_1775_79 at 0x7f903f5515a0>,\n",
       " <Gene opera_contig_18452_21 at 0x7f903f5515d0>,\n",
       " <Gene opera_contig_2001_39 at 0x7f903f551600>,\n",
       " <Gene opera_contig_2001_8 at 0x7f903f551630>,\n",
       " <Gene opera_contig_22390_8 at 0x7f903f551660>,\n",
       " <Gene opera_contig_25490_14 at 0x7f903f551690>,\n",
       " <Gene opera_contig_2863_57 at 0x7f903f5516c0>,\n",
       " <Gene opera_contig_3132_24 at 0x7f903f5516f0>,\n",
       " <Gene opera_contig_3132_25 at 0x7f903f551720>,\n",
       " <Gene opera_contig_3200_29 at 0x7f903f551750>,\n",
       " <Gene opera_contig_3240_22 at 0x7f903f551780>,\n",
       " <Gene opera_contig_3298_20 at 0x7f903f5517b0>,\n",
       " <Gene opera_contig_3746_19 at 0x7f903f5517e0>,\n",
       " <Gene opera_contig_3881_37 at 0x7f903f551810>,\n",
       " <Gene opera_contig_3881_47 at 0x7f903f551840>,\n",
       " <Gene opera_contig_4473_31 at 0x7f903f551870>,\n",
       " <Gene opera_contig_5553_47 at 0x7f903f5518a0>,\n",
       " <Gene opera_contig_5604_28 at 0x7f903f5518d0>,\n",
       " <Gene opera_contig_5772_17 at 0x7f903f551900>,\n",
       " <Gene opera_contig_5772_47 at 0x7f903f551930>,\n",
       " <Gene opera_contig_5980_19 at 0x7f903f551960>,\n",
       " <Gene opera_contig_7137_11 at 0x7f903f551990>,\n",
       " <Gene opera_contig_7137_3 at 0x7f903f5519c0>,\n",
       " <Gene opera_contig_8589_23 at 0x7f903f5519f0>,\n",
       " <Gene opera_contig_8589_9 at 0x7f903f551a20>,\n",
       " <Gene opera_contig_9091_34 at 0x7f903f551a50>,\n",
       " <Gene opera_contig_9091_7 at 0x7f903f551a80>,\n",
       " <Gene opera_contig_9235_3 at 0x7f903f551ab0>,\n",
       " <Gene opera_contig_9343_25 at 0x7f903f551ae0>,\n",
       " <Gene opera_contig_9483_28 at 0x7f903f551b10>,\n",
       " <Gene opera_contig_97203_2 at 0x7f903f551b40>,\n",
       " <Gene opera_contig_10744_2 at 0x7f903f551b70>,\n",
       " <Gene opera_contig_22847_12 at 0x7f903f551ba0>,\n",
       " <Gene opera_contig_5553_6 at 0x7f903f551bd0>,\n",
       " <Gene opera_contig_11001_21 at 0x7f903f551c00>,\n",
       " <Gene opera_contig_3298_19 at 0x7f903f551c30>,\n",
       " <Gene opera_contig_11066_14 at 0x7f903f551c60>,\n",
       " <Gene opera_contig_23316_14 at 0x7f903f551c90>,\n",
       " <Gene opera_contig_11371_20 at 0x7f903f551cc0>,\n",
       " <Gene opera_contig_22847_13 at 0x7f903f551cf0>,\n",
       " <Gene opera_contig_4534_33 at 0x7f903f551d20>,\n",
       " <Gene opera_contig_11371_22 at 0x7f903f551d50>,\n",
       " <Gene opera_contig_1466_11 at 0x7f903f551d80>,\n",
       " <Gene opera_contig_22847_11 at 0x7f903f551db0>,\n",
       " <Gene opera_contig_23316_15 at 0x7f903f551de0>,\n",
       " <Gene opera_contig_9042_25 at 0x7f903f551e10>,\n",
       " <Gene opera_contig_9235_6 at 0x7f903f551e40>,\n",
       " <Gene opera_contig_1775_49 at 0x7f903f551e70>,\n",
       " <Gene opera_contig_19731_15 at 0x7f903f551ea0>,\n",
       " <Gene opera_contig_26620_4 at 0x7f903f551ed0>,\n",
       " <Gene opera_contig_5604_20 at 0x7f903f551f00>,\n",
       " <Gene opera_contig_8589_15 at 0x7f903f551f30>,\n",
       " <Gene opera_contig_5604_19 at 0x7f903f551f60>,\n",
       " <Gene opera_contig_13526_15 at 0x7f903f551f90>,\n",
       " <Gene opera_contig_3442_54 at 0x7f903f551fc0>,\n",
       " <Gene opera_contig_1512_83 at 0x7f903f551ff0>,\n",
       " <Gene opera_contig_12888_8 at 0x7f903f552020>,\n",
       " <Gene opera_contig_26844_8 at 0x7f903f552050>,\n",
       " <Gene opera_contig_5553_43 at 0x7f903f552080>,\n",
       " <Gene opera_contig_12851_21 at 0x7f903f5520b0>,\n",
       " <Gene opera_contig_11877_14 at 0x7f903f5520e0>,\n",
       " <Gene opera_contig_38833_10 at 0x7f903f552110>,\n",
       " <Gene opera_contig_3881_45 at 0x7f903f552140>,\n",
       " <Gene opera_contig_20243_14 at 0x7f903f552170>,\n",
       " <Gene opera_contig_9235_19 at 0x7f903f5521a0>,\n",
       " <Gene opera_contig_3132_16 at 0x7f903f5521d0>,\n",
       " <Gene opera_contig_10744_20 at 0x7f903f552200>,\n",
       " <Gene opera_contig_3442_1 at 0x7f903f552230>,\n",
       " <Gene opera_contig_22783_9 at 0x7f903f552260>,\n",
       " <Gene opera_contig_35327_5 at 0x7f903f552290>,\n",
       " <Gene opera_contig_7137_27 at 0x7f903f5522c0>,\n",
       " <Gene opera_contig_9091_17 at 0x7f903f5522f0>,\n",
       " <Gene opera_contig_1238_6 at 0x7f903f552320>,\n",
       " <Gene opera_contig_1238_5 at 0x7f903f552350>,\n",
       " <Gene opera_contig_5553_48 at 0x7f903f552380>,\n",
       " <Gene opera_contig_3240_55 at 0x7f903f5523b0>,\n",
       " <Gene opera_contig_11001_30 at 0x7f903f5523e0>,\n",
       " <Gene opera_contig_4473_17 at 0x7f903f552410>,\n",
       " <Gene opera_contig_37994_7 at 0x7f903f552440>,\n",
       " <Gene opera_contig_37994_8 at 0x7f903f552470>,\n",
       " <Gene opera_contig_4986_45 at 0x7f903f5524a0>,\n",
       " <Gene opera_contig_17096_2 at 0x7f903f5524d0>,\n",
       " <Gene opera_contig_9483_8 at 0x7f903f552500>,\n",
       " <Gene opera_contig_12888_2 at 0x7f903f552530>,\n",
       " <Gene opera_contig_29529_5 at 0x7f903f552560>,\n",
       " <Gene opera_contig_1466_14 at 0x7f903f552590>,\n",
       " <Gene opera_contig_1643_54 at 0x7f903f5525c0>,\n",
       " <Gene opera_contig_22783_12 at 0x7f903f5525f0>,\n",
       " <Gene opera_contig_35327_8 at 0x7f903f552620>,\n",
       " <Gene opera_contig_17174_6 at 0x7f903f552650>,\n",
       " <Gene opera_contig_38833_9 at 0x7f903f552680>,\n",
       " <Gene opera_contig_7137_42 at 0x7f903f5526b0>,\n",
       " <Gene opera_contig_3746_10 at 0x7f903f5526e0>,\n",
       " <Gene opera_contig_20243_11 at 0x7f903f552710>,\n",
       " <Gene opera_contig_10208_18 at 0x7f903f552740>,\n",
       " <Gene opera_contig_2001_7 at 0x7f903f552770>,\n",
       " <Gene opera_contig_2001_48 at 0x7f903f5527a0>,\n",
       " <Gene opera_contig_1466_73 at 0x7f903f5527d0>,\n",
       " <Gene opera_contig_1044_45 at 0x7f903f552800>,\n",
       " <Gene opera_contig_3132_39 at 0x7f903f552830>,\n",
       " <Gene opera_contig_1044_82 at 0x7f903f552860>,\n",
       " <Gene opera_contig_2863_62 at 0x7f903f552890>,\n",
       " <Gene opera_contig_9042_13 at 0x7f903f5528c0>,\n",
       " <Gene opera_contig_3442_37 at 0x7f903f5528f0>,\n",
       " <Gene opera_contig_17096_3 at 0x7f903f552920>,\n",
       " <Gene opera_contig_13526_11 at 0x7f903f552950>,\n",
       " <Gene opera_contig_7137_26 at 0x7f903f552980>,\n",
       " <Gene opera_contig_3442_47 at 0x7f903f5529b0>,\n",
       " <Gene opera_contig_22783_6 at 0x7f903f5529e0>,\n",
       " <Gene opera_contig_35327_2 at 0x7f903f552a10>,\n",
       " <Gene opera_contig_72071_5 at 0x7f903f552a40>,\n",
       " <Gene opera_contig_2001_14 at 0x7f903f552a70>,\n",
       " <Gene opera_contig_4534_57 at 0x7f903f552aa0>,\n",
       " <Gene opera_contig_12640_9 at 0x7f903f552ad0>,\n",
       " <Gene opera_contig_3132_61 at 0x7f903f552b00>,\n",
       " <Gene opera_contig_3132_73 at 0x7f903f552b30>,\n",
       " <Gene opera_contig_3132_74 at 0x7f903f552b60>,\n",
       " <Gene opera_contig_5553_32 at 0x7f903f552b90>,\n",
       " <Gene opera_contig_11877_27 at 0x7f903f552bc0>,\n",
       " <Gene opera_contig_2863_53 at 0x7f903f552bf0>,\n",
       " <Gene opera_contig_5772_35 at 0x7f903f552c20>,\n",
       " <Gene opera_contig_2001_56 at 0x7f903f552c50>,\n",
       " <Gene opera_contig_5553_34 at 0x7f903f552c80>,\n",
       " <Gene opera_contig_5980_29 at 0x7f903f552cb0>,\n",
       " <Gene opera_contig_3200_16 at 0x7f903f552ce0>,\n",
       " <Gene opera_contig_10744_31 at 0x7f903f552d10>,\n",
       " <Gene opera_contig_9042_19 at 0x7f903f552d40>,\n",
       " <Gene opera_contig_1643_84 at 0x7f903f552d70>,\n",
       " <Gene opera_contig_9483_33 at 0x7f903f552da0>,\n",
       " <Gene opera_contig_2001_19 at 0x7f903f552dd0>,\n",
       " <Gene opera_contig_1643_18 at 0x7f903f552e00>,\n",
       " <Gene opera_contig_3132_32 at 0x7f903f552e30>,\n",
       " <Gene opera_contig_1044_5 at 0x7f903f552e60>,\n",
       " <Gene opera_contig_12640_26 at 0x7f903f552e90>,\n",
       " <Gene opera_contig_5772_52 at 0x7f903f552ec0>,\n",
       " <Gene opera_contig_3881_56 at 0x7f903f552ef0>,\n",
       " <Gene opera_contig_5553_39 at 0x7f903f552f20>,\n",
       " <Gene opera_contig_3132_55 at 0x7f903f552f50>,\n",
       " <Gene opera_contig_3746_34 at 0x7f903f552f80>,\n",
       " <Gene opera_contig_1238_9 at 0x7f903f552fb0>,\n",
       " <Gene opera_contig_3298_17 at 0x7f903f552fe0>,\n",
       " <Gene opera_contig_19077_6 at 0x7f903f553010>,\n",
       " <Gene opera_contig_19077_7 at 0x7f903f553040>,\n",
       " <Gene opera_contig_37994_11 at 0x7f903f553070>,\n",
       " <Gene opera_contig_1238_1 at 0x7f903f5530a0>,\n",
       " <Gene opera_contig_18452_13 at 0x7f903f5530d0>,\n",
       " <Gene opera_contig_24056_13 at 0x7f903f553100>,\n",
       " <Gene opera_contig_5604_13 at 0x7f903f553130>,\n",
       " <Gene opera_contig_12851_6 at 0x7f903f553160>,\n",
       " <Gene opera_contig_110752_3 at 0x7f903f553190>,\n",
       " <Gene opera_contig_3132_14 at 0x7f903f5531c0>,\n",
       " <Gene opera_contig_1238_20 at 0x7f903f5531f0>,\n",
       " <Gene opera_contig_1643_40 at 0x7f903f553220>,\n",
       " <Gene opera_contig_41076_10 at 0x7f903f553250>,\n",
       " <Gene opera_contig_3200_7 at 0x7f903f553280>,\n",
       " <Gene opera_contig_1775_61 at 0x7f903f5532b0>,\n",
       " <Gene opera_contig_25490_9 at 0x7f903f5532e0>,\n",
       " <Gene opera_contig_1512_68 at 0x7f903f553310>,\n",
       " <Gene opera_contig_3132_47 at 0x7f903f553340>,\n",
       " <Gene opera_contig_69974_2 at 0x7f903f553370>,\n",
       " <Gene opera_contig_9343_5 at 0x7f903f5533a0>,\n",
       " <Gene opera_contig_50958_7 at 0x7f903f5533d0>,\n",
       " <Gene opera_contig_5980_27 at 0x7f903f553400>,\n",
       " <Gene opera_contig_11066_17 at 0x7f903f553430>,\n",
       " <Gene opera_contig_4473_22 at 0x7f903f553460>,\n",
       " <Gene opera_contig_53712_7 at 0x7f903f553490>,\n",
       " <Gene opera_contig_1512_71 at 0x7f903f5534c0>,\n",
       " <Gene opera_contig_9088_32 at 0x7f903f5534f0>,\n",
       " <Gene opera_contig_3881_54 at 0x7f903f553520>,\n",
       " <Gene opera_contig_3200_20 at 0x7f903f553550>,\n",
       " <Gene opera_contig_4986_51 at 0x7f903f553580>,\n",
       " <Gene opera_contig_1643_3 at 0x7f903f5535b0>,\n",
       " <Gene opera_contig_2863_5 at 0x7f903f5535e0>,\n",
       " <Gene opera_contig_29192_12 at 0x7f903f553610>,\n",
       " <Gene opera_contig_5553_31 at 0x7f903f553640>,\n",
       " <Gene opera_contig_8589_19 at 0x7f903f553670>,\n",
       " <Gene opera_contig_2863_40 at 0x7f903f5536a0>,\n",
       " <Gene opera_contig_1775_40 at 0x7f903f5536d0>,\n",
       " <Gene opera_contig_3240_28 at 0x7f903f553700>,\n",
       " <Gene opera_contig_3240_29 at 0x7f903f553730>,\n",
       " <Gene opera_contig_3746_32 at 0x7f903f553760>,\n",
       " <Gene opera_contig_1775_55 at 0x7f903f553790>,\n",
       " <Gene opera_contig_76639_3 at 0x7f903f5537c0>,\n",
       " <Gene opera_contig_3240_39 at 0x7f903f5537f0>,\n",
       " <Gene opera_contig_10208_25 at 0x7f903f553820>,\n",
       " <Gene opera_contig_10208_26 at 0x7f903f553850>,\n",
       " <Gene opera_contig_1643_22 at 0x7f903f553880>,\n",
       " <Gene opera_contig_1044_73 at 0x7f903f5538b0>,\n",
       " <Gene opera_contig_5604_35 at 0x7f903f5538e0>,\n",
       " <Gene opera_contig_1238_93 at 0x7f903f553910>,\n",
       " <Gene opera_contig_73004_7 at 0x7f903f553940>,\n",
       " <Gene opera_contig_1643_25 at 0x7f903f553970>,\n",
       " <Gene opera_contig_4473_19 at 0x7f903f5539a0>,\n",
       " <Gene opera_contig_9042_8 at 0x7f903f5539d0>,\n",
       " <Gene opera_contig_3442_35 at 0x7f903f553a00>,\n",
       " <Gene opera_contig_1512_25 at 0x7f903f553a30>,\n",
       " <Gene opera_contig_7569_3 at 0x7f903f553a60>,\n",
       " <Gene opera_contig_3132_1 at 0x7f903f553a90>,\n",
       " <Gene opera_contig_3298_71 at 0x7f903f553ac0>,\n",
       " <Gene opera_contig_7569_2 at 0x7f903f553af0>,\n",
       " <Gene opera_contig_14906_7 at 0x7f903f553b20>,\n",
       " <Gene opera_contig_1512_12 at 0x7f903f553b50>,\n",
       " <Gene opera_contig_9483_36 at 0x7f903f553b80>,\n",
       " <Gene opera_contig_3746_33 at 0x7f903f553bb0>,\n",
       " <Gene opera_contig_2863_49 at 0x7f903f553be0>,\n",
       " <Gene opera_contig_1775_35 at 0x7f903f553c10>,\n",
       " <Gene opera_contig_4986_20 at 0x7f903f553c40>,\n",
       " <Gene opera_contig_106909_1 at 0x7f903f553c70>,\n",
       " <Gene opera_contig_36883_12 at 0x7f903f553ca0>,\n",
       " <Gene opera_contig_10208_8 at 0x7f903f553cd0>,\n",
       " <Gene opera_contig_4534_59 at 0x7f903f553d00>,\n",
       " <Gene opera_contig_1512_23 at 0x7f903f553d30>,\n",
       " <Gene opera_contig_12640_2 at 0x7f903f553d60>,\n",
       " <Gene opera_contig_56760_3 at 0x7f903f553d90>,\n",
       " <Gene opera_contig_3132_20 at 0x7f903f553dc0>,\n",
       " <Gene opera_contig_4986_50 at 0x7f903f553df0>,\n",
       " <Gene opera_contig_4473_23 at 0x7f903f553e20>,\n",
       " <Gene opera_contig_1044_2 at 0x7f903f553e50>,\n",
       " <Gene opera_contig_8589_18 at 0x7f903f553e80>,\n",
       " <Gene opera_contig_9095_20 at 0x7f903f553eb0>,\n",
       " <Gene opera_contig_5980_46 at 0x7f903f553ee0>,\n",
       " <Gene opera_contig_10208_30 at 0x7f903f553f10>,\n",
       " <Gene opera_contig_10208_34 at 0x7f903f553f40>,\n",
       " <Gene opera_contig_1775_82 at 0x7f903f553f70>,\n",
       " <Gene opera_contig_3132_6 at 0x7f903f553fa0>,\n",
       " <Gene opera_contig_19077_11 at 0x7f903f553fd0>,\n",
       " <Gene opera_contig_3240_1 at 0x7f903f550070>,\n",
       " <Gene opera_contig_5553_27 at 0x7f903f550fd0>,\n",
       " <Gene opera_contig_3132_2 at 0x7f903f5780d0>,\n",
       " <Gene opera_contig_5980_36 at 0x7f903f578040>,\n",
       " <Gene opera_contig_1643_24 at 0x7f903f5780a0>,\n",
       " <Gene opera_contig_4473_30 at 0x7f903f578130>,\n",
       " <Gene opera_contig_3200_24 at 0x7f903f578160>,\n",
       " <Gene opera_contig_1643_19 at 0x7f903f578190>,\n",
       " <Gene opera_contig_1643_7 at 0x7f903f5781c0>,\n",
       " <Gene opera_contig_1775_58 at 0x7f903f5781f0>,\n",
       " <Gene opera_contig_1775_83 at 0x7f903f578220>,\n",
       " <Gene opera_contig_16319_18 at 0x7f903f578250>,\n",
       " <Gene opera_contig_3240_19 at 0x7f903f578280>,\n",
       " <Gene opera_contig_14540_20 at 0x7f903f5782b0>,\n",
       " <Gene opera_contig_18452_16 at 0x7f903f5782e0>,\n",
       " <Gene opera_contig_21241_16 at 0x7f903f578310>,\n",
       " <Gene opera_contig_3746_27 at 0x7f903f578340>,\n",
       " <Gene opera_contig_1512_86 at 0x7f903f578370>,\n",
       " <Gene opera_contig_3240_38 at 0x7f903f5783a0>,\n",
       " <Gene opera_contig_3132_46 at 0x7f903f5783d0>,\n",
       " <Gene opera_contig_56760_4 at 0x7f903f578400>,\n",
       " <Gene opera_contig_4473_13 at 0x7f903f578430>,\n",
       " <Gene opera_contig_3240_15 at 0x7f903f578460>,\n",
       " <Gene opera_contig_37564_8 at 0x7f903f578490>,\n",
       " <Gene opera_contig_11066_30 at 0x7f903f5784c0>,\n",
       " <Gene opera_contig_2863_51 at 0x7f903f5784f0>,\n",
       " <Gene opera_contig_1466_4 at 0x7f903f578520>,\n",
       " <Gene opera_contig_1643_42 at 0x7f903f578550>,\n",
       " <Gene opera_contig_1044_56 at 0x7f903f578580>,\n",
       " <Gene opera_contig_1044_99 at 0x7f903f5785b0>,\n",
       " <Gene opera_contig_36883_5 at 0x7f903f5785e0>,\n",
       " <Gene opera_contig_7137_36 at 0x7f903f578610>,\n",
       " <Gene opera_contig_10208_12 at 0x7f903f578640>,\n",
       " <Gene opera_contig_10208_13 at 0x7f903f578670>,\n",
       " <Gene opera_contig_23316_2 at 0x7f903f5786a0>,\n",
       " <Gene opera_contig_4473_18 at 0x7f903f5786d0>,\n",
       " <Gene opera_contig_1044_74 at 0x7f903f578700>,\n",
       " <Gene opera_contig_1044_8 at 0x7f903f578730>,\n",
       " <Gene opera_contig_1238_10 at 0x7f903f578760>,\n",
       " <Gene opera_contig_6184_16 at 0x7f903f578790>,\n",
       " <Gene opera_contig_11001_27 at 0x7f903f5787c0>,\n",
       " <Gene opera_contig_3298_54 at 0x7f903f5787f0>,\n",
       " <Gene opera_contig_17174_17 at 0x7f903f578820>,\n",
       " <Gene opera_contig_10208_11 at 0x7f903f578850>,\n",
       " <Gene opera_contig_2001_32 at 0x7f903f578880>,\n",
       " <Gene opera_contig_3881_28 at 0x7f903f5788b0>,\n",
       " <Gene opera_contig_3200_6 at 0x7f903f5788e0>,\n",
       " <Gene opera_contig_20657_1 at 0x7f903f578910>,\n",
       " <Gene opera_contig_86078_4 at 0x7f903f578940>,\n",
       " <Gene opera_contig_12888_1 at 0x7f903f578970>,\n",
       " <Gene opera_contig_6184_13 at 0x7f903f5789a0>,\n",
       " <Gene opera_contig_2863_4 at 0x7f903f5789d0>,\n",
       " <Gene opera_contig_14906_6 at 0x7f903f578a00>,\n",
       " <Gene opera_contig_11877_18 at 0x7f903f578a30>,\n",
       " <Gene opera_contig_1775_44 at 0x7f903f578a60>,\n",
       " <Gene opera_contig_6184_41 at 0x7f903f578a90>,\n",
       " <Gene opera_contig_1466_23 at 0x7f903f578ac0>,\n",
       " <Gene opera_contig_1044_46 at 0x7f903f578af0>,\n",
       " <Gene opera_contig_11877_16 at 0x7f903f578b20>,\n",
       " <Gene opera_contig_1775_62 at 0x7f903f578b50>,\n",
       " <Gene opera_contig_2001_86 at 0x7f903f578b80>,\n",
       " <Gene opera_contig_29192_14 at 0x7f903f578bb0>,\n",
       " <Gene opera_contig_3132_40 at 0x7f903f578be0>,\n",
       " <Gene opera_contig_3298_61 at 0x7f903f578c10>,\n",
       " <Gene opera_contig_59120_6 at 0x7f903f578c40>,\n",
       " <Gene opera_contig_2001_50 at 0x7f903f578c70>,\n",
       " <Gene opera_contig_72071_4 at 0x7f903f578ca0>,\n",
       " <Gene opera_contig_16319_5 at 0x7f903f578cd0>,\n",
       " <Gene opera_contig_22783_14 at 0x7f903f578d00>,\n",
       " <Gene opera_contig_35327_10 at 0x7f903f578d30>,\n",
       " <Gene opera_contig_1775_43 at 0x7f903f578d60>,\n",
       " <Gene opera_contig_1044_91 at 0x7f903f578d90>,\n",
       " <Gene opera_contig_1775_46 at 0x7f903f578dc0>,\n",
       " <Gene opera_contig_1044_15 at 0x7f903f578df0>,\n",
       " <Gene opera_contig_53712_4 at 0x7f903f578e20>,\n",
       " <Gene opera_contig_1466_36 at 0x7f903f578e50>,\n",
       " <Gene opera_contig_1466_72 at 0x7f903f578e80>,\n",
       " <Gene opera_contig_5604_2 at 0x7f903f578eb0>,\n",
       " <Gene opera_contig_3881_26 at 0x7f903f578ee0>,\n",
       " <Gene opera_contig_18452_4 at 0x7f903f578f10>,\n",
       " <Gene opera_contig_3132_45 at 0x7f903f578f40>,\n",
       " <Gene opera_contig_1643_27 at 0x7f903f578f70>,\n",
       " <Gene opera_contig_1512_39 at 0x7f903f578fa0>,\n",
       " <Gene opera_contig_4986_6 at 0x7f903f578fd0>,\n",
       " <Gene opera_contig_5553_35 at 0x7f903f579000>,\n",
       " <Gene opera_contig_2001_63 at 0x7f903f579030>,\n",
       " <Gene opera_contig_1466_21 at 0x7f903f579060>,\n",
       " <Gene opera_contig_9042_12 at 0x7f903f579090>,\n",
       " <Gene opera_contig_3240_30 at 0x7f903f5790c0>,\n",
       " <Gene opera_contig_1238_4 at 0x7f903f5790f0>,\n",
       " <Gene opera_contig_17463_8 at 0x7f903f579120>,\n",
       " <Gene opera_contig_29529_3 at 0x7f903f579150>,\n",
       " <Gene opera_contig_1044_66 at 0x7f903f579180>,\n",
       " <Gene opera_contig_1238_11 at 0x7f903f5791b0>,\n",
       " <Gene opera_contig_9343_28 at 0x7f903f5791e0>,\n",
       " <Gene opera_contig_3132_70 at 0x7f903f579210>,\n",
       " <Gene opera_contig_1512_70 at 0x7f903f579240>,\n",
       " <Gene opera_contig_72071_1 at 0x7f903f579270>,\n",
       " <Gene opera_contig_1512_18 at 0x7f903f5792a0>,\n",
       " <Gene opera_contig_5553_37 at 0x7f903f5792d0>,\n",
       " <Gene opera_contig_9095_25 at 0x7f903f579300>,\n",
       " <Gene opera_contig_9095_27 at 0x7f903f579330>,\n",
       " <Gene opera_contig_9095_26 at 0x7f903f579360>,\n",
       " <Gene opera_contig_9095_28 at 0x7f903f579390>,\n",
       " <Gene opera_contig_4986_49 at 0x7f903f5793c0>,\n",
       " <Gene opera_contig_1775_7 at 0x7f903f5793f0>,\n",
       " <Gene opera_contig_1512_17 at 0x7f903f579420>,\n",
       " <Gene opera_contig_23316_10 at 0x7f903f579450>,\n",
       " <Gene opera_contig_1044_6 at 0x7f903f579480>,\n",
       " <Gene opera_contig_4473_29 at 0x7f903f5794b0>,\n",
       " <Gene opera_contig_1643_41 at 0x7f903f5794e0>,\n",
       " <Gene opera_contig_23316_8 at 0x7f903f579510>,\n",
       " <Gene opera_contig_23316_9 at 0x7f903f579540>,\n",
       " <Gene opera_contig_1044_106 at 0x7f903f579570>,\n",
       " <Gene opera_contig_1643_67 at 0x7f903f5795a0>,\n",
       " <Gene opera_contig_1044_116 at 0x7f903f5795d0>,\n",
       " <Gene opera_contig_1044_36 at 0x7f903f579600>,\n",
       " <Gene opera_contig_1044_53 at 0x7f903f579630>,\n",
       " <Gene opera_contig_7137_41 at 0x7f903f579660>,\n",
       " <Gene opera_contig_10208_9 at 0x7f903f579690>,\n",
       " <Gene opera_contig_7569_4 at 0x7f903f5796c0>,\n",
       " <Gene opera_contig_25490_6 at 0x7f903f5796f0>,\n",
       " <Gene opera_contig_2863_48 at 0x7f903f579720>,\n",
       " <Gene opera_contig_2863_60 at 0x7f903f579750>,\n",
       " <Gene opera_contig_2863_61 at 0x7f903f579780>,\n",
       " <Gene opera_contig_11066_19 at 0x7f903f5797b0>,\n",
       " <Gene opera_contig_1466_37 at 0x7f903f5797e0>,\n",
       " <Gene opera_contig_5604_47 at 0x7f903f579810>,\n",
       " <Gene opera_contig_10208_15 at 0x7f903f579840>,\n",
       " <Gene opera_contig_1512_85 at 0x7f903f579870>,\n",
       " <Gene opera_contig_1643_86 at 0x7f903f5798a0>,\n",
       " <Gene opera_contig_20243_18 at 0x7f903f5798d0>,\n",
       " <Gene opera_contig_17463_6 at 0x7f903f579900>,\n",
       " <Gene opera_contig_3442_72 at 0x7f903f579930>,\n",
       " <Gene opera_contig_20243_16 at 0x7f903f579960>,\n",
       " <Gene opera_contig_2001_5 at 0x7f903f579990>,\n",
       " <Gene opera_contig_23316_7 at 0x7f903f5799c0>,\n",
       " <Gene opera_contig_17174_7 at 0x7f903f5799f0>,\n",
       " <Gene opera_contig_1238_12 at 0x7f903f579a20>,\n",
       " <Gene opera_contig_6184_28 at 0x7f903f579a50>,\n",
       " <Gene opera_contig_3200_47 at 0x7f903f579a80>,\n",
       " <Gene opera_contig_7137_29 at 0x7f903f579ab0>,\n",
       " <Gene opera_contig_9042_18 at 0x7f903f579ae0>,\n",
       " <Gene opera_contig_69974_4 at 0x7f903f579b10>,\n",
       " <Gene opera_contig_1238_15 at 0x7f903f579b40>,\n",
       " <Gene opera_contig_6184_23 at 0x7f903f579b70>,\n",
       " <Gene opera_contig_6184_24 at 0x7f903f579ba0>,\n",
       " <Gene opera_contig_5772_14 at 0x7f903f579bd0>,\n",
       " <Gene opera_contig_12851_31 at 0x7f903f579c00>,\n",
       " <Gene opera_contig_1775_78 at 0x7f903f579c30>,\n",
       " <Gene opera_contig_1466_82 at 0x7f903f579c60>,\n",
       " <Gene opera_contig_3132_26 at 0x7f903f579c90>,\n",
       " <Gene opera_contig_12634_25 at 0x7f903f579cc0>,\n",
       " <Gene opera_contig_3442_67 at 0x7f903f579cf0>,\n",
       " <Gene opera_contig_5604_3 at 0x7f903f579d20>,\n",
       " <Gene opera_contig_1643_13 at 0x7f903f579d50>,\n",
       " <Gene opera_contig_4473_49 at 0x7f903f579d80>,\n",
       " <Gene opera_contig_9235_22 at 0x7f903f579db0>,\n",
       " <Gene opera_contig_3200_11 at 0x7f903f579de0>,\n",
       " <Gene opera_contig_4534_55 at 0x7f903f579e10>,\n",
       " <Gene opera_contig_5604_17 at 0x7f903f579e40>,\n",
       " <Gene opera_contig_9042_7 at 0x7f903f579e70>,\n",
       " <Gene opera_contig_13526_21 at 0x7f903f579ea0>,\n",
       " <Gene opera_contig_3200_19 at 0x7f903f579ed0>,\n",
       " <Gene opera_contig_26620_15 at 0x7f903f579f00>,\n",
       " <Gene opera_contig_31526_4 at 0x7f903f579f30>,\n",
       " <Gene opera_contig_26620_10 at 0x7f903f579f60>,\n",
       " <Gene opera_contig_9483_3 at 0x7f903f579f90>,\n",
       " <Gene opera_contig_19077_8 at 0x7f903f579fc0>,\n",
       " <Gene opera_contig_19077_10 at 0x7f903f579ff0>,\n",
       " <Gene opera_contig_19077_15 at 0x7f903f57a020>,\n",
       " <Gene opera_contig_19077_12 at 0x7f903f57a050>,\n",
       " <Gene opera_contig_9042_1 at 0x7f903f57a080>,\n",
       " <Gene opera_contig_2001_59 at 0x7f903f57a0b0>,\n",
       " <Gene opera_contig_1643_73 at 0x7f903f57a0e0>,\n",
       " <Gene opera_contig_4534_15 at 0x7f903f57a110>,\n",
       " <Gene opera_contig_17096_8 at 0x7f903f57a140>,\n",
       " <Gene opera_contig_1775_5 at 0x7f903f57a170>,\n",
       " <Gene opera_contig_3746_43 at 0x7f903f57a1a0>,\n",
       " <Gene opera_contig_3881_46 at 0x7f903f57a1d0>,\n",
       " <Gene opera_contig_14906_14 at 0x7f903f57a200>,\n",
       " <Gene opera_contig_1044_75 at 0x7f903f57a230>,\n",
       " <Gene opera_contig_1466_12 at 0x7f903f57a260>,\n",
       " <Gene opera_contig_3442_63 at 0x7f903f57a290>,\n",
       " <Gene opera_contig_3298_16 at 0x7f903f57a2c0>,\n",
       " <Gene opera_contig_26620_11 at 0x7f903f57a2f0>,\n",
       " <Gene opera_contig_42833_2 at 0x7f903f57a320>,\n",
       " <Gene opera_contig_12634_22 at 0x7f903f57a350>,\n",
       " <Gene opera_contig_12634_24 at 0x7f903f57a380>,\n",
       " <Gene opera_contig_12634_23 at 0x7f903f57a3b0>,\n",
       " <Gene opera_contig_3442_64 at 0x7f903f57a3e0>,\n",
       " <Gene opera_contig_5604_46 at 0x7f903f57a410>,\n",
       " <Gene opera_contig_3240_2 at 0x7f903f57a440>,\n",
       " <Gene opera_contig_65998_5 at 0x7f903f57a470>,\n",
       " <Gene opera_contig_65998_2 at 0x7f903f57a4a0>,\n",
       " <Gene opera_contig_91852_1 at 0x7f903f57a4d0>,\n",
       " <Gene opera_contig_12634_26 at 0x7f903f57a500>,\n",
       " <Gene opera_contig_5980_22 at 0x7f903f57a530>,\n",
       " <Gene opera_contig_5980_49 at 0x7f903f57a560>,\n",
       " <Gene opera_contig_9091_19 at 0x7f903f57a590>,\n",
       " <Gene opera_contig_1643_88 at 0x7f903f57a5c0>,\n",
       " <Gene opera_contig_10208_22 at 0x7f903f57a5f0>,\n",
       " <Gene opera_contig_13526_2 at 0x7f903f57a620>,\n",
       " <Gene opera_contig_7137_18 at 0x7f903f57a650>,\n",
       " <Gene opera_contig_1643_82 at 0x7f903f57a680>,\n",
       " <Gene opera_contig_21299_2 at 0x7f903f57a6b0>,\n",
       " <Gene opera_contig_5980_50 at 0x7f903f57a6e0>,\n",
       " <Gene opera_contig_7137_19 at 0x7f903f57a710>,\n",
       " <Gene opera_contig_29192_13 at 0x7f903f57a740>,\n",
       " <Gene opera_contig_3240_3 at 0x7f903f57a770>,\n",
       " <Gene opera_contig_37564_6 at 0x7f903f57a7a0>,\n",
       " <Gene opera_contig_10744_4 at 0x7f903f57a7d0>,\n",
       " <Gene opera_contig_3442_26 at 0x7f903f57a800>,\n",
       " <Gene opera_contig_3442_28 at 0x7f903f57a830>,\n",
       " <Gene opera_contig_3746_40 at 0x7f903f57a860>,\n",
       " <Gene opera_contig_1238_89 at 0x7f903f57a890>,\n",
       " <Gene opera_contig_3200_34 at 0x7f903f57a8c0>,\n",
       " <Gene opera_contig_2001_31 at 0x7f903f57a8f0>,\n",
       " <Gene opera_contig_4473_15 at 0x7f903f57a920>,\n",
       " <Gene opera_contig_3240_26 at 0x7f903f57a950>,\n",
       " <Gene opera_contig_1643_31 at 0x7f903f57a980>,\n",
       " <Gene opera_contig_3200_32 at 0x7f903f57a9b0>,\n",
       " <Gene opera_contig_36883_4 at 0x7f903f57a9e0>,\n",
       " <Gene opera_contig_9095_23 at 0x7f903f57aa10>,\n",
       " <Gene opera_contig_1238_7 at 0x7f903f57aa40>,\n",
       " <Gene opera_contig_2001_26 at 0x7f903f57aa70>,\n",
       " <Gene opera_contig_13526_1 at 0x7f903f57aaa0>,\n",
       " <Gene opera_contig_1044_17 at 0x7f903f57aad0>,\n",
       " <Gene opera_contig_3132_22 at 0x7f903f57ab00>,\n",
       " <Gene opera_contig_3558_33 at 0x7f903f57ab30>,\n",
       " <Gene opera_contig_1512_79 at 0x7f903f57ab60>,\n",
       " <Gene opera_contig_3200_12 at 0x7f903f57ab90>,\n",
       " <Gene opera_contig_19077_18 at 0x7f903f57abc0>,\n",
       " <Gene opera_contig_9088_14 at 0x7f903f57abf0>,\n",
       " <Gene opera_contig_4986_15 at 0x7f903f57ac20>,\n",
       " <Gene opera_contig_5772_6 at 0x7f903f57ac50>,\n",
       " <Gene opera_contig_1466_38 at 0x7f903f57ac80>,\n",
       " <Gene opera_contig_1512_57 at 0x7f903f57acb0>,\n",
       " <Gene opera_contig_1643_47 at 0x7f903f57ace0>,\n",
       " <Gene opera_contig_12888_23 at 0x7f903f57ad10>,\n",
       " <Gene opera_contig_16319_6 at 0x7f903f57ad40>,\n",
       " <Gene opera_contig_1512_56 at 0x7f903f57ad70>,\n",
       " <Gene opera_contig_1643_34 at 0x7f903f57ada0>,\n",
       " <Gene opera_contig_14906_21 at 0x7f903f57add0>,\n",
       " <Gene opera_contig_3298_64 at 0x7f903f57ae00>,\n",
       " <Gene opera_contig_3881_50 at 0x7f903f57ae30>,\n",
       " <Gene opera_contig_29529_10 at 0x7f903f57ae60>,\n",
       " <Gene opera_contig_41076_5 at 0x7f903f57ae90>,\n",
       " <Gene opera_contig_52554_7 at 0x7f903f57aec0>,\n",
       " <Gene opera_contig_52554_8 at 0x7f903f57aef0>,\n",
       " <Gene opera_contig_1238_3 at 0x7f903f57af20>,\n",
       " <Gene opera_contig_2863_36 at 0x7f903f57af50>,\n",
       " <Gene opera_contig_16929_6 at 0x7f903f57af80>,\n",
       " <Gene opera_contig_8589_16 at 0x7f903f57afb0>,\n",
       " <Gene opera_contig_13526_20 at 0x7f903f57afe0>,\n",
       " <Gene opera_contig_3442_57 at 0x7f903f57b010>,\n",
       " <Gene opera_contig_3442_65 at 0x7f903f57b040>,\n",
       " <Gene opera_contig_3442_66 at 0x7f903f57b070>,\n",
       " <Gene opera_contig_10744_35 at 0x7f903f57b0a0>,\n",
       " <Gene opera_contig_13526_12 at 0x7f903f57b0d0>]"
      ]
     },
     "execution_count": 16,
     "metadata": {},
     "output_type": "execute_result"
    }
   ],
   "source": [
    "models[list(models.keys())[0]].genes"
   ]
  },
  {
   "cell_type": "code",
   "execution_count": 17,
   "metadata": {},
   "outputs": [],
   "source": [
    "models[list(models.keys())[0]].name"
   ]
  },
  {
   "cell_type": "code",
   "execution_count": 18,
   "metadata": {},
   "outputs": [
    {
     "data": {
      "text/plain": [
       "{}"
      ]
     },
     "execution_count": 18,
     "metadata": {},
     "output_type": "execute_result"
    }
   ],
   "source": [
    "models[list(models.keys())[0]].notes"
   ]
  },
  {
   "cell_type": "code",
   "execution_count": 19,
   "metadata": {},
   "outputs": [
    {
     "data": {
      "text/plain": [
       "cobra.core.model.Model"
      ]
     },
     "execution_count": 19,
     "metadata": {},
     "output_type": "execute_result"
    }
   ],
   "source": [
    "type(models[list(models.keys())[0]])"
   ]
  },
  {
   "cell_type": "code",
   "execution_count": 20,
   "metadata": {},
   "outputs": [],
   "source": [
    "example_met = models[list(models.keys())[0]].metabolites.get_by_id(\"cpd00638_c0\")"
   ]
  },
  {
   "cell_type": "code",
   "execution_count": 21,
   "metadata": {},
   "outputs": [
    {
     "data": {
      "text/plain": [
       "{'sbo': 'SBO:0000247',\n",
       " 'metanetx.chemical': 'MNXM309',\n",
       " 'inchikey': 'SENPVEZBRZQVST-HISDBWNOSA-L',\n",
       " 'seed.compound': 'cpd00638',\n",
       " 'hmdb': 'HMDB01179',\n",
       " 'reactome': ['R-ALL-197256', 'R-ALL-200499', 'R-ALL-8938090'],\n",
       " 'kegg.compound': 'C00857',\n",
       " 'chebi': ['CHEBI:14105',\n",
       "  'CHEBI:18304',\n",
       "  'CHEBI:14103',\n",
       "  'CHEBI:14104',\n",
       "  'CHEBI:23567',\n",
       "  'CHEBI:4340',\n",
       "  'CHEBI:58437'],\n",
       " 'bigg.metabolite': 'dnad',\n",
       " 'biocyc': 'META:DEAMIDO-NAD'}"
      ]
     },
     "execution_count": 21,
     "metadata": {},
     "output_type": "execute_result"
    }
   ],
   "source": [
    "example_met.annotation"
   ]
  },
  {
   "cell_type": "code",
   "execution_count": 22,
   "metadata": {},
   "outputs": [
    {
     "data": {
      "text/plain": [
       "-2"
      ]
     },
     "execution_count": 22,
     "metadata": {},
     "output_type": "execute_result"
    }
   ],
   "source": [
    "example_met.charge"
   ]
  },
  {
   "cell_type": "code",
   "execution_count": 23,
   "metadata": {},
   "outputs": [
    {
     "data": {
      "text/plain": [
       "'c0'"
      ]
     },
     "execution_count": 23,
     "metadata": {},
     "output_type": "execute_result"
    }
   ],
   "source": [
    "example_met.compartment"
   ]
  },
  {
   "cell_type": "code",
   "execution_count": 24,
   "metadata": {},
   "outputs": [
    {
     "data": {
      "text/plain": [
       "'C21H24N6O15P2'"
      ]
     },
     "execution_count": 24,
     "metadata": {},
     "output_type": "execute_result"
    }
   ],
   "source": [
    "example_met.formula"
   ]
  },
  {
   "cell_type": "code",
   "execution_count": 25,
   "metadata": {},
   "outputs": [
    {
     "data": {
      "text/plain": [
       "'Deamido-NAD-c0'"
      ]
     },
     "execution_count": 25,
     "metadata": {},
     "output_type": "execute_result"
    }
   ],
   "source": [
    "example_met.name"
   ]
  },
  {
   "cell_type": "code",
   "execution_count": 26,
   "metadata": {},
   "outputs": [
    {
     "data": {
      "text/plain": [
       "{}"
      ]
     },
     "execution_count": 26,
     "metadata": {},
     "output_type": "execute_result"
    }
   ],
   "source": [
    "example_met.notes"
   ]
  },
  {
   "cell_type": "code",
   "execution_count": 27,
   "metadata": {},
   "outputs": [
    {
     "data": {
      "text/html": [
       "\n",
       "        <table>\n",
       "            <tr>\n",
       "                <td><strong>Name</strong></td>\n",
       "                <td></td>\n",
       "            </tr><tr>\n",
       "                <td><strong>Memory address</strong></td>\n",
       "                <td>7f9043f7fee0</td>\n",
       "            </tr><tr>\n",
       "                <td><strong>Number of metabolites</strong></td>\n",
       "                <td>1728</td>\n",
       "            </tr><tr>\n",
       "                <td><strong>Number of reactions</strong></td>\n",
       "                <td>1988</td>\n",
       "            </tr><tr>\n",
       "                <td><strong>Number of genes</strong></td>\n",
       "                <td>520</td>\n",
       "            </tr><tr>\n",
       "                <td><strong>Number of groups</strong></td>\n",
       "                <td>0</td>\n",
       "            </tr><tr>\n",
       "                <td><strong>Objective expression</strong></td>\n",
       "                <td>1.0*EX_cpd11416(c) - 1.0*EX_cpd11416(c)_reverse_fb1ea</td>\n",
       "            </tr><tr>\n",
       "                <td><strong>Compartments</strong></td>\n",
       "                <td>c0, e0, p0</td>\n",
       "            </tr>\n",
       "          </table>"
      ],
      "text/plain": [
       "<Model  at 0x7f9043f7fee0>"
      ]
     },
     "execution_count": 27,
     "metadata": {},
     "output_type": "execute_result"
    }
   ],
   "source": [
    "models[list(models.keys())[0]]"
   ]
  },
  {
   "cell_type": "code",
   "execution_count": 28,
   "metadata": {},
   "outputs": [
    {
     "data": {
      "text/html": [
       "\n",
       "        <table>\n",
       "            <tr>\n",
       "                <td><strong>Reaction identifier</strong></td><td>EX_cpd11416(c)</td>\n",
       "            </tr><tr>\n",
       "                <td><strong>Name</strong></td><td>EX cpd11416 c0</td>\n",
       "            </tr><tr>\n",
       "                <td><strong>Memory address</strong></td>\n",
       "                <td>0x7f903e5e6800</td>\n",
       "            </tr><tr>\n",
       "                <td><strong>Stoichiometry</strong></td>\n",
       "                <td>\n",
       "                    <p style='text-align:right'>cpd11416_LPAREN_c_RPAREN_ --></p>\n",
       "                    <p style='text-align:right'>Biomass --></p>\n",
       "                </td>\n",
       "            </tr><tr>\n",
       "                <td><strong>GPR</strong></td><td></td>\n",
       "            </tr><tr>\n",
       "                <td><strong>Lower bound</strong></td><td>0.0</td>\n",
       "            </tr><tr>\n",
       "                <td><strong>Upper bound</strong></td><td>1000.0</td>\n",
       "            </tr>\n",
       "        </table>\n",
       "        "
      ],
      "text/plain": [
       "<Reaction EX_cpd11416(c) at 0x7f903e5e6800>"
      ]
     },
     "execution_count": 28,
     "metadata": {},
     "output_type": "execute_result"
    }
   ],
   "source": [
    "models[list(models.keys())[0]].reactions.get_by_id(\"EX_cpd11416(c)\")"
   ]
  },
  {
   "cell_type": "code",
   "execution_count": 29,
   "metadata": {},
   "outputs": [
    {
     "data": {
      "text/html": [
       "\n",
       "        <table>\n",
       "            <tr>\n",
       "                <td><strong>Metabolite identifier</strong></td><td>cpd11416_LPAREN_c_RPAREN_</td>\n",
       "            </tr><tr>\n",
       "                <td><strong>Name</strong></td><td>Biomass</td>\n",
       "            </tr><tr>\n",
       "                <td><strong>Memory address</strong></td>\n",
       "                <td>0x7f903f7c3160</td>\n",
       "            </tr><tr>\n",
       "                <td><strong>Formula</strong></td><td>None</td>\n",
       "            </tr><tr>\n",
       "                <td><strong>Compartment</strong></td><td>c0</td>\n",
       "            </tr><tr>\n",
       "                <td><strong>In 2 reaction(s)</strong></td><td>\n",
       "                    EX_cpd11416(c), bio1\n",
       "                    </td>\n",
       "            </tr>\n",
       "        </table>"
      ],
      "text/plain": [
       "<Metabolite cpd11416_LPAREN_c_RPAREN_ at 0x7f903f7c3160>"
      ]
     },
     "execution_count": 29,
     "metadata": {},
     "output_type": "execute_result"
    }
   ],
   "source": [
    "models[list(models.keys())[0]].metabolites.get_by_id(\"cpd11416_LPAREN_c_RPAREN_\")"
   ]
  },
  {
   "cell_type": "code",
   "execution_count": 30,
   "metadata": {},
   "outputs": [
    {
     "data": {
      "text/plain": [
       "'c0'"
      ]
     },
     "execution_count": 30,
     "metadata": {},
     "output_type": "execute_result"
    }
   ],
   "source": [
    "models[list(models.keys())[0]].metabolites.get_by_id(\"cpd11416_LPAREN_c_RPAREN_\").compartment"
   ]
  },
  {
   "cell_type": "code",
   "execution_count": 31,
   "metadata": {},
   "outputs": [
    {
     "data": {
      "text/html": [
       "\n",
       "        <table>\n",
       "            <tr>\n",
       "                <td><strong>Reaction identifier</strong></td><td>bio1</td>\n",
       "            </tr><tr>\n",
       "                <td><strong>Name</strong></td><td>Bacterial Gram-positive biomass reaction</td>\n",
       "            </tr><tr>\n",
       "                <td><strong>Memory address</strong></td>\n",
       "                <td>0x7f903e5e49d0</td>\n",
       "            </tr><tr>\n",
       "                <td><strong>Stoichiometry</strong></td>\n",
       "                <td>\n",
       "                    <p style='text-align:right'>36.5026489548392 cpd00001_c0 + 41.309914953144 cpd00002_c0 + 0.00516549488788731 cpd00003_c0 + 0.00516549488788731 cpd00006_c0 + 0.00516549488788731 cpd00010_c0 + 0.00516549488788731 cpd00015_c0 +...</p>\n",
       "                    <p style='text-align:right'>36.5026489548392 H2O-c0 + 41.309914953144 ATP-c0 + 0.00516549488788731 NAD-c0 + 0.00516549488788731 NADP-c0 + 0.00516549488788731 CoA-c0 + 0.00516549488788731 FAD-c0 + 0.00516549488788731 Pyridoxal...</p>\n",
       "                </td>\n",
       "            </tr><tr>\n",
       "                <td><strong>GPR</strong></td><td></td>\n",
       "            </tr><tr>\n",
       "                <td><strong>Lower bound</strong></td><td>0.0</td>\n",
       "            </tr><tr>\n",
       "                <td><strong>Upper bound</strong></td><td>1000.0</td>\n",
       "            </tr>\n",
       "        </table>\n",
       "        "
      ],
      "text/plain": [
       "<Reaction bio1 at 0x7f903e5e49d0>"
      ]
     },
     "execution_count": 31,
     "metadata": {},
     "output_type": "execute_result"
    }
   ],
   "source": [
    "models[list(models.keys())[0]].reactions.get_by_id(\"bio1\")"
   ]
  },
  {
   "cell_type": "code",
   "execution_count": 32,
   "metadata": {},
   "outputs": [
    {
     "data": {
      "text/html": [
       "\n",
       "        <table>\n",
       "            <tr>\n",
       "                <td><strong>Reaction identifier</strong></td><td>rxn00003(c)</td>\n",
       "            </tr><tr>\n",
       "                <td><strong>Name</strong></td><td>pyruvate:pyruvate acetaldehydetransferase (decarboxylating)</td>\n",
       "            </tr><tr>\n",
       "                <td><strong>Memory address</strong></td>\n",
       "                <td>0x7f903f57b160</td>\n",
       "            </tr><tr>\n",
       "                <td><strong>Stoichiometry</strong></td>\n",
       "                <td>\n",
       "                    <p style='text-align:right'>cpd00011_c0 + cpd00668_c0 <-- 2.0 cpd00020_c0 + cpd00067_c0</p>\n",
       "                    <p style='text-align:right'>CO2-c0 + ALCTT-c0 <-- 2.0 Pyruvate-c0 + H+-c0</p>\n",
       "                </td>\n",
       "            </tr><tr>\n",
       "                <td><strong>GPR</strong></td><td></td>\n",
       "            </tr><tr>\n",
       "                <td><strong>Lower bound</strong></td><td>-1000.0</td>\n",
       "            </tr><tr>\n",
       "                <td><strong>Upper bound</strong></td><td>0.0</td>\n",
       "            </tr>\n",
       "        </table>\n",
       "        "
      ],
      "text/plain": [
       "<Reaction rxn00003(c) at 0x7f903f57b160>"
      ]
     },
     "execution_count": 32,
     "metadata": {},
     "output_type": "execute_result"
    }
   ],
   "source": [
    "models[list(models.keys())[0]].reactions[0]"
   ]
  },
  {
   "cell_type": "markdown",
   "metadata": {},
   "source": [
    "<H1>Add \"Normal\" reactions to the metamodel</H1>"
   ]
  },
  {
   "cell_type": "code",
   "execution_count": 33,
   "metadata": {},
   "outputs": [],
   "source": [
    "reacs_toadd = list()\n",
    "react_ids_toadd = set()\n",
    "#metab_ids_toadd = set()\n",
    "#groups_toadd = list()\n",
    "#group_ids_toadd = set()\n",
    "#gene_ids_toadd = set()\n",
    "\n",
    "for model_key in models.keys():\n",
    "    for r in models[model_key].reactions:\n",
    "        reacs_toadd.append(r)\n",
    "        react_ids_toadd.add(r.id)\n",
    "#    for m in models[model_key].metabolites:\n",
    "#        metab_ids_toadd.add(m.id)\n",
    "#    for gr in models[model_key].groups:\n",
    "#        groups_toadd.append(gr)\n",
    "#        group_ids_toadd.add(gr.id)\n",
    "    #for g in models[model_key].genes:\n",
    "    #    gene_ids_toadd.add(g.id)\n",
    "        \n",
    "#biomass reactions will be added later in a slightly different way\n",
    "reacs_toadd = [react for react in reacs_toadd if react.id != \"bio1\"]\n",
    "reacs_toadd = [react for react in reacs_toadd if react.id != \"EX_cpd11416(c)\"]\n",
    "react_ids_toadd.remove(\"bio1\")\n",
    "react_ids_toadd.remove(\"EX_cpd11416(c)\")\n",
    "\n",
    "#create an empty model\n",
    "metamodel = cobra.Model(id_or_model=\"gapseq_metamodel\", name=\"gapseq_metamodel\")\n",
    "\n",
    "#add reactions to the model\n",
    "metamodel_reactions = cobra.core.DictList()\n",
    "for model_key in models.keys():\n",
    "    current_model = models[model_key]\n",
    "    for react in current_model.reactions:\n",
    "        if react.id in react_ids_toadd:\n",
    "            metamodel_react = cobra.core.reaction.Reaction(react.id)\n",
    "            metamodel_react.name = react.name.replace(\"-e0\",\"\").replace(\"-c0\",\"\").replace(\"-p0\",\"\")\n",
    "            #metamodel_react.subsystem = react.subsystem\n",
    "            metamodel_react.lower_bound = react.lower_bound\n",
    "            metamodel_react.upper_bound = react.upper_bound\n",
    "            metamodel_react.annotation = react.annotation\n",
    "            #metamodel_react.gene_reaction_rule = react.gene_reaction_rule\n",
    "            metamodel_react.notes[\"carried_by\"] = [model_key]  \n",
    "            \n",
    "            metamodel_mets = dict()\n",
    "            for met in react.metabolites:\n",
    "                #if met.compartment == \"c0\":\n",
    "                if met.id.split(\"_\")[-1] == \"c\" or met.compartment == \"c0\":\n",
    "                    compartment = \"c\"\n",
    "                    name = met.name.replace(\"-c0\",\"\")\n",
    "                    ident = met.id.replace(\"_c0\",\"[c]\").replace(\"_c\",\"[c]\")\n",
    "                #elif met.compartment == \"e0\":\n",
    "                elif met.id.split(\"_\")[-1] == \"e\" or met.compartment == \"e0\":\n",
    "                    compartment = \"e\"\n",
    "                    name = met.name.replace(\"-e0\",\"\")\n",
    "                    ident = met.id.replace(\"_e0\",\"[e]\").replace(\"_e\",\"[e]\")\n",
    "                #elif met.compartment == \"p0\":\n",
    "                elif met.id.split(\"_\")[-1] == \"p\" or met.compartment == \"p0\":\n",
    "                    compartment = \"p\"\n",
    "                    name = met.name.replace(\"-p0\",\"\")\n",
    "                    ident = met.id.replace(\"_p0\",\"[p]\").replace(\"_e\",\"[e]\")\n",
    "                else:\n",
    "                    print(\"WARNING, NO RECOGNIZED COMPARTMENT FOR METABOLITE: \" + met.id + \" in model: \" + model_key)\n",
    "                    compartment = met.compartment\n",
    "                    name = met.name\n",
    "                    ident = met.id\n",
    "                metamodel_met =cobra.core.metabolite.Metabolite(ident,\n",
    "                                                                name=name,\n",
    "                                                                charge=met.charge,\n",
    "                                                                compartment=compartment, \n",
    "                                                                formula=met.formula)\n",
    "                metamodel_met.annotation = met.annotation\n",
    "                metamodel_met.elements = met.elements\n",
    "                metamodel_met.notes = met.notes\n",
    "                metamodel_mets[metamodel_met] = react.get_coefficient(met.id)\n",
    "            metamodel_react.add_metabolites(metamodel_mets)\n",
    "            metamodel_reactions.add(metamodel_react)\n",
    "            react_ids_toadd.remove(react.id)\n",
    "            reacs_toadd.remove(react)\n",
    "            \n",
    "        elif react in reacs_toadd:\n",
    "            metamodel_react = metamodel_reactions.get_by_id(react.id)\n",
    "            metamodel_react.notes[\"carried_by\"].append(model_key)\n",
    "            reacs_toadd.remove(react)\n",
    "            \n",
    "metamodel.add_reactions(metamodel_reactions)\n",
    "\n",
    "#create the subsystems and annotate which reactions are contained in each subsystem\n",
    "#add the created subsystems to the model\n",
    "#metamodel_groups = cobra.core.DictList()\n",
    "#for model_key in models.keys():\n",
    "#    current_model = models[model_key]\n",
    "#    for group in current_model.groups:\n",
    "#        if group.id in group_ids_toadd:\n",
    "#            members = cobra.core.DictList()\n",
    "#            for member in group.members:\n",
    "#                members.add(metamodel.reactions.get_by_id(member.id))\n",
    "#            metamodel_group = cobra.core.group.Group(group.id, group.name, members=members, kind=group.kind)\n",
    "#            metamodel_groups.add(metamodel_group)\n",
    "#            group_ids_toadd.remove(group.id)\n",
    "#            groups_toadd.remove(group)\n",
    "#            \n",
    "#        elif group in groups_toadd:\n",
    "#            metamodel_group = metamodel_groups.get_by_id(group.id)\n",
    "#            for member in group.members:\n",
    "#                if member.id not in [member.id for member in metamodel_group.members]:\n",
    "#                    metamodel_group.members.add(member)\n",
    "#            groups_toadd.remove(group)\n",
    "            \n",
    "#metamodel.add_groups(metamodel_groups)\n",
    "\n",
    "\n",
    "for react in metamodel.reactions:\n",
    "    react.id = react.id.replace(\"(c)\",\"[c]\").replace(\"(p)\",\"[p]\").replace(\"(e)\",\"[e]\")"
   ]
  },
  {
   "cell_type": "code",
   "execution_count": 34,
   "metadata": {},
   "outputs": [
    {
     "data": {
      "text/html": [
       "\n",
       "        <table>\n",
       "            <tr>\n",
       "                <td><strong>Metabolite identifier</strong></td><td>cpd00638[c]</td>\n",
       "            </tr><tr>\n",
       "                <td><strong>Name</strong></td><td>Deamido-NAD</td>\n",
       "            </tr><tr>\n",
       "                <td><strong>Memory address</strong></td>\n",
       "                <td>0x7f8f466570d0</td>\n",
       "            </tr><tr>\n",
       "                <td><strong>Formula</strong></td><td>C21H24N6O15P2</td>\n",
       "            </tr><tr>\n",
       "                <td><strong>Compartment</strong></td><td>c</td>\n",
       "            </tr><tr>\n",
       "                <td><strong>In 4 reaction(s)</strong></td><td>\n",
       "                    rxn02155[c], rxn00138[c], rxn00190[c], rxn02154[c]\n",
       "                    </td>\n",
       "            </tr>\n",
       "        </table>"
      ],
      "text/plain": [
       "<Metabolite cpd00638[c] at 0x7f8f466570d0>"
      ]
     },
     "execution_count": 34,
     "metadata": {},
     "output_type": "execute_result"
    }
   ],
   "source": [
    "metamodel.metabolites.get_by_id(\"cpd00638[c]\")"
   ]
  },
  {
   "cell_type": "code",
   "execution_count": 35,
   "metadata": {},
   "outputs": [
    {
     "data": {
      "text/plain": [
       "{'sbo': 'SBO:0000247',\n",
       " 'metanetx.chemical': 'MNXM309',\n",
       " 'inchikey': 'SENPVEZBRZQVST-HISDBWNOSA-L',\n",
       " 'seed.compound': 'cpd00638',\n",
       " 'hmdb': 'HMDB01179',\n",
       " 'reactome': ['R-ALL-197256', 'R-ALL-200499', 'R-ALL-8938090'],\n",
       " 'kegg.compound': 'C00857',\n",
       " 'chebi': ['CHEBI:14105',\n",
       "  'CHEBI:18304',\n",
       "  'CHEBI:14103',\n",
       "  'CHEBI:14104',\n",
       "  'CHEBI:23567',\n",
       "  'CHEBI:4340',\n",
       "  'CHEBI:58437'],\n",
       " 'bigg.metabolite': 'dnad',\n",
       " 'biocyc': 'META:DEAMIDO-NAD'}"
      ]
     },
     "execution_count": 35,
     "metadata": {},
     "output_type": "execute_result"
    }
   ],
   "source": [
    "metamodel.metabolites.get_by_id(\"cpd00638[c]\").annotation"
   ]
  },
  {
   "cell_type": "code",
   "execution_count": 36,
   "metadata": {},
   "outputs": [
    {
     "data": {
      "text/html": [
       "\n",
       "        <table>\n",
       "            <tr>\n",
       "                <td><strong>Reaction identifier</strong></td><td>rxn00138[c]</td>\n",
       "            </tr><tr>\n",
       "                <td><strong>Name</strong></td><td>deamido-NAD+:ammonia ligase (AMP-forming)</td>\n",
       "            </tr><tr>\n",
       "                <td><strong>Memory address</strong></td>\n",
       "                <td>0x7f8f46657010</td>\n",
       "            </tr><tr>\n",
       "                <td><strong>Stoichiometry</strong></td>\n",
       "                <td>\n",
       "                    <p style='text-align:right'>cpd00002[c] + cpd00013[c] + cpd00638[c] --> cpd00003[c] + cpd00012[c] + cpd00018[c] + 2.0 cpd00067[c]</p>\n",
       "                    <p style='text-align:right'>ATP + NH3 + Deamido-NAD --> NAD + PPi + AMP + 2.0 H+</p>\n",
       "                </td>\n",
       "            </tr><tr>\n",
       "                <td><strong>GPR</strong></td><td></td>\n",
       "            </tr><tr>\n",
       "                <td><strong>Lower bound</strong></td><td>0.0</td>\n",
       "            </tr><tr>\n",
       "                <td><strong>Upper bound</strong></td><td>1000.0</td>\n",
       "            </tr>\n",
       "        </table>\n",
       "        "
      ],
      "text/plain": [
       "<Reaction rxn00138[c] at 0x7f8f46657010>"
      ]
     },
     "execution_count": 36,
     "metadata": {},
     "output_type": "execute_result"
    }
   ],
   "source": [
    "metamodel.reactions.get_by_id(\"rxn00138[c]\")"
   ]
  },
  {
   "cell_type": "code",
   "execution_count": 37,
   "metadata": {},
   "outputs": [
    {
     "data": {
      "text/plain": [
       "{'carried_by': ['metabat.361',\n",
       "  'metabat.117',\n",
       "  'maxbin.025',\n",
       "  'maxbin.301',\n",
       "  'concoct_194',\n",
       "  'maxbin.411',\n",
       "  'maxbin.300_sub',\n",
       "  'maxbin.294',\n",
       "  'concoct_256',\n",
       "  'metabat.546',\n",
       "  'concoct_182',\n",
       "  'maxbin.161',\n",
       "  'metabat.85',\n",
       "  'maxbin.067',\n",
       "  'metabat.370',\n",
       "  'concoct_127_sub',\n",
       "  'concoct_294_sub',\n",
       "  'maxbin.404',\n",
       "  'concoct_88',\n",
       "  'maxbin.089',\n",
       "  'metabat.1_sub',\n",
       "  'metabat.554',\n",
       "  'metabat.148',\n",
       "  'concoct_148_sub',\n",
       "  'metabat.520_sub',\n",
       "  'concoct_12',\n",
       "  'concoct_172_sub',\n",
       "  'cluster_DBSCAN_round5_48',\n",
       "  'concoct_42',\n",
       "  'maxbin.231',\n",
       "  'metabat.391',\n",
       "  'maxbin.080_sub',\n",
       "  'maxbin.055',\n",
       "  'concoct_179',\n",
       "  'maxbin.207',\n",
       "  'maxbin.357',\n",
       "  'maxbin.026',\n",
       "  'metabat.199',\n",
       "  'maxbin.187',\n",
       "  'metabat.497_sub',\n",
       "  'concoct_43',\n",
       "  'maxbin.085',\n",
       "  'concoct_49_sub',\n",
       "  'maxbin.057_sub',\n",
       "  'maxbin.184_sub',\n",
       "  'metabat.106',\n",
       "  'maxbin.212',\n",
       "  'maxbin.383',\n",
       "  'concoct_225_sub',\n",
       "  'metabat.14',\n",
       "  'metabat.544_sub',\n",
       "  'cluster_DBSCAN_round1_19',\n",
       "  'maxbin.020',\n",
       "  'metabat.381',\n",
       "  'maxbin.308',\n",
       "  'metabat.254',\n",
       "  'maxbin.035_sub',\n",
       "  'metabat.52',\n",
       "  'maxbin.376',\n",
       "  'maxbin.091',\n",
       "  'metabat.428_sub',\n",
       "  'maxbin.337_sub',\n",
       "  'concoct_257',\n",
       "  'concoct_188_sub',\n",
       "  'maxbin.190',\n",
       "  'metabat.26',\n",
       "  'maxbin.134',\n",
       "  'metabat.68',\n",
       "  'concoct_105_sub',\n",
       "  'concoct_102',\n",
       "  'maxbin.288',\n",
       "  'metabat.132',\n",
       "  'metabat.536_sub',\n",
       "  'metabat.245',\n",
       "  'metabat.273',\n",
       "  'concoct_55_sub',\n",
       "  'metabat.441',\n",
       "  'metabat.409',\n",
       "  'metabat.405',\n",
       "  'metabat.221_sub',\n",
       "  'maxbin.353',\n",
       "  'maxbin.310',\n",
       "  'maxbin.290',\n",
       "  'metabat.307',\n",
       "  'concoct_305',\n",
       "  'maxbin.356',\n",
       "  'metabat.220',\n",
       "  'concoct_103',\n",
       "  'maxbin.101',\n",
       "  'maxbin.063',\n",
       "  'concoct_87',\n",
       "  'metabat.430',\n",
       "  'maxbin.013',\n",
       "  'maxbin.234',\n",
       "  'maxbin.285_sub',\n",
       "  'metabat.236',\n",
       "  'metabat.64_sub',\n",
       "  'concoct_143_sub',\n",
       "  'maxbin.050',\n",
       "  'metabat.184',\n",
       "  'concoct_130_sub',\n",
       "  'concoct_191',\n",
       "  'metabat.288',\n",
       "  'metabat.359',\n",
       "  'maxbin.009',\n",
       "  'metabat.367',\n",
       "  'maxbin.260',\n",
       "  'metabat.158',\n",
       "  'concoct_76',\n",
       "  'metabat.515',\n",
       "  'metabat.357_sub',\n",
       "  'metabat.294_sub',\n",
       "  'maxbin.216',\n",
       "  'metabat.592',\n",
       "  'maxbin.146',\n",
       "  'metabat.550',\n",
       "  'concoct_62',\n",
       "  'maxbin.252',\n",
       "  'concoct_195_sub',\n",
       "  'metabat.170_sub',\n",
       "  'metabat.531',\n",
       "  'concoct_192_sub',\n",
       "  'maxbin.414',\n",
       "  'metabat.181',\n",
       "  'concoct_265_sub',\n",
       "  'metabat.255',\n",
       "  'maxbin.027',\n",
       "  'metabat.516_sub',\n",
       "  'metabat.455',\n",
       "  'maxbin.419',\n",
       "  'concoct_289_sub',\n",
       "  'metabat.44_sub',\n",
       "  'concoct_56_sub',\n",
       "  'maxbin.008',\n",
       "  'metabat.553_sub',\n",
       "  'concoct_137_sub',\n",
       "  'maxbin.366_sub',\n",
       "  'metabat.411',\n",
       "  'metabat.190',\n",
       "  'maxbin.115',\n",
       "  'metabat.434_sub',\n",
       "  'maxbin.011',\n",
       "  'concoct_304',\n",
       "  'concoct_293',\n",
       "  'maxbin.054_sub',\n",
       "  'metabat.534',\n",
       "  'maxbin.193',\n",
       "  'metabat.189',\n",
       "  'maxbin.325',\n",
       "  'metabat.312',\n",
       "  'metabat.267',\n",
       "  'metabat.252',\n",
       "  'maxbin.341',\n",
       "  'metabat.92',\n",
       "  'metabat.54_sub',\n",
       "  'metabat.270',\n",
       "  'metabat.563',\n",
       "  'maxbin.297_sub',\n",
       "  'metabat.49',\n",
       "  'metabat.238',\n",
       "  'metabat.333',\n",
       "  'maxbin.293_sub',\n",
       "  'metabat.366',\n",
       "  'maxbin.033',\n",
       "  'maxbin.041',\n",
       "  'maxbin.077',\n",
       "  'metabat.28',\n",
       "  'maxbin.028_sub',\n",
       "  'metabat.19',\n",
       "  'metabat.442',\n",
       "  'metabat.263_sub',\n",
       "  'concoct_94',\n",
       "  'metabat.320',\n",
       "  'maxbin.279',\n",
       "  'maxbin.221',\n",
       "  'metabat.415',\n",
       "  'concoct_309',\n",
       "  'maxbin.418',\n",
       "  'maxbin.417',\n",
       "  'metabat.12',\n",
       "  'maxbin.401',\n",
       "  'maxbin.074',\n",
       "  'maxbin.180',\n",
       "  'metabat.552_sub',\n",
       "  'metabat.226',\n",
       "  'maxbin.029_sub',\n",
       "  'maxbin.250',\n",
       "  'metabat.103',\n",
       "  'metabat.259_sub',\n",
       "  'maxbin.218',\n",
       "  'maxbin.021',\n",
       "  'maxbin.351',\n",
       "  'concoct_131_sub',\n",
       "  'maxbin.003',\n",
       "  'metabat.522_sub',\n",
       "  'concoct_199',\n",
       "  'maxbin.374',\n",
       "  'maxbin.261_sub',\n",
       "  'metabat.178',\n",
       "  'maxbin.388',\n",
       "  'maxbin.126',\n",
       "  'maxbin.118',\n",
       "  'metabat.57',\n",
       "  'concoct_151',\n",
       "  'metabat.43',\n",
       "  'maxbin.390',\n",
       "  'maxbin.380',\n",
       "  'concoct_128_sub',\n",
       "  'metabat.587',\n",
       "  'metabat.460',\n",
       "  'metabat.224',\n",
       "  'maxbin.346',\n",
       "  'maxbin.299_sub',\n",
       "  'metabat.110',\n",
       "  'concoct_198',\n",
       "  'concoct_263',\n",
       "  'maxbin.349',\n",
       "  'maxbin.096',\n",
       "  'concoct_112',\n",
       "  'metabat.30_sub',\n",
       "  'metabat.163',\n",
       "  'metabat.60',\n",
       "  'maxbin.108',\n",
       "  'metabat.422',\n",
       "  'metabat.404_sub',\n",
       "  'cluster_DBSCAN_round1_16_sub',\n",
       "  'maxbin.060_sub',\n",
       "  'maxbin.090',\n",
       "  'maxbin.137',\n",
       "  'maxbin.210',\n",
       "  'metabat.315',\n",
       "  'concoct_262',\n",
       "  'metabat.351',\n",
       "  'maxbin.426',\n",
       "  'metabat.154',\n",
       "  'maxbin.186',\n",
       "  'metabat.208',\n",
       "  'metabat.403',\n",
       "  'metabat.17_sub',\n",
       "  'maxbin.018_sub',\n",
       "  'concoct_1',\n",
       "  'concoct_187_sub',\n",
       "  'metabat.271',\n",
       "  'metabat.108',\n",
       "  'maxbin.143',\n",
       "  'metabat.486']}"
      ]
     },
     "execution_count": 37,
     "metadata": {},
     "output_type": "execute_result"
    }
   ],
   "source": [
    "metamodel.reactions.get_by_id(\"rxn00138[c]\").notes"
   ]
  },
  {
   "cell_type": "markdown",
   "metadata": {},
   "source": [
    "<H1>Add Biomass reactions to the metamodel</H1>\n"
   ]
  },
  {
   "cell_type": "code",
   "execution_count": 38,
   "metadata": {},
   "outputs": [],
   "source": [
    "biomass_reactions = dict()\n",
    "for model_key in models.keys():\n",
    "     biomass_reactions[model_key] = models[model_key].reactions.get_by_id(\"bio1\")\n",
    "\n",
    "#print(bio1_reactions)\n",
    "\n",
    "biomass_types = [biomass_reactions[key].name for key in biomass_reactions.keys()]\n",
    "\n",
    "#print(set(biomass_types))\n",
    "\n",
    "#create a different biomass metabolite and exchange reaction for each biomass type\n",
    "\n",
    "biomass_names_to_ids = {\"Archaeal biomass reaction\":\"Biomass_Archaeal[c]\",\n",
    "                       \"Bacterial Gram-negative biomass reaction\":\"Biomass_Gram_negative[c]\",\n",
    "                       \"Bacterial Gram-positive biomass reaction\":\"Biomass_Gram_positive[c]\"}\n",
    "\n",
    "#create biomass reactions\n",
    "biomass_reacs_toadd = list(biomass_types)\n",
    "biomass_react_ids_toadd = set(biomass_types)\n",
    "\n",
    "metamodel_reactions = cobra.core.DictList()\n",
    "for model_key in models.keys():\n",
    "    current_model = models[model_key]\n",
    "    react = current_model.reactions.get_by_id(\"bio1\")\n",
    "    if react.name in biomass_react_ids_toadd:\n",
    "        metamodel_react = cobra.core.reaction.Reaction(react.name.replace(\" \",\"_\").replace(\"-\",\"_\")) #reaction ids cannot contain whitespace characters nor hyphen\n",
    "        metamodel_react.name = react.name\n",
    "        #print(react.name)\n",
    "        #metamodel_react.subsystem = \"Biomass reactions\"\n",
    "        metamodel_react.lower_bound = react.lower_bound\n",
    "        metamodel_react.upper_bound = react.upper_bound\n",
    "        metamodel_react.annotation = react.annotation\n",
    "        metamodel_react.notes[\"carried_by\"] = [model_key]  \n",
    "        metamodel_mets = dict()\n",
    "        for met in react.metabolites:\n",
    "            if met.id == \"cpd11416_LPAREN_c_RPAREN_\": #set specific id for each biomass (metabolite) type. cpd11.... is the biomass metabolite\n",
    "                compartment = \"c\"\n",
    "                ident = biomass_names_to_ids[react.name]\n",
    "                name = react.name\n",
    "                #print(ident)\n",
    "                #print(name)\n",
    "            else:\n",
    "                #if met.compartment == \"c0\":\n",
    "                if met.id.split(\"_\")[-1] == \"c\" or met.compartment == \"c0\":\n",
    "                    compartment = \"c\"\n",
    "                    name = met.name.replace(\"-c0\",\"\")\n",
    "                    ident = met.id.replace(\"_c0\",\"[c]\").replace(\"_c\",\"[c]\")\n",
    "                #elif met.compartment == \"e0\":\n",
    "                elif met.id.split(\"_\")[-1] == \"e\" or met.compartment == \"e0\":\n",
    "                    compartment = \"e\"\n",
    "                    name = met.name.replace(\"-e0\",\"\")\n",
    "                    ident = met.id.replace(\"_e0\",\"[e]\").replace(\"_e\",\"[e]\")\n",
    "                #elif met.compartment == \"p0\":\n",
    "                elif met.id.split(\"_\")[-1] == \"p\" or met.compartment == \"p0\":\n",
    "                    compartment = \"p\"\n",
    "                    name = met.name.replace(\"-p0\",\"\")\n",
    "                    ident = met.id.replace(\"_p0\",\"[p]\").replace(\"_e\",\"[e]\")\n",
    "                else:\n",
    "                    print(\"WARNING, NO RECOGNIZED COMPARTMENT FOR METABOLITE: \" + met.id + \" in model: \" + model_key)\n",
    "                    compartment = met.compartment\n",
    "                    name = met.name\n",
    "                    ident = met.id\n",
    "            metamodel_met =cobra.core.metabolite.Metabolite(ident,\n",
    "                                                            name=name,\n",
    "                                                            charge=met.charge,\n",
    "                                                            compartment=compartment, \n",
    "                                                            formula=met.formula)\n",
    "            #if met.id == \"cpd11416_LPAREN_c_RPAREN_\":\n",
    "            #    print(ident)\n",
    "            #    print(name)\n",
    "            metamodel_met.annotation = met.annotation\n",
    "            metamodel_met.elements = met.elements\n",
    "            metamodel_met.notes = met.notes\n",
    "            metamodel_mets[metamodel_met] = react.get_coefficient(met.id)\n",
    "            #if met.id == \"cpd11416_LPAREN_c_RPAREN_\":\n",
    "            #    print(metamodel_met.id)\n",
    "            #    print(metamodel_met.name)\n",
    "        metamodel_react.add_metabolites(metamodel_mets)\n",
    "        metamodel_reactions.add(metamodel_react)\n",
    "        biomass_react_ids_toadd.remove(react.name)\n",
    "        #print(metamodel_mets)\n",
    "        \n",
    "    elif react.name in biomass_reacs_toadd:\n",
    "        metamodel_react = metamodel_reactions.get_by_id(react.name.replace(\" \",\"_\").replace(\"-\",\"_\"))\n",
    "        metamodel_react.notes[\"carried_by\"].append(model_key)\n",
    "        biomass_reacs_toadd.remove(react.name)\n",
    "        \n",
    "metamodel.add_reactions(metamodel_reactions)\n",
    "\n",
    "#metamodel_groups = cobra.core.DictList()\n",
    "#members = cobra.core.DictList()\n",
    "#for react in metamodel.reactions:\n",
    "#    if react.subsystem == \"Biomass reactions\":     \n",
    "#        members.add(react)\n",
    "#metamodel_group = cobra.core.group.Group(\"Biomass_reaction\", \"Biomass_reaction\", members=members, kind=\"classification\")\n",
    "#metamodel_groups.add(metamodel_group)   \n",
    "#metamodel.add_groups(metamodel_groups)\n",
    "\n",
    "#create exchange reactions for the \"biomass metabolites\"\n",
    "\n",
    "exchange_reactions_toadd = {\"EX_\" + biomass_names_to_ids[el] for el in biomass_types}\n",
    "metamodel_reactions = cobra.core.DictList()\n",
    "for react_id in exchange_reactions_toadd:\n",
    "    met_id = react_id.replace(\"EX_\",\"\")\n",
    "    metamodel_react = cobra.core.reaction.Reaction(react_id)\n",
    "    metamodel_react.name = react_id\n",
    "    metamodel_react.lower_bound = 0\n",
    "    metamodel_react.upper_bound = 1000\n",
    "    metamodel_met = metamodel. metabolites.get_by_id(met_id)\n",
    "    metamodel_mets = {metamodel_met:-1.0}\n",
    "    metamodel_react.add_metabolites(metamodel_mets)\n",
    "    metamodel_reactions.add(metamodel_react)\n",
    "metamodel.add_reactions(metamodel_reactions)"
   ]
  },
  {
   "cell_type": "code",
   "execution_count": 39,
   "metadata": {},
   "outputs": [
    {
     "data": {
      "text/html": [
       "\n",
       "        <table>\n",
       "            <tr>\n",
       "                <td><strong>Metabolite identifier</strong></td><td>Biomass_Gram_positive[c]</td>\n",
       "            </tr><tr>\n",
       "                <td><strong>Name</strong></td><td>Bacterial Gram-positive biomass reaction</td>\n",
       "            </tr><tr>\n",
       "                <td><strong>Memory address</strong></td>\n",
       "                <td>0x7f8f44de3490</td>\n",
       "            </tr><tr>\n",
       "                <td><strong>Formula</strong></td><td></td>\n",
       "            </tr><tr>\n",
       "                <td><strong>Compartment</strong></td><td>c</td>\n",
       "            </tr><tr>\n",
       "                <td><strong>In 2 reaction(s)</strong></td><td>\n",
       "                    Bacterial_Gram_positive_biomass_reaction, EX_Biomass_Gram_positive[c]\n",
       "                    </td>\n",
       "            </tr>\n",
       "        </table>"
      ],
      "text/plain": [
       "<Metabolite Biomass_Gram_positive[c] at 0x7f8f44de3490>"
      ]
     },
     "execution_count": 39,
     "metadata": {},
     "output_type": "execute_result"
    }
   ],
   "source": [
    "metamodel.metabolites.get_by_id(\"Biomass_Gram_positive[c]\")"
   ]
  },
  {
   "cell_type": "code",
   "execution_count": 40,
   "metadata": {},
   "outputs": [
    {
     "data": {
      "text/plain": [
       "{}"
      ]
     },
     "execution_count": 40,
     "metadata": {},
     "output_type": "execute_result"
    }
   ],
   "source": [
    "metamodel.metabolites.get_by_id(\"Biomass_Gram_positive[c]\").notes"
   ]
  },
  {
   "cell_type": "code",
   "execution_count": 41,
   "metadata": {},
   "outputs": [
    {
     "data": {
      "text/html": [
       "\n",
       "        <table>\n",
       "            <tr>\n",
       "                <td><strong>Reaction identifier</strong></td><td>Bacterial_Gram_positive_biomass_reaction</td>\n",
       "            </tr><tr>\n",
       "                <td><strong>Name</strong></td><td>Bacterial Gram-positive biomass reaction</td>\n",
       "            </tr><tr>\n",
       "                <td><strong>Memory address</strong></td>\n",
       "                <td>0x7f8f44de5ea0</td>\n",
       "            </tr><tr>\n",
       "                <td><strong>Stoichiometry</strong></td>\n",
       "                <td>\n",
       "                    <p style='text-align:right'>36.5026489548392 cpd00001[c] + 41.309914953144 cpd00002[c] + 0.00516549488788731 cpd00003[c] + 0.00516549488788731 cpd00006[c] + 0.00516549488788731 cpd00010[c] + 0.00516549488788731 cpd00015[c] +...</p>\n",
       "                    <p style='text-align:right'>36.5026489548392 H2O + 41.309914953144 ATP + 0.00516549488788731 NAD + 0.00516549488788731 NADP + 0.00516549488788731 CoA + 0.00516549488788731 FAD + 0.00516549488788731 Pyridoxal phosphate +...</p>\n",
       "                </td>\n",
       "            </tr><tr>\n",
       "                <td><strong>GPR</strong></td><td></td>\n",
       "            </tr><tr>\n",
       "                <td><strong>Lower bound</strong></td><td>0.0</td>\n",
       "            </tr><tr>\n",
       "                <td><strong>Upper bound</strong></td><td>1000.0</td>\n",
       "            </tr>\n",
       "        </table>\n",
       "        "
      ],
      "text/plain": [
       "<Reaction Bacterial_Gram_positive_biomass_reaction at 0x7f8f44de5ea0>"
      ]
     },
     "execution_count": 41,
     "metadata": {},
     "output_type": "execute_result"
    }
   ],
   "source": [
    "metamodel.reactions.get_by_id(\"Bacterial_Gram_positive_biomass_reaction\")"
   ]
  },
  {
   "cell_type": "code",
   "execution_count": 42,
   "metadata": {},
   "outputs": [
    {
     "data": {
      "text/plain": [
       "160"
      ]
     },
     "execution_count": 42,
     "metadata": {},
     "output_type": "execute_result"
    }
   ],
   "source": [
    "len(metamodel.reactions.get_by_id(\"Bacterial_Gram_positive_biomass_reaction\").notes[\"carried_by\"])"
   ]
  },
  {
   "cell_type": "code",
   "execution_count": 43,
   "metadata": {
    "scrolled": true
   },
   "outputs": [
    {
     "data": {
      "text/plain": [
       "89"
      ]
     },
     "execution_count": 43,
     "metadata": {},
     "output_type": "execute_result"
    }
   ],
   "source": [
    "len(metamodel.reactions.get_by_id(\"Bacterial_Gram_negative_biomass_reaction\").notes[\"carried_by\"])"
   ]
  },
  {
   "cell_type": "code",
   "execution_count": 44,
   "metadata": {},
   "outputs": [
    {
     "data": {
      "text/plain": [
       "{<Metabolite Biomass_Gram_positive[c] at 0x7f8f44de3490>: 1.0,\n",
       " <Metabolite cpd00056[c] at 0x7f8f4665d900>: -0.00516549488788731,\n",
       " <Metabolite cpd00001[c] at 0x7f8f4665c0a0>: -36.5026489548392,\n",
       " <Metabolite cpd00002[c] at 0x7f8f46654c40>: -41.309914953144,\n",
       " <Metabolite cpd00003[c] at 0x7f8f46654dc0>: -0.00516549488788731,\n",
       " <Metabolite cpd10515[c] at 0x7f8f46654df0>: -0.00729432484021052,\n",
       " <Metabolite cpd10516[c] at 0x7f8f46654e50>: -0.00729432484021052,\n",
       " <Metabolite cpd00023[c] at 0x7f8f46654f40>: -0.302882449821726,\n",
       " <Metabolite cpd00053[c] at 0x7f8f46655000>: -0.302882449821726,\n",
       " <Metabolite cpd00006[c] at 0x7f8f46657e80>: -0.00516549488788731,\n",
       " <Metabolite cpd00010[c] at 0x7f8f46657880>: -0.00516549488788731,\n",
       " <Metabolite cpd00062[c] at 0x7f8f466566e0>: -0.0434225667351816,\n",
       " <Metabolite cpd00015[c] at 0x7f8f46656950>: -0.00516549488788731,\n",
       " <Metabolite cpd00060[c] at 0x7f8f46656c50>: -0.131708694820437,\n",
       " <Metabolite cpd00017[c] at 0x7f8f46656d10>: -0.00516549488788731,\n",
       " <Metabolite cpd00054[c] at 0x7f8f4667cd60>: -0.251530323321339,\n",
       " <Metabolite cpd00035[c] at 0x7f8f4667dbd0>: -0.310490172266228,\n",
       " <Metabolite cpd00038[c] at 0x7f8f46658280>: -0.0652348327222665,\n",
       " <Metabolite cpd00041[c] at 0x7f8f46658be0>: -0.172124720306852,\n",
       " <Metabolite cpd00033[c] at 0x7f8f46658d30>: -0.475007170128578,\n",
       " <Metabolite cpd00039[c] at 0x7f8f4665a470>: -0.375631295697274,\n",
       " <Metabolite cpd00048[c] at 0x7f8f4665aa70>: -0.00729432484021052,\n",
       " <Metabolite cpd00220[c] at 0x7f8f4665b520>: -0.00516549488788731,\n",
       " <Metabolite cpd00051[c] at 0x7f8f4665b7c0>: -0.224427812112802,\n",
       " <Metabolite cpd00052[c] at 0x7f8f466fc040>: -0.0401911229113686,\n",
       " <Metabolite cpd00065[c] at 0x7f8f466fda50>: -0.0632391928199208,\n",
       " <Metabolite cpd00066[c] at 0x7f8f466fdd20>: -0.204457540695985,\n",
       " <Metabolite cpd00069[c] at 0x7f8f466febc0>: -0.128855798903748,\n",
       " <Metabolite cpd00161[c] at 0x7f8f466ff040>: -0.2168200896683,\n",
       " <Metabolite cpd00084[c] at 0x7f8f46708400>: -0.066092088736609,\n",
       " <Metabolite cpd00087[c] at 0x7f8f4670a290>: -0.00516549488788731,\n",
       " <Metabolite cpd00201[c] at 0x7f8f4670a830>: -0.00516549488788731,\n",
       " <Metabolite cpd00345[c] at 0x7f8f4670aaa0>: -0.00516549488788731,\n",
       " <Metabolite cpd00107[c] at 0x7f8f4671a200>: -0.403209289558593,\n",
       " <Metabolite cpd00115[c] at 0x7f8f4671b1c0>: -0.014277198118067,\n",
       " <Metabolite cpd00118[c] at 0x7f8f4671b6a0>: -0.00516549488788731,\n",
       " <Metabolite cpd00119[c] at 0x7f8f4671b9a0>: -0.0950965305562719,\n",
       " <Metabolite cpd00156[c] at 0x7f8f46724be0>: -0.357087472238801,\n",
       " <Metabolite cpd00129[c] at 0x7f8f46725840>: -0.186864682543074,\n",
       " <Metabolite cpd00241[c] at 0x7f8f46746050>: -0.0277900346173317,\n",
       " <Metabolite cpd00264[c] at 0x7f8f46747af0>: -0.00516549488788731,\n",
       " <Metabolite cpd00357[c] at 0x7f8f46556620>: -0.014277198118067,\n",
       " <Metabolite cpd00322[c] at 0x7f8f46557bb0>: -0.313818550835697,\n",
       " <Metabolite cpd00356[c] at 0x7f8f46565960>: -0.0277900346173317,\n",
       " <Metabolite cpd00557[c] at 0x7f8f465842e0>: -0.00516549488788731,\n",
       " <Metabolite cpd00099[c] at 0x7f8f465e5360>: -0.00729432484021052,\n",
       " <Metabolite cpd02229[c] at 0x7f8f465e6200>: -0.00189230913430465,\n",
       " <Metabolite cpd00016[c] at 0x7f8f46607b80>: -0.00516549488788731,\n",
       " <Metabolite cpd00028[c] at 0x7f8f46624310>: -0.00516549488788731,\n",
       " <Metabolite cpd00034[c] at 0x7f8f466244f0>: -0.00729432484021052,\n",
       " <Metabolite cpd00149[c] at 0x7f8f46626110>: -0.00729432484021052,\n",
       " <Metabolite cpd11493[c] at 0x7f8f464846d0>: -0.00516549488788731,\n",
       " <Metabolite cpd00132[c] at 0x7f8f46486590>: -0.172124720306852,\n",
       " <Metabolite cpd00063[c] at 0x7f8f464866b0>: -0.00729432484021052,\n",
       " <Metabolite cpd00058[c] at 0x7f8f46486bc0>: -0.00729432484021052,\n",
       " <Metabolite cpd00205[c] at 0x7f8f46487ac0>: -0.00729432484021052,\n",
       " <Metabolite cpd00042[c] at 0x7f8f464baa10>: -0.00516549488788731,\n",
       " <Metabolite cpd15667[c] at 0x7f8f463d68c0>: -0.00189230913430465,\n",
       " <Metabolite cpd15669[c] at 0x7f8f463d6a40>: -0.00189230913430465,\n",
       " <Metabolite cpd15668[c] at 0x7f8f463d6bc0>: -0.00189230913430465,\n",
       " <Metabolite cpd00254[c] at 0x7f8f462074f0>: -0.00729432484021052,\n",
       " <Metabolite cpd00030[c] at 0x7f8f46230280>: -0.00729432484021052,\n",
       " <Metabolite cpd00166[c] at 0x7f8f462066e0>: -0.00516549488788731,\n",
       " <Metabolite cpd15540[c] at 0x7f8f46230fd0>: -0.00868944176823993,\n",
       " <Metabolite cpd15793[c] at 0x7f8f4605d3f0>: -0.00868944176823993,\n",
       " <Metabolite cpd15722[c] at 0x7f8f46233730>: -0.00868944176823993,\n",
       " <Metabolite cpd15794[c] at 0x7f8f4605d510>: -0.00868944176823993,\n",
       " <Metabolite cpd15723[c] at 0x7f8f462338b0>: -0.00868944176823993,\n",
       " <Metabolite cpd15795[c] at 0x7f8f4605d630>: -0.00868944176823993,\n",
       " <Metabolite cpd15533[c] at 0x7f8f46231270>: -0.00868944176823993,\n",
       " <Metabolite cpd15696[c] at 0x7f8f46233010>: -0.00868944176823993,\n",
       " <Metabolite cpd15695[c] at 0x7f8f46232ec0>: -0.00868944176823993,\n",
       " <Metabolite cpd11459[c] at 0x7f8f46231db0>: -0.00189230913430465,\n",
       " <Metabolite cpd15665[c] at 0x7f8f46231f00>: -0.00189230913430465,\n",
       " <Metabolite cpd15748[c] at 0x7f8f4605c250>: -0.00189230913430465,\n",
       " <Metabolite cpd15749[c] at 0x7f8f4605c3d0>: -0.00189230913430465,\n",
       " <Metabolite cpd15750[c] at 0x7f8f4605c550>: -0.00189230913430465,\n",
       " <Metabolite cpd15757[c] at 0x7f8f4605c6a0>: -0.00189230913430465,\n",
       " <Metabolite cpd15758[c] at 0x7f8f4605c7f0>: -0.00189230913430465,\n",
       " <Metabolite cpd15759[c] at 0x7f8f4605c940>: -0.00189230913430465,\n",
       " <Metabolite cpd15766[c] at 0x7f8f4605ca90>: -0.00189230913430465,\n",
       " <Metabolite cpd15767[c] at 0x7f8f4605cbe0>: -0.00189230913430465,\n",
       " <Metabolite cpd15768[c] at 0x7f8f4605cd30>: -0.00189230913430465,\n",
       " <Metabolite cpd15775[c] at 0x7f8f4605cf10>: -0.00189230913430465,\n",
       " <Metabolite cpd15776[c] at 0x7f8f4605d0f0>: -0.00189230913430465,\n",
       " <Metabolite cpd15777[c] at 0x7f8f4605d2d0>: -0.00189230913430465,\n",
       " <Metabolite cpd00067[c] at 0x7f8f4665dbd0>: 41.257,\n",
       " <Metabolite cpd00008[c] at 0x7f8f46654ca0>: 41.257,\n",
       " <Metabolite cpd00009[c] at 0x7f8f46654cd0>: 41.2497056751598,\n",
       " <Metabolite cpd00012[c] at 0x7f8f46657640>: 0.285897940983594,\n",
       " <Metabolite cpd15666[c] at 0x7f8f463d6830>: 0.00756923653721862,\n",
       " <Metabolite cpd12370[c] at 0x7f8f462304c0>: 0.00516549488788731,\n",
       " <Metabolite cpd01997[c] at 0x7f8f46205f30>: 0.00516549488788731,\n",
       " <Metabolite cpd03422[c] at 0x7f8f46206da0>: 0.00516549488788731}"
      ]
     },
     "execution_count": 44,
     "metadata": {},
     "output_type": "execute_result"
    }
   ],
   "source": [
    "metamodel.reactions.get_by_id(\"Bacterial_Gram_positive_biomass_reaction\").metabolites"
   ]
  },
  {
   "cell_type": "code",
   "execution_count": 45,
   "metadata": {
    "scrolled": true
   },
   "outputs": [
    {
     "data": {
      "text/html": [
       "\n",
       "        <table>\n",
       "            <tr>\n",
       "                <td><strong>Metabolite identifier</strong></td><td>Biomass_Gram_negative[c]</td>\n",
       "            </tr><tr>\n",
       "                <td><strong>Name</strong></td><td>Bacterial Gram-negative biomass reaction</td>\n",
       "            </tr><tr>\n",
       "                <td><strong>Memory address</strong></td>\n",
       "                <td>0x7f8f44de2bc0</td>\n",
       "            </tr><tr>\n",
       "                <td><strong>Formula</strong></td><td></td>\n",
       "            </tr><tr>\n",
       "                <td><strong>Compartment</strong></td><td>c</td>\n",
       "            </tr><tr>\n",
       "                <td><strong>In 2 reaction(s)</strong></td><td>\n",
       "                    EX_Biomass_Gram_negative[c], Bacterial_Gram_negative_biomass_reaction\n",
       "                    </td>\n",
       "            </tr>\n",
       "        </table>"
      ],
      "text/plain": [
       "<Metabolite Biomass_Gram_negative[c] at 0x7f8f44de2bc0>"
      ]
     },
     "execution_count": 45,
     "metadata": {},
     "output_type": "execute_result"
    }
   ],
   "source": [
    "metamodel.metabolites.get_by_id(\"Biomass_Gram_negative[c]\")"
   ]
  },
  {
   "cell_type": "code",
   "execution_count": 46,
   "metadata": {},
   "outputs": [
    {
     "data": {
      "text/html": [
       "\n",
       "        <table>\n",
       "            <tr>\n",
       "                <td><strong>Reaction identifier</strong></td><td>Bacterial_Gram_negative_biomass_reaction</td>\n",
       "            </tr><tr>\n",
       "                <td><strong>Name</strong></td><td>Bacterial Gram-negative biomass reaction</td>\n",
       "            </tr><tr>\n",
       "                <td><strong>Memory address</strong></td>\n",
       "                <td>0x7f8f44de34f0</td>\n",
       "            </tr><tr>\n",
       "                <td><strong>Stoichiometry</strong></td>\n",
       "                <td>\n",
       "                    <p style='text-align:right'>34.9228923555292 cpd00001[c] + 40.1654758653685 cpd00002[c] + 0.00394667025141952 cpd00003[c] + 0.00394667025141952 cpd00006[c] + 0.00394667025141952 cpd00010[c] + 0.00394667025141952 cpd00015[c] +...</p>\n",
       "                    <p style='text-align:right'>34.9228923555292 H2O + 40.1654758653685 ATP + 0.00394667025141952 NAD + 0.00394667025141952 NADP + 0.00394667025141952 CoA + 0.00394667025141952 FAD + 0.00394667025141952 Pyridoxal phosphate +...</p>\n",
       "                </td>\n",
       "            </tr><tr>\n",
       "                <td><strong>GPR</strong></td><td></td>\n",
       "            </tr><tr>\n",
       "                <td><strong>Lower bound</strong></td><td>0.0</td>\n",
       "            </tr><tr>\n",
       "                <td><strong>Upper bound</strong></td><td>1000.0</td>\n",
       "            </tr>\n",
       "        </table>\n",
       "        "
      ],
      "text/plain": [
       "<Reaction Bacterial_Gram_negative_biomass_reaction at 0x7f8f44de34f0>"
      ]
     },
     "execution_count": 46,
     "metadata": {},
     "output_type": "execute_result"
    }
   ],
   "source": [
    "metamodel.reactions.get_by_id(\"Bacterial_Gram_negative_biomass_reaction\")"
   ]
  },
  {
   "cell_type": "markdown",
   "metadata": {},
   "source": [
    "<H1>Save model</H1>"
   ]
  },
  {
   "cell_type": "code",
   "execution_count": 47,
   "metadata": {},
   "outputs": [],
   "source": [
    "cobra.io.write_sbml_model(metamodel,\"gapseq_new_noOxy_metamodel_HQ_bins_07_2023.xml\")"
   ]
  },
  {
   "cell_type": "markdown",
   "metadata": {},
   "source": [
    "<H1>Save list of all gapseq exchange reactions</H1>"
   ]
  },
  {
   "cell_type": "code",
   "execution_count": 48,
   "metadata": {
    "scrolled": false
   },
   "outputs": [],
   "source": [
    "pd.Series([r.id for r in metamodel.reactions if len(r.metabolites)==1 and r.metabolites[list(r.metabolites.keys())[0]]==-1.0 if \"DM_\" not in r.id],\n",
    "         name=\"Exchange_reactions\").to_csv(\"gapseq_new_noOxy_metamodel_exch_reactions_07_2023.csv\")"
   ]
  },
  {
   "cell_type": "markdown",
   "metadata": {},
   "source": [
    "<H1>Save medium of the gapseq metamodel</H1>"
   ]
  },
  {
   "cell_type": "code",
   "execution_count": 49,
   "metadata": {},
   "outputs": [],
   "source": [
    "pd.Series(metamodel.medium, name=\"Medium reactions\").to_csv(\"gapseq_new_noOxy_metamodel_medium_07_2023.csv\")"
   ]
  }
 ],
 "metadata": {
  "kernelspec": {
   "display_name": "Python Mamba modelmerge",
   "language": "python",
   "name": "modelmerge"
  },
  "language_info": {
   "codemirror_mode": {
    "name": "ipython",
    "version": 3
   },
   "file_extension": ".py",
   "mimetype": "text/x-python",
   "name": "python",
   "nbconvert_exporter": "python",
   "pygments_lexer": "ipython3",
   "version": "3.10.6"
  }
 },
 "nbformat": 4,
 "nbformat_minor": 2
}
