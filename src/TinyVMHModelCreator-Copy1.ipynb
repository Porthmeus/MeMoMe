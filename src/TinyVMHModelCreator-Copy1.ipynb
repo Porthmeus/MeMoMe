{
 "cells": [
  {
   "cell_type": "code",
   "execution_count": 1,
   "metadata": {},
   "outputs": [],
   "source": [
    "import cobra\n",
    "import pandas as pd\n",
    "import os"
   ]
  },
  {
   "cell_type": "code",
   "execution_count": 2,
   "metadata": {},
   "outputs": [
    {
     "name": "stdout",
     "output_type": "stream",
     "text": [
      "Set parameter Username\n",
      "Academic license - for non-commercial use only - expires 2024-06-26\n"
     ]
    }
   ],
   "source": [
    "model = cobra.io.read_sbml_model(\"../tests/dat/e_coli_vmh.xml\")"
   ]
  },
  {
   "cell_type": "code",
   "execution_count": 3,
   "metadata": {},
   "outputs": [
    {
     "data": {
      "text/plain": [
       "[('group1', 'Alanine and aspartate metabolism', 10),\n",
       " ('group2', 'Aminobenzoate degradation', 1),\n",
       " ('group3', 'Aminosugar metabolism', 17),\n",
       " ('group4', 'Arginine and proline metabolism', 32),\n",
       " ('group5', 'Ascorbate and aldarate metabolism', 7),\n",
       " ('group6', 'Benzoate degradation', 1),\n",
       " ('group7', 'Bile acid metabolism', 3),\n",
       " ('group8', 'Biosynthesis of siderophore group nonribosomal peptides', 2),\n",
       " ('group9', 'Biotin metabolism', 19),\n",
       " ('group10', 'Butanoate metabolism', 11),\n",
       " ('group11', 'Cell wall biosynthesis', 36),\n",
       " ('group12', 'Cholesterol metabolism', 3),\n",
       " ('group13', 'Citric acid cycle', 25),\n",
       " ('group14', 'CoA synthesis', 11),\n",
       " ('group15', 'Exchange/demand reaction', 499),\n",
       " ('group16', 'Fatty acid oxidation', 12),\n",
       " ('group17', 'Fatty acid synthesis', 140),\n",
       " ('group18', 'Folate metabolism', 27),\n",
       " ('group19', 'Fructose and mannose metabolism', 18),\n",
       " ('group20', 'Galactose metabolism', 11),\n",
       " ('group21', 'Glutamate metabolism', 11),\n",
       " ('group22', 'Glutathione metabolism', 8),\n",
       " ('group23', 'Glycerophospholipid metabolism', 231),\n",
       " ('group24', 'Glycine, serine, alanine, and threonine metabolism', 24),\n",
       " ('group25', 'Glycolysis/gluconeogenesis', 34),\n",
       " ('group26', 'Glyoxylate and dicarboxylate metabolism', 17),\n",
       " ('group27', 'Heme synthesis', 9),\n",
       " ('group28', 'Histidine metabolism', 11),\n",
       " ('group29', 'Inositol phosphate metabolism', 3),\n",
       " ('group30', 'Lipoate metabolism', 1),\n",
       " ('group31', 'Lipopolysaccharide biosynthesis', 28),\n",
       " ('group32', 'Lysine metabolism', 15),\n",
       " ('group33', 'Methane metabolism', 1),\n",
       " ('group34', 'Methionine and cysteine metabolism', 20),\n",
       " ('group35', 'Miscellaneous', 2),\n",
       " ('group36', 'Mucin O-glycan degradation', 229),\n",
       " ('group37', 'NAD metabolism', 21),\n",
       " ('group38', 'Naphthalene degradation', 1),\n",
       " ('group39', 'Nitrogen metabolism', 11),\n",
       " ('group40', 'Nucleotide interconversion', 79),\n",
       " ('group41', 'Nucleotide salvage pathway', 4),\n",
       " ('group42', 'Nucleotide sugar metabolism', 2),\n",
       " ('group43', 'O-Glycan degradation', 3),\n",
       " ('group44', 'Others', 5),\n",
       " ('group45', 'Oxidative phosphorylation', 3),\n",
       " ('group46', 'Pentose and glucuronate interconversions', 17),\n",
       " ('group47', 'Pentose phosphate pathway', 30),\n",
       " ('group48', 'Peptide metabolism', 18),\n",
       " ('group49', 'Phenylalanine metabolism', 26),\n",
       " ('group50', 'Plant polysaccharide degradation', 4),\n",
       " ('group51', 'Propanoate metabolism', 9),\n",
       " ('group52', 'Purine catabolism', 20),\n",
       " ('group53', 'Purine synthesis', 13),\n",
       " ('group54', 'Pyrimidine catabolism', 14),\n",
       " ('group55', 'Pyrimidine synthesis', 25),\n",
       " ('group56', 'Pyruvate metabolism', 24),\n",
       " ('group57', 'ROS detoxification', 3),\n",
       " ('group58', 'Respiration', 29),\n",
       " ('group59', 'Selenoamino acid metabolism', 1),\n",
       " ('group60', 'Squalene and cholesterol synthesis', 1),\n",
       " ('group61', 'Starch and sucrose metabolism', 20),\n",
       " ('group62', 'Sulfur metabolism', 10),\n",
       " ('group63', 'Terpenoid backbone biosynthesis', 14),\n",
       " ('group64', 'Tetrahydrobiopterin metabolism', 3),\n",
       " ('group65', 'Thiamine metabolism', 9),\n",
       " ('group66', 'Transport, extracellular', 249),\n",
       " ('group67', 'Tropane, piperidine and pyridine alkaloid biosynthesis', 1),\n",
       " ('group68', 'Tryptophan metabolism', 11),\n",
       " ('group69', 'Tyrosine metabolism', 5),\n",
       " ('group70', 'Ubiquinone and other terpenoid-quinone biosynthesis', 15),\n",
       " ('group71', 'Unassigned', 5),\n",
       " ('group72', 'Urea cycle', 7),\n",
       " ('group73', 'Valine, leucine, and isoleucine metabolism', 25),\n",
       " ('group74', 'Vitamin B12 metabolism', 13),\n",
       " ('group75', 'Vitamin B2 metabolism', 14),\n",
       " ('group76', 'Vitamin B6 metabolism', 14),\n",
       " ('group77', 'beta-Alanine metabolism', 2),\n",
       " ('group78', 'tRNA Charging', 2)]"
      ]
     },
     "execution_count": 3,
     "metadata": {},
     "output_type": "execute_result"
    }
   ],
   "source": [
    "[(gr.id,gr.name,len(gr.members)) for gr in model.groups]"
   ]
  },
  {
   "cell_type": "code",
   "execution_count": 4,
   "metadata": {},
   "outputs": [
    {
     "data": {
      "text/plain": [
       "{<Reaction 3CARLPDH at 0x7fe6e814f580>,\n",
       " <Reaction ACONT at 0x7fe6e7ee4e80>,\n",
       " <Reaction ACONTa at 0x7fe6e7ee5840>,\n",
       " <Reaction ACONTb at 0x7fe6e7ee53c0>,\n",
       " <Reaction CITL at 0x7fe6e7c4b7c0>,\n",
       " <Reaction FRD2 at 0x7fe6e7808ee0>,\n",
       " <Reaction FRD3 at 0x7fe6e7809120>,\n",
       " <Reaction FRD7 at 0x7fe6e78097b0>,\n",
       " <Reaction FUM at 0x7fe6e78093c0>,\n",
       " <Reaction ICDHy at 0x7fe6e7646e00>,\n",
       " <Reaction ICL at 0x7fe6e76471f0>,\n",
       " <Reaction MALFADOi at 0x7fe6e74bd210>,\n",
       " <Reaction MDH2 at 0x7fe6e7572560>,\n",
       " <Reaction MDH3 at 0x7fe6e7572920>,\n",
       " <Reaction MDH at 0x7fe6e7572350>,\n",
       " <Reaction ME1 at 0x7fe6e7572410>,\n",
       " <Reaction OAASr at 0x7fe6e73eeb90>,\n",
       " <Reaction PPCK at 0x7fe6e735fd90>,\n",
       " <Reaction SUCD1 at 0x7fe6e7260f40>,\n",
       " <Reaction SUCD4 at 0x7fe6e70cee90>,\n",
       " <Reaction SUCDi at 0x7fe6e70cfa30>,\n",
       " <Reaction SUCDimq at 0x7fe6e70cffd0>,\n",
       " <Reaction SUCOAS at 0x7fe6e71047f0>,\n",
       " <Reaction r0163c at 0x7fe6e705c6d0>,\n",
       " <Reaction r0556ci at 0x7fe6e703ad40>}"
      ]
     },
     "execution_count": 4,
     "metadata": {},
     "output_type": "execute_result"
    }
   ],
   "source": [
    "subs_reacs = model.groups.get_by_id(\"group13\").members\n",
    "subs_reacs"
   ]
  },
  {
   "cell_type": "code",
   "execution_count": 5,
   "metadata": {},
   "outputs": [
    {
     "name": "stdout",
     "output_type": "stream",
     "text": [
      "[('2dmmq8[c]', '2-Demethylmenaquinone 8'), ('2dmmql8[c]', '2-Demethylmenaquinol 8'), ('HC00695[c]', 'S-Succinyldihydrolipoamide'), ('HC01435[c]', '3-Carboxy-1-hydroxypropyl-ThPP'), ('ac[c]', 'acetate'), ('accoa[c]', 'Acetyl-CoA'), ('acon_C[c]', 'cis-Aconitate'), ('adp[c]', 'ADP'), ('akg[c]', '2-Oxoglutarate'), ('atp[c]', 'ATP'), ('cit[c]', 'Citrate'), ('co2[c]', 'carbon dioxide'), ('coa[c]', 'Coenzyme A'), ('dhlam[c]', 'dihydrolipoamide'), ('fad[c]', 'Flavin adenine dinucleotide oxidized'), ('fadh2[c]', 'Flavin adenine dinucleotide reduced'), ('fum[c]', 'Fumarate'), ('glx[c]', 'glyoxylate'), ('h2o[c]', 'Water'), ('h[c]', 'proton'), ('icit[c]', 'Isocitrate'), ('lpam[c]', 'lipoamide'), ('mal_L[c]', '(S)-malate(2-)'), ('mql8[c]', 'Menaquinol 8'), ('mqn8[c]', 'Menaquinone 8'), ('nad[c]', 'Nicotinamide adenine dinucleotide'), ('nadh[c]', 'Nicotinamide adenine dinucleotide - reduced'), ('nadp[c]', 'Nicotinamide adenine dinucleotide phosphate'), ('nadph[c]', 'Nicotinamide adenine dinucleotide phosphate - reduced'), ('oaa[c]', 'Oxaloacetate'), ('pep[c]', 'Phosphoenolpyruvate'), ('pi[c]', 'hydrogenphosphate'), ('pyr[c]', 'pyruvate'), ('q8[c]', 'Ubiquinone-8'), ('q8h2[c]', 'Ubiquinol-8'), ('succ[c]', 'Succinate'), ('succoa[c]', 'Succinyl-CoA'), ('thmpp[c]', 'Thiamine diphosphate')]\n",
      "38\n"
     ]
    }
   ],
   "source": [
    "metabolites = set()\n",
    "for met_set in [set(reac.metabolites.keys()) for reac in list(subs_reacs)]:\n",
    "    metabolites = metabolites.union(met_set)\n",
    "print(sorted(list([(met.id, met.name) for met in metabolites])))\n",
    "print(len(metabolites))"
   ]
  },
  {
   "cell_type": "code",
   "execution_count": 6,
   "metadata": {},
   "outputs": [],
   "source": [
    "cit = list(metabolites)[1]"
   ]
  },
  {
   "cell_type": "code",
   "execution_count": 7,
   "metadata": {},
   "outputs": [
    {
     "data": {
      "text/plain": [
       "{'kegg.compound': 'C00828', 'pubchem.compound': '4086'}"
      ]
     },
     "execution_count": 7,
     "metadata": {},
     "output_type": "execute_result"
    }
   ],
   "source": [
    "cit.annotation"
   ]
  },
  {
   "cell_type": "code",
   "execution_count": 8,
   "metadata": {},
   "outputs": [
    {
     "data": {
      "text/plain": [
       "0"
      ]
     },
     "execution_count": 8,
     "metadata": {},
     "output_type": "execute_result"
    }
   ],
   "source": [
    "cit.charge"
   ]
  },
  {
   "cell_type": "code",
   "execution_count": 9,
   "metadata": {},
   "outputs": [
    {
     "data": {
      "text/plain": [
       "'c'"
      ]
     },
     "execution_count": 9,
     "metadata": {},
     "output_type": "execute_result"
    }
   ],
   "source": [
    "cit.compartment"
   ]
  },
  {
   "cell_type": "code",
   "execution_count": 10,
   "metadata": {},
   "outputs": [
    {
     "data": {
      "text/plain": [
       "{'C': 51, 'H': 72, 'O': 2}"
      ]
     },
     "execution_count": 10,
     "metadata": {},
     "output_type": "execute_result"
    }
   ],
   "source": [
    "cit.elements"
   ]
  },
  {
   "cell_type": "code",
   "execution_count": 11,
   "metadata": {},
   "outputs": [
    {
     "data": {
      "text/plain": [
       "'C51H72O2'"
      ]
     },
     "execution_count": 11,
     "metadata": {},
     "output_type": "execute_result"
    }
   ],
   "source": [
    "cit.formula"
   ]
  },
  {
   "cell_type": "code",
   "execution_count": 12,
   "metadata": {},
   "outputs": [
    {
     "data": {
      "text/plain": [
       "717.11618"
      ]
     },
     "execution_count": 12,
     "metadata": {},
     "output_type": "execute_result"
    }
   ],
   "source": [
    "cit.formula_weight"
   ]
  },
  {
   "cell_type": "code",
   "execution_count": 13,
   "metadata": {},
   "outputs": [
    {
     "data": {
      "text/plain": [
       "'mqn8[c]'"
      ]
     },
     "execution_count": 13,
     "metadata": {},
     "output_type": "execute_result"
    }
   ],
   "source": [
    "cit.id"
   ]
  },
  {
   "cell_type": "code",
   "execution_count": 14,
   "metadata": {},
   "outputs": [
    {
     "data": {
      "text/html": [
       "\n",
       "        <table>\n",
       "            <tr>\n",
       "                <td><strong>Name</strong></td>\n",
       "                <td>Escherichia_coli_str_K_12_substr_MG1655</td>\n",
       "            </tr><tr>\n",
       "                <td><strong>Memory address</strong></td>\n",
       "                <td>7fe6e8c56800</td>\n",
       "            </tr><tr>\n",
       "                <td><strong>Number of metabolites</strong></td>\n",
       "                <td>1625</td>\n",
       "            </tr><tr>\n",
       "                <td><strong>Number of reactions</strong></td>\n",
       "                <td>2313</td>\n",
       "            </tr><tr>\n",
       "                <td><strong>Number of genes</strong></td>\n",
       "                <td>1205</td>\n",
       "            </tr><tr>\n",
       "                <td><strong>Number of groups</strong></td>\n",
       "                <td>78</td>\n",
       "            </tr><tr>\n",
       "                <td><strong>Objective expression</strong></td>\n",
       "                <td>1.0*biomass525 - 1.0*biomass525_reverse_5c178</td>\n",
       "            </tr><tr>\n",
       "                <td><strong>Compartments</strong></td>\n",
       "                <td>Cytoplasm, Extracellular</td>\n",
       "            </tr>\n",
       "          </table>"
      ],
      "text/plain": [
       "<Model Escherichia_coli_str_K_12_substr_MG1655 at 0x7fe6e8c56800>"
      ]
     },
     "execution_count": 14,
     "metadata": {},
     "output_type": "execute_result"
    }
   ],
   "source": [
    "cit.model"
   ]
  },
  {
   "cell_type": "code",
   "execution_count": 15,
   "metadata": {},
   "outputs": [
    {
     "data": {
      "text/plain": [
       "'Menaquinone 8'"
      ]
     },
     "execution_count": 15,
     "metadata": {},
     "output_type": "execute_result"
    }
   ],
   "source": [
    "cit.name"
   ]
  },
  {
   "cell_type": "code",
   "execution_count": 16,
   "metadata": {},
   "outputs": [
    {
     "data": {
      "text/plain": [
       "frozenset({<Reaction AMMQT8r at 0x7fe6e7e324a0>,\n",
       "           <Reaction APSRmq at 0x7fe6e7e707c0>,\n",
       "           <Reaction CYOmq at 0x7fe6e7c83af0>,\n",
       "           <Reaction CYTBD2 at 0x7fe6e7c83670>,\n",
       "           <Reaction DHORD5 at 0x7fe6e7b33fa0>,\n",
       "           <Reaction DMSOR1 at 0x7fe6e7b6a020>,\n",
       "           <Reaction DMSORmq at 0x7fe6e7b6a560>,\n",
       "           <Reaction FRD2 at 0x7fe6e7808ee0>,\n",
       "           <Reaction G3PD6 at 0x7fe6e78457b0>,\n",
       "           <Reaction GLYCTO3 at 0x7fe6e7727100>,\n",
       "           <Reaction GNOXmq at 0x7fe6e778a800>,\n",
       "           <Reaction HYD2 at 0x7fe6e76450f0>,\n",
       "           <Reaction L_LACD3 at 0x7fe6e7541210>,\n",
       "           <Reaction MDH3 at 0x7fe6e7572920>,\n",
       "           <Reaction NADH10 at 0x7fe6e73bae60>,\n",
       "           <Reaction NO2rPmq at 0x7fe6e742ca00>,\n",
       "           <Reaction NO3R2 at 0x7fe6e742d6c0>,\n",
       "           <Reaction NO3rPmq at 0x7fe6e742e410>,\n",
       "           <Reaction SELRmq at 0x7fe6e728e380>,\n",
       "           <Reaction SUCDimq at 0x7fe6e70cffd0>,\n",
       "           <Reaction TMAOR1 at 0x7fe6e713bc70>,\n",
       "           <Reaction TMAOR1e at 0x7fe6e713beb0>})"
      ]
     },
     "execution_count": 16,
     "metadata": {},
     "output_type": "execute_result"
    }
   ],
   "source": [
    "cit.reactions"
   ]
  },
  {
   "cell_type": "code",
   "execution_count": 17,
   "metadata": {},
   "outputs": [
    {
     "data": {
      "text/plain": [
       "{}"
      ]
     },
     "execution_count": 17,
     "metadata": {},
     "output_type": "execute_result"
    }
   ],
   "source": [
    "cit.notes"
   ]
  },
  {
   "cell_type": "markdown",
   "metadata": {},
   "source": [
    "Inputs of glycolisis are: ATP, NAD+, glucose <br/>\n",
    "Outputs of glycolisis are: pyr, ATP, NADH"
   ]
  },
  {
   "cell_type": "markdown",
   "metadata": {},
   "source": [
    "Inputs of cytric acid cycle are: Acetyl CoA, NAD+, FAD, ADP, Pi <br/>\n",
    "Outputs of cytric acid cycle are: CO2, NADH, H+, FADH2, ATP, CoA"
   ]
  },
  {
   "cell_type": "markdown",
   "metadata": {},
   "source": [
    "exchanges to create:FAD and FADH2"
   ]
  },
  {
   "cell_type": "markdown",
   "metadata": {},
   "source": [
    "reaction to include and modify: biomass"
   ]
  },
  {
   "cell_type": "code",
   "execution_count": null,
   "metadata": {},
   "outputs": [],
   "source": []
  },
  {
   "cell_type": "code",
   "execution_count": 18,
   "metadata": {},
   "outputs": [
    {
     "data": {
      "text/plain": [
       "[<Reaction EX_glc_D(e) at 0x7fe6e7949fc0>,\n",
       " <Reaction EX_fru(e) at 0x7fe6e7948070>,\n",
       " <Reaction EX_ac(e) at 0x7fe6e7906b00>,\n",
       " <Reaction EX_cit(e) at 0x7fe6e7925f00>,\n",
       " <Reaction EX_gcald(e) at 0x7fe6e7949ea0>,\n",
       " <Reaction EX_glyclt(e) at 0x7fe6e794ad40>,\n",
       " <Reaction EX_h2o(e) at 0x7fe6e794bcd0>,\n",
       " <Reaction EX_h(e) at 0x7fe6e794b880>,\n",
       " <Reaction EX_co2(e) at 0x7fe6e7926140>,\n",
       " <Reaction EX_pi(e) at 0x7fe6e7973400>,\n",
       " <Reaction EX_for(e) at 0x7fe6e7948d00>,\n",
       " <Reaction EX_acald(e) at 0x7fe6e803e410>,\n",
       " <Reaction EX_lac_D(e) at 0x7fe6e7970b20>]"
      ]
     },
     "execution_count": 18,
     "metadata": {},
     "output_type": "execute_result"
    }
   ],
   "source": [
    "reactions_to_include = []\n",
    "reactions_to_include.append(model.reactions.get_by_id(\"EX_glc_D(e)\"))\n",
    "reactions_to_include.append(model.reactions.get_by_id(\"EX_fru(e)\"))\n",
    "reactions_to_include.append(model.reactions.get_by_id(\"EX_ac(e)\"))\n",
    "#TO ALLOW FOR acetate production (below):\n",
    "reactions_to_include.append(model.reactions.get_by_id(\"EX_cit(e)\"))\n",
    "reactions_to_include.append(model.reactions.get_by_id(\"EX_gcald(e)\"))\n",
    "reactions_to_include.append(model.reactions.get_by_id(\"EX_glyclt(e)\"))\n",
    "#TO ALLOW FOR acetate production (above):\n",
    "reactions_to_include.append(model.reactions.get_by_id(\"EX_h2o(e)\"))\n",
    "reactions_to_include.append(model.reactions.get_by_id(\"EX_h(e)\"))\n",
    "reactions_to_include.append(model.reactions.get_by_id(\"EX_co2(e)\"))\n",
    "reactions_to_include.append(model.reactions.get_by_id(\"EX_pi(e)\"))\n",
    "reactions_to_include.append(model.reactions.get_by_id(\"EX_for(e)\"))\n",
    "reactions_to_include.append(model.reactions.get_by_id(\"EX_acald(e)\"))\n",
    "reactions_to_include.append(model.reactions.get_by_id(\"EX_lac_D(e)\"))\n",
    "reactions_to_include"
   ]
  },
  {
   "cell_type": "code",
   "execution_count": 19,
   "metadata": {},
   "outputs": [
    {
     "data": {
      "text/html": [
       "<h3>accoa[c]</h3><p>C23H34N7O17P3S</p><h4>Producing Reactions</h4><table border=\"1\" class=\"dataframe\">\n",
       "  <thead>\n",
       "    <tr style=\"text-align: right;\">\n",
       "      <th>Percent</th>\n",
       "      <th>Flux</th>\n",
       "      <th>Reaction</th>\n",
       "      <th>Definition</th>\n",
       "    </tr>\n",
       "  </thead>\n",
       "  <tbody>\n",
       "    <tr>\n",
       "      <td>8.50%</td>\n",
       "      <td>265.2</td>\n",
       "      <td>ACACCTr</td>\n",
       "      <td>aacoa[c] + ac[c] &lt;=&gt; acac[c] + accoa[c]</td>\n",
       "    </tr>\n",
       "    <tr>\n",
       "      <td>32.04%</td>\n",
       "      <td>1000</td>\n",
       "      <td>ACALD</td>\n",
       "      <td>acald[c] + coa[c] + nad[c] &lt;=&gt; accoa[c] + h[c] + nadh[c]</td>\n",
       "    </tr>\n",
       "    <tr>\n",
       "      <td>32.04%</td>\n",
       "      <td>1000</td>\n",
       "      <td>OAASr</td>\n",
       "      <td>cit[c] + coa[c] + h[c] &lt;=&gt; accoa[c] + h2o[c] + oaa[c]</td>\n",
       "    </tr>\n",
       "    <tr>\n",
       "      <td>1.60%</td>\n",
       "      <td>49.87</td>\n",
       "      <td>PFL</td>\n",
       "      <td>coa[c] + pyr[c] --&gt; accoa[c] + for[c]</td>\n",
       "    </tr>\n",
       "    <tr>\n",
       "      <td>25.84%</td>\n",
       "      <td>806.4</td>\n",
       "      <td>POR4</td>\n",
       "      <td>accoa[c] + co2[c] + fdxrd[c] &lt;=&gt; coa[c] + fdxox[c] + h[c] + pyr[c]</td>\n",
       "    </tr>\n",
       "  </tbody>\n",
       "</table><h4>Consuming Reactions</h4><table border=\"1\" class=\"dataframe\">\n",
       "  <thead>\n",
       "    <tr style=\"text-align: right;\">\n",
       "      <th>Percent</th>\n",
       "      <th>Flux</th>\n",
       "      <th>Reaction</th>\n",
       "      <th>Definition</th>\n",
       "    </tr>\n",
       "  </thead>\n",
       "  <tbody>\n",
       "    <tr>\n",
       "      <td>16.99%</td>\n",
       "      <td>-530.4</td>\n",
       "      <td>ACACT1r</td>\n",
       "      <td>2.0 accoa[c] &lt;=&gt; aacoa[c] + coa[c]</td>\n",
       "    </tr>\n",
       "    <tr>\n",
       "      <td>8.50%</td>\n",
       "      <td>-265.2</td>\n",
       "      <td>ACACT2r</td>\n",
       "      <td>accoa[c] + btcoa[c] &lt;=&gt; 3ohcoa[c] + coa[c]</td>\n",
       "    </tr>\n",
       "    <tr>\n",
       "      <td>8.50%</td>\n",
       "      <td>-265.2</td>\n",
       "      <td>ACACT3r</td>\n",
       "      <td>accoa[c] + hxcoa[c] &lt;=&gt; 3oocoa[c] + coa[c]</td>\n",
       "    </tr>\n",
       "    <tr>\n",
       "      <td>8.50%</td>\n",
       "      <td>-265.2</td>\n",
       "      <td>ACACT4r</td>\n",
       "      <td>accoa[c] + occoa[c] &lt;=&gt; 3odcoa[c] + coa[c]</td>\n",
       "    </tr>\n",
       "    <tr>\n",
       "      <td>8.50%</td>\n",
       "      <td>-265.2</td>\n",
       "      <td>ACACT5r</td>\n",
       "      <td>accoa[c] + dcacoa[c] &lt;=&gt; 3oddcoa[c] + coa[c]</td>\n",
       "    </tr>\n",
       "    <tr>\n",
       "      <td>8.50%</td>\n",
       "      <td>-265.2</td>\n",
       "      <td>ACACT6r</td>\n",
       "      <td>accoa[c] + ddcacoa[c] &lt;=&gt; 3otdcoa[c] + coa[c]</td>\n",
       "    </tr>\n",
       "    <tr>\n",
       "      <td>8.50%</td>\n",
       "      <td>-265.2</td>\n",
       "      <td>BUTCT</td>\n",
       "      <td>accoa[c] + but[c] --&gt; ac[c] + btcoa[c]</td>\n",
       "    </tr>\n",
       "    <tr>\n",
       "      <td>32.04%</td>\n",
       "      <td>-1000</td>\n",
       "      <td>PTAr</td>\n",
       "      <td>accoa[c] + pi[c] &lt;=&gt; actp[c] + coa[c]</td>\n",
       "    </tr>\n",
       "  </tbody>\n",
       "</table>"
      ],
      "text/plain": [
       "<cobra.summary.metabolite_summary.MetaboliteSummary at 0x7fe6e6bd42b0>"
      ]
     },
     "execution_count": 19,
     "metadata": {},
     "output_type": "execute_result"
    }
   ],
   "source": [
    "model.metabolites.get_by_id(\"accoa[c]\").summary()"
   ]
  },
  {
   "cell_type": "code",
   "execution_count": 20,
   "metadata": {
    "scrolled": true
   },
   "outputs": [
    {
     "data": {
      "text/html": [
       "<h3>pyr[c]</h3><p>C3H3O3</p><h4>Producing Reactions</h4><table border=\"1\" class=\"dataframe\">\n",
       "  <thead>\n",
       "    <tr style=\"text-align: right;\">\n",
       "      <th>Percent</th>\n",
       "      <th>Flux</th>\n",
       "      <th>Reaction</th>\n",
       "      <th>Definition</th>\n",
       "    </tr>\n",
       "  </thead>\n",
       "  <tbody>\n",
       "    <tr>\n",
       "      <td>2.17%</td>\n",
       "      <td>25.84</td>\n",
       "      <td>ACNML</td>\n",
       "      <td>acnam[c] --&gt; acmana[c] + pyr[c]</td>\n",
       "    </tr>\n",
       "    <tr>\n",
       "      <td>13.80%</td>\n",
       "      <td>164.3</td>\n",
       "      <td>LDH_D</td>\n",
       "      <td>lac_D[c] + nad[c] &lt;=&gt; h[c] + nadh[c] + pyr[c]</td>\n",
       "    </tr>\n",
       "    <tr>\n",
       "      <td>84.03%</td>\n",
       "      <td>1000</td>\n",
       "      <td>PYK</td>\n",
       "      <td>adp[c] + h[c] + pep[c] --&gt; atp[c] + pyr[c]</td>\n",
       "    </tr>\n",
       "  </tbody>\n",
       "</table><h4>Consuming Reactions</h4><table border=\"1\" class=\"dataframe\">\n",
       "  <thead>\n",
       "    <tr style=\"text-align: right;\">\n",
       "      <th>Percent</th>\n",
       "      <th>Flux</th>\n",
       "      <th>Reaction</th>\n",
       "      <th>Definition</th>\n",
       "    </tr>\n",
       "  </thead>\n",
       "  <tbody>\n",
       "    <tr>\n",
       "      <td>14.93%</td>\n",
       "      <td>-177.7</td>\n",
       "      <td>ALATA_L</td>\n",
       "      <td>akg[c] + ala_L[c] &lt;=&gt; glu_L[c] + pyr[c]</td>\n",
       "    </tr>\n",
       "    <tr>\n",
       "      <td>1.09%</td>\n",
       "      <td>-12.92</td>\n",
       "      <td>DHDPS</td>\n",
       "      <td>aspsa[c] + pyr[c] --&gt; 23dhdp[c] + 2.0 h2o[c] + h[c]</td>\n",
       "    </tr>\n",
       "    <tr>\n",
       "      <td>12.03%</td>\n",
       "      <td>-143.2</td>\n",
       "      <td>DXPS</td>\n",
       "      <td>g3p[c] + h[c] + pyr[c] --&gt; co2[c] + dxyl5p[c]</td>\n",
       "    </tr>\n",
       "    <tr>\n",
       "      <td>4.19%</td>\n",
       "      <td>-49.87</td>\n",
       "      <td>PFL</td>\n",
       "      <td>coa[c] + pyr[c] --&gt; accoa[c] + for[c]</td>\n",
       "    </tr>\n",
       "    <tr>\n",
       "      <td>67.76%</td>\n",
       "      <td>-806.4</td>\n",
       "      <td>POR4</td>\n",
       "      <td>accoa[c] + co2[c] + fdxrd[c] &lt;=&gt; coa[c] + fdxox[c] + h[c] + pyr[c]</td>\n",
       "    </tr>\n",
       "  </tbody>\n",
       "</table>"
      ],
      "text/plain": [
       "<cobra.summary.metabolite_summary.MetaboliteSummary at 0x7fe6e6c56da0>"
      ]
     },
     "execution_count": 20,
     "metadata": {},
     "output_type": "execute_result"
    }
   ],
   "source": [
    "model.metabolites.get_by_id(\"pyr[c]\").summary()"
   ]
  },
  {
   "cell_type": "code",
   "execution_count": 21,
   "metadata": {},
   "outputs": [
    {
     "data": {
      "text/html": [
       "<h3>pep[c]</h3><p>C3H2O6P</p><h4>Producing Reactions</h4><table border=\"1\" class=\"dataframe\">\n",
       "  <thead>\n",
       "    <tr style=\"text-align: right;\">\n",
       "      <th>Percent</th>\n",
       "      <th>Flux</th>\n",
       "      <th>Reaction</th>\n",
       "      <th>Definition</th>\n",
       "    </tr>\n",
       "  </thead>\n",
       "  <tbody>\n",
       "    <tr>\n",
       "      <td>98.72%</td>\n",
       "      <td>1000</td>\n",
       "      <td>ENO</td>\n",
       "      <td>2pg[c] &lt;=&gt; h2o[c] + pep[c]</td>\n",
       "    </tr>\n",
       "    <tr>\n",
       "      <td>1.28%</td>\n",
       "      <td>12.92</td>\n",
       "      <td>PPCr</td>\n",
       "      <td>h[c] + oaa[c] + pi[c] &lt;=&gt; co2[c] + h2o[c] + pep[c]</td>\n",
       "    </tr>\n",
       "  </tbody>\n",
       "</table><h4>Consuming Reactions</h4><table border=\"1\" class=\"dataframe\">\n",
       "  <thead>\n",
       "    <tr style=\"text-align: right;\">\n",
       "      <th>Percent</th>\n",
       "      <th>Flux</th>\n",
       "      <th>Reaction</th>\n",
       "      <th>Definition</th>\n",
       "    </tr>\n",
       "  </thead>\n",
       "  <tbody>\n",
       "    <tr>\n",
       "      <td>98.72%</td>\n",
       "      <td>-1000</td>\n",
       "      <td>PYK</td>\n",
       "      <td>adp[c] + h[c] + pep[c] --&gt; atp[c] + pyr[c]</td>\n",
       "    </tr>\n",
       "    <tr>\n",
       "      <td>1.28%</td>\n",
       "      <td>-12.92</td>\n",
       "      <td>UAGCVT_r</td>\n",
       "      <td>pep[c] + uacgam[c] &lt;=&gt; pi[c] + uaccg[c]</td>\n",
       "    </tr>\n",
       "  </tbody>\n",
       "</table>"
      ],
      "text/plain": [
       "<cobra.summary.metabolite_summary.MetaboliteSummary at 0x7fe6e6c098a0>"
      ]
     },
     "execution_count": 21,
     "metadata": {},
     "output_type": "execute_result"
    }
   ],
   "source": [
    "model.metabolites.get_by_id(\"pep[c]\").summary()"
   ]
  },
  {
   "cell_type": "code",
   "execution_count": 22,
   "metadata": {},
   "outputs": [
    {
     "data": {
      "text/html": [
       "<h3>2pg[c]</h3><p>C3H4O7P</p><h4>Producing Reactions</h4><table border=\"1\" class=\"dataframe\">\n",
       "  <thead>\n",
       "    <tr style=\"text-align: right;\">\n",
       "      <th>Percent</th>\n",
       "      <th>Flux</th>\n",
       "      <th>Reaction</th>\n",
       "      <th>Definition</th>\n",
       "    </tr>\n",
       "  </thead>\n",
       "  <tbody>\n",
       "    <tr>\n",
       "      <td>100.00%</td>\n",
       "      <td>1000</td>\n",
       "      <td>PGM</td>\n",
       "      <td>2pg[c] &lt;=&gt; 3pg[c]</td>\n",
       "    </tr>\n",
       "  </tbody>\n",
       "</table><h4>Consuming Reactions</h4><table border=\"1\" class=\"dataframe\">\n",
       "  <thead>\n",
       "    <tr style=\"text-align: right;\">\n",
       "      <th>Percent</th>\n",
       "      <th>Flux</th>\n",
       "      <th>Reaction</th>\n",
       "      <th>Definition</th>\n",
       "    </tr>\n",
       "  </thead>\n",
       "  <tbody>\n",
       "    <tr>\n",
       "      <td>100.00%</td>\n",
       "      <td>-1000</td>\n",
       "      <td>ENO</td>\n",
       "      <td>2pg[c] &lt;=&gt; h2o[c] + pep[c]</td>\n",
       "    </tr>\n",
       "  </tbody>\n",
       "</table>"
      ],
      "text/plain": [
       "<cobra.summary.metabolite_summary.MetaboliteSummary at 0x7fe6e6b62aa0>"
      ]
     },
     "execution_count": 22,
     "metadata": {},
     "output_type": "execute_result"
    }
   ],
   "source": [
    "model.metabolites.get_by_id(\"2pg[c]\").summary()"
   ]
  },
  {
   "cell_type": "code",
   "execution_count": 23,
   "metadata": {},
   "outputs": [
    {
     "data": {
      "text/html": [
       "<h3>3pg[c]</h3><p>C3H4O7P</p><h4>Producing Reactions</h4><table border=\"1\" class=\"dataframe\">\n",
       "  <thead>\n",
       "    <tr style=\"text-align: right;\">\n",
       "      <th>Percent</th>\n",
       "      <th>Flux</th>\n",
       "      <th>Reaction</th>\n",
       "      <th>Definition</th>\n",
       "    </tr>\n",
       "  </thead>\n",
       "  <tbody>\n",
       "    <tr>\n",
       "      <td>100.00%</td>\n",
       "      <td>1000</td>\n",
       "      <td>PGK</td>\n",
       "      <td>3pg[c] + atp[c] &lt;=&gt; 13dpg[c] + adp[c]</td>\n",
       "    </tr>\n",
       "  </tbody>\n",
       "</table><h4>Consuming Reactions</h4><table border=\"1\" class=\"dataframe\">\n",
       "  <thead>\n",
       "    <tr style=\"text-align: right;\">\n",
       "      <th>Percent</th>\n",
       "      <th>Flux</th>\n",
       "      <th>Reaction</th>\n",
       "      <th>Definition</th>\n",
       "    </tr>\n",
       "  </thead>\n",
       "  <tbody>\n",
       "    <tr>\n",
       "      <td>100.00%</td>\n",
       "      <td>-1000</td>\n",
       "      <td>PGM</td>\n",
       "      <td>2pg[c] &lt;=&gt; 3pg[c]</td>\n",
       "    </tr>\n",
       "  </tbody>\n",
       "</table>"
      ],
      "text/plain": [
       "<cobra.summary.metabolite_summary.MetaboliteSummary at 0x7fe6e6b63eb0>"
      ]
     },
     "execution_count": 23,
     "metadata": {},
     "output_type": "execute_result"
    }
   ],
   "source": [
    "model.metabolites.get_by_id(\"3pg[c]\").summary()"
   ]
  },
  {
   "cell_type": "code",
   "execution_count": 24,
   "metadata": {},
   "outputs": [
    {
     "data": {
      "text/html": [
       "<h3>13dpg[c]</h3><p>C3H4O10P2</p><h4>Producing Reactions</h4><table border=\"1\" class=\"dataframe\">\n",
       "  <thead>\n",
       "    <tr style=\"text-align: right;\">\n",
       "      <th>Percent</th>\n",
       "      <th>Flux</th>\n",
       "      <th>Reaction</th>\n",
       "      <th>Definition</th>\n",
       "    </tr>\n",
       "  </thead>\n",
       "  <tbody>\n",
       "    <tr>\n",
       "      <td>100.00%</td>\n",
       "      <td>1000</td>\n",
       "      <td>GAPD</td>\n",
       "      <td>g3p[c] + nad[c] + pi[c] &lt;=&gt; 13dpg[c] + h[c] + nadh[c]</td>\n",
       "    </tr>\n",
       "  </tbody>\n",
       "</table><h4>Consuming Reactions</h4><table border=\"1\" class=\"dataframe\">\n",
       "  <thead>\n",
       "    <tr style=\"text-align: right;\">\n",
       "      <th>Percent</th>\n",
       "      <th>Flux</th>\n",
       "      <th>Reaction</th>\n",
       "      <th>Definition</th>\n",
       "    </tr>\n",
       "  </thead>\n",
       "  <tbody>\n",
       "    <tr>\n",
       "      <td>100.00%</td>\n",
       "      <td>-1000</td>\n",
       "      <td>PGK</td>\n",
       "      <td>3pg[c] + atp[c] &lt;=&gt; 13dpg[c] + adp[c]</td>\n",
       "    </tr>\n",
       "  </tbody>\n",
       "</table>"
      ],
      "text/plain": [
       "<cobra.summary.metabolite_summary.MetaboliteSummary at 0x7fe6e6c0a440>"
      ]
     },
     "execution_count": 24,
     "metadata": {},
     "output_type": "execute_result"
    }
   ],
   "source": [
    "model.metabolites.get_by_id(\"13dpg[c]\").summary()"
   ]
  },
  {
   "cell_type": "code",
   "execution_count": 25,
   "metadata": {},
   "outputs": [
    {
     "data": {
      "text/html": [
       "<h3>g3p[c]</h3><p>C3H5O6P</p><h4>Producing Reactions</h4><table border=\"1\" class=\"dataframe\">\n",
       "  <thead>\n",
       "    <tr style=\"text-align: right;\">\n",
       "      <th>Percent</th>\n",
       "      <th>Flux</th>\n",
       "      <th>Reaction</th>\n",
       "      <th>Definition</th>\n",
       "    </tr>\n",
       "  </thead>\n",
       "  <tbody>\n",
       "    <tr>\n",
       "      <td>70.80%</td>\n",
       "      <td>810.1</td>\n",
       "      <td>DRPAr</td>\n",
       "      <td>2dr5p[c] &lt;=&gt; acald[c] + g3p[c]</td>\n",
       "    </tr>\n",
       "    <tr>\n",
       "      <td>0.05%</td>\n",
       "      <td>0.5455</td>\n",
       "      <td>TKT1</td>\n",
       "      <td>r5p[c] + xu5p_D[c] &lt;=&gt; g3p[c] + s7p[c]</td>\n",
       "    </tr>\n",
       "    <tr>\n",
       "      <td>29.16%</td>\n",
       "      <td>333.6</td>\n",
       "      <td>TPI</td>\n",
       "      <td>dhap[c] &lt;=&gt; g3p[c]</td>\n",
       "    </tr>\n",
       "  </tbody>\n",
       "</table><h4>Consuming Reactions</h4><table border=\"1\" class=\"dataframe\">\n",
       "  <thead>\n",
       "    <tr style=\"text-align: right;\">\n",
       "      <th>Percent</th>\n",
       "      <th>Flux</th>\n",
       "      <th>Reaction</th>\n",
       "      <th>Definition</th>\n",
       "    </tr>\n",
       "  </thead>\n",
       "  <tbody>\n",
       "    <tr>\n",
       "      <td>12.51%</td>\n",
       "      <td>-143.2</td>\n",
       "      <td>DXPS</td>\n",
       "      <td>g3p[c] + h[c] + pyr[c] --&gt; co2[c] + dxyl5p[c]</td>\n",
       "    </tr>\n",
       "    <tr>\n",
       "      <td>87.39%</td>\n",
       "      <td>-1000</td>\n",
       "      <td>GAPD</td>\n",
       "      <td>g3p[c] + nad[c] + pi[c] &lt;=&gt; 13dpg[c] + h[c] + nadh[c]</td>\n",
       "    </tr>\n",
       "    <tr>\n",
       "      <td>0.05%</td>\n",
       "      <td>-0.5455</td>\n",
       "      <td>TALA</td>\n",
       "      <td>g3p[c] + s7p[c] &lt;=&gt; e4p[c] + f6p[c]</td>\n",
       "    </tr>\n",
       "    <tr>\n",
       "      <td>0.05%</td>\n",
       "      <td>-0.5455</td>\n",
       "      <td>TKT2</td>\n",
       "      <td>e4p[c] + xu5p_D[c] &lt;=&gt; f6p[c] + g3p[c]</td>\n",
       "    </tr>\n",
       "  </tbody>\n",
       "</table>"
      ],
      "text/plain": [
       "<cobra.summary.metabolite_summary.MetaboliteSummary at 0x7fe6e6b62890>"
      ]
     },
     "execution_count": 25,
     "metadata": {},
     "output_type": "execute_result"
    }
   ],
   "source": [
    "model.metabolites.get_by_id(\"g3p[c]\").summary()"
   ]
  },
  {
   "cell_type": "code",
   "execution_count": 26,
   "metadata": {},
   "outputs": [
    {
     "data": {
      "text/html": [
       "\n",
       "        <table>\n",
       "            <tr>\n",
       "                <td><strong>Reaction identifier</strong></td><td>TPI</td>\n",
       "            </tr><tr>\n",
       "                <td><strong>Name</strong></td><td>Triose-Phosphate Isomerase</td>\n",
       "            </tr><tr>\n",
       "                <td><strong>Memory address</strong></td>\n",
       "                <td>0x7fe6e7179810</td>\n",
       "            </tr><tr>\n",
       "                <td><strong>Stoichiometry</strong></td>\n",
       "                <td>\n",
       "                    <p style='text-align:right'>dhap[c] <=> g3p[c]</p>\n",
       "                    <p style='text-align:right'>Dihydroxyacetone phosphate <=> Glyceraldehyde 3-phosphate</p>\n",
       "                </td>\n",
       "            </tr><tr>\n",
       "                <td><strong>GPR</strong></td><td>511145.12.peg.4036</td>\n",
       "            </tr><tr>\n",
       "                <td><strong>Lower bound</strong></td><td>-1000.0</td>\n",
       "            </tr><tr>\n",
       "                <td><strong>Upper bound</strong></td><td>1000.0</td>\n",
       "            </tr>\n",
       "        </table>\n",
       "        "
      ],
      "text/plain": [
       "<Reaction TPI at 0x7fe6e7179810>"
      ]
     },
     "execution_count": 26,
     "metadata": {},
     "output_type": "execute_result"
    }
   ],
   "source": [
    "model.reactions.get_by_id(\"TPI\")"
   ]
  },
  {
   "cell_type": "code",
   "execution_count": 27,
   "metadata": {},
   "outputs": [
    {
     "data": {
      "text/html": [
       "\n",
       "        <table>\n",
       "            <tr>\n",
       "                <td><strong>Reaction identifier</strong></td><td>FBA</td>\n",
       "            </tr><tr>\n",
       "                <td><strong>Name</strong></td><td>Fructose-Bisphosphate Aldolase</td>\n",
       "            </tr><tr>\n",
       "                <td><strong>Memory address</strong></td>\n",
       "                <td>0x7fe6e7997340</td>\n",
       "            </tr><tr>\n",
       "                <td><strong>Stoichiometry</strong></td>\n",
       "                <td>\n",
       "                    <p style='text-align:right'>fdp[c] <=> dhap[c] + g3p[c]</p>\n",
       "                    <p style='text-align:right'>D-Fructose 1,6-bisphosphate <=> Dihydroxyacetone phosphate + Glyceraldehyde 3-phosphate</p>\n",
       "                </td>\n",
       "            </tr><tr>\n",
       "                <td><strong>GPR</strong></td><td>511145.12.peg.2174 or 511145.12.peg.3020</td>\n",
       "            </tr><tr>\n",
       "                <td><strong>Lower bound</strong></td><td>-1000.0</td>\n",
       "            </tr><tr>\n",
       "                <td><strong>Upper bound</strong></td><td>1000.0</td>\n",
       "            </tr>\n",
       "        </table>\n",
       "        "
      ],
      "text/plain": [
       "<Reaction FBA at 0x7fe6e7997340>"
      ]
     },
     "execution_count": 27,
     "metadata": {},
     "output_type": "execute_result"
    }
   ],
   "source": [
    "model.reactions.get_by_id(\"FBA\")"
   ]
  },
  {
   "cell_type": "code",
   "execution_count": 28,
   "metadata": {},
   "outputs": [
    {
     "data": {
      "text/plain": [
       "frozenset({<Reaction FBA at 0x7fe6e7997340>,\n",
       "           <Reaction FBP at 0x7fe6e77c45e0>,\n",
       "           <Reaction FRUK at 0x7fe6e78090c0>,\n",
       "           <Reaction PFK at 0x7fe6e72b2020>})"
      ]
     },
     "execution_count": 28,
     "metadata": {},
     "output_type": "execute_result"
    }
   ],
   "source": [
    "model.metabolites.get_by_id(\"fdp[c]\").reactions"
   ]
  },
  {
   "cell_type": "code",
   "execution_count": 29,
   "metadata": {},
   "outputs": [
    {
     "data": {
      "text/html": [
       "\n",
       "        <table>\n",
       "            <tr>\n",
       "                <td><strong>Reaction identifier</strong></td><td>PFK</td>\n",
       "            </tr><tr>\n",
       "                <td><strong>Name</strong></td><td>Phosphofructokinase</td>\n",
       "            </tr><tr>\n",
       "                <td><strong>Memory address</strong></td>\n",
       "                <td>0x7fe6e72b2020</td>\n",
       "            </tr><tr>\n",
       "                <td><strong>Stoichiometry</strong></td>\n",
       "                <td>\n",
       "                    <p style='text-align:right'>atp[c] + f6p[c] --> adp[c] + fdp[c] + h[c]</p>\n",
       "                    <p style='text-align:right'>ATP + D-Fructose 6-phosphate --> ADP + D-Fructose 1,6-bisphosphate + proton</p>\n",
       "                </td>\n",
       "            </tr><tr>\n",
       "                <td><strong>GPR</strong></td><td>511145.12.peg.1794 or 511145.12.peg.4032</td>\n",
       "            </tr><tr>\n",
       "                <td><strong>Lower bound</strong></td><td>0.0</td>\n",
       "            </tr><tr>\n",
       "                <td><strong>Upper bound</strong></td><td>1000.0</td>\n",
       "            </tr>\n",
       "        </table>\n",
       "        "
      ],
      "text/plain": [
       "<Reaction PFK at 0x7fe6e72b2020>"
      ]
     },
     "execution_count": 29,
     "metadata": {},
     "output_type": "execute_result"
    }
   ],
   "source": [
    "model.reactions.get_by_id(\"PFK\")"
   ]
  },
  {
   "cell_type": "code",
   "execution_count": 30,
   "metadata": {},
   "outputs": [
    {
     "data": {
      "text/html": [
       "\n",
       "        <table>\n",
       "            <tr>\n",
       "                <td><strong>Reaction identifier</strong></td><td>EX_for(e)</td>\n",
       "            </tr><tr>\n",
       "                <td><strong>Name</strong></td><td>Formate exchange</td>\n",
       "            </tr><tr>\n",
       "                <td><strong>Memory address</strong></td>\n",
       "                <td>0x7fe6e7948d00</td>\n",
       "            </tr><tr>\n",
       "                <td><strong>Stoichiometry</strong></td>\n",
       "                <td>\n",
       "                    <p style='text-align:right'>for[e] <=></p>\n",
       "                    <p style='text-align:right'>Formate <=></p>\n",
       "                </td>\n",
       "            </tr><tr>\n",
       "                <td><strong>GPR</strong></td><td></td>\n",
       "            </tr><tr>\n",
       "                <td><strong>Lower bound</strong></td><td>-1000.0</td>\n",
       "            </tr><tr>\n",
       "                <td><strong>Upper bound</strong></td><td>1000.0</td>\n",
       "            </tr>\n",
       "        </table>\n",
       "        "
      ],
      "text/plain": [
       "<Reaction EX_for(e) at 0x7fe6e7948d00>"
      ]
     },
     "execution_count": 30,
     "metadata": {},
     "output_type": "execute_result"
    }
   ],
   "source": [
    "model.reactions.get_by_id(\"EX_for(e)\")"
   ]
  },
  {
   "cell_type": "code",
   "execution_count": 31,
   "metadata": {},
   "outputs": [
    {
     "data": {
      "text/html": [
       "\n",
       "        <table>\n",
       "            <tr>\n",
       "                <td><strong>Reaction identifier</strong></td><td>FRUpts</td>\n",
       "            </tr><tr>\n",
       "                <td><strong>Name</strong></td><td>D-fructose transport via PEP:Pyr PTS</td>\n",
       "            </tr><tr>\n",
       "                <td><strong>Memory address</strong></td>\n",
       "                <td>0x7fe6e7809fc0</td>\n",
       "            </tr><tr>\n",
       "                <td><strong>Stoichiometry</strong></td>\n",
       "                <td>\n",
       "                    <p style='text-align:right'>fru[e] + pep[c] --> f1p[c] + pyr[c]</p>\n",
       "                    <p style='text-align:right'>D-Fructose + Phosphoenolpyruvate --> D-Fructose 1-phosphate + pyruvate</p>\n",
       "                </td>\n",
       "            </tr><tr>\n",
       "                <td><strong>GPR</strong></td><td>(511145.12.peg.2252 and 511145.12.peg.2254 and 511145.12.peg.2481) or (511145.12.peg.2252 and...</td>\n",
       "            </tr><tr>\n",
       "                <td><strong>Lower bound</strong></td><td>0.0</td>\n",
       "            </tr><tr>\n",
       "                <td><strong>Upper bound</strong></td><td>1000.0</td>\n",
       "            </tr>\n",
       "        </table>\n",
       "        "
      ],
      "text/plain": [
       "<Reaction FRUpts at 0x7fe6e7809fc0>"
      ]
     },
     "execution_count": 31,
     "metadata": {},
     "output_type": "execute_result"
    }
   ],
   "source": [
    "model.reactions.get_by_id(\"FRUpts\")"
   ]
  },
  {
   "cell_type": "code",
   "execution_count": 32,
   "metadata": {},
   "outputs": [
    {
     "data": {
      "text/html": [
       "\n",
       "        <table>\n",
       "            <tr>\n",
       "                <td><strong>Reaction identifier</strong></td><td>EX_fru(e)</td>\n",
       "            </tr><tr>\n",
       "                <td><strong>Name</strong></td><td>exchange reaction for D-Fructose</td>\n",
       "            </tr><tr>\n",
       "                <td><strong>Memory address</strong></td>\n",
       "                <td>0x7fe6e7948070</td>\n",
       "            </tr><tr>\n",
       "                <td><strong>Stoichiometry</strong></td>\n",
       "                <td>\n",
       "                    <p style='text-align:right'>fru[e] <=></p>\n",
       "                    <p style='text-align:right'>D-Fructose <=></p>\n",
       "                </td>\n",
       "            </tr><tr>\n",
       "                <td><strong>GPR</strong></td><td></td>\n",
       "            </tr><tr>\n",
       "                <td><strong>Lower bound</strong></td><td>-1000.0</td>\n",
       "            </tr><tr>\n",
       "                <td><strong>Upper bound</strong></td><td>1000.0</td>\n",
       "            </tr>\n",
       "        </table>\n",
       "        "
      ],
      "text/plain": [
       "<Reaction EX_fru(e) at 0x7fe6e7948070>"
      ]
     },
     "execution_count": 32,
     "metadata": {},
     "output_type": "execute_result"
    }
   ],
   "source": [
    "model.reactions.get_by_id(\"EX_fru(e)\")"
   ]
  },
  {
   "cell_type": "code",
   "execution_count": 33,
   "metadata": {},
   "outputs": [
    {
     "data": {
      "text/html": [
       "\n",
       "        <table>\n",
       "            <tr>\n",
       "                <td><strong>Reaction identifier</strong></td><td>PGI</td>\n",
       "            </tr><tr>\n",
       "                <td><strong>Name</strong></td><td>Glucose-6-Phosphate Isomerase</td>\n",
       "            </tr><tr>\n",
       "                <td><strong>Memory address</strong></td>\n",
       "                <td>0x7fe6e72b2bc0</td>\n",
       "            </tr><tr>\n",
       "                <td><strong>Stoichiometry</strong></td>\n",
       "                <td>\n",
       "                    <p style='text-align:right'>g6p[c] <=> f6p[c]</p>\n",
       "                    <p style='text-align:right'>D-Glucose 6-phosphate <=> D-Fructose 6-phosphate</p>\n",
       "                </td>\n",
       "            </tr><tr>\n",
       "                <td><strong>GPR</strong></td><td>511145.12.peg.4138</td>\n",
       "            </tr><tr>\n",
       "                <td><strong>Lower bound</strong></td><td>-1000.0</td>\n",
       "            </tr><tr>\n",
       "                <td><strong>Upper bound</strong></td><td>1000.0</td>\n",
       "            </tr>\n",
       "        </table>\n",
       "        "
      ],
      "text/plain": [
       "<Reaction PGI at 0x7fe6e72b2bc0>"
      ]
     },
     "execution_count": 33,
     "metadata": {},
     "output_type": "execute_result"
    }
   ],
   "source": [
    "model.reactions.get_by_id(\"PGI\")"
   ]
  },
  {
   "cell_type": "code",
   "execution_count": 34,
   "metadata": {},
   "outputs": [
    {
     "data": {
      "text/html": [
       "\n",
       "        <table>\n",
       "            <tr>\n",
       "                <td><strong>Reaction identifier</strong></td><td>GLCpts</td>\n",
       "            </tr><tr>\n",
       "                <td><strong>Name</strong></td><td>D-glucose transport via PEP:Pyr PTS</td>\n",
       "            </tr><tr>\n",
       "                <td><strong>Memory address</strong></td>\n",
       "                <td>0x7fe6e76e45b0</td>\n",
       "            </tr><tr>\n",
       "                <td><strong>Stoichiometry</strong></td>\n",
       "                <td>\n",
       "                    <p style='text-align:right'>glc_D[e] + pep[c] --> g6p[c] + pyr[c]</p>\n",
       "                    <p style='text-align:right'>D-glucose + Phosphoenolpyruvate --> D-Glucose 6-phosphate + pyruvate</p>\n",
       "                </td>\n",
       "            </tr><tr>\n",
       "                <td><strong>GPR</strong></td><td>(511145.12.peg.1144 and 511145.12.peg.2481 and 511145.12.peg.2510 and 511145.12.peg.2511) or...</td>\n",
       "            </tr><tr>\n",
       "                <td><strong>Lower bound</strong></td><td>0.0</td>\n",
       "            </tr><tr>\n",
       "                <td><strong>Upper bound</strong></td><td>1000.0</td>\n",
       "            </tr>\n",
       "        </table>\n",
       "        "
      ],
      "text/plain": [
       "<Reaction GLCpts at 0x7fe6e76e45b0>"
      ]
     },
     "execution_count": 34,
     "metadata": {},
     "output_type": "execute_result"
    }
   ],
   "source": [
    "model.reactions.get_by_id(\"GLCpts\")"
   ]
  },
  {
   "cell_type": "code",
   "execution_count": 35,
   "metadata": {
    "scrolled": true
   },
   "outputs": [
    {
     "data": {
      "text/html": [
       "\n",
       "        <table>\n",
       "            <tr>\n",
       "                <td><strong>Reaction identifier</strong></td><td>EX_glc_D(e)</td>\n",
       "            </tr><tr>\n",
       "                <td><strong>Name</strong></td><td>D-Glucose exchange</td>\n",
       "            </tr><tr>\n",
       "                <td><strong>Memory address</strong></td>\n",
       "                <td>0x7fe6e7949fc0</td>\n",
       "            </tr><tr>\n",
       "                <td><strong>Stoichiometry</strong></td>\n",
       "                <td>\n",
       "                    <p style='text-align:right'>glc_D[e] <=></p>\n",
       "                    <p style='text-align:right'>D-glucose <=></p>\n",
       "                </td>\n",
       "            </tr><tr>\n",
       "                <td><strong>GPR</strong></td><td></td>\n",
       "            </tr><tr>\n",
       "                <td><strong>Lower bound</strong></td><td>-1000.0</td>\n",
       "            </tr><tr>\n",
       "                <td><strong>Upper bound</strong></td><td>1000.0</td>\n",
       "            </tr>\n",
       "        </table>\n",
       "        "
      ],
      "text/plain": [
       "<Reaction EX_glc_D(e) at 0x7fe6e7949fc0>"
      ]
     },
     "execution_count": 35,
     "metadata": {},
     "output_type": "execute_result"
    }
   ],
   "source": [
    "model.reactions.get_by_id(\"EX_glc_D(e)\")"
   ]
  },
  {
   "cell_type": "code",
   "execution_count": 36,
   "metadata": {},
   "outputs": [
    {
     "data": {
      "text/plain": [
       "frozenset({<Reaction ACACCTr at 0x7fe6e80669e0>,\n",
       "           <Reaction ACKr at 0x7fe6e80a18d0>,\n",
       "           <Reaction ACODAr at 0x7fe6e7ee4b50>,\n",
       "           <Reaction ACS at 0x7fe6e7ee6560>,\n",
       "           <Reaction ACYP_2 at 0x7fe6e7ee7490>,\n",
       "           <Reaction ACt2r at 0x7fe6e7ee78e0>,\n",
       "           <Reaction AGDC2 at 0x7fe6e7f8bee0>,\n",
       "           <Reaction AGDC at 0x7fe6e7f8bd30>,\n",
       "           <Reaction BUTCT at 0x7fe6e7c12e90>,\n",
       "           <Reaction CITL at 0x7fe6e7c4b7c0>,\n",
       "           <Reaction CYSS3r at 0x7fe6e7ac0eb0>,\n",
       "           <Reaction CYSS at 0x7fe6e7ac07f0>,\n",
       "           <Reaction METB1 at 0x7fe6e7573df0>,\n",
       "           <Reaction POX at 0x7fe6e735f4f0>,\n",
       "           <Reaction UHGADA at 0x7fe6e6fb36d0>})"
      ]
     },
     "execution_count": 36,
     "metadata": {},
     "output_type": "execute_result"
    }
   ],
   "source": [
    "model.metabolites.get_by_id(\"ac[c]\").reactions"
   ]
  },
  {
   "cell_type": "code",
   "execution_count": 37,
   "metadata": {},
   "outputs": [
    {
     "data": {
      "text/plain": [
       "['BUTCT', 'ACS', 'ACACCTr']"
      ]
     },
     "execution_count": 37,
     "metadata": {},
     "output_type": "execute_result"
    }
   ],
   "source": [
    "[reac.id for reac in model.metabolites.get_by_id(\"ac[c]\").reactions if \n",
    " \"accoa[c]\" in [met.id for met in reac.metabolites]]"
   ]
  },
  {
   "cell_type": "code",
   "execution_count": 38,
   "metadata": {},
   "outputs": [
    {
     "data": {
      "text/plain": [
       "['3CARLPDH',\n",
       " 'ACALD',\n",
       " 'ACALDt',\n",
       " 'ACKr',\n",
       " 'ACONT',\n",
       " 'ACONTa',\n",
       " 'ACONTb',\n",
       " 'ACS',\n",
       " 'ACYP_2',\n",
       " 'ACt2r',\n",
       " 'ALCD2x',\n",
       " 'CDCA7aHSDHe',\n",
       " 'CITL',\n",
       " 'CITt7',\n",
       " 'CO2t',\n",
       " 'D_LACt2',\n",
       " 'ENO',\n",
       " 'ETOHt',\n",
       " 'EX_7dhcdchol(e)',\n",
       " 'EX_C02528(e)',\n",
       " 'EX_ac(e)',\n",
       " 'EX_acald(e)',\n",
       " 'EX_cit(e)',\n",
       " 'EX_co2(e)',\n",
       " 'EX_for(e)',\n",
       " 'EX_fru(e)',\n",
       " 'EX_gcald(e)',\n",
       " 'EX_glc_D(e)',\n",
       " 'EX_glyclt(e)',\n",
       " 'EX_h(e)',\n",
       " 'EX_h2o(e)',\n",
       " 'EX_lac_D(e)',\n",
       " 'EX_pi(e)',\n",
       " 'FBA',\n",
       " 'FDH',\n",
       " 'FORt2r',\n",
       " 'FRD2',\n",
       " 'FRD3',\n",
       " 'FRD7',\n",
       " 'FRUpts',\n",
       " 'FUM',\n",
       " 'GAPD',\n",
       " 'GCALDDr',\n",
       " 'GCALDt',\n",
       " 'GLCpts',\n",
       " 'GLYCLTt2r',\n",
       " 'ICDHy',\n",
       " 'ICL',\n",
       " 'LDH_D',\n",
       " 'MALFADOi',\n",
       " 'MDH',\n",
       " 'MDH2',\n",
       " 'MDH3',\n",
       " 'ME1',\n",
       " 'OAASr',\n",
       " 'PFL',\n",
       " 'PGK',\n",
       " 'PGM',\n",
       " 'PPCK',\n",
       " 'PPCr',\n",
       " 'PTAr',\n",
       " 'PYK',\n",
       " 'SUCCt2_3',\n",
       " 'SUCD1',\n",
       " 'SUCD4',\n",
       " 'SUCDi',\n",
       " 'SUCDimq',\n",
       " 'SUCOAS',\n",
       " 'TPI',\n",
       " 'r0163c',\n",
       " 'r0556ci']"
      ]
     },
     "execution_count": 38,
     "metadata": {},
     "output_type": "execute_result"
    }
   ],
   "source": [
    "reactions_to_include.append(model.reactions.get_by_id(\"ACALD\"))\n",
    "reactions_to_include.append(model.reactions.get_by_id(\"ACALDt\"))\n",
    "reactions_to_include.append(model.reactions.get_by_id(\"ALCD2x\"))\n",
    "reactions_to_include.append(model.reactions.get_by_id(\"ETOHt\"))\n",
    "reactions_to_include.append(model.reactions.get_by_id(\"PFL\"))\n",
    "reactions_to_include.append(model.reactions.get_by_id(\"FORt2r\"))\n",
    "reactions_to_include.append(model.reactions.get_by_id(\"LDH_D\"))\n",
    "reactions_to_include.append(model.reactions.get_by_id(\"D_LACt2\"))\n",
    "reactions_to_include.append(model.reactions.get_by_id(\"PYK\"))\n",
    "reactions_to_include.append(model.reactions.get_by_id(\"ENO\"))\n",
    "reactions_to_include.append(model.reactions.get_by_id(\"PPCr\"))\n",
    "reactions_to_include.append(model.reactions.get_by_id(\"PGM\"))\n",
    "reactions_to_include.append(model.reactions.get_by_id(\"PGK\"))\n",
    "reactions_to_include.append(model.reactions.get_by_id(\"GAPD\"))\n",
    "reactions_to_include.append(model.reactions.get_by_id(\"TPI\"))\n",
    "reactions_to_include.append(model.reactions.get_by_id(\"FBA\"))\n",
    "reactions_to_include.append(model.reactions.get_by_id(\"GLCpts\"))\n",
    "reactions_to_include.append(model.reactions.get_by_id(\"FRUpts\"))\n",
    "reactions_to_include.append(model.reactions.get_by_id(\"ACt2r\"))\n",
    "reactions_to_include.append(model.reactions.get_by_id(\"ACKr\"))\n",
    "reactions_to_include.append(model.reactions.get_by_id(\"ACS\"))\n",
    "#TO ALLOW FOR acetate production:\n",
    "reactions_to_include.append(model.reactions.get_by_id(\"ACYP_2\"))\n",
    "reactions_to_include.append(model.reactions.get_by_id(\"CITt7\"))\n",
    "reactions_to_include.append(model.reactions.get_by_id(\"CO2t\"))\n",
    "reactions_to_include.append(model.reactions.get_by_id(\"FDH\"))\n",
    "reactions_to_include.append(model.reactions.get_by_id(\"GCALDDr\"))\n",
    "reactions_to_include.append(model.reactions.get_by_id(\"GCALDt\"))\n",
    "reactions_to_include.append(model.reactions.get_by_id(\"GLYCLTt2r\"))\n",
    "reactions_to_include.append(model.reactions.get_by_id(\"PTAr\"))\n",
    "reactions_to_include.append(model.reactions.get_by_id(\"SUCCt2_3\"))\n",
    "#TO ALLOW FOR lactate production:\n",
    "reactions_to_include.append(model.reactions.get_by_id(\"CDCA7aHSDHe\"))\n",
    "reactions_to_include.append(model.reactions.get_by_id(\"EX_C02528(e)\"))\n",
    "reactions_to_include.append(model.reactions.get_by_id(\"EX_7dhcdchol(e)\"))\n",
    "\n",
    "reactions_to_include = reactions_to_include + list(subs_reacs)\n",
    "#internal_reactions_to_include.append()\n",
    "#internal_reactions_to_include.append()\n",
    "#internal_reactions_to_include.append()\n",
    "#internal_reactions_to_include.append()\n",
    "sorted([reac.id for reac in reactions_to_include])"
   ]
  },
  {
   "cell_type": "code",
   "execution_count": 39,
   "metadata": {},
   "outputs": [
    {
     "data": {
      "text/plain": [
       "{'Bile acid metabolism',\n",
       " 'Citric acid cycle',\n",
       " 'Exchange/demand reaction',\n",
       " 'Glycolysis/gluconeogenesis',\n",
       " 'Glyoxylate and dicarboxylate metabolism',\n",
       " 'Pyruvate metabolism',\n",
       " 'Transport, extracellular'}"
      ]
     },
     "execution_count": 39,
     "metadata": {},
     "output_type": "execute_result"
    }
   ],
   "source": [
    "group_names = set()\n",
    "for reac in reactions_to_include:\n",
    "    group_names.add(reac.subsystem)\n",
    "group_names"
   ]
  },
  {
   "cell_type": "code",
   "execution_count": 40,
   "metadata": {
    "scrolled": true
   },
   "outputs": [
    {
     "data": {
      "text/plain": [
       "[<Group group7 at 0x7fe6e6d394b0>,\n",
       " <Group group13 at 0x7fe6e6c0b6a0>,\n",
       " <Group group15 at 0x7fe6e6c0b7c0>,\n",
       " <Group group25 at 0x7fe6e6c0b8b0>,\n",
       " <Group group26 at 0x7fe6e6c0b850>,\n",
       " <Group group56 at 0x7fe6e6c0bfa0>,\n",
       " <Group group66 at 0x7fe6e6c0b670>]"
      ]
     },
     "execution_count": 40,
     "metadata": {},
     "output_type": "execute_result"
    }
   ],
   "source": [
    "groups_to_add = [group for group in model.groups if group.name in group_names]\n",
    "groups_to_add"
   ]
  },
  {
   "cell_type": "code",
   "execution_count": 41,
   "metadata": {},
   "outputs": [],
   "source": [
    "#metab_ids_toadd = set()\n",
    "#groups_toadd = list()\n",
    "#group_ids_toadd = set()\n",
    "#gene_ids_toadd = set()\n",
    "\n",
    "#create an empty model\n",
    "minimal_model = cobra.Model(id_or_model=\"minimal_model\", name=\"minimal_model\")\n",
    "\n",
    "#add reactions to the model\n",
    "minimal_model_reactions = cobra.core.DictList()\n",
    "for react in reactions_to_include:\n",
    "    minimal_model_react = cobra.core.reaction.Reaction(react.id, name= react.name)\n",
    "    minimal_model_react.lower_bound = react.lower_bound\n",
    "    minimal_model_react.upper_bound = react.upper_bound\n",
    "    minimal_model_react.annotation = react.annotation\n",
    "    minimal_model_mets = dict()\n",
    "    for met in react.metabolites:\n",
    "        minimal_model_met =cobra.core.metabolite.Metabolite(met.id,\n",
    "                                                        name=met.name,\n",
    "                                                        charge=met.charge,\n",
    "                                                        compartment=met.compartment, \n",
    "                                                        formula=met.formula)\n",
    "        minimal_model_met.annotation = met.annotation\n",
    "        minimal_model_met.elements = met.elements\n",
    "        minimal_model_met.notes = met.notes\n",
    "        minimal_model_mets[minimal_model_met] = react.get_coefficient(met.id)\n",
    "    minimal_model_react.add_metabolites(minimal_model_mets)\n",
    "    minimal_model_reactions.add(minimal_model_react)\n",
    "minimal_model.add_reactions(minimal_model_reactions)\n",
    "\n",
    "\n",
    "minimal_model_reac_ids = [reac.id for reac in minimal_model.reactions]\n",
    "minimal_model_groups = cobra.core.DictList()\n",
    "for group in model.groups:\n",
    "    if group in groups_to_add:\n",
    "        members = cobra.core.DictList()\n",
    "        for member in group.members:\n",
    "            if member.id in minimal_model_reac_ids:\n",
    "                members.add(minimal_model.reactions.get_by_id(member.id))\n",
    "        minimal_model_group = cobra.core.group.Group(group.id, group.name,\n",
    "                                                     members=members, \n",
    "                                                     kind=group.kind)\n",
    "        minimal_model_groups.add(minimal_model_group)\n",
    "minimal_model.add_groups(minimal_model_groups)\n",
    "\n",
    "\n",
    "#minimal_model_genes = cobra.core.DictList() #unfortunately the add_genes function doesn't exist yet\n",
    "#for gene in model.genes:\n",
    "#    for reac in gene.reactions:\n",
    "#        if reac.id in [minimal_model_reac_ids]:\n",
    "#            ...\n",
    "#            ...\n",
    "#minimal_model.add_genes(minimal_model_genes) #unfortunately the add_genes function doesn't exist yet\n"
   ]
  },
  {
   "cell_type": "code",
   "execution_count": 42,
   "metadata": {},
   "outputs": [],
   "source": [
    "#ADDING FAKE EXCHANGE OF FAD, FADH2 NAD AND NADH\n",
    "\n",
    "def add_ex_tr(met_c_id, minimal_model):\n",
    "    minimal_model_reactions = cobra.core.DictList()\n",
    "    minimal_model_react = cobra.core.reaction.Reaction(\"FAKE_tr_\" + met_c_id, name=\"fake transport\")\n",
    "    minimal_model_react.lower_bound = -1000.0\n",
    "    minimal_model_react.upper_bound = 1000.0\n",
    "    minimal_model_react.notes = \"this reactions has been added to make the minimal model feasible\"\n",
    "    minimal_model_mets = dict()\n",
    "    met_c = minimal_model.metabolites.get_by_id(met_c_id)\n",
    "    met_e = cobra.core.metabolite.Metabolite(met_c.id.replace(\"[c]\",\"[e]\"),\n",
    "                                             name=met_c.name,\n",
    "                                             charge=met_c.charge,\n",
    "                                             compartment=\"e\", \n",
    "                                             formula=met_c.formula)\n",
    "    met_e.annotation = met_c.annotation\n",
    "    met_e.elements = met_c.elements\n",
    "    met_e.notes = met_c.notes\n",
    "    minimal_model_mets[met_c] = -1.0\n",
    "    minimal_model_mets[met_e] = 1.0\n",
    "    minimal_model_react.add_metabolites(minimal_model_mets)\n",
    "    minimal_model_reactions.add(minimal_model_react)\n",
    "\n",
    "    minimal_model_react = cobra.core.reaction.Reaction(\"EX_FAKE_\" + met_e.id ,name=\"fake exchange\")\n",
    "    minimal_model_react.lower_bound = -1000.0\n",
    "    minimal_model_react.upper_bound = 1000.0\n",
    "    minimal_model_react.notes = \"this reactions has been added to make the minimal model feasible\"\n",
    "    minimal_model_mets = dict()\n",
    "    #met_e = minimal_model.metabolites.get_by_id(\"fad[e]\")\n",
    "    minimal_model_mets[met_e] = -1.0\n",
    "    minimal_model_react.add_metabolites(minimal_model_mets)\n",
    "    minimal_model_reactions.add(minimal_model_react)\n",
    "\n",
    "    minimal_model.add_reactions(minimal_model_reactions)\n",
    "\n",
    "add_ex_tr(\"fad[c]\",minimal_model)\n",
    "add_ex_tr(\"fadh2[c]\",minimal_model)\n",
    "add_ex_tr(\"nad[c]\",minimal_model)\n",
    "add_ex_tr(\"nadh[c]\",minimal_model)\n",
    "#add_ex_tr(\"amp[c]\",minimal_model)"
   ]
  },
  {
   "cell_type": "code",
   "execution_count": 43,
   "metadata": {},
   "outputs": [
    {
     "data": {
      "text/html": [
       "\n",
       "        <table>\n",
       "            <tr>\n",
       "                <td><strong>Name</strong></td>\n",
       "                <td>minimal_model</td>\n",
       "            </tr><tr>\n",
       "                <td><strong>Memory address</strong></td>\n",
       "                <td>7fe6e6abea70</td>\n",
       "            </tr><tr>\n",
       "                <td><strong>Number of metabolites</strong></td>\n",
       "                <td>76</td>\n",
       "            </tr><tr>\n",
       "                <td><strong>Number of reactions</strong></td>\n",
       "                <td>79</td>\n",
       "            </tr><tr>\n",
       "                <td><strong>Number of genes</strong></td>\n",
       "                <td>0</td>\n",
       "            </tr><tr>\n",
       "                <td><strong>Number of groups</strong></td>\n",
       "                <td>7</td>\n",
       "            </tr><tr>\n",
       "                <td><strong>Objective expression</strong></td>\n",
       "                <td>0</td>\n",
       "            </tr><tr>\n",
       "                <td><strong>Compartments</strong></td>\n",
       "                <td>e, c</td>\n",
       "            </tr>\n",
       "          </table>"
      ],
      "text/plain": [
       "<Model minimal_model at 0x7fe6e6abea70>"
      ]
     },
     "execution_count": 43,
     "metadata": {},
     "output_type": "execute_result"
    }
   ],
   "source": [
    "minimal_model"
   ]
  },
  {
   "cell_type": "code",
   "execution_count": 44,
   "metadata": {},
   "outputs": [
    {
     "data": {
      "text/html": [
       "\n",
       "        <table>\n",
       "            <tr>\n",
       "                <td><strong>Metabolite identifier</strong></td><td>fad[c]</td>\n",
       "            </tr><tr>\n",
       "                <td><strong>Name</strong></td><td>Flavin adenine dinucleotide oxidized</td>\n",
       "            </tr><tr>\n",
       "                <td><strong>Memory address</strong></td>\n",
       "                <td>0x7fe6e6b4df90</td>\n",
       "            </tr><tr>\n",
       "                <td><strong>Formula</strong></td><td>C27H31N9O15P2</td>\n",
       "            </tr><tr>\n",
       "                <td><strong>Compartment</strong></td><td>c</td>\n",
       "            </tr><tr>\n",
       "                <td><strong>In 4 reaction(s)</strong></td><td>\n",
       "                    SUCD4, MALFADOi, SUCD1, FAKE_tr_fad[c]\n",
       "                    </td>\n",
       "            </tr>\n",
       "        </table>"
      ],
      "text/plain": [
       "<Metabolite fad[c] at 0x7fe6e6b4df90>"
      ]
     },
     "execution_count": 44,
     "metadata": {},
     "output_type": "execute_result"
    }
   ],
   "source": [
    "minimal_model.metabolites.get_by_id(\"fad[c]\")"
   ]
  },
  {
   "cell_type": "code",
   "execution_count": 45,
   "metadata": {},
   "outputs": [
    {
     "data": {
      "text/html": [
       "\n",
       "        <table>\n",
       "            <tr>\n",
       "                <td><strong>Reaction identifier</strong></td><td>FAKE_tr_fad[c]</td>\n",
       "            </tr><tr>\n",
       "                <td><strong>Name</strong></td><td>fake transport</td>\n",
       "            </tr><tr>\n",
       "                <td><strong>Memory address</strong></td>\n",
       "                <td>0x7fe6e6ba13c0</td>\n",
       "            </tr><tr>\n",
       "                <td><strong>Stoichiometry</strong></td>\n",
       "                <td>\n",
       "                    <p style='text-align:right'>fad[c] <=> fad[e]</p>\n",
       "                    <p style='text-align:right'>Flavin adenine dinucleotide oxidized <=> Flavin adenine dinucleotide oxidized</p>\n",
       "                </td>\n",
       "            </tr><tr>\n",
       "                <td><strong>GPR</strong></td><td></td>\n",
       "            </tr><tr>\n",
       "                <td><strong>Lower bound</strong></td><td>-1000.0</td>\n",
       "            </tr><tr>\n",
       "                <td><strong>Upper bound</strong></td><td>1000.0</td>\n",
       "            </tr>\n",
       "        </table>\n",
       "        "
      ],
      "text/plain": [
       "<Reaction FAKE_tr_fad[c] at 0x7fe6e6ba13c0>"
      ]
     },
     "execution_count": 45,
     "metadata": {},
     "output_type": "execute_result"
    }
   ],
   "source": [
    "minimal_model.reactions.get_by_id(\"FAKE_tr_fad[c]\")"
   ]
  },
  {
   "cell_type": "code",
   "execution_count": 46,
   "metadata": {},
   "outputs": [
    {
     "data": {
      "text/html": [
       "\n",
       "        <table>\n",
       "            <tr>\n",
       "                <td><strong>Metabolite identifier</strong></td><td>fad[e]</td>\n",
       "            </tr><tr>\n",
       "                <td><strong>Name</strong></td><td>Flavin adenine dinucleotide oxidized</td>\n",
       "            </tr><tr>\n",
       "                <td><strong>Memory address</strong></td>\n",
       "                <td>0x7fe6e6ba14b0</td>\n",
       "            </tr><tr>\n",
       "                <td><strong>Formula</strong></td><td>C27H31N9O15P2</td>\n",
       "            </tr><tr>\n",
       "                <td><strong>Compartment</strong></td><td>e</td>\n",
       "            </tr><tr>\n",
       "                <td><strong>In 2 reaction(s)</strong></td><td>\n",
       "                    EX_FAKE_fad[e], FAKE_tr_fad[c]\n",
       "                    </td>\n",
       "            </tr>\n",
       "        </table>"
      ],
      "text/plain": [
       "<Metabolite fad[e] at 0x7fe6e6ba14b0>"
      ]
     },
     "execution_count": 46,
     "metadata": {},
     "output_type": "execute_result"
    }
   ],
   "source": [
    "minimal_model.metabolites.get_by_id(\"fad[e]\")"
   ]
  },
  {
   "cell_type": "code",
   "execution_count": 47,
   "metadata": {},
   "outputs": [
    {
     "data": {
      "text/html": [
       "\n",
       "        <table>\n",
       "            <tr>\n",
       "                <td><strong>Reaction identifier</strong></td><td>EX_FAKE_fad[e]</td>\n",
       "            </tr><tr>\n",
       "                <td><strong>Name</strong></td><td>fake exchange</td>\n",
       "            </tr><tr>\n",
       "                <td><strong>Memory address</strong></td>\n",
       "                <td>0x7fe6e6ba1510</td>\n",
       "            </tr><tr>\n",
       "                <td><strong>Stoichiometry</strong></td>\n",
       "                <td>\n",
       "                    <p style='text-align:right'>fad[e] <=></p>\n",
       "                    <p style='text-align:right'>Flavin adenine dinucleotide oxidized <=></p>\n",
       "                </td>\n",
       "            </tr><tr>\n",
       "                <td><strong>GPR</strong></td><td></td>\n",
       "            </tr><tr>\n",
       "                <td><strong>Lower bound</strong></td><td>-1000.0</td>\n",
       "            </tr><tr>\n",
       "                <td><strong>Upper bound</strong></td><td>1000.0</td>\n",
       "            </tr>\n",
       "        </table>\n",
       "        "
      ],
      "text/plain": [
       "<Reaction EX_FAKE_fad[e] at 0x7fe6e6ba1510>"
      ]
     },
     "execution_count": 47,
     "metadata": {},
     "output_type": "execute_result"
    }
   ],
   "source": [
    "minimal_model.reactions.get_by_id(\"EX_FAKE_fad[e]\")"
   ]
  },
  {
   "cell_type": "code",
   "execution_count": 48,
   "metadata": {},
   "outputs": [
    {
     "data": {
      "text/plain": [
       "{'EX_glc_D(e)': 1000.0,\n",
       " 'EX_fru(e)': 1000.0,\n",
       " 'EX_ac(e)': 1000.0,\n",
       " 'EX_cit(e)': 1000.0,\n",
       " 'EX_gcald(e)': 1000.0,\n",
       " 'EX_glyclt(e)': 1000.0,\n",
       " 'EX_h2o(e)': 1000.0,\n",
       " 'EX_h(e)': 1000.0,\n",
       " 'EX_co2(e)': 1000.0,\n",
       " 'EX_pi(e)': 1000.0,\n",
       " 'EX_for(e)': 1000.0,\n",
       " 'EX_acald(e)': 1000.0,\n",
       " 'EX_lac_D(e)': 1000.0,\n",
       " 'EX_C02528(e)': 1000.0,\n",
       " 'EX_7dhcdchol(e)': 1000.0,\n",
       " 'EX_FAKE_fad[e]': 1000.0,\n",
       " 'EX_FAKE_fadh2[e]': 1000.0,\n",
       " 'EX_FAKE_nad[e]': 1000.0,\n",
       " 'EX_FAKE_nadh[e]': 1000.0}"
      ]
     },
     "execution_count": 48,
     "metadata": {},
     "output_type": "execute_result"
    }
   ],
   "source": [
    "minimal_model.medium"
   ]
  },
  {
   "cell_type": "code",
   "execution_count": 49,
   "metadata": {},
   "outputs": [],
   "source": [
    "minimal_model.reactions.get_by_id(\"EX_glc_D(e)\").lower_bound = -1.0\n",
    "minimal_model.reactions.get_by_id(\"EX_fru(e)\").lower_bound = -1.0\n",
    "minimal_model.reactions.get_by_id(\"EX_h(e)\").lower_bound = -1.0\n",
    "minimal_model.reactions.get_by_id(\"EX_ac(e)\").lower_bound = 0.0\n",
    "minimal_model.reactions.get_by_id(\"EX_for(e)\").lower_bound = 0.0\n",
    "minimal_model.reactions.get_by_id(\"EX_acald(e)\").lower_bound = 0.0\n",
    "minimal_model.reactions.get_by_id(\"EX_lac_D(e)\").lower_bound = 0.0"
   ]
  },
  {
   "cell_type": "code",
   "execution_count": 50,
   "metadata": {},
   "outputs": [
    {
     "data": {
      "text/plain": [
       "{'EX_glc_D(e)': 1.0,\n",
       " 'EX_fru(e)': 1.0,\n",
       " 'EX_cit(e)': 1000.0,\n",
       " 'EX_gcald(e)': 1000.0,\n",
       " 'EX_glyclt(e)': 1000.0,\n",
       " 'EX_h2o(e)': 1000.0,\n",
       " 'EX_h(e)': 1.0,\n",
       " 'EX_co2(e)': 1000.0,\n",
       " 'EX_pi(e)': 1000.0,\n",
       " 'EX_C02528(e)': 1000.0,\n",
       " 'EX_7dhcdchol(e)': 1000.0,\n",
       " 'EX_FAKE_fad[e]': 1000.0,\n",
       " 'EX_FAKE_fadh2[e]': 1000.0,\n",
       " 'EX_FAKE_nad[e]': 1000.0,\n",
       " 'EX_FAKE_nadh[e]': 1000.0}"
      ]
     },
     "execution_count": 50,
     "metadata": {},
     "output_type": "execute_result"
    }
   ],
   "source": [
    "minimal_model.medium"
   ]
  },
  {
   "cell_type": "code",
   "execution_count": 56,
   "metadata": {},
   "outputs": [],
   "source": [
    "minimal_model.reactions.get_by_id(\"EX_glc_D(e)\").lower_bound = -1000.0\n",
    "minimal_model.reactions.get_by_id(\"EX_fru(e)\").lower_bound = -1000.0\n",
    "minimal_model.reactions.get_by_id(\"EX_ac(e)\").lower_bound = -1000.0\n",
    "minimal_model.reactions.get_by_id(\"EX_h2o(e)\").lower_bound = -1000.0\n",
    "minimal_model.reactions.get_by_id(\"EX_h(e)\").lower_bound = -1000.0\n",
    "minimal_model.reactions.get_by_id(\"EX_co2(e)\").lower_bound = -1000.0\n",
    "minimal_model.reactions.get_by_id(\"EX_pi(e)\").lower_bound = -1000.0\n",
    "minimal_model.reactions.get_by_id(\"EX_for(e)\").lower_bound = -1000.0\n",
    "minimal_model.reactions.get_by_id(\"EX_acald(e)\").lower_bound = -1000.0\n",
    "minimal_model.reactions.get_by_id(\"EX_lac_D(e)\").lower_bound = -1000.0\n",
    "minimal_model.reactions.get_by_id(\"EX_FAKE_fad[e]\").lower_bound = -1000.0\n",
    "minimal_model.reactions.get_by_id(\"EX_FAKE_fadh2[e]\").lower_bound = -1000.0\n",
    "minimal_model.reactions.get_by_id(\"EX_FAKE_nad[e]\").lower_bound = -1000.0\n",
    "minimal_model.reactions.get_by_id(\"EX_FAKE_nadh[e]\").lower_bound = -1000.0"
   ]
  },
  {
   "cell_type": "code",
   "execution_count": 57,
   "metadata": {},
   "outputs": [],
   "source": [
    "minimal_model.objective = \"EX_lac_D(e)\""
   ]
  },
  {
   "cell_type": "code",
   "execution_count": 58,
   "metadata": {},
   "outputs": [],
   "source": [
    "fva_res = cobra.flux_analysis.flux_variability_analysis(minimal_model,fraction_of_optimum=0.0)"
   ]
  },
  {
   "cell_type": "code",
   "execution_count": 60,
   "metadata": {},
   "outputs": [
    {
     "data": {
      "text/html": [
       "<div>\n",
       "<style scoped>\n",
       "    .dataframe tbody tr th:only-of-type {\n",
       "        vertical-align: middle;\n",
       "    }\n",
       "\n",
       "    .dataframe tbody tr th {\n",
       "        vertical-align: top;\n",
       "    }\n",
       "\n",
       "    .dataframe thead th {\n",
       "        text-align: right;\n",
       "    }\n",
       "</style>\n",
       "<table border=\"1\" class=\"dataframe\">\n",
       "  <thead>\n",
       "    <tr style=\"text-align: right;\">\n",
       "      <th></th>\n",
       "      <th>minimum</th>\n",
       "      <th>maximum</th>\n",
       "    </tr>\n",
       "  </thead>\n",
       "  <tbody>\n",
       "    <tr>\n",
       "      <th>EX_glc_D(e)</th>\n",
       "      <td>0.0</td>\n",
       "      <td>0.0</td>\n",
       "    </tr>\n",
       "    <tr>\n",
       "      <th>EX_fru(e)</th>\n",
       "      <td>0.0</td>\n",
       "      <td>0.0</td>\n",
       "    </tr>\n",
       "    <tr>\n",
       "      <th>EX_ac(e)</th>\n",
       "      <td>-500.0</td>\n",
       "      <td>1000.0</td>\n",
       "    </tr>\n",
       "    <tr>\n",
       "      <th>EX_cit(e)</th>\n",
       "      <td>-1000.0</td>\n",
       "      <td>0.0</td>\n",
       "    </tr>\n",
       "    <tr>\n",
       "      <th>EX_gcald(e)</th>\n",
       "      <td>-1000.0</td>\n",
       "      <td>1000.0</td>\n",
       "    </tr>\n",
       "    <tr>\n",
       "      <th>...</th>\n",
       "      <td>...</td>\n",
       "      <td>...</td>\n",
       "    </tr>\n",
       "    <tr>\n",
       "      <th>EX_FAKE_fadh2[e]</th>\n",
       "      <td>0.0</td>\n",
       "      <td>1000.0</td>\n",
       "    </tr>\n",
       "    <tr>\n",
       "      <th>FAKE_tr_nad[c]</th>\n",
       "      <td>0.0</td>\n",
       "      <td>0.0</td>\n",
       "    </tr>\n",
       "    <tr>\n",
       "      <th>EX_FAKE_nad[e]</th>\n",
       "      <td>0.0</td>\n",
       "      <td>0.0</td>\n",
       "    </tr>\n",
       "    <tr>\n",
       "      <th>FAKE_tr_nadh[c]</th>\n",
       "      <td>0.0</td>\n",
       "      <td>0.0</td>\n",
       "    </tr>\n",
       "    <tr>\n",
       "      <th>EX_FAKE_nadh[e]</th>\n",
       "      <td>0.0</td>\n",
       "      <td>0.0</td>\n",
       "    </tr>\n",
       "  </tbody>\n",
       "</table>\n",
       "<p>79 rows × 2 columns</p>\n",
       "</div>"
      ],
      "text/plain": [
       "                  minimum  maximum\n",
       "EX_glc_D(e)           0.0      0.0\n",
       "EX_fru(e)             0.0      0.0\n",
       "EX_ac(e)           -500.0   1000.0\n",
       "EX_cit(e)         -1000.0      0.0\n",
       "EX_gcald(e)       -1000.0   1000.0\n",
       "...                   ...      ...\n",
       "EX_FAKE_fadh2[e]      0.0   1000.0\n",
       "FAKE_tr_nad[c]        0.0      0.0\n",
       "EX_FAKE_nad[e]        0.0      0.0\n",
       "FAKE_tr_nadh[c]       0.0      0.0\n",
       "EX_FAKE_nadh[e]       0.0      0.0\n",
       "\n",
       "[79 rows x 2 columns]"
      ]
     },
     "execution_count": 60,
     "metadata": {},
     "output_type": "execute_result"
    }
   ],
   "source": [
    "fva_res"
   ]
  },
  {
   "cell_type": "code",
   "execution_count": 66,
   "metadata": {},
   "outputs": [
    {
     "name": "stdout",
     "output_type": "stream",
     "text": [
      "EX_glc_D(e)\n",
      "EX_fru(e)\n",
      "EX_h2o(e)\n",
      "EX_pi(e)\n",
      "ALCD2x\n",
      "ETOHt\n",
      "ENO\n",
      "PGM\n",
      "PGK\n",
      "GAPD\n",
      "TPI\n",
      "FBA\n",
      "GLCpts\n",
      "FRUpts\n",
      "ACS\n",
      "FRD3\n",
      "ICL\n",
      "FUM\n",
      "r0556ci\n",
      "3CARLPDH\n",
      "ICDHy\n",
      "r0163c\n",
      "SUCOAS\n",
      "FAKE_tr_nad[c]\n",
      "EX_FAKE_nad[e]\n",
      "FAKE_tr_nadh[c]\n",
      "EX_FAKE_nadh[e]\n"
     ]
    }
   ],
   "source": [
    "reac_ids_toremove = []\n",
    "for reac in fva_res.index:\n",
    "    if fva_res.loc[reac,\"minimum\"] == 0 and fva_res.loc[reac,\"maximum\"] == 0:\n",
    "        print(reac)\n",
    "\n"
   ]
  },
  {
   "cell_type": "code",
   "execution_count": 67,
   "metadata": {},
   "outputs": [
    {
     "name": "stderr",
     "output_type": "stream",
     "text": [
      "/home/stefano/.conda/envs/modelmerge/lib/python3.10/site-packages/cobra/core/model.py:787: UserWarning: EX_glc_D(e) not in minimal_model\n",
      "  warn(f\"{reaction} not in {self}\")\n",
      "/home/stefano/.conda/envs/modelmerge/lib/python3.10/site-packages/cobra/core/model.py:787: UserWarning: EX_fru(e) not in minimal_model\n",
      "  warn(f\"{reaction} not in {self}\")\n",
      "/home/stefano/.conda/envs/modelmerge/lib/python3.10/site-packages/cobra/core/model.py:787: UserWarning: ALCD2x not in minimal_model\n",
      "  warn(f\"{reaction} not in {self}\")\n",
      "/home/stefano/.conda/envs/modelmerge/lib/python3.10/site-packages/cobra/core/model.py:787: UserWarning: ETOHt not in minimal_model\n",
      "  warn(f\"{reaction} not in {self}\")\n",
      "/home/stefano/.conda/envs/modelmerge/lib/python3.10/site-packages/cobra/core/model.py:787: UserWarning: ENO not in minimal_model\n",
      "  warn(f\"{reaction} not in {self}\")\n",
      "/home/stefano/.conda/envs/modelmerge/lib/python3.10/site-packages/cobra/core/model.py:787: UserWarning: PGM not in minimal_model\n",
      "  warn(f\"{reaction} not in {self}\")\n",
      "/home/stefano/.conda/envs/modelmerge/lib/python3.10/site-packages/cobra/core/model.py:787: UserWarning: PGK not in minimal_model\n",
      "  warn(f\"{reaction} not in {self}\")\n",
      "/home/stefano/.conda/envs/modelmerge/lib/python3.10/site-packages/cobra/core/model.py:787: UserWarning: GAPD not in minimal_model\n",
      "  warn(f\"{reaction} not in {self}\")\n",
      "/home/stefano/.conda/envs/modelmerge/lib/python3.10/site-packages/cobra/core/model.py:787: UserWarning: TPI not in minimal_model\n",
      "  warn(f\"{reaction} not in {self}\")\n",
      "/home/stefano/.conda/envs/modelmerge/lib/python3.10/site-packages/cobra/core/model.py:787: UserWarning: FBA not in minimal_model\n",
      "  warn(f\"{reaction} not in {self}\")\n"
     ]
    }
   ],
   "source": [
    "minimal_model.remove_reactions([\"EX_glc_D(e)\",\"EX_fru(e)\",\"ALCD2x\",\n",
    "                                \"ETOHt\",\"ENO\",\"PGM\",\"PGK\",\"GAPD\",\"TPI\",\n",
    "                                \"FBA\"])\n",
    "#GLCpts\n",
    "#FRUpts\n",
    "#ACS\n",
    "#FRD3\n",
    "#ICL\n",
    "#FUM\n",
    "#r0556ci\n",
    "#3CARLPDH\n",
    "#ICDHy\n",
    "#r0163c\n",
    "#SUCOAS\n",
    "#FAKE_tr_nad[c]\n",
    "#EX_FAKE_nad[e]\n",
    "#FAKE_tr_nadh[c]\n",
    "#EX_FAKE_nadh[e]])"
   ]
  },
  {
   "cell_type": "code",
   "execution_count": 70,
   "metadata": {},
   "outputs": [
    {
     "data": {
      "text/html": [
       "\n",
       "        <table>\n",
       "            <tr>\n",
       "                <td><strong>Name</strong></td>\n",
       "                <td>minimal_model</td>\n",
       "            </tr><tr>\n",
       "                <td><strong>Memory address</strong></td>\n",
       "                <td>7fe6e6abea70</td>\n",
       "            </tr><tr>\n",
       "                <td><strong>Number of metabolites</strong></td>\n",
       "                <td>76</td>\n",
       "            </tr><tr>\n",
       "                <td><strong>Number of reactions</strong></td>\n",
       "                <td>52</td>\n",
       "            </tr><tr>\n",
       "                <td><strong>Number of genes</strong></td>\n",
       "                <td>0</td>\n",
       "            </tr><tr>\n",
       "                <td><strong>Number of groups</strong></td>\n",
       "                <td>7</td>\n",
       "            </tr><tr>\n",
       "                <td><strong>Objective expression</strong></td>\n",
       "                <td>1.0*EX_lac_D(e) - 1.0*EX_lac_D(e)_reverse_b1bb0</td>\n",
       "            </tr><tr>\n",
       "                <td><strong>Compartments</strong></td>\n",
       "                <td>e, c</td>\n",
       "            </tr>\n",
       "          </table>"
      ],
      "text/plain": [
       "<Model minimal_model at 0x7fe6e6abea70>"
      ]
     },
     "execution_count": 70,
     "metadata": {},
     "output_type": "execute_result"
    }
   ],
   "source": [
    "minimal_model"
   ]
  },
  {
   "cell_type": "code",
   "execution_count": null,
   "metadata": {},
   "outputs": [],
   "source": [
    "#TODO prune unusee metabolites"
   ]
  },
  {
   "cell_type": "code",
   "execution_count": 55,
   "metadata": {},
   "outputs": [
    {
     "data": {
      "text/html": [
       "<div>\n",
       "<style scoped>\n",
       "    .dataframe tbody tr th:only-of-type {\n",
       "        vertical-align: middle;\n",
       "    }\n",
       "\n",
       "    .dataframe tbody tr th {\n",
       "        vertical-align: top;\n",
       "    }\n",
       "\n",
       "    .dataframe thead th {\n",
       "        text-align: right;\n",
       "    }\n",
       "</style>\n",
       "<table border=\"1\" class=\"dataframe\">\n",
       "  <thead>\n",
       "    <tr style=\"text-align: right;\">\n",
       "      <th></th>\n",
       "      <th>minimum</th>\n",
       "      <th>maximum</th>\n",
       "    </tr>\n",
       "  </thead>\n",
       "  <tbody>\n",
       "    <tr>\n",
       "      <th>EX_glc_D(e)</th>\n",
       "      <td>0.0</td>\n",
       "      <td>0.0</td>\n",
       "    </tr>\n",
       "    <tr>\n",
       "      <th>EX_fru(e)</th>\n",
       "      <td>0.0</td>\n",
       "      <td>0.0</td>\n",
       "    </tr>\n",
       "    <tr>\n",
       "      <th>EX_ac(e)</th>\n",
       "      <td>0.0</td>\n",
       "      <td>2.0</td>\n",
       "    </tr>\n",
       "    <tr>\n",
       "      <th>EX_cit(e)</th>\n",
       "      <td>-1.0</td>\n",
       "      <td>0.0</td>\n",
       "    </tr>\n",
       "    <tr>\n",
       "      <th>EX_gcald(e)</th>\n",
       "      <td>-1.0</td>\n",
       "      <td>1.0</td>\n",
       "    </tr>\n",
       "    <tr>\n",
       "      <th>...</th>\n",
       "      <td>...</td>\n",
       "      <td>...</td>\n",
       "    </tr>\n",
       "    <tr>\n",
       "      <th>EX_FAKE_fadh2[e]</th>\n",
       "      <td>0.0</td>\n",
       "      <td>1000.0</td>\n",
       "    </tr>\n",
       "    <tr>\n",
       "      <th>FAKE_tr_nad[c]</th>\n",
       "      <td>0.0</td>\n",
       "      <td>0.0</td>\n",
       "    </tr>\n",
       "    <tr>\n",
       "      <th>EX_FAKE_nad[e]</th>\n",
       "      <td>0.0</td>\n",
       "      <td>0.0</td>\n",
       "    </tr>\n",
       "    <tr>\n",
       "      <th>FAKE_tr_nadh[c]</th>\n",
       "      <td>0.0</td>\n",
       "      <td>0.0</td>\n",
       "    </tr>\n",
       "    <tr>\n",
       "      <th>EX_FAKE_nadh[e]</th>\n",
       "      <td>0.0</td>\n",
       "      <td>0.0</td>\n",
       "    </tr>\n",
       "  </tbody>\n",
       "</table>\n",
       "<p>79 rows × 2 columns</p>\n",
       "</div>"
      ],
      "text/plain": [
       "                  minimum  maximum\n",
       "EX_glc_D(e)           0.0      0.0\n",
       "EX_fru(e)             0.0      0.0\n",
       "EX_ac(e)              0.0      2.0\n",
       "EX_cit(e)            -1.0      0.0\n",
       "EX_gcald(e)          -1.0      1.0\n",
       "...                   ...      ...\n",
       "EX_FAKE_fadh2[e]      0.0   1000.0\n",
       "FAKE_tr_nad[c]        0.0      0.0\n",
       "EX_FAKE_nad[e]        0.0      0.0\n",
       "FAKE_tr_nadh[c]       0.0      0.0\n",
       "EX_FAKE_nadh[e]       0.0      0.0\n",
       "\n",
       "[79 rows x 2 columns]"
      ]
     },
     "execution_count": 55,
     "metadata": {},
     "output_type": "execute_result"
    }
   ],
   "source": [
    "fva_res"
   ]
  },
  {
   "cell_type": "code",
   "execution_count": 52,
   "metadata": {},
   "outputs": [
    {
     "data": {
      "text/html": [
       "<strong><em>Optimal</em> solution with objective value 1.000</strong><br><div>\n",
       "<style scoped>\n",
       "    .dataframe tbody tr th:only-of-type {\n",
       "        vertical-align: middle;\n",
       "    }\n",
       "\n",
       "    .dataframe tbody tr th {\n",
       "        vertical-align: top;\n",
       "    }\n",
       "\n",
       "    .dataframe thead th {\n",
       "        text-align: right;\n",
       "    }\n",
       "</style>\n",
       "<table border=\"1\" class=\"dataframe\">\n",
       "  <thead>\n",
       "    <tr style=\"text-align: right;\">\n",
       "      <th></th>\n",
       "      <th>fluxes</th>\n",
       "      <th>reduced_costs</th>\n",
       "    </tr>\n",
       "  </thead>\n",
       "  <tbody>\n",
       "    <tr>\n",
       "      <th>EX_glc_D(e)</th>\n",
       "      <td>0.0</td>\n",
       "      <td>-0.0</td>\n",
       "    </tr>\n",
       "    <tr>\n",
       "      <th>EX_fru(e)</th>\n",
       "      <td>0.0</td>\n",
       "      <td>-0.0</td>\n",
       "    </tr>\n",
       "    <tr>\n",
       "      <th>EX_ac(e)</th>\n",
       "      <td>1.0</td>\n",
       "      <td>0.0</td>\n",
       "    </tr>\n",
       "    <tr>\n",
       "      <th>EX_cit(e)</th>\n",
       "      <td>-1.0</td>\n",
       "      <td>-0.0</td>\n",
       "    </tr>\n",
       "    <tr>\n",
       "      <th>EX_gcald(e)</th>\n",
       "      <td>0.0</td>\n",
       "      <td>-0.0</td>\n",
       "    </tr>\n",
       "    <tr>\n",
       "      <th>...</th>\n",
       "      <td>...</td>\n",
       "      <td>...</td>\n",
       "    </tr>\n",
       "    <tr>\n",
       "      <th>EX_FAKE_fadh2[e]</th>\n",
       "      <td>0.0</td>\n",
       "      <td>-0.0</td>\n",
       "    </tr>\n",
       "    <tr>\n",
       "      <th>FAKE_tr_nad[c]</th>\n",
       "      <td>0.0</td>\n",
       "      <td>-0.0</td>\n",
       "    </tr>\n",
       "    <tr>\n",
       "      <th>EX_FAKE_nad[e]</th>\n",
       "      <td>0.0</td>\n",
       "      <td>-0.0</td>\n",
       "    </tr>\n",
       "    <tr>\n",
       "      <th>FAKE_tr_nadh[c]</th>\n",
       "      <td>0.0</td>\n",
       "      <td>0.0</td>\n",
       "    </tr>\n",
       "    <tr>\n",
       "      <th>EX_FAKE_nadh[e]</th>\n",
       "      <td>0.0</td>\n",
       "      <td>0.0</td>\n",
       "    </tr>\n",
       "  </tbody>\n",
       "</table>\n",
       "<p>79 rows × 2 columns</p>\n",
       "</div>"
      ],
      "text/plain": [
       "<Solution 1.000 at 0x7fe6e6ba3190>"
      ]
     },
     "execution_count": 52,
     "metadata": {},
     "output_type": "execute_result"
    }
   ],
   "source": [
    "sol = minimal_model.optimize()\n",
    "sol"
   ]
  },
  {
   "cell_type": "code",
   "execution_count": 53,
   "metadata": {},
   "outputs": [
    {
     "name": "stdout",
     "output_type": "stream",
     "text": [
      "('EX_ac(e)', 1.0)\n",
      "('EX_cit(e)', -1.0)\n",
      "('EX_h(e)', -1.0)\n",
      "('EX_co2(e)', 1.0)\n",
      "('EX_lac_D(e)', 1.0)\n",
      "('LDH_D', -1.0)\n",
      "('D_LACt2', -1.0)\n",
      "('PYK', 1.0)\n",
      "('ACt2r', -1.0)\n",
      "('CITt7', 1.0)\n",
      "('CO2t', -1.0)\n",
      "('SUCCt2_3', 1.0)\n",
      "('CDCA7aHSDHe', 1.0)\n",
      "('EX_C02528(e)', -1.0)\n",
      "('EX_7dhcdchol(e)', 1.0)\n",
      "('PPCK', 1.0)\n",
      "('CITL', 1.0)\n"
     ]
    }
   ],
   "source": [
    "for fl in sol.fluxes.items():\n",
    "    if fl[1] !=0:\n",
    "        print(fl)"
   ]
  },
  {
   "cell_type": "code",
   "execution_count": 61,
   "metadata": {},
   "outputs": [
    {
     "name": "stdout",
     "output_type": "stream",
     "text": [
      "('ACt2r', -1000.0)\n",
      "('CDCA7aHSDHe', 1000.0)\n",
      "('CITL', 1000.0)\n",
      "('CITt7', 1000.0)\n",
      "('CO2t', -1000.0)\n",
      "('D_LACt2', -1000.0)\n",
      "('EX_7dhcdchol(e)', 1000.0)\n",
      "('EX_C02528(e)', -1000.0)\n",
      "('EX_ac(e)', 1000.0)\n",
      "('EX_cit(e)', -1000.0)\n",
      "('EX_co2(e)', 1000.0)\n",
      "('EX_h(e)', -1000.0)\n",
      "('EX_lac_D(e)', 1000.0)\n",
      "('LDH_D', -1000.0)\n",
      "('PPCK', 1000.0)\n",
      "('PYK', 1000.0)\n",
      "('SUCCt2_3', 1000.0)\n"
     ]
    }
   ],
   "source": [
    "model.objective = \"EX_lac_D(e)\"\n",
    "sol = model.optimize()\n",
    "for fl in sol.fluxes.items():\n",
    "    if fl[1] !=0:\n",
    "        print(fl)"
   ]
  },
  {
   "cell_type": "code",
   "execution_count": 30,
   "metadata": {},
   "outputs": [
    {
     "data": {
      "text/plain": [
       "{'EX_glc_D(e)': 1000.0,\n",
       " 'EX_fru(e)': 1000.0,\n",
       " 'EX_ac(e)': 1000.0,\n",
       " 'EX_h2o(e)': 1000.0,\n",
       " 'EX_co2(e)': 1000.0,\n",
       " 'EX_pi(e)': 1000.0,\n",
       " 'EX_for(e)': 1000.0,\n",
       " 'EX_acald(e)': 1000.0,\n",
       " 'EX_lac_D(e)': 1000.0}"
      ]
     },
     "execution_count": 30,
     "metadata": {},
     "output_type": "execute_result"
    }
   ],
   "source": [
    "minimal_model.medium"
   ]
  },
  {
   "cell_type": "code",
   "execution_count": null,
   "metadata": {},
   "outputs": [],
   "source": []
  },
  {
   "cell_type": "code",
   "execution_count": null,
   "metadata": {},
   "outputs": [],
   "source": []
  },
  {
   "cell_type": "code",
   "execution_count": null,
   "metadata": {},
   "outputs": [],
   "source": []
  },
  {
   "cell_type": "code",
   "execution_count": 52,
   "metadata": {},
   "outputs": [
    {
     "data": {
      "text/html": [
       "\n",
       "        <table>\n",
       "            <tr>\n",
       "                <td><strong>Reaction identifier</strong></td><td>biomass456</td>\n",
       "            </tr><tr>\n",
       "                <td><strong>Name</strong></td><td>biomass456</td>\n",
       "            </tr><tr>\n",
       "                <td><strong>Memory address</strong></td>\n",
       "                <td>0x7fe9b17a8dc0</td>\n",
       "            </tr><tr>\n",
       "                <td><strong>Stoichiometry</strong></td>\n",
       "                <td>\n",
       "                    <p style='text-align:right'>0.0030965 10fthf[c] + 0.0030965 2dmmq8[c] + 0.0030965 5mthf[c] + 0.0030965 ACP[c] + 0.025011 PGP[c] + 0.0030965 adocbl[c] + 0.42793 ala_L[c] + 0.0030965 amet[c] + 0.2467 arg_L[c] + 0.20083 asn_L[c]...</p>\n",
       "                    <p style='text-align:right'>0.0030965 10-Formyltetrahydrofolate + 0.0030965 2-Demethylmenaquinone 8 + 0.0030965 5-Methyltetrahydrofolate + 0.0030965 acyl carrier protein + 0.025011 Peptidoglycan polymer (n subunits) +...</p>\n",
       "                </td>\n",
       "            </tr><tr>\n",
       "                <td><strong>GPR</strong></td><td></td>\n",
       "            </tr><tr>\n",
       "                <td><strong>Lower bound</strong></td><td>0.0</td>\n",
       "            </tr><tr>\n",
       "                <td><strong>Upper bound</strong></td><td>1000.0</td>\n",
       "            </tr>\n",
       "        </table>\n",
       "        "
      ],
      "text/plain": [
       "<Reaction biomass456 at 0x7fe9b17a8dc0>"
      ]
     },
     "execution_count": 52,
     "metadata": {},
     "output_type": "execute_result"
    }
   ],
   "source": [
    "model.reactions.get_by_id(\"biomass456\")"
   ]
  },
  {
   "cell_type": "markdown",
   "metadata": {},
   "source": [
    "<H1>Save model</H1>"
   ]
  },
  {
   "cell_type": "code",
   "execution_count": 47,
   "metadata": {},
   "outputs": [],
   "source": [
    "cobra.io.write_sbml_model(metamodel,\"\")"
   ]
  }
 ],
 "metadata": {
  "kernelspec": {
   "display_name": "Python Mamba modelmerge",
   "language": "python",
   "name": "modelmerge"
  },
  "language_info": {
   "codemirror_mode": {
    "name": "ipython",
    "version": 3
   },
   "file_extension": ".py",
   "mimetype": "text/x-python",
   "name": "python",
   "nbconvert_exporter": "python",
   "pygments_lexer": "ipython3",
   "version": "3.10.6"
  }
 },
 "nbformat": 4,
 "nbformat_minor": 2
}
