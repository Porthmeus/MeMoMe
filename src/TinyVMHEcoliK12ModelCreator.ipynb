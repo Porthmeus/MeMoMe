{
 "cells": [
  {
   "cell_type": "code",
   "execution_count": 1,
   "metadata": {},
   "outputs": [],
   "source": [
    "import cobra\n",
    "import pandas as pd\n",
    "import os"
   ]
  },
  {
   "cell_type": "code",
   "execution_count": 2,
   "metadata": {},
   "outputs": [
    {
     "name": "stdout",
     "output_type": "stream",
     "text": [
      "Set parameter Username\n",
      "Academic license - for non-commercial use only - expires 2024-06-26\n"
     ]
    },
    {
     "data": {
      "text/html": [
       "\n",
       "        <table>\n",
       "            <tr>\n",
       "                <td><strong>Name</strong></td>\n",
       "                <td>Escherichia_coli_str_K_12_substr_MG1655</td>\n",
       "            </tr><tr>\n",
       "                <td><strong>Memory address</strong></td>\n",
       "                <td>7f80adf8e680</td>\n",
       "            </tr><tr>\n",
       "                <td><strong>Number of metabolites</strong></td>\n",
       "                <td>1625</td>\n",
       "            </tr><tr>\n",
       "                <td><strong>Number of reactions</strong></td>\n",
       "                <td>2313</td>\n",
       "            </tr><tr>\n",
       "                <td><strong>Number of genes</strong></td>\n",
       "                <td>1205</td>\n",
       "            </tr><tr>\n",
       "                <td><strong>Number of groups</strong></td>\n",
       "                <td>78</td>\n",
       "            </tr><tr>\n",
       "                <td><strong>Objective expression</strong></td>\n",
       "                <td>1.0*biomass525 - 1.0*biomass525_reverse_5c178</td>\n",
       "            </tr><tr>\n",
       "                <td><strong>Compartments</strong></td>\n",
       "                <td>Cytoplasm, Extracellular</td>\n",
       "            </tr>\n",
       "          </table>"
      ],
      "text/plain": [
       "<Model Escherichia_coli_str_K_12_substr_MG1655 at 0x7f80adf8e680>"
      ]
     },
     "execution_count": 2,
     "metadata": {},
     "output_type": "execute_result"
    }
   ],
   "source": [
    "model = cobra.io.read_sbml_model(\"../tests/dat/e_coli_vmh.xml\")\n",
    "model"
   ]
  },
  {
   "cell_type": "code",
   "execution_count": 3,
   "metadata": {},
   "outputs": [
    {
     "data": {
      "text/plain": [
       "{'EX_12ppd_S(e)': 1000.0,\n",
       " 'EX_15dap(e)': 1000.0,\n",
       " 'EX_2ddglcn(e)': 1000.0,\n",
       " 'EX_3hpppn(e)': 1000.0,\n",
       " 'EX_4abut(e)': 1000.0,\n",
       " 'EX_4hbz(e)': 1000.0,\n",
       " 'EX_4hoxpacd(e)': 1000.0,\n",
       " 'EX_7dhcdchol(e)': 1000.0,\n",
       " 'EX_7ocholate(e)': 1000.0,\n",
       " 'EX_C02528(e)': 1000.0,\n",
       " 'EX_Lcyst(e)': 1000.0,\n",
       " 'EX_MGlcn100(e)': 1000.0,\n",
       " 'EX_MGlcn100_rl(e)': 1000.0,\n",
       " 'EX_MGlcn101(e)': 1000.0,\n",
       " 'EX_MGlcn101_rl(e)': 1000.0,\n",
       " 'EX_MGlcn102(e)': 1000.0,\n",
       " 'EX_MGlcn102_rl(e)': 1000.0,\n",
       " 'EX_MGlcn104(e)': 1000.0,\n",
       " 'EX_MGlcn104_rl(e)': 1000.0,\n",
       " 'EX_MGlcn105(e)': 1000.0,\n",
       " 'EX_MGlcn105_rl(e)': 1000.0,\n",
       " 'EX_MGlcn106(e)': 1000.0,\n",
       " 'EX_MGlcn106_rl(e)': 1000.0,\n",
       " 'EX_MGlcn107(e)': 1000.0,\n",
       " 'EX_MGlcn107_rl(e)': 1000.0,\n",
       " 'EX_MGlcn109(e)': 1000.0,\n",
       " 'EX_MGlcn109_rl(e)': 1000.0,\n",
       " 'EX_MGlcn110(e)': 1000.0,\n",
       " 'EX_MGlcn110_rl(e)': 1000.0,\n",
       " 'EX_MGlcn111(e)': 1000.0,\n",
       " 'EX_MGlcn111_rl(e)': 1000.0,\n",
       " 'EX_MGlcn112(e)': 1000.0,\n",
       " 'EX_MGlcn112_rl(e)': 1000.0,\n",
       " 'EX_MGlcn113(e)': 1000.0,\n",
       " 'EX_MGlcn113_rl(e)': 1000.0,\n",
       " 'EX_MGlcn114(e)': 1000.0,\n",
       " 'EX_MGlcn114_rl(e)': 1000.0,\n",
       " 'EX_MGlcn115(e)': 1000.0,\n",
       " 'EX_MGlcn115_rl(e)': 1000.0,\n",
       " 'EX_MGlcn117(e)': 1000.0,\n",
       " 'EX_MGlcn117_rl(e)': 1000.0,\n",
       " 'EX_MGlcn12(e)': 1000.0,\n",
       " 'EX_MGlcn120(e)': 1000.0,\n",
       " 'EX_MGlcn120_rl(e)': 1000.0,\n",
       " 'EX_MGlcn126(e)': 1000.0,\n",
       " 'EX_MGlcn126_rl(e)': 1000.0,\n",
       " 'EX_MGlcn12_rl(e)': 1000.0,\n",
       " 'EX_MGlcn13(e)': 1000.0,\n",
       " 'EX_MGlcn130(e)': 1000.0,\n",
       " 'EX_MGlcn130_rl(e)': 1000.0,\n",
       " 'EX_MGlcn131(e)': 1000.0,\n",
       " 'EX_MGlcn131_rl(e)': 1000.0,\n",
       " 'EX_MGlcn137(e)': 1000.0,\n",
       " 'EX_MGlcn137_rl(e)': 1000.0,\n",
       " 'EX_MGlcn138(e)': 1000.0,\n",
       " 'EX_MGlcn138_rl(e)': 1000.0,\n",
       " 'EX_MGlcn139(e)': 1000.0,\n",
       " 'EX_MGlcn139_rl(e)': 1000.0,\n",
       " 'EX_MGlcn13_rl(e)': 1000.0,\n",
       " 'EX_MGlcn14(e)': 1000.0,\n",
       " 'EX_MGlcn140(e)': 1000.0,\n",
       " 'EX_MGlcn140_rl(e)': 1000.0,\n",
       " 'EX_MGlcn141(e)': 1000.0,\n",
       " 'EX_MGlcn141_rl(e)': 1000.0,\n",
       " 'EX_MGlcn142(e)': 1000.0,\n",
       " 'EX_MGlcn142_rl(e)': 1000.0,\n",
       " 'EX_MGlcn143(e)': 1000.0,\n",
       " 'EX_MGlcn143_rl(e)': 1000.0,\n",
       " 'EX_MGlcn144(e)': 1000.0,\n",
       " 'EX_MGlcn144_rl(e)': 1000.0,\n",
       " 'EX_MGlcn145(e)': 1000.0,\n",
       " 'EX_MGlcn145_rl(e)': 1000.0,\n",
       " 'EX_MGlcn146(e)': 1000.0,\n",
       " 'EX_MGlcn146_rl(e)': 1000.0,\n",
       " 'EX_MGlcn147(e)': 1000.0,\n",
       " 'EX_MGlcn147_rl(e)': 1000.0,\n",
       " 'EX_MGlcn148(e)': 1000.0,\n",
       " 'EX_MGlcn148_rl(e)': 1000.0,\n",
       " 'EX_MGlcn149(e)': 1000.0,\n",
       " 'EX_MGlcn149_rl(e)': 1000.0,\n",
       " 'EX_MGlcn14_rl(e)': 1000.0,\n",
       " 'EX_MGlcn150(e)': 1000.0,\n",
       " 'EX_MGlcn150_rl(e)': 1000.0,\n",
       " 'EX_MGlcn151(e)': 1000.0,\n",
       " 'EX_MGlcn151_rl(e)': 1000.0,\n",
       " 'EX_MGlcn152(e)': 1000.0,\n",
       " 'EX_MGlcn152_rl(e)': 1000.0,\n",
       " 'EX_MGlcn153(e)': 1000.0,\n",
       " 'EX_MGlcn153_rl(e)': 1000.0,\n",
       " 'EX_MGlcn154(e)': 1000.0,\n",
       " 'EX_MGlcn154_rl(e)': 1000.0,\n",
       " 'EX_MGlcn155(e)': 1000.0,\n",
       " 'EX_MGlcn155_rl(e)': 1000.0,\n",
       " 'EX_MGlcn156(e)': 1000.0,\n",
       " 'EX_MGlcn156_rl(e)': 1000.0,\n",
       " 'EX_MGlcn157(e)': 1000.0,\n",
       " 'EX_MGlcn157_rl(e)': 1000.0,\n",
       " 'EX_MGlcn158(e)': 1000.0,\n",
       " 'EX_MGlcn158_rl(e)': 1000.0,\n",
       " 'EX_MGlcn159(e)': 1000.0,\n",
       " 'EX_MGlcn159_rl(e)': 1000.0,\n",
       " 'EX_MGlcn16(e)': 1000.0,\n",
       " 'EX_MGlcn160(e)': 1000.0,\n",
       " 'EX_MGlcn160_rl(e)': 1000.0,\n",
       " 'EX_MGlcn161(e)': 1000.0,\n",
       " 'EX_MGlcn161_rl(e)': 1000.0,\n",
       " 'EX_MGlcn163(e)': 1000.0,\n",
       " 'EX_MGlcn163_rl(e)': 1000.0,\n",
       " 'EX_MGlcn164(e)': 1000.0,\n",
       " 'EX_MGlcn164_rl(e)': 1000.0,\n",
       " 'EX_MGlcn165(e)': 1000.0,\n",
       " 'EX_MGlcn165_rl(e)': 1000.0,\n",
       " 'EX_MGlcn166(e)': 1000.0,\n",
       " 'EX_MGlcn166_rl(e)': 1000.0,\n",
       " 'EX_MGlcn167(e)': 1000.0,\n",
       " 'EX_MGlcn167_rl(e)': 1000.0,\n",
       " 'EX_MGlcn168(e)': 1000.0,\n",
       " 'EX_MGlcn168_rl(e)': 1000.0,\n",
       " 'EX_MGlcn169(e)': 1000.0,\n",
       " 'EX_MGlcn169_rl(e)': 1000.0,\n",
       " 'EX_MGlcn16_rl(e)': 1000.0,\n",
       " 'EX_MGlcn170(e)': 1000.0,\n",
       " 'EX_MGlcn170_rl(e)': 1000.0,\n",
       " 'EX_MGlcn171(e)': 1000.0,\n",
       " 'EX_MGlcn171_rl(e)': 1000.0,\n",
       " 'EX_MGlcn172(e)': 1000.0,\n",
       " 'EX_MGlcn172_rl(e)': 1000.0,\n",
       " 'EX_MGlcn173(e)': 1000.0,\n",
       " 'EX_MGlcn173_rl(e)': 1000.0,\n",
       " 'EX_MGlcn174(e)': 1000.0,\n",
       " 'EX_MGlcn174_rl(e)': 1000.0,\n",
       " 'EX_MGlcn175(e)': 1000.0,\n",
       " 'EX_MGlcn175_rl(e)': 1000.0,\n",
       " 'EX_MGlcn176(e)': 1000.0,\n",
       " 'EX_MGlcn176_rl(e)': 1000.0,\n",
       " 'EX_MGlcn177(e)': 1000.0,\n",
       " 'EX_MGlcn177_rl(e)': 1000.0,\n",
       " 'EX_MGlcn178(e)': 1000.0,\n",
       " 'EX_MGlcn178_rl(e)': 1000.0,\n",
       " 'EX_MGlcn179(e)': 1000.0,\n",
       " 'EX_MGlcn179_rl(e)': 1000.0,\n",
       " 'EX_MGlcn18(e)': 1000.0,\n",
       " 'EX_MGlcn180(e)': 1000.0,\n",
       " 'EX_MGlcn180_rl(e)': 1000.0,\n",
       " 'EX_MGlcn181(e)': 1000.0,\n",
       " 'EX_MGlcn181_rl(e)': 1000.0,\n",
       " 'EX_MGlcn182(e)': 1000.0,\n",
       " 'EX_MGlcn182_rl(e)': 1000.0,\n",
       " 'EX_MGlcn18_rl(e)': 1000.0,\n",
       " 'EX_MGlcn195(e)': 1000.0,\n",
       " 'EX_MGlcn195_rl(e)': 1000.0,\n",
       " 'EX_MGlcn196(e)': 1000.0,\n",
       " 'EX_MGlcn196_rl(e)': 1000.0,\n",
       " 'EX_MGlcn2(e)': 1000.0,\n",
       " 'EX_MGlcn21(e)': 1000.0,\n",
       " 'EX_MGlcn21_rl(e)': 1000.0,\n",
       " 'EX_MGlcn22(e)': 1000.0,\n",
       " 'EX_MGlcn22_rl(e)': 1000.0,\n",
       " 'EX_MGlcn23(e)': 1000.0,\n",
       " 'EX_MGlcn23_rl(e)': 1000.0,\n",
       " 'EX_MGlcn25(e)': 1000.0,\n",
       " 'EX_MGlcn25_rl(e)': 1000.0,\n",
       " 'EX_MGlcn26(e)': 1000.0,\n",
       " 'EX_MGlcn26_rl(e)': 1000.0,\n",
       " 'EX_MGlcn27(e)': 1000.0,\n",
       " 'EX_MGlcn27_rl(e)': 1000.0,\n",
       " 'EX_MGlcn28(e)': 1000.0,\n",
       " 'EX_MGlcn28_rl(e)': 1000.0,\n",
       " 'EX_MGlcn29(e)': 1000.0,\n",
       " 'EX_MGlcn29_rl(e)': 1000.0,\n",
       " 'EX_MGlcn2_rl(e)': 1000.0,\n",
       " 'EX_MGlcn3(e)': 1000.0,\n",
       " 'EX_MGlcn30(e)': 1000.0,\n",
       " 'EX_MGlcn30_rl(e)': 1000.0,\n",
       " 'EX_MGlcn31(e)': 1000.0,\n",
       " 'EX_MGlcn31_rl(e)': 1000.0,\n",
       " 'EX_MGlcn32(e)': 1000.0,\n",
       " 'EX_MGlcn32_rl(e)': 1000.0,\n",
       " 'EX_MGlcn34(e)': 1000.0,\n",
       " 'EX_MGlcn34_rl(e)': 1000.0,\n",
       " 'EX_MGlcn35(e)': 1000.0,\n",
       " 'EX_MGlcn35_rl(e)': 1000.0,\n",
       " 'EX_MGlcn36(e)': 1000.0,\n",
       " 'EX_MGlcn36_rl(e)': 1000.0,\n",
       " 'EX_MGlcn39(e)': 1000.0,\n",
       " 'EX_MGlcn39_rl(e)': 1000.0,\n",
       " 'EX_MGlcn3_rl(e)': 1000.0,\n",
       " 'EX_MGlcn4(e)': 1000.0,\n",
       " 'EX_MGlcn42(e)': 1000.0,\n",
       " 'EX_MGlcn42_rl(e)': 1000.0,\n",
       " 'EX_MGlcn45(e)': 1000.0,\n",
       " 'EX_MGlcn45_rl(e)': 1000.0,\n",
       " 'EX_MGlcn46(e)': 1000.0,\n",
       " 'EX_MGlcn46_rl(e)': 1000.0,\n",
       " 'EX_MGlcn48(e)': 1000.0,\n",
       " 'EX_MGlcn48_rl(e)': 1000.0,\n",
       " 'EX_MGlcn4_rl(e)': 1000.0,\n",
       " 'EX_MGlcn5(e)': 1000.0,\n",
       " 'EX_MGlcn51(e)': 1000.0,\n",
       " 'EX_MGlcn51_rl(e)': 1000.0,\n",
       " 'EX_MGlcn53(e)': 1000.0,\n",
       " 'EX_MGlcn53_rl(e)': 1000.0,\n",
       " 'EX_MGlcn55(e)': 1000.0,\n",
       " 'EX_MGlcn55_rl(e)': 1000.0,\n",
       " 'EX_MGlcn56(e)': 1000.0,\n",
       " 'EX_MGlcn56_rl(e)': 1000.0,\n",
       " 'EX_MGlcn57(e)': 1000.0,\n",
       " 'EX_MGlcn57_rl(e)': 1000.0,\n",
       " 'EX_MGlcn58(e)': 1000.0,\n",
       " 'EX_MGlcn58_rl(e)': 1000.0,\n",
       " 'EX_MGlcn5_rl(e)': 1000.0,\n",
       " 'EX_MGlcn6(e)': 1000.0,\n",
       " 'EX_MGlcn61(e)': 1000.0,\n",
       " 'EX_MGlcn61_rl(e)': 1000.0,\n",
       " 'EX_MGlcn64(e)': 1000.0,\n",
       " 'EX_MGlcn64_rl(e)': 1000.0,\n",
       " 'EX_MGlcn65(e)': 1000.0,\n",
       " 'EX_MGlcn65_rl(e)': 1000.0,\n",
       " 'EX_MGlcn66(e)': 1000.0,\n",
       " 'EX_MGlcn66_rl(e)': 1000.0,\n",
       " 'EX_MGlcn68(e)': 1000.0,\n",
       " 'EX_MGlcn68_rl(e)': 1000.0,\n",
       " 'EX_MGlcn69(e)': 1000.0,\n",
       " 'EX_MGlcn69_rl(e)': 1000.0,\n",
       " 'EX_MGlcn6_rl(e)': 1000.0,\n",
       " 'EX_MGlcn70(e)': 1000.0,\n",
       " 'EX_MGlcn70_rl(e)': 1000.0,\n",
       " 'EX_MGlcn71(e)': 1000.0,\n",
       " 'EX_MGlcn71_rl(e)': 1000.0,\n",
       " 'EX_MGlcn72(e)': 1000.0,\n",
       " 'EX_MGlcn72_rl(e)': 1000.0,\n",
       " 'EX_MGlcn74(e)': 1000.0,\n",
       " 'EX_MGlcn74_rl(e)': 1000.0,\n",
       " 'EX_MGlcn75(e)': 1000.0,\n",
       " 'EX_MGlcn75_rl(e)': 1000.0,\n",
       " 'EX_MGlcn77(e)': 1000.0,\n",
       " 'EX_MGlcn77_rl(e)': 1000.0,\n",
       " 'EX_MGlcn78(e)': 1000.0,\n",
       " 'EX_MGlcn78_rl(e)': 1000.0,\n",
       " 'EX_MGlcn79(e)': 1000.0,\n",
       " 'EX_MGlcn79_rl(e)': 1000.0,\n",
       " 'EX_MGlcn80(e)': 1000.0,\n",
       " 'EX_MGlcn80_rl(e)': 1000.0,\n",
       " 'EX_MGlcn81(e)': 1000.0,\n",
       " 'EX_MGlcn81_rl(e)': 1000.0,\n",
       " 'EX_MGlcn82(e)': 1000.0,\n",
       " 'EX_MGlcn82_rl(e)': 1000.0,\n",
       " 'EX_MGlcn83(e)': 1000.0,\n",
       " 'EX_MGlcn83_rl(e)': 1000.0,\n",
       " 'EX_MGlcn84(e)': 1000.0,\n",
       " 'EX_MGlcn84_rl(e)': 1000.0,\n",
       " 'EX_MGlcn85(e)': 1000.0,\n",
       " 'EX_MGlcn85_rl(e)': 1000.0,\n",
       " 'EX_MGlcn90(e)': 1000.0,\n",
       " 'EX_MGlcn90_rl(e)': 1000.0,\n",
       " 'EX_MGlcn91(e)': 1000.0,\n",
       " 'EX_MGlcn91_rl(e)': 1000.0,\n",
       " 'EX_MGlcn92(e)': 1000.0,\n",
       " 'EX_MGlcn92_rl(e)': 1000.0,\n",
       " 'EX_MGlcn93(e)': 1000.0,\n",
       " 'EX_MGlcn93_rl(e)': 1000.0,\n",
       " 'EX_MGlcn94(e)': 1000.0,\n",
       " 'EX_MGlcn94_rl(e)': 1000.0,\n",
       " 'EX_MGlcn95(e)': 1000.0,\n",
       " 'EX_MGlcn95_rl(e)': 1000.0,\n",
       " 'EX_MGlcn96(e)': 1000.0,\n",
       " 'EX_MGlcn96_rl(e)': 1000.0,\n",
       " 'EX_MGlcn97(e)': 1000.0,\n",
       " 'EX_MGlcn97_rl(e)': 1000.0,\n",
       " 'EX_MGlcn98(e)': 1000.0,\n",
       " 'EX_MGlcn98_rl(e)': 1000.0,\n",
       " 'EX_MGlcn99(e)': 1000.0,\n",
       " 'EX_MGlcn99_rl(e)': 1000.0,\n",
       " 'EX_T_antigen(e)': 1000.0,\n",
       " 'EX_Tn_antigen(e)': 1000.0,\n",
       " 'EX_ac(e)': 1000.0,\n",
       " 'EX_acac(e)': 1000.0,\n",
       " 'EX_acald(e)': 1000.0,\n",
       " 'EX_acgal(e)': 1000.0,\n",
       " 'EX_acgam(e)': 1000.0,\n",
       " 'EX_acnam(e)': 1000.0,\n",
       " 'EX_acnam2a6agal(e)': 1000.0,\n",
       " 'EX_adn(e)': 1000.0,\n",
       " 'EX_adocbl(e)': 1000.0,\n",
       " 'EX_agam1b3agal(e)': 1000.0,\n",
       " 'EX_agam1b6agal(e)': 1000.0,\n",
       " 'EX_akg(e)': 1000.0,\n",
       " 'EX_ala_D(e)': 1000.0,\n",
       " 'EX_ala_L(e)': 1000.0,\n",
       " 'EX_alaasp(e)': 1000.0,\n",
       " 'EX_alagln(e)': 1000.0,\n",
       " 'EX_alaglu(e)': 1000.0,\n",
       " 'EX_alagly(e)': 1000.0,\n",
       " 'EX_alahis(e)': 1000.0,\n",
       " 'EX_alaleu(e)': 1000.0,\n",
       " 'EX_alathr(e)': 1000.0,\n",
       " 'EX_alltn(e)': 1000.0,\n",
       " 'EX_arab_L(e)': 1000.0,\n",
       " 'EX_arbt(e)': 1000.0,\n",
       " 'EX_arg_L(e)': 1000.0,\n",
       " 'EX_asn_L(e)': 1000.0,\n",
       " 'EX_aso3(e)': 1000.0,\n",
       " 'EX_aso4(e)': 1000.0,\n",
       " 'EX_asp_L(e)': 1000.0,\n",
       " 'EX_btn(e)': 1000.0,\n",
       " 'EX_but(e)': 1000.0,\n",
       " 'EX_butso3(e)': 1000.0,\n",
       " 'EX_ca2(e)': 1000.0,\n",
       " 'EX_cbl1(e)': 1000.0,\n",
       " 'EX_cbl2(e)': 1000.0,\n",
       " 'EX_cd2(e)': 1000.0,\n",
       " 'EX_cgly(e)': 1000.0,\n",
       " 'EX_chol(e)': 1000.0,\n",
       " 'EX_cholate(e)': 1000.0,\n",
       " 'EX_cinnm(e)': 1000.0,\n",
       " 'EX_cit(e)': 1000.0,\n",
       " 'EX_cl(e)': 1000.0,\n",
       " 'EX_co2(e)': 1000.0,\n",
       " 'EX_cobalt2(e)': 1000.0,\n",
       " 'EX_core2(e)': 1000.0,\n",
       " 'EX_core2_rl(e)': 1000.0,\n",
       " 'EX_core3(e)': 1000.0,\n",
       " 'EX_core6(e)': 1000.0,\n",
       " 'EX_core8(e)': 1000.0,\n",
       " 'EX_crn(e)': 1000.0,\n",
       " 'EX_csn(e)': 1000.0,\n",
       " 'EX_ctbt(e)': 1000.0,\n",
       " 'EX_cu2(e)': 1000.0,\n",
       " 'EX_cynt(e)': 1000.0,\n",
       " 'EX_cys_L(e)': 1000.0,\n",
       " 'EX_cytd(e)': 1000.0,\n",
       " 'EX_dad_2(e)': 1000.0,\n",
       " 'EX_dcyt(e)': 1000.0,\n",
       " 'EX_ddca(e)': 1000.0,\n",
       " 'EX_dgsn(e)': 1000.0,\n",
       " 'EX_dhcinnm(e)': 1000.0,\n",
       " 'EX_dhpppn(e)': 1000.0,\n",
       " 'EX_din(e)': 1000.0,\n",
       " 'EX_dms(e)': 1000.0,\n",
       " 'EX_dmso(e)': 1000.0,\n",
       " 'EX_drib(e)': 1000.0,\n",
       " 'EX_duri(e)': 1000.0,\n",
       " 'EX_etha(e)': 1000.0,\n",
       " 'EX_ethso3(e)': 1000.0,\n",
       " 'EX_etoh(e)': 1000.0,\n",
       " 'EX_f1a(e)': 1000.0,\n",
       " 'EX_f1a_rl(e)': 1000.0,\n",
       " 'EX_fe2(e)': 1000.0,\n",
       " 'EX_fe3(e)': 1000.0,\n",
       " 'EX_fecrm(e)': 1000.0,\n",
       " 'EX_for(e)': 1000.0,\n",
       " 'EX_fru(e)': 1000.0,\n",
       " 'EX_fuc1p_L(e)': 1000.0,\n",
       " 'EX_fuc_L(e)': 1000.0,\n",
       " 'EX_fum(e)': 1000.0,\n",
       " 'EX_g6p(e)': 1000.0,\n",
       " 'EX_gal(e)': 1000.0,\n",
       " 'EX_gal1a3acgal(e)': 1000.0,\n",
       " 'EX_gal1b3acgal(e)': 1000.0,\n",
       " 'EX_galct_D(e)': 1000.0,\n",
       " 'EX_galctn_D(e)': 1000.0,\n",
       " 'EX_galt(e)': 1000.0,\n",
       " 'EX_galur(e)': 1000.0,\n",
       " 'EX_gbbtn(e)': 1000.0,\n",
       " 'EX_gcald(e)': 1000.0,\n",
       " 'EX_glc_D(e)': 1000.0,\n",
       " 'EX_glcn(e)': 1000.0,\n",
       " 'EX_glcr(e)': 1000.0,\n",
       " 'EX_glcur(e)': 1000.0,\n",
       " 'EX_gln_L(e)': 1000.0,\n",
       " 'EX_glu_L(e)': 1000.0,\n",
       " 'EX_gly(e)': 1000.0,\n",
       " 'EX_glyasn(e)': 1000.0,\n",
       " 'EX_glyasp(e)': 1000.0,\n",
       " 'EX_glyb(e)': 1000.0,\n",
       " 'EX_glyc(e)': 1000.0,\n",
       " 'EX_glyc3p(e)': 1000.0,\n",
       " 'EX_glyclt(e)': 1000.0,\n",
       " 'EX_glycys(e)': 1000.0,\n",
       " 'EX_glygln(e)': 1000.0,\n",
       " 'EX_glyglu(e)': 1000.0,\n",
       " 'EX_glyleu(e)': 1000.0,\n",
       " 'EX_glymet(e)': 1000.0,\n",
       " 'EX_glyphe(e)': 1000.0,\n",
       " 'EX_glypro(e)': 1000.0,\n",
       " 'EX_glytyr(e)': 1000.0,\n",
       " 'EX_gsn(e)': 1000.0,\n",
       " 'EX_h(e)': 1000.0,\n",
       " 'EX_h2(e)': 1000.0,\n",
       " 'EX_h2o(e)': 1000.0,\n",
       " 'EX_h2s(e)': 1000.0,\n",
       " 'EX_hdca(e)': 1000.0,\n",
       " 'EX_hexs(e)': 1000.0,\n",
       " 'EX_hg2(e)': 1000.0,\n",
       " 'EX_his_L(e)': 1000.0,\n",
       " 'EX_hxan(e)': 1000.0,\n",
       " 'EX_idon_L(e)': 1000.0,\n",
       " 'EX_ile_L(e)': 1000.0,\n",
       " 'EX_indole(e)': 1000.0,\n",
       " 'EX_ins(e)': 1000.0,\n",
       " 'EX_isetac(e)': 1000.0,\n",
       " 'EX_k(e)': 1000.0,\n",
       " 'EX_lac_D(e)': 1000.0,\n",
       " 'EX_lac_L(e)': 1000.0,\n",
       " 'EX_lcts(e)': 1000.0,\n",
       " 'EX_leu_L(e)': 1000.0,\n",
       " 'EX_lys_L(e)': 1000.0,\n",
       " 'EX_mal_L(e)': 1000.0,\n",
       " 'EX_malt(e)': 1000.0,\n",
       " 'EX_malthx(e)': 1000.0,\n",
       " 'EX_malttr(e)': 1000.0,\n",
       " 'EX_man(e)': 1000.0,\n",
       " 'EX_man6p(e)': 1000.0,\n",
       " 'EX_mantr(e)': 1000.0,\n",
       " 'EX_melib(e)': 1000.0,\n",
       " 'EX_met_D(e)': 1000.0,\n",
       " 'EX_met_L(e)': 1000.0,\n",
       " 'EX_metala(e)': 1000.0,\n",
       " 'EX_metsox_R_L(e)': 1000.0,\n",
       " 'EX_metsox_S_L(e)': 1000.0,\n",
       " 'EX_mg2(e)': 1000.0,\n",
       " 'EX_mn2(e)': 1000.0,\n",
       " 'EX_mnl(e)': 1000.0,\n",
       " 'EX_mops(e)': 1000.0,\n",
       " 'EX_mso3(e)': 1000.0,\n",
       " 'EX_na1(e)': 1000.0,\n",
       " 'EX_nac(e)': 1000.0,\n",
       " 'EX_nh4(e)': 1000.0,\n",
       " 'EX_nmn(e)': 1000.0,\n",
       " 'EX_no2(e)': 1000.0,\n",
       " 'EX_no3(e)': 1000.0,\n",
       " 'EX_o2(e)': 1000.0,\n",
       " 'EX_ocdca(e)': 1000.0,\n",
       " 'EX_orn(e)': 1000.0,\n",
       " 'EX_pac(e)': 1000.0,\n",
       " 'EX_pb(e)': 1000.0,\n",
       " 'EX_phe_L(e)': 1000.0,\n",
       " 'EX_pi(e)': 1000.0,\n",
       " 'EX_pnto_R(e)': 1000.0,\n",
       " 'EX_ppa(e)': 1000.0,\n",
       " 'EX_ppi(e)': 1000.0,\n",
       " 'EX_pppn(e)': 1000.0,\n",
       " 'EX_pro_L(e)': 1000.0,\n",
       " 'EX_ptrc(e)': 1000.0,\n",
       " 'EX_pydam(e)': 1000.0,\n",
       " 'EX_pydx(e)': 1000.0,\n",
       " 'EX_pydxn(e)': 1000.0,\n",
       " 'EX_rib_D(e)': 1000.0,\n",
       " 'EX_rmn(e)': 1000.0,\n",
       " 'EX_sTn_antigen(e)': 1000.0,\n",
       " 'EX_salcn(e)': 1000.0,\n",
       " 'EX_sbt_D(e)': 1000.0,\n",
       " 'EX_sel(e)': 1000.0,\n",
       " 'EX_selni(e)': 1000.0,\n",
       " 'EX_ser_D(e)': 1000.0,\n",
       " 'EX_ser_L(e)': 1000.0,\n",
       " 'EX_so4(e)': 1000.0,\n",
       " 'EX_spmd(e)': 1000.0,\n",
       " 'EX_succ(e)': 1000.0,\n",
       " 'EX_sucr(e)': 1000.0,\n",
       " 'EX_sulfac(e)': 1000.0,\n",
       " 'EX_taur(e)': 1000.0,\n",
       " 'EX_thm(e)': 1000.0,\n",
       " 'EX_thr_L(e)': 1000.0,\n",
       " 'EX_thymd(e)': 1000.0,\n",
       " 'EX_tma(e)': 1000.0,\n",
       " 'EX_tmao(e)': 1000.0,\n",
       " 'EX_tre(e)': 1000.0,\n",
       " 'EX_trp_L(e)': 1000.0,\n",
       " 'EX_tsul(e)': 1000.0,\n",
       " 'EX_ttdca(e)': 1000.0,\n",
       " 'EX_tym(e)': 1000.0,\n",
       " 'EX_tyr_L(e)': 1000.0,\n",
       " 'EX_ura(e)': 1000.0,\n",
       " 'EX_urea(e)': 1000.0,\n",
       " 'EX_uri(e)': 1000.0,\n",
       " 'EX_val_L(e)': 1000.0,\n",
       " 'EX_xan(e)': 1000.0,\n",
       " 'EX_xtsn(e)': 1000.0,\n",
       " 'EX_xyl_D(e)': 1000.0,\n",
       " 'EX_zn2(e)': 1000.0}"
      ]
     },
     "execution_count": 3,
     "metadata": {},
     "output_type": "execute_result"
    }
   ],
   "source": [
    "model.medium"
   ]
  },
  {
   "cell_type": "code",
   "execution_count": 4,
   "metadata": {},
   "outputs": [],
   "source": [
    "old_medium = model.medium.copy()"
   ]
  },
  {
   "cell_type": "code",
   "execution_count": 5,
   "metadata": {},
   "outputs": [
    {
     "data": {
      "text/plain": [
       "139.7092990983884"
      ]
     },
     "execution_count": 5,
     "metadata": {},
     "output_type": "execute_result"
    }
   ],
   "source": [
    " model.slim_optimize()"
   ]
  },
  {
   "cell_type": "code",
   "execution_count": 6,
   "metadata": {},
   "outputs": [
    {
     "name": "stderr",
     "output_type": "stream",
     "text": [
      "/home/stefano/.conda/envs/modelmerge/lib/python3.10/site-packages/cobra/medium/minimal_medium.py:112: FutureWarning: The default dtype for empty Series will be 'object' instead of 'float64' in a future version. Specify a dtype explicitly to silence this warning.\n",
      "  medium = pd.Series()\n"
     ]
    },
    {
     "data": {
      "text/plain": [
       "EX_12ppd_S(e)     424.390171\n",
       "EX_acnam(e)        25.839514\n",
       "EX_arg_L(e)        61.512188\n",
       "EX_asn_L(e)        32.786978\n",
       "EX_but(e)        1000.000000\n",
       "EX_ca2(e)           1.091046\n",
       "EX_cit(e)        1000.000000\n",
       "EX_cl(e)            1.091046\n",
       "EX_cobalt2(e)       1.091046\n",
       "EX_cu2(e)           1.091046\n",
       "EX_cys_L(e)        14.613425\n",
       "EX_cytd(e)         19.786609\n",
       "EX_dad_2(e)        87.275477\n",
       "EX_dgsn(e)         33.036471\n",
       "EX_din(e)         708.098748\n",
       "EX_etoh(e)        171.589303\n",
       "EX_fe2(e)           1.091046\n",
       "EX_fe3(e)           1.091046\n",
       "EX_glu_L(e)        84.453712\n",
       "EX_glyc3p(e)      267.590095\n",
       "EX_glyleu(e)       59.642403\n",
       "EX_h2s(e)          21.955233\n",
       "EX_his_L(e)        12.940294\n",
       "EX_ile_L(e)        39.474862\n",
       "EX_k(e)             1.091046\n",
       "EX_lac_D(e)         5.428463\n",
       "EX_leu_L(e)         1.642478\n",
       "EX_lys_L(e)        46.600037\n",
       "EX_mg2(e)           1.091046\n",
       "EX_mn2(e)           1.091046\n",
       "EX_nmn(e)        1000.000000\n",
       "EX_phe_L(e)        25.225911\n",
       "EX_pnto_R(e)        2.182092\n",
       "EX_pro_L(e)        30.097574\n",
       "EX_ser_L(e)        52.893438\n",
       "EX_so4(e)           1.091046\n",
       "EX_thr_L(e)      1000.000000\n",
       "EX_tmao(e)        806.440785\n",
       "EX_trp_L(e)         7.705946\n",
       "EX_tyr_L(e)        18.755973\n",
       "EX_val_L(e)        57.504348\n",
       "EX_zn2(e)           1.091046\n",
       "dtype: float64"
      ]
     },
     "execution_count": 6,
     "metadata": {},
     "output_type": "execute_result"
    }
   ],
   "source": [
    "max_growth = model.slim_optimize()\n",
    "cobra.medium.minimal_medium(model, max_growth)"
   ]
  },
  {
   "cell_type": "code",
   "execution_count": 7,
   "metadata": {},
   "outputs": [
    {
     "data": {
      "text/latex": [
       "$\\displaystyle 1.0 \\cdot biomass_{525} - 1.0 \\cdot biomass_{525 reverse 5c178}$"
      ],
      "text/plain": [
       "1.0*biomass525 - 1.0*biomass525_reverse_5c178"
      ]
     },
     "execution_count": 7,
     "metadata": {},
     "output_type": "execute_result"
    }
   ],
   "source": [
    "model.objective.expression"
   ]
  },
  {
   "cell_type": "code",
   "execution_count": 8,
   "metadata": {},
   "outputs": [],
   "source": [
    "biomass_func = model.reactions.get_by_id(\"biomass525\")"
   ]
  },
  {
   "cell_type": "code",
   "execution_count": 9,
   "metadata": {},
   "outputs": [
    {
     "data": {
      "text/plain": [
       "{<Metabolite ACP[c] at 0x7f80adfcee00>: -0.0078094,\n",
       " <Metabolite PGP[c] at 0x7f80ad532380>: -0.092476,\n",
       " <Metabolite ala_L[c] at 0x7f80ad533220>: -0.50006,\n",
       " <Metabolite amet[c] at 0x7f80ad5334f0>: -0.0078094,\n",
       " <Metabolite arg_L[c] at 0x7f80ad5339a0>: -0.28827,\n",
       " <Metabolite asn_L[c] at 0x7f80ad533a60>: -0.23468,\n",
       " <Metabolite asp_L[c] at 0x7f80ad5337f0>: -0.23468,\n",
       " <Metabolite atp[c] at 0x7f80ad533be0>: -40.1701,\n",
       " <Metabolite ca2[c] at 0x7f80ad533fa0>: -0.0078094,\n",
       " <Metabolite cl[c] at 0x7f80adf8ecb0>: -0.0078094,\n",
       " <Metabolite coa[c] at 0x7f80ad584a90>: -0.0078094,\n",
       " <Metabolite cobalt2[c] at 0x7f80ad584ac0>: -0.0078094,\n",
       " <Metabolite ctp[c] at 0x7f80ad584a00>: -0.12988,\n",
       " <Metabolite cu2[c] at 0x7f80ad584c10>: -0.0078094,\n",
       " <Metabolite cys_L[c] at 0x7f80ad584f10>: -0.08898,\n",
       " <Metabolite datp[c] at 0x7f80ad585150>: -0.011747,\n",
       " <Metabolite dctp[c] at 0x7f80ad5852d0>: -0.011747,\n",
       " <Metabolite dgtp[c] at 0x7f80ad585510>: -0.011747,\n",
       " <Metabolite dnarep[c] at 0x7f80ad5858a0>: -1.0,\n",
       " <Metabolite dttp[c] at 0x7f80ad585d20>: -0.011747,\n",
       " <Metabolite fad[c] at 0x7f80ad5860b0>: -0.0078094,\n",
       " <Metabolite fe2[c] at 0x7f80ad5863b0>: -0.0078094,\n",
       " <Metabolite fe3[c] at 0x7f80ad586440>: -0.0078094,\n",
       " <Metabolite gln_L[c] at 0x7f80ad5871f0>: -0.25601,\n",
       " <Metabolite glu_L[c] at 0x7f80ad587160>: -0.25601,\n",
       " <Metabolite gly[c] at 0x7f80ad587460>: -0.5958,\n",
       " <Metabolite gtp[c] at 0x7f80ad587c70>: -0.2091,\n",
       " <Metabolite h2o[c] at 0x7f80ad587dc0>: -34.7965,\n",
       " <Metabolite his_L[c] at 0x7f80ad5f0070>: -0.092623,\n",
       " <Metabolite ile_L[c] at 0x7f80ad5f0940>: -0.28255,\n",
       " <Metabolite k[c] at 0x7f80ad5f0a00>: -0.0078094,\n",
       " <Metabolite leu_L[c] at 0x7f80ad5f0fa0>: -0.43866,\n",
       " <Metabolite lys_L[c] at 0x7f80ad5f1150>: -0.33355,\n",
       " <Metabolite met_L[c] at 0x7f80ad5f1720>: -0.14934,\n",
       " <Metabolite mg2[c] at 0x7f80ad5f1780>: -0.0078094,\n",
       " <Metabolite mn2[c] at 0x7f80ad5f1ab0>: -0.0078094,\n",
       " <Metabolite nad[c] at 0x7f80ad5f1e40>: -0.0078094,\n",
       " <Metabolite nadp[c] at 0x7f80ad5f1ea0>: -0.0078094,\n",
       " <Metabolite phe_L[c] at 0x7f80ad5f3250>: -0.18056,\n",
       " <Metabolite pro_L[c] at 0x7f80ad5f3820>: -0.21543,\n",
       " <Metabolite proteinsynth[c] at 0x7f80ad5f3bb0>: -1.0,\n",
       " <Metabolite pydx5p[c] at 0x7f80ad5f3fd0>: -0.0078094,\n",
       " <Metabolite ribflv[c] at 0x7f80ad458190>: -0.0078094,\n",
       " <Metabolite rnatrans[c] at 0x7f80ad4583a0>: -1.0,\n",
       " <Metabolite ser_L[c] at 0x7f80ad458670>: -0.2097,\n",
       " <Metabolite so4[c] at 0x7f80ad458490>: -0.0078094,\n",
       " <Metabolite thr_L[c] at 0x7f80ad4592a0>: -0.24665,\n",
       " <Metabolite trp_L[c] at 0x7f80ad4589d0>: -0.055157,\n",
       " <Metabolite tyr_L[c] at 0x7f80ad4597e0>: -0.13425,\n",
       " <Metabolite udcpdp[c] at 0x7f80ad4599f0>: -0.092476,\n",
       " <Metabolite utp[c] at 0x7f80ad459ff0>: -0.14027,\n",
       " <Metabolite val_L[c] at 0x7f80ad45a020>: -0.4116,\n",
       " <Metabolite zn2[c] at 0x7f80ad45a2c0>: -0.0078094,\n",
       " <Metabolite PGPm1[c] at 0x7f80ad5324a0>: 0.092476,\n",
       " <Metabolite adp[c] at 0x7f80ad532b00>: 40.0,\n",
       " <Metabolite apoACP[c] at 0x7f80ad533820>: 0.0078094,\n",
       " <Metabolite biomass[c] at 0x7f80ad533bb0>: 1.0,\n",
       " <Metabolite h[c] at 0x7f80ad587e80>: 40.0,\n",
       " <Metabolite pi[c] at 0x7f80ad5f2e00>: 39.9922,\n",
       " <Metabolite ppi[c] at 0x7f80ad5f3850>: 0.6024}"
      ]
     },
     "execution_count": 9,
     "metadata": {},
     "output_type": "execute_result"
    }
   ],
   "source": [
    "biomass_func.metabolites"
   ]
  },
  {
   "cell_type": "code",
   "execution_count": 10,
   "metadata": {},
   "outputs": [],
   "source": [
    "old_biomass = biomass_func.copy()"
   ]
  },
  {
   "cell_type": "code",
   "execution_count": 11,
   "metadata": {},
   "outputs": [],
   "source": [
    "desired_biomass_components =['biomass[c]',\n",
    "                             'h[c]',\n",
    "                             'pi[c]',\n",
    "                             'ppi[c]',\n",
    "                             'ala_L[c]',\n",
    "                             'amet[c]',\n",
    "                             'arg_L[c]',\n",
    "                             'asn_L[c]',\n",
    "                             'asp_L[c]',\n",
    "                             'atp[c]',\n",
    "                             'ca2[c]',\n",
    "                             'cl[c]',\n",
    "                             'proteinsynth[c]',\n",
    "                             'dnarep[c]',\n",
    "                             'rnatrans[c]']"
   ]
  },
  {
   "cell_type": "code",
   "execution_count": 12,
   "metadata": {},
   "outputs": [
    {
     "name": "stderr",
     "output_type": "stream",
     "text": [
      "/home/stefano/.conda/envs/modelmerge/lib/python3.10/site-packages/cobra/core/reaction.py:810: UserWarning: Setting reaction reversibility is ignored\n",
      "  warn(\"Setting reaction reversibility is ignored\")\n"
     ]
    }
   ],
   "source": [
    "new_metabolites = {met: old_biomass.metabolites[met] \n",
    "                   for met in old_biomass.metabolites.keys() if met.id in desired_biomass_components}\n",
    "\n",
    "reactions_toadd = cobra.core.DictList()\n",
    "new_react = cobra.core.reaction.Reaction(\"biomass_simplified\")\n",
    "new_react.name = \"biomass with less metabolic requirement\"\n",
    "new_react.lower_bound = 0\n",
    "new_react.upper_bound = 1000\n",
    "new_react.reversibility = False\n",
    "\n",
    "new_react_mets = dict()\n",
    "for met in desired_biomass_components:\n",
    "\n",
    "    new_react_met = model.metabolites.get_by_id(met)\n",
    "    new_react_mets[new_react_met] = model.reactions.get_by_id(\"biomass525\").metabolites[model.metabolites.get_by_id(met)]\n",
    "new_react.add_metabolites(new_react_mets)\n",
    "reactions_toadd.add(new_react)\n",
    "model.add_reactions(reactions_toadd)\n",
    "\n"
   ]
  },
  {
   "cell_type": "code",
   "execution_count": 13,
   "metadata": {},
   "outputs": [
    {
     "data": {
      "text/plain": [
       "{<Metabolite biomass[c] at 0x7f80ad533bb0>: 1.0,\n",
       " <Metabolite h[c] at 0x7f80ad587e80>: 40.0,\n",
       " <Metabolite pi[c] at 0x7f80ad5f2e00>: 39.9922,\n",
       " <Metabolite ppi[c] at 0x7f80ad5f3850>: 0.6024,\n",
       " <Metabolite ala_L[c] at 0x7f80ad533220>: -0.50006,\n",
       " <Metabolite amet[c] at 0x7f80ad5334f0>: -0.0078094,\n",
       " <Metabolite arg_L[c] at 0x7f80ad5339a0>: -0.28827,\n",
       " <Metabolite asn_L[c] at 0x7f80ad533a60>: -0.23468,\n",
       " <Metabolite asp_L[c] at 0x7f80ad5337f0>: -0.23468,\n",
       " <Metabolite atp[c] at 0x7f80ad533be0>: -40.1701,\n",
       " <Metabolite ca2[c] at 0x7f80ad533fa0>: -0.0078094,\n",
       " <Metabolite cl[c] at 0x7f80adf8ecb0>: -0.0078094,\n",
       " <Metabolite proteinsynth[c] at 0x7f80ad5f3bb0>: -1.0,\n",
       " <Metabolite dnarep[c] at 0x7f80ad5858a0>: -1.0,\n",
       " <Metabolite rnatrans[c] at 0x7f80ad4583a0>: -1.0}"
      ]
     },
     "execution_count": 13,
     "metadata": {},
     "output_type": "execute_result"
    }
   ],
   "source": [
    "model.reactions.get_by_id(\"biomass_simplified\").metabolites"
   ]
  },
  {
   "cell_type": "code",
   "execution_count": 14,
   "metadata": {},
   "outputs": [],
   "source": [
    "model.remove_reactions(cobra.core.DictList([model.reactions.get_by_id(\"biomass525\")]))"
   ]
  },
  {
   "cell_type": "code",
   "execution_count": 15,
   "metadata": {},
   "outputs": [
    {
     "data": {
      "text/html": [
       "\n",
       "        <table>\n",
       "            <tr>\n",
       "                <td><strong>Reaction identifier</strong></td><td>biomass_simplified</td>\n",
       "            </tr><tr>\n",
       "                <td><strong>Name</strong></td><td>biomass with less metabolic requirement</td>\n",
       "            </tr><tr>\n",
       "                <td><strong>Memory address</strong></td>\n",
       "                <td>0x7f80abd26890</td>\n",
       "            </tr><tr>\n",
       "                <td><strong>Stoichiometry</strong></td>\n",
       "                <td>\n",
       "                    <p style='text-align:right'>0.50006 ala_L[c] + 0.0078094 amet[c] + 0.28827 arg_L[c] + 0.23468 asn_L[c] + 0.23468 asp_L[c] + 40.1701 atp[c] + 0.0078094 ca2[c] + 0.0078094 cl[c] + dnarep[c] + proteinsynth[c] + rnatrans[c] -->...</p>\n",
       "                    <p style='text-align:right'>0.50006 L-alanine + 0.0078094 S-Adenosyl-L-methionine + 0.28827 L-argininium(1+) + 0.23468 L-asparagine + 0.23468 L-aspartate(1-) + 40.1701 ATP + 0.0078094 calcium(2+) + 0.0078094 Chloride + DNA...</p>\n",
       "                </td>\n",
       "            </tr><tr>\n",
       "                <td><strong>GPR</strong></td><td></td>\n",
       "            </tr><tr>\n",
       "                <td><strong>Lower bound</strong></td><td>0</td>\n",
       "            </tr><tr>\n",
       "                <td><strong>Upper bound</strong></td><td>1000</td>\n",
       "            </tr>\n",
       "        </table>\n",
       "        "
      ],
      "text/plain": [
       "<Reaction biomass_simplified at 0x7f80abd26890>"
      ]
     },
     "execution_count": 15,
     "metadata": {},
     "output_type": "execute_result"
    }
   ],
   "source": [
    "model.reactions.get_by_id(\"biomass_simplified\")"
   ]
  },
  {
   "cell_type": "code",
   "execution_count": 16,
   "metadata": {},
   "outputs": [],
   "source": [
    "model.objective = \"biomass_simplified\""
   ]
  },
  {
   "cell_type": "code",
   "execution_count": 17,
   "metadata": {},
   "outputs": [
    {
     "data": {
      "text/html": [
       "<strong><em>Optimal</em> solution with objective value 40.888</strong><br><div>\n",
       "<style scoped>\n",
       "    .dataframe tbody tr th:only-of-type {\n",
       "        vertical-align: middle;\n",
       "    }\n",
       "\n",
       "    .dataframe tbody tr th {\n",
       "        vertical-align: top;\n",
       "    }\n",
       "\n",
       "    .dataframe thead th {\n",
       "        text-align: right;\n",
       "    }\n",
       "</style>\n",
       "<table border=\"1\" class=\"dataframe\">\n",
       "  <thead>\n",
       "    <tr style=\"text-align: right;\">\n",
       "      <th></th>\n",
       "      <th>fluxes</th>\n",
       "      <th>reduced_costs</th>\n",
       "    </tr>\n",
       "  </thead>\n",
       "  <tbody>\n",
       "    <tr>\n",
       "      <th>12PPDt</th>\n",
       "      <td>0.000000</td>\n",
       "      <td>0.000000e+00</td>\n",
       "    </tr>\n",
       "    <tr>\n",
       "      <th>15DAPt</th>\n",
       "      <td>0.000000</td>\n",
       "      <td>0.000000e+00</td>\n",
       "    </tr>\n",
       "    <tr>\n",
       "      <th>23DHMPO</th>\n",
       "      <td>0.000000</td>\n",
       "      <td>0.000000e+00</td>\n",
       "    </tr>\n",
       "    <tr>\n",
       "      <th>23PDE2</th>\n",
       "      <td>0.000000</td>\n",
       "      <td>0.000000e+00</td>\n",
       "    </tr>\n",
       "    <tr>\n",
       "      <th>23PDE4</th>\n",
       "      <td>0.000000</td>\n",
       "      <td>0.000000e+00</td>\n",
       "    </tr>\n",
       "    <tr>\n",
       "      <th>...</th>\n",
       "      <td>...</td>\n",
       "      <td>...</td>\n",
       "    </tr>\n",
       "    <tr>\n",
       "      <th>r1667</th>\n",
       "      <td>0.000000</td>\n",
       "      <td>0.000000e+00</td>\n",
       "    </tr>\n",
       "    <tr>\n",
       "      <th>r2137</th>\n",
       "      <td>0.319312</td>\n",
       "      <td>0.000000e+00</td>\n",
       "    </tr>\n",
       "    <tr>\n",
       "      <th>rtranscription</th>\n",
       "      <td>40.888143</td>\n",
       "      <td>0.000000e+00</td>\n",
       "    </tr>\n",
       "    <tr>\n",
       "      <th>sink_s</th>\n",
       "      <td>0.000000</td>\n",
       "      <td>0.000000e+00</td>\n",
       "    </tr>\n",
       "    <tr>\n",
       "      <th>biomass_simplified</th>\n",
       "      <td>40.888143</td>\n",
       "      <td>-3.330669e-16</td>\n",
       "    </tr>\n",
       "  </tbody>\n",
       "</table>\n",
       "<p>2313 rows × 2 columns</p>\n",
       "</div>"
      ],
      "text/plain": [
       "<Solution 40.888 at 0x7f80abd27640>"
      ]
     },
     "execution_count": 17,
     "metadata": {},
     "output_type": "execute_result"
    }
   ],
   "source": [
    "model.optimize()"
   ]
  },
  {
   "cell_type": "code",
   "execution_count": 18,
   "metadata": {},
   "outputs": [
    {
     "name": "stderr",
     "output_type": "stream",
     "text": [
      "/home/stefano/.conda/envs/modelmerge/lib/python3.10/site-packages/cobra/medium/minimal_medium.py:112: FutureWarning: The default dtype for empty Series will be 'object' instead of 'float64' in a future version. Specify a dtype explicitly to silence this warning.\n",
      "  medium = pd.Series()\n"
     ]
    },
    {
     "data": {
      "text/plain": [
       "EX_adn(e)       4.191001\n",
       "EX_ca2(e)       0.031931\n",
       "EX_cl(e)        0.031931\n",
       "EX_gsn(e)      97.163540\n",
       "EX_nmn(e)     324.297359\n",
       "EX_tsul(e)      0.015966\n",
       "dtype: float64"
      ]
     },
     "execution_count": 18,
     "metadata": {},
     "output_type": "execute_result"
    }
   ],
   "source": [
    "max_growth = model.slim_optimize()\n",
    "desired_medium = cobra.medium.minimal_medium(model, max_growth/10)\n",
    "desired_medium"
   ]
  },
  {
   "cell_type": "code",
   "execution_count": 19,
   "metadata": {},
   "outputs": [
    {
     "data": {
      "text/plain": [
       "EX_adn(e)         1.000000\n",
       "EX_ca2(e)         0.031931\n",
       "EX_cl(e)          0.031931\n",
       "EX_gsn(e)         1.000000\n",
       "EX_nmn(e)       100.000000\n",
       "EX_tsul(e)        0.015966\n",
       "EX_glc_D(e)       1.000000\n",
       "EX_h(e)          10.000000\n",
       "EX_pi(e)         10.000000\n",
       "EX_h2o(e)      1000.000000\n",
       "EX_o2(e)         10.000000\n",
       "dtype: float64"
      ]
     },
     "execution_count": 19,
     "metadata": {},
     "output_type": "execute_result"
    }
   ],
   "source": [
    "desired_medium[\"EX_adn(e)\"] = 1.0\n",
    "desired_medium[\"EX_gsn(e)\"] = 1.0\n",
    "desired_medium[\"EX_nmn(e)\"] = 100.0\n",
    "desired_medium[\"EX_glc_D(e)\"] = 1.0\n",
    "desired_medium[\"EX_h(e)\"] = 10.0\n",
    "desired_medium[\"EX_pi(e)\"] = 10.0\n",
    "desired_medium[\"EX_h2o(e)\"] = 1000.0\n",
    "desired_medium[\"EX_o2(e)\"] = 10.0\n",
    "#desired_medium[\"EX_hxan(e)\"] = 1.0\n",
    "desired_medium"
   ]
  },
  {
   "cell_type": "code",
   "execution_count": 20,
   "metadata": {},
   "outputs": [],
   "source": [
    "for reac_id in model.medium.keys():\n",
    "    model.reactions.get_by_id(reac_id).lower_bound = 0.0"
   ]
  },
  {
   "cell_type": "code",
   "execution_count": 21,
   "metadata": {},
   "outputs": [
    {
     "data": {
      "text/plain": [
       "0.0"
      ]
     },
     "execution_count": 21,
     "metadata": {},
     "output_type": "execute_result"
    }
   ],
   "source": [
    "model.slim_optimize()"
   ]
  },
  {
   "cell_type": "code",
   "execution_count": 22,
   "metadata": {},
   "outputs": [],
   "source": [
    "for reac_id in desired_medium.keys():\n",
    "    model.reactions.get_by_id(reac_id).lower_bound = - desired_medium[reac_id]"
   ]
  },
  {
   "cell_type": "code",
   "execution_count": 23,
   "metadata": {},
   "outputs": [
    {
     "data": {
      "text/plain": [
       "0.5411933329917056"
      ]
     },
     "execution_count": 23,
     "metadata": {},
     "output_type": "execute_result"
    }
   ],
   "source": [
    "model.slim_optimize()"
   ]
  },
  {
   "cell_type": "code",
   "execution_count": 24,
   "metadata": {},
   "outputs": [
    {
     "data": {
      "text/html": [
       "<div>\n",
       "<style scoped>\n",
       "    .dataframe tbody tr th:only-of-type {\n",
       "        vertical-align: middle;\n",
       "    }\n",
       "\n",
       "    .dataframe tbody tr th {\n",
       "        vertical-align: top;\n",
       "    }\n",
       "\n",
       "    .dataframe thead th {\n",
       "        text-align: right;\n",
       "    }\n",
       "</style>\n",
       "<table border=\"1\" class=\"dataframe\">\n",
       "  <thead>\n",
       "    <tr style=\"text-align: right;\">\n",
       "      <th></th>\n",
       "      <th>fluxes</th>\n",
       "      <th>reduced_costs</th>\n",
       "    </tr>\n",
       "  </thead>\n",
       "  <tbody>\n",
       "    <tr>\n",
       "      <th>EX_15dap(e)</th>\n",
       "      <td>0.0</td>\n",
       "      <td>-0.019680</td>\n",
       "    </tr>\n",
       "    <tr>\n",
       "      <th>EX_adn(e)</th>\n",
       "      <td>-1.0</td>\n",
       "      <td>-0.049199</td>\n",
       "    </tr>\n",
       "    <tr>\n",
       "      <th>EX_alaasp(e)</th>\n",
       "      <td>0.0</td>\n",
       "      <td>-0.019680</td>\n",
       "    </tr>\n",
       "    <tr>\n",
       "      <th>EX_alagln(e)</th>\n",
       "      <td>0.0</td>\n",
       "      <td>-0.029520</td>\n",
       "    </tr>\n",
       "    <tr>\n",
       "      <th>EX_alaglu(e)</th>\n",
       "      <td>0.0</td>\n",
       "      <td>-0.019680</td>\n",
       "    </tr>\n",
       "    <tr>\n",
       "      <th>EX_alagly(e)</th>\n",
       "      <td>0.0</td>\n",
       "      <td>-0.019680</td>\n",
       "    </tr>\n",
       "    <tr>\n",
       "      <th>EX_alathr(e)</th>\n",
       "      <td>0.0</td>\n",
       "      <td>-0.019680</td>\n",
       "    </tr>\n",
       "    <tr>\n",
       "      <th>EX_alltn(e)</th>\n",
       "      <td>0.0</td>\n",
       "      <td>-0.039360</td>\n",
       "    </tr>\n",
       "    <tr>\n",
       "      <th>EX_arg_L(e)</th>\n",
       "      <td>0.0</td>\n",
       "      <td>-0.039360</td>\n",
       "    </tr>\n",
       "    <tr>\n",
       "      <th>EX_asn_L(e)</th>\n",
       "      <td>0.0</td>\n",
       "      <td>-0.019680</td>\n",
       "    </tr>\n",
       "    <tr>\n",
       "      <th>EX_cgly(e)</th>\n",
       "      <td>0.0</td>\n",
       "      <td>-0.019680</td>\n",
       "    </tr>\n",
       "    <tr>\n",
       "      <th>EX_dad_2(e)</th>\n",
       "      <td>0.0</td>\n",
       "      <td>-0.049199</td>\n",
       "    </tr>\n",
       "    <tr>\n",
       "      <th>EX_dgsn(e)</th>\n",
       "      <td>0.0</td>\n",
       "      <td>-0.049199</td>\n",
       "    </tr>\n",
       "    <tr>\n",
       "      <th>EX_din(e)</th>\n",
       "      <td>0.0</td>\n",
       "      <td>-0.039360</td>\n",
       "    </tr>\n",
       "    <tr>\n",
       "      <th>EX_gln_L(e)</th>\n",
       "      <td>0.0</td>\n",
       "      <td>-0.019680</td>\n",
       "    </tr>\n",
       "    <tr>\n",
       "      <th>EX_glyasn(e)</th>\n",
       "      <td>0.0</td>\n",
       "      <td>-0.029520</td>\n",
       "    </tr>\n",
       "    <tr>\n",
       "      <th>EX_glyasp(e)</th>\n",
       "      <td>0.0</td>\n",
       "      <td>-0.019680</td>\n",
       "    </tr>\n",
       "    <tr>\n",
       "      <th>EX_glycys(e)</th>\n",
       "      <td>0.0</td>\n",
       "      <td>-0.019680</td>\n",
       "    </tr>\n",
       "    <tr>\n",
       "      <th>EX_glygln(e)</th>\n",
       "      <td>0.0</td>\n",
       "      <td>-0.029520</td>\n",
       "    </tr>\n",
       "    <tr>\n",
       "      <th>EX_glyglu(e)</th>\n",
       "      <td>0.0</td>\n",
       "      <td>-0.019680</td>\n",
       "    </tr>\n",
       "    <tr>\n",
       "      <th>EX_glymet(e)</th>\n",
       "      <td>0.0</td>\n",
       "      <td>-0.019680</td>\n",
       "    </tr>\n",
       "    <tr>\n",
       "      <th>EX_glypro(e)</th>\n",
       "      <td>0.0</td>\n",
       "      <td>-0.019680</td>\n",
       "    </tr>\n",
       "    <tr>\n",
       "      <th>EX_gsn(e)</th>\n",
       "      <td>-1.0</td>\n",
       "      <td>-0.049199</td>\n",
       "    </tr>\n",
       "    <tr>\n",
       "      <th>EX_hxan(e)</th>\n",
       "      <td>0.0</td>\n",
       "      <td>-0.039360</td>\n",
       "    </tr>\n",
       "    <tr>\n",
       "      <th>EX_ins(e)</th>\n",
       "      <td>0.0</td>\n",
       "      <td>-0.039360</td>\n",
       "    </tr>\n",
       "    <tr>\n",
       "      <th>EX_lys_L(e)</th>\n",
       "      <td>0.0</td>\n",
       "      <td>-0.019680</td>\n",
       "    </tr>\n",
       "    <tr>\n",
       "      <th>EX_metala(e)</th>\n",
       "      <td>0.0</td>\n",
       "      <td>-0.019680</td>\n",
       "    </tr>\n",
       "    <tr>\n",
       "      <th>EX_orn(e)</th>\n",
       "      <td>0.0</td>\n",
       "      <td>-0.019680</td>\n",
       "    </tr>\n",
       "    <tr>\n",
       "      <th>EX_ptrc(e)</th>\n",
       "      <td>0.0</td>\n",
       "      <td>-0.019680</td>\n",
       "    </tr>\n",
       "    <tr>\n",
       "      <th>EX_xan(e)</th>\n",
       "      <td>0.0</td>\n",
       "      <td>-0.039360</td>\n",
       "    </tr>\n",
       "    <tr>\n",
       "      <th>EX_xtsn(e)</th>\n",
       "      <td>0.0</td>\n",
       "      <td>-0.039360</td>\n",
       "    </tr>\n",
       "  </tbody>\n",
       "</table>\n",
       "</div>"
      ],
      "text/plain": [
       "              fluxes  reduced_costs\n",
       "EX_15dap(e)      0.0      -0.019680\n",
       "EX_adn(e)       -1.0      -0.049199\n",
       "EX_alaasp(e)     0.0      -0.019680\n",
       "EX_alagln(e)     0.0      -0.029520\n",
       "EX_alaglu(e)     0.0      -0.019680\n",
       "EX_alagly(e)     0.0      -0.019680\n",
       "EX_alathr(e)     0.0      -0.019680\n",
       "EX_alltn(e)      0.0      -0.039360\n",
       "EX_arg_L(e)      0.0      -0.039360\n",
       "EX_asn_L(e)      0.0      -0.019680\n",
       "EX_cgly(e)       0.0      -0.019680\n",
       "EX_dad_2(e)      0.0      -0.049199\n",
       "EX_dgsn(e)       0.0      -0.049199\n",
       "EX_din(e)        0.0      -0.039360\n",
       "EX_gln_L(e)      0.0      -0.019680\n",
       "EX_glyasn(e)     0.0      -0.029520\n",
       "EX_glyasp(e)     0.0      -0.019680\n",
       "EX_glycys(e)     0.0      -0.019680\n",
       "EX_glygln(e)     0.0      -0.029520\n",
       "EX_glyglu(e)     0.0      -0.019680\n",
       "EX_glymet(e)     0.0      -0.019680\n",
       "EX_glypro(e)     0.0      -0.019680\n",
       "EX_gsn(e)       -1.0      -0.049199\n",
       "EX_hxan(e)       0.0      -0.039360\n",
       "EX_ins(e)        0.0      -0.039360\n",
       "EX_lys_L(e)      0.0      -0.019680\n",
       "EX_metala(e)     0.0      -0.019680\n",
       "EX_orn(e)        0.0      -0.019680\n",
       "EX_ptrc(e)       0.0      -0.019680\n",
       "EX_xan(e)        0.0      -0.039360\n",
       "EX_xtsn(e)       0.0      -0.039360"
      ]
     },
     "execution_count": 24,
     "metadata": {},
     "output_type": "execute_result"
    }
   ],
   "source": [
    "sol = model.optimize()\n",
    "sol = sol.to_frame()\n",
    "sol[sol[\"fluxes\"]>1e-06]\n",
    "relevant_red_costs = sol[abs(sol[\"reduced_costs\"])>1e-02]\n",
    "#print(relevant_red_costs)\n",
    "ex_reacs_to_addorincrease = [r_id for r_id in relevant_red_costs.index if \"EX_\" in r_id]\n",
    "#print(ex_reacs_to_addorincrease)\n",
    "relevant_red_costs.loc[ex_reacs_to_addorincrease]"
   ]
  },
  {
   "cell_type": "code",
   "execution_count": 25,
   "metadata": {},
   "outputs": [
    {
     "data": {
      "text/html": [
       "<div>\n",
       "<style scoped>\n",
       "    .dataframe tbody tr th:only-of-type {\n",
       "        vertical-align: middle;\n",
       "    }\n",
       "\n",
       "    .dataframe tbody tr th {\n",
       "        vertical-align: top;\n",
       "    }\n",
       "\n",
       "    .dataframe thead th {\n",
       "        text-align: right;\n",
       "    }\n",
       "</style>\n",
       "<table border=\"1\" class=\"dataframe\">\n",
       "  <thead>\n",
       "    <tr style=\"text-align: right;\">\n",
       "      <th></th>\n",
       "      <th>fluxes</th>\n",
       "      <th>reduced_costs</th>\n",
       "    </tr>\n",
       "  </thead>\n",
       "  <tbody>\n",
       "    <tr>\n",
       "      <th>ACALDt</th>\n",
       "      <td>-66.435627</td>\n",
       "      <td>0.000000e+00</td>\n",
       "    </tr>\n",
       "    <tr>\n",
       "      <th>ACGK</th>\n",
       "      <td>0.156010</td>\n",
       "      <td>1.734723e-18</td>\n",
       "    </tr>\n",
       "    <tr>\n",
       "      <th>ACGS</th>\n",
       "      <td>0.156010</td>\n",
       "      <td>0.000000e+00</td>\n",
       "    </tr>\n",
       "    <tr>\n",
       "      <th>ACKr</th>\n",
       "      <td>-86.291485</td>\n",
       "      <td>-0.000000e+00</td>\n",
       "    </tr>\n",
       "    <tr>\n",
       "      <th>ACODAr</th>\n",
       "      <td>0.156010</td>\n",
       "      <td>0.000000e+00</td>\n",
       "    </tr>\n",
       "    <tr>\n",
       "      <th>...</th>\n",
       "      <td>...</td>\n",
       "      <td>...</td>\n",
       "    </tr>\n",
       "    <tr>\n",
       "      <th>r0339</th>\n",
       "      <td>15.413177</td>\n",
       "      <td>0.000000e+00</td>\n",
       "    </tr>\n",
       "    <tr>\n",
       "      <th>r0570</th>\n",
       "      <td>66.435627</td>\n",
       "      <td>0.000000e+00</td>\n",
       "    </tr>\n",
       "    <tr>\n",
       "      <th>r2137</th>\n",
       "      <td>0.004226</td>\n",
       "      <td>0.000000e+00</td>\n",
       "    </tr>\n",
       "    <tr>\n",
       "      <th>rtranscription</th>\n",
       "      <td>0.541193</td>\n",
       "      <td>0.000000e+00</td>\n",
       "    </tr>\n",
       "    <tr>\n",
       "      <th>biomass_simplified</th>\n",
       "      <td>0.541193</td>\n",
       "      <td>2.220446e-16</td>\n",
       "    </tr>\n",
       "  </tbody>\n",
       "</table>\n",
       "<p>145 rows × 2 columns</p>\n",
       "</div>"
      ],
      "text/plain": [
       "                       fluxes  reduced_costs\n",
       "ACALDt             -66.435627   0.000000e+00\n",
       "ACGK                 0.156010   1.734723e-18\n",
       "ACGS                 0.156010   0.000000e+00\n",
       "ACKr               -86.291485  -0.000000e+00\n",
       "ACODAr               0.156010   0.000000e+00\n",
       "...                       ...            ...\n",
       "r0339               15.413177   0.000000e+00\n",
       "r0570               66.435627   0.000000e+00\n",
       "r2137                0.004226   0.000000e+00\n",
       "rtranscription       0.541193   0.000000e+00\n",
       "biomass_simplified   0.541193   2.220446e-16\n",
       "\n",
       "[145 rows x 2 columns]"
      ]
     },
     "execution_count": 25,
     "metadata": {},
     "output_type": "execute_result"
    }
   ],
   "source": [
    "active_fluxes = sol[abs(sol[\"fluxes\"])>1e-06]\n",
    "active_fluxes"
   ]
  },
  {
   "cell_type": "code",
   "execution_count": 26,
   "metadata": {},
   "outputs": [
    {
     "name": "stdout",
     "output_type": "stream",
     "text": [
      "                   fluxes  reduced_costs\n",
      "EX_ac(e)        86.451721       0.000000\n",
      "EX_acald(e)     66.435627       0.000000\n",
      "EX_adn(e)       -1.000000      -0.049199\n",
      "EX_biomass(e)    0.541193       0.000000\n",
      "EX_ca2(e)       -0.004226       0.000000\n",
      "EX_cl(e)        -0.004226       0.000000\n",
      "EX_glc_D(e)     -1.000000       0.000000\n",
      "EX_gsn(e)       -1.000000      -0.049199\n",
      "EX_h(e)        236.370348       0.000000\n",
      "EX_h2(e)        20.247658       0.000000\n",
      "EX_h2o(e)       -7.935753       0.000000\n",
      "EX_nac(e)      100.000000       0.000000\n",
      "EX_nmn(e)     -100.000000      -0.009840\n",
      "EX_o2(e)        -5.844079       0.000000\n",
      "EX_ppi(e)       28.538085       0.000000\n",
      "EX_tsul(e)      -0.002113       0.000000\n"
     ]
    }
   ],
   "source": [
    "active_exchanges = sorted([r_id for r_id in active_fluxes.index if \"EX_\" in r_id])\n",
    "print(active_fluxes.loc[active_exchanges])"
   ]
  },
  {
   "cell_type": "code",
   "execution_count": 27,
   "metadata": {},
   "outputs": [],
   "source": [
    "fva_sol = cobra.flux_analysis.flux_variability_analysis(model, fraction_of_optimum=0.1)"
   ]
  },
  {
   "cell_type": "code",
   "execution_count": 28,
   "metadata": {},
   "outputs": [],
   "source": [
    "active_fva_ids = list(set(fva_sol[fva_sol[\"minimum\"] < -1e-06].index)\n",
    "                      .union(set(fva_sol[fva_sol[\"maximum\"] > 1e-06].index)))"
   ]
  },
  {
   "cell_type": "code",
   "execution_count": 29,
   "metadata": {},
   "outputs": [
    {
     "name": "stdout",
     "output_type": "stream",
     "text": [
      "909\n"
     ]
    }
   ],
   "source": [
    "print(len(active_fva_ids))"
   ]
  },
  {
   "cell_type": "code",
   "execution_count": 30,
   "metadata": {},
   "outputs": [
    {
     "data": {
      "text/html": [
       "<div>\n",
       "<style scoped>\n",
       "    .dataframe tbody tr th:only-of-type {\n",
       "        vertical-align: middle;\n",
       "    }\n",
       "\n",
       "    .dataframe tbody tr th {\n",
       "        vertical-align: top;\n",
       "    }\n",
       "\n",
       "    .dataframe thead th {\n",
       "        text-align: right;\n",
       "    }\n",
       "</style>\n",
       "<table border=\"1\" class=\"dataframe\">\n",
       "  <thead>\n",
       "    <tr style=\"text-align: right;\">\n",
       "      <th></th>\n",
       "      <th>minimum</th>\n",
       "      <th>maximum</th>\n",
       "    </tr>\n",
       "  </thead>\n",
       "  <tbody>\n",
       "    <tr>\n",
       "      <th>EX_15dap(e)</th>\n",
       "      <td>0.0</td>\n",
       "      <td>49.500000</td>\n",
       "    </tr>\n",
       "    <tr>\n",
       "      <th>EX_4abut(e)</th>\n",
       "      <td>0.0</td>\n",
       "      <td>99.000000</td>\n",
       "    </tr>\n",
       "    <tr>\n",
       "      <th>EX_4hbz(e)</th>\n",
       "      <td>0.0</td>\n",
       "      <td>71.992292</td>\n",
       "    </tr>\n",
       "    <tr>\n",
       "      <th>EX_ac(e)</th>\n",
       "      <td>0.0</td>\n",
       "      <td>251.973021</td>\n",
       "    </tr>\n",
       "    <tr>\n",
       "      <th>EX_acac(e)</th>\n",
       "      <td>0.0</td>\n",
       "      <td>125.986510</td>\n",
       "    </tr>\n",
       "    <tr>\n",
       "      <th>...</th>\n",
       "      <td>...</td>\n",
       "      <td>...</td>\n",
       "    </tr>\n",
       "    <tr>\n",
       "      <th>EX_ttdca(e)</th>\n",
       "      <td>0.0</td>\n",
       "      <td>25.197302</td>\n",
       "    </tr>\n",
       "    <tr>\n",
       "      <th>EX_tyr_L(e)</th>\n",
       "      <td>0.0</td>\n",
       "      <td>53.046952</td>\n",
       "    </tr>\n",
       "    <tr>\n",
       "      <th>EX_urea(e)</th>\n",
       "      <td>0.0</td>\n",
       "      <td>49.500000</td>\n",
       "    </tr>\n",
       "    <tr>\n",
       "      <th>EX_val_L(e)</th>\n",
       "      <td>0.0</td>\n",
       "      <td>83.991007</td>\n",
       "    </tr>\n",
       "    <tr>\n",
       "      <th>EX_xtsn(e)</th>\n",
       "      <td>0.0</td>\n",
       "      <td>24.750000</td>\n",
       "    </tr>\n",
       "  </tbody>\n",
       "</table>\n",
       "<p>70 rows × 2 columns</p>\n",
       "</div>"
      ],
      "text/plain": [
       "             minimum     maximum\n",
       "EX_15dap(e)      0.0   49.500000\n",
       "EX_4abut(e)      0.0   99.000000\n",
       "EX_4hbz(e)       0.0   71.992292\n",
       "EX_ac(e)         0.0  251.973021\n",
       "EX_acac(e)       0.0  125.986510\n",
       "...              ...         ...\n",
       "EX_ttdca(e)      0.0   25.197302\n",
       "EX_tyr_L(e)      0.0   53.046952\n",
       "EX_urea(e)       0.0   49.500000\n",
       "EX_val_L(e)      0.0   83.991007\n",
       "EX_xtsn(e)       0.0   24.750000\n",
       "\n",
       "[70 rows x 2 columns]"
      ]
     },
     "execution_count": 30,
     "metadata": {},
     "output_type": "execute_result"
    }
   ],
   "source": [
    "active_fva_exchanges = sorted([r_id for r_id in active_fva_ids if \"EX_\" in r_id])\n",
    "fva_sol.loc[active_fva_exchanges]"
   ]
  },
  {
   "cell_type": "code",
   "execution_count": 31,
   "metadata": {},
   "outputs": [
    {
     "name": "stdout",
     "output_type": "stream",
     "text": [
      "['EX_15dap(e)', 'EX_4abut(e)', 'EX_4hbz(e)', 'EX_ac(e)', 'EX_acac(e)', 'EX_acald(e)', 'EX_adn(e)', 'EX_akg(e)', 'EX_ala_D(e)', 'EX_ala_L(e)', 'EX_arg_L(e)', 'EX_asn_L(e)', 'EX_biomass(e)', 'EX_cit(e)', 'EX_co2(e)', 'EX_cys_L(e)', 'EX_dad_2(e)', 'EX_dcyt(e)', 'EX_ddca(e)', 'EX_etoh(e)', 'EX_for(e)', 'EX_fum(e)', 'EX_g6p(e)', 'EX_glcn(e)', 'EX_glu_L(e)', 'EX_gly(e)', 'EX_glyc(e)', 'EX_glyc3p(e)', 'EX_gsn(e)', 'EX_h(e)', 'EX_h2(e)', 'EX_h2o(e)', 'EX_h2s(e)', 'EX_hdca(e)', 'EX_idon_L(e)', 'EX_ile_L(e)', 'EX_indole(e)', 'EX_ins(e)', 'EX_lac_D(e)', 'EX_lac_L(e)', 'EX_leu_L(e)', 'EX_lys_L(e)', 'EX_mal_L(e)', 'EX_nac(e)', 'EX_nh4(e)', 'EX_ocdca(e)', 'EX_orn(e)', 'EX_phe_L(e)', 'EX_pi(e)', 'EX_ppa(e)', 'EX_ppi(e)', 'EX_pro_L(e)', 'EX_ptrc(e)', 'EX_rib_D(e)', 'EX_ser_L(e)', 'EX_succ(e)', 'EX_thr_L(e)', 'EX_thymd(e)', 'EX_trp_L(e)', 'EX_ttdca(e)', 'EX_tyr_L(e)', 'EX_urea(e)', 'EX_val_L(e)', 'EX_xtsn(e)']\n"
     ]
    }
   ],
   "source": [
    "possible_excretions = sorted([r_id for r_id in active_fva_exchanges if fva_sol.loc[r_id].maximum > 1e-06])\n",
    "len(possible_excretions)\n",
    "print(possible_excretions)"
   ]
  },
  {
   "cell_type": "code",
   "execution_count": 32,
   "metadata": {},
   "outputs": [
    {
     "name": "stdout",
     "output_type": "stream",
     "text": [
      "11\n",
      "['EX_adn(e)', 'EX_ca2(e)', 'EX_cl(e)', 'EX_glc_D(e)', 'EX_gsn(e)', 'EX_h(e)', 'EX_h2o(e)', 'EX_nmn(e)', 'EX_o2(e)', 'EX_pi(e)', 'EX_tsul(e)']\n"
     ]
    }
   ],
   "source": [
    "possible_uptakes = sorted([r_id for r_id in active_fva_exchanges if fva_sol.loc[r_id].minimum < -1e-06])\n",
    "print(len(possible_uptakes))\n",
    "print(possible_uptakes)"
   ]
  },
  {
   "cell_type": "code",
   "execution_count": 33,
   "metadata": {},
   "outputs": [],
   "source": [
    "boundary_ids = {r.id for r in model.boundary}"
   ]
  },
  {
   "cell_type": "code",
   "execution_count": 34,
   "metadata": {},
   "outputs": [],
   "source": [
    "other_reacs_like_sinks_or_demands = sorted([r_id for r_id in boundary_ids.intersection(set(active_fva_ids)) \n",
    "                                              if r_id not in set(possible_excretions).union(set(possible_uptakes))])"
   ]
  },
  {
   "cell_type": "code",
   "execution_count": 35,
   "metadata": {},
   "outputs": [
    {
     "name": "stdout",
     "output_type": "stream",
     "text": [
      "14\n",
      "['DM_5DRIB', 'DM_AMOB', 'DM_btn', 'DM_clpn140(c)', 'DM_clpn160(c)', 'DM_clpn180(c)', 'DM_clpni16(c)', 'DM_dad_5', 'DM_dhptd(c)', 'DM_kdo2lipid4L(c)', 'dreplication', 'pbiosynthesis', 'rtranscription', 'sink_s']\n"
     ]
    }
   ],
   "source": [
    "print(len(other_reacs_like_sinks_or_demands))\n",
    "print(other_reacs_like_sinks_or_demands)"
   ]
  },
  {
   "cell_type": "code",
   "execution_count": 36,
   "metadata": {},
   "outputs": [
    {
     "data": {
      "text/plain": [
       "70"
      ]
     },
     "execution_count": 36,
     "metadata": {},
     "output_type": "execute_result"
    }
   ],
   "source": [
    "len(set(possible_excretions).union(set(possible_uptakes)))"
   ]
  },
  {
   "cell_type": "code",
   "execution_count": 37,
   "metadata": {},
   "outputs": [
    {
     "data": {
      "text/plain": [
       "498"
      ]
     },
     "execution_count": 37,
     "metadata": {},
     "output_type": "execute_result"
    }
   ],
   "source": [
    "len(model.boundary)"
   ]
  },
  {
   "cell_type": "code",
   "execution_count": 38,
   "metadata": {},
   "outputs": [
    {
     "name": "stderr",
     "output_type": "stream",
     "text": [
      "/home/stefano/.conda/envs/modelmerge/lib/python3.10/site-packages/cobra/core/group.py:147: UserWarning: need to pass in a list\n",
      "  warn(\"need to pass in a list\")\n"
     ]
    }
   ],
   "source": [
    "reacs_to_remove = list()\n",
    "for r in model.boundary:\n",
    "    if r.id not in set(possible_excretions).union(set(possible_uptakes)).union(other_reacs_like_sinks_or_demands):\n",
    "        reacs_to_remove.append(r)\n",
    "        \n",
    "model.remove_reactions(reacs_to_remove)"
   ]
  },
  {
   "cell_type": "code",
   "execution_count": 39,
   "metadata": {},
   "outputs": [
    {
     "data": {
      "text/plain": [
       "84"
      ]
     },
     "execution_count": 39,
     "metadata": {},
     "output_type": "execute_result"
    }
   ],
   "source": [
    "len(model.boundary)"
   ]
  },
  {
   "cell_type": "code",
   "execution_count": 40,
   "metadata": {},
   "outputs": [
    {
     "name": "stdout",
     "output_type": "stream",
     "text": [
      "True\n"
     ]
    }
   ],
   "source": [
    "print(len(desired_medium.keys())== len(possible_uptakes))"
   ]
  },
  {
   "cell_type": "code",
   "execution_count": 41,
   "metadata": {},
   "outputs": [],
   "source": [
    "for reac_id in desired_medium.keys():\n",
    "    model.reactions.get_by_id(reac_id).lower_bound = - desired_medium[reac_id]"
   ]
  },
  {
   "cell_type": "code",
   "execution_count": 42,
   "metadata": {},
   "outputs": [
    {
     "data": {
      "text/html": [
       "<strong><em>Optimal</em> solution with objective value 0.541</strong><br><div>\n",
       "<style scoped>\n",
       "    .dataframe tbody tr th:only-of-type {\n",
       "        vertical-align: middle;\n",
       "    }\n",
       "\n",
       "    .dataframe tbody tr th {\n",
       "        vertical-align: top;\n",
       "    }\n",
       "\n",
       "    .dataframe thead th {\n",
       "        text-align: right;\n",
       "    }\n",
       "</style>\n",
       "<table border=\"1\" class=\"dataframe\">\n",
       "  <thead>\n",
       "    <tr style=\"text-align: right;\">\n",
       "      <th></th>\n",
       "      <th>fluxes</th>\n",
       "      <th>reduced_costs</th>\n",
       "    </tr>\n",
       "  </thead>\n",
       "  <tbody>\n",
       "    <tr>\n",
       "      <th>12PPDt</th>\n",
       "      <td>0.000000</td>\n",
       "      <td>0.000000e+00</td>\n",
       "    </tr>\n",
       "    <tr>\n",
       "      <th>15DAPt</th>\n",
       "      <td>0.000000</td>\n",
       "      <td>0.000000e+00</td>\n",
       "    </tr>\n",
       "    <tr>\n",
       "      <th>23DHMPO</th>\n",
       "      <td>0.000000</td>\n",
       "      <td>0.000000e+00</td>\n",
       "    </tr>\n",
       "    <tr>\n",
       "      <th>23PDE2</th>\n",
       "      <td>0.000000</td>\n",
       "      <td>0.000000e+00</td>\n",
       "    </tr>\n",
       "    <tr>\n",
       "      <th>23PDE4</th>\n",
       "      <td>0.000000</td>\n",
       "      <td>0.000000e+00</td>\n",
       "    </tr>\n",
       "    <tr>\n",
       "      <th>...</th>\n",
       "      <td>...</td>\n",
       "      <td>...</td>\n",
       "    </tr>\n",
       "    <tr>\n",
       "      <th>r1667</th>\n",
       "      <td>0.000000</td>\n",
       "      <td>-0.000000e+00</td>\n",
       "    </tr>\n",
       "    <tr>\n",
       "      <th>r2137</th>\n",
       "      <td>0.004226</td>\n",
       "      <td>0.000000e+00</td>\n",
       "    </tr>\n",
       "    <tr>\n",
       "      <th>rtranscription</th>\n",
       "      <td>0.541193</td>\n",
       "      <td>0.000000e+00</td>\n",
       "    </tr>\n",
       "    <tr>\n",
       "      <th>sink_s</th>\n",
       "      <td>0.000000</td>\n",
       "      <td>0.000000e+00</td>\n",
       "    </tr>\n",
       "    <tr>\n",
       "      <th>biomass_simplified</th>\n",
       "      <td>0.541193</td>\n",
       "      <td>1.110223e-16</td>\n",
       "    </tr>\n",
       "  </tbody>\n",
       "</table>\n",
       "<p>1899 rows × 2 columns</p>\n",
       "</div>"
      ],
      "text/plain": [
       "<Solution 0.541 at 0x7f80ac130ca0>"
      ]
     },
     "execution_count": 42,
     "metadata": {},
     "output_type": "execute_result"
    }
   ],
   "source": [
    "model.optimize()"
   ]
  },
  {
   "cell_type": "code",
   "execution_count": 43,
   "metadata": {},
   "outputs": [
    {
     "data": {
      "text/plain": [
       "['EX_adn(e)',\n",
       " 'EX_ca2(e)',\n",
       " 'EX_cl(e)',\n",
       " 'EX_glc_D(e)',\n",
       " 'EX_gsn(e)',\n",
       " 'EX_h(e)',\n",
       " 'EX_h2o(e)',\n",
       " 'EX_nmn(e)',\n",
       " 'EX_o2(e)',\n",
       " 'EX_pi(e)',\n",
       " 'EX_tsul(e)']"
      ]
     },
     "execution_count": 43,
     "metadata": {},
     "output_type": "execute_result"
    }
   ],
   "source": [
    "possible_uptakes"
   ]
  },
  {
   "cell_type": "code",
   "execution_count": 44,
   "metadata": {},
   "outputs": [
    {
     "data": {
      "text/plain": [
       "['EX_15dap(e)',\n",
       " 'EX_4abut(e)',\n",
       " 'EX_4hbz(e)',\n",
       " 'EX_ac(e)',\n",
       " 'EX_acac(e)',\n",
       " 'EX_acald(e)',\n",
       " 'EX_adn(e)',\n",
       " 'EX_akg(e)',\n",
       " 'EX_ala_D(e)',\n",
       " 'EX_ala_L(e)',\n",
       " 'EX_arg_L(e)',\n",
       " 'EX_asn_L(e)',\n",
       " 'EX_biomass(e)',\n",
       " 'EX_cit(e)',\n",
       " 'EX_co2(e)',\n",
       " 'EX_cys_L(e)',\n",
       " 'EX_dad_2(e)',\n",
       " 'EX_dcyt(e)',\n",
       " 'EX_ddca(e)',\n",
       " 'EX_etoh(e)',\n",
       " 'EX_for(e)',\n",
       " 'EX_fum(e)',\n",
       " 'EX_g6p(e)',\n",
       " 'EX_glcn(e)',\n",
       " 'EX_glu_L(e)',\n",
       " 'EX_gly(e)',\n",
       " 'EX_glyc(e)',\n",
       " 'EX_glyc3p(e)',\n",
       " 'EX_gsn(e)',\n",
       " 'EX_h(e)',\n",
       " 'EX_h2(e)',\n",
       " 'EX_h2o(e)',\n",
       " 'EX_h2s(e)',\n",
       " 'EX_hdca(e)',\n",
       " 'EX_idon_L(e)',\n",
       " 'EX_ile_L(e)',\n",
       " 'EX_indole(e)',\n",
       " 'EX_ins(e)',\n",
       " 'EX_lac_D(e)',\n",
       " 'EX_lac_L(e)',\n",
       " 'EX_leu_L(e)',\n",
       " 'EX_lys_L(e)',\n",
       " 'EX_mal_L(e)',\n",
       " 'EX_nac(e)',\n",
       " 'EX_nh4(e)',\n",
       " 'EX_ocdca(e)',\n",
       " 'EX_orn(e)',\n",
       " 'EX_phe_L(e)',\n",
       " 'EX_pi(e)',\n",
       " 'EX_ppa(e)',\n",
       " 'EX_ppi(e)',\n",
       " 'EX_pro_L(e)',\n",
       " 'EX_ptrc(e)',\n",
       " 'EX_rib_D(e)',\n",
       " 'EX_ser_L(e)',\n",
       " 'EX_succ(e)',\n",
       " 'EX_thr_L(e)',\n",
       " 'EX_thymd(e)',\n",
       " 'EX_trp_L(e)',\n",
       " 'EX_ttdca(e)',\n",
       " 'EX_tyr_L(e)',\n",
       " 'EX_urea(e)',\n",
       " 'EX_val_L(e)',\n",
       " 'EX_xtsn(e)']"
      ]
     },
     "execution_count": 44,
     "metadata": {},
     "output_type": "execute_result"
    }
   ],
   "source": [
    "possible_excretions"
   ]
  },
  {
   "cell_type": "code",
   "execution_count": 45,
   "metadata": {},
   "outputs": [
    {
     "name": "stdout",
     "output_type": "stream",
     "text": [
      "['EX_ac(e)', 'EX_ala_D(e)', 'EX_ala_L(e)', 'EX_co2(e)', 'EX_etoh(e)', 'EX_for(e)', 'EX_h(e)', 'EX_h2(e)', 'EX_h2o(e)', 'EX_lac_D(e)', 'EX_lac_L(e)', 'EX_trp_L(e)']\n"
     ]
    }
   ],
   "source": [
    "required_excretions = ['EX_ala_D(e)','EX_ala_L(e)','EX_trp_L(e)',\n",
    " 'EX_co2(e)','EX_h2o(e)',\n",
    " 'EX_etoh(e)', 'EX_ac(e)','EX_h2(e)','EX_for(e)','EX_h(e)',\n",
    " 'EX_lac_D(e)','EX_lac_L(e)'] #manually chosen from the list above, to try to include in the model: aerobic respiration (not so sure if I managed to), fermentation, lactic acid fermentation and tryptophan and other amino acids syntehsis\n",
    "print(sorted(required_excretions))"
   ]
  },
  {
   "cell_type": "code",
   "execution_count": 46,
   "metadata": {},
   "outputs": [
    {
     "name": "stdout",
     "output_type": "stream",
     "text": [
      "EX_ala_D(e)\n",
      "99.0\n",
      "EX_ala_L(e)\n",
      "99.0\n",
      "EX_trp_L(e)\n",
      "43.821395\n",
      "EX_co2(e)\n",
      "503.97747\n",
      "EX_h2o(e)\n",
      "193.352241\n",
      "EX_etoh(e)\n",
      "167.982014\n",
      "EX_ac(e)\n",
      "251.973021\n",
      "EX_h2(e)\n",
      "1000.0\n",
      "EX_for(e)\n",
      "503.97747\n",
      "EX_h(e)\n",
      "652.323141\n",
      "EX_lac_D(e)\n",
      "167.982014\n",
      "EX_lac_L(e)\n",
      "167.982014\n",
      "\n",
      "277\n"
     ]
    },
    {
     "name": "stderr",
     "output_type": "stream",
     "text": [
      "/home/stefano/.conda/envs/modelmerge/lib/python3.10/site-packages/cobra/core/group.py:147: UserWarning: need to pass in a list\n",
      "  warn(\"need to pass in a list\")\n"
     ]
    },
    {
     "name": "stdout",
     "output_type": "stream",
     "text": [
      "Read LP format model from file /tmp/tmp33jq4m52.lp\n",
      "Reading time = 0.00 seconds\n",
      ": 1625 rows, 554 columns, 2232 nonzeros\n",
      "EX_ala_D(e)\n",
      "99.0\n",
      "EX_ala_L(e)\n",
      "99.0\n",
      "EX_trp_L(e)\n",
      "43.821395\n",
      "EX_co2(e)\n",
      "503.97747\n",
      "EX_h2o(e)\n",
      "193.352241\n",
      "EX_etoh(e)\n",
      "167.982014\n",
      "EX_ac(e)\n",
      "251.973021\n",
      "EX_h2(e)\n",
      "1000.0\n",
      "EX_for(e)\n",
      "503.97747\n",
      "EX_h(e)\n",
      "652.323141\n",
      "EX_lac_D(e)\n",
      "167.982014\n",
      "EX_lac_L(e)\n",
      "167.982014\n",
      "\n",
      "273\n",
      "Read LP format model from file /tmp/tmp_vtroi5w.lp\n",
      "Reading time = 0.00 seconds\n",
      ": 237 rows, 546 columns, 2202 nonzeros\n"
     ]
    },
    {
     "name": "stderr",
     "output_type": "stream",
     "text": [
      "/home/stefano/.conda/envs/modelmerge/lib/python3.10/site-packages/cobra/core/group.py:147: UserWarning: need to pass in a list\n",
      "  warn(\"need to pass in a list\")\n"
     ]
    },
    {
     "name": "stdout",
     "output_type": "stream",
     "text": [
      "EX_ala_D(e)\n",
      "99.0\n",
      "EX_ala_L(e)\n",
      "99.0\n",
      "EX_trp_L(e)\n",
      "43.821395\n",
      "EX_co2(e)\n",
      "503.97747\n",
      "EX_h2o(e)\n",
      "193.352241\n",
      "EX_etoh(e)\n",
      "167.982014\n",
      "EX_ac(e)\n",
      "251.973021\n",
      "EX_h2(e)\n",
      "1000.0\n",
      "EX_for(e)\n",
      "503.97747\n",
      "EX_h(e)\n",
      "652.323141\n",
      "EX_lac_D(e)\n",
      "167.982014\n",
      "EX_lac_L(e)\n",
      "167.982014\n",
      "\n",
      "273\n",
      "Read LP format model from file /tmp/tmps__nwsvs.lp\n",
      "Reading time = 0.00 seconds\n",
      ": 234 rows, 546 columns, 2202 nonzeros\n",
      "EX_ala_D(e)\n",
      "99.0\n",
      "EX_ala_L(e)\n",
      "99.0\n",
      "EX_trp_L(e)\n",
      "43.821395\n",
      "EX_co2(e)\n",
      "503.97747\n",
      "EX_h2o(e)\n",
      "193.352241\n",
      "EX_etoh(e)\n",
      "167.982014\n",
      "EX_ac(e)\n",
      "251.973021\n",
      "EX_h2(e)\n",
      "1000.0\n",
      "EX_for(e)\n",
      "503.97747\n",
      "EX_h(e)\n",
      "652.323141\n",
      "EX_lac_D(e)\n",
      "167.982014\n",
      "EX_lac_L(e)\n",
      "167.982014\n",
      "\n",
      "273\n",
      "Read LP format model from file /tmp/tmphpa7sj4t.lp\n",
      "Reading time = 0.00 seconds\n",
      ": 234 rows, 546 columns, 2202 nonzeros\n",
      "EX_ala_D(e)\n",
      "99.0\n",
      "EX_ala_L(e)\n",
      "99.0\n",
      "EX_trp_L(e)\n",
      "43.821395\n",
      "EX_co2(e)\n",
      "503.97747\n",
      "EX_h2o(e)\n",
      "193.352241\n",
      "EX_etoh(e)\n",
      "167.982014\n",
      "EX_ac(e)\n",
      "251.973021\n",
      "EX_h2(e)\n",
      "1000.0\n",
      "EX_for(e)\n",
      "503.97747\n",
      "EX_h(e)\n",
      "652.323141\n",
      "EX_lac_D(e)\n",
      "167.982014\n",
      "EX_lac_L(e)\n",
      "167.982014\n",
      "\n",
      "273\n",
      "Read LP format model from file /tmp/tmpqnrmwga2.lp\n",
      "Reading time = 0.00 seconds\n",
      ": 234 rows, 546 columns, 2202 nonzeros\n"
     ]
    }
   ],
   "source": [
    "for i in range(5):\n",
    "    model.reactions.get_by_id(\"biomass_simplified\").lower_bound = 0.1 * model.slim_optimize()\n",
    "    reactions_to_keep = set(required_excretions).union(set(desired_medium.keys()))\n",
    "    for reac in required_excretions:\n",
    "        print(reac)\n",
    "        model.objective = reac\n",
    "        pfba_sol = cobra.flux_analysis.pfba(model)\n",
    "        pfba_sol = pfba_sol.to_frame()\n",
    "        reactions_to_keep = reactions_to_keep.union(set(pfba_sol[abs(pfba_sol[\"fluxes\"])>1e-06].index))\n",
    "        if(pfba_sol[\"fluxes\"][reac] <= 1e-06):\n",
    "            raise Exception(\"warning: required product \" + reac + \" cannot be produced by the model\")\n",
    "        else:\n",
    "            print(round(pfba_sol[\"fluxes\"][reac],6))\n",
    "    model.reactions.get_by_id(\"biomass_simplified\").lower_bound = 0.0\n",
    "    model.objective = \"biomass_simplified\"\n",
    "    print()\n",
    "    print(len(reactions_to_keep))\n",
    "\n",
    "    reacs_to_remove = list()\n",
    "    for reac in model.reactions:\n",
    "        if reac.id not in reactions_to_keep:\n",
    "            reacs_to_remove.append(reac)\n",
    "    model.remove_reactions(reacs_to_remove)\n",
    "    model, removed_metabolites = cobra.manipulation.delete.prune_unused_metabolites(model)\n",
    "    model_reac_ids = [r.id for r in model.reactions]\n",
    "    genes_to_delete = list()\n",
    "    for gene in model.genes:\n",
    "        useful_gene = False\n",
    "        for r in gene.reactions:\n",
    "            if r.id in model_reac_ids:\n",
    "                #print(r.id)\n",
    "                useful_gene = True\n",
    "        if not useful_gene:\n",
    "            genes_to_delete.append(gene)\n",
    "    cobra.manipulation.remove_genes(model, gene_list = genes_to_delete)"
   ]
  },
  {
   "cell_type": "code",
   "execution_count": 47,
   "metadata": {},
   "outputs": [
    {
     "data": {
      "text/html": [
       "\n",
       "        <table>\n",
       "            <tr>\n",
       "                <td><strong>Name</strong></td>\n",
       "                <td>Escherichia_coli_str_K_12_substr_MG1655</td>\n",
       "            </tr><tr>\n",
       "                <td><strong>Memory address</strong></td>\n",
       "                <td>7f80ad2623b0</td>\n",
       "            </tr><tr>\n",
       "                <td><strong>Number of metabolites</strong></td>\n",
       "                <td>234</td>\n",
       "            </tr><tr>\n",
       "                <td><strong>Number of reactions</strong></td>\n",
       "                <td>273</td>\n",
       "            </tr><tr>\n",
       "                <td><strong>Number of genes</strong></td>\n",
       "                <td>407</td>\n",
       "            </tr><tr>\n",
       "                <td><strong>Number of groups</strong></td>\n",
       "                <td>78</td>\n",
       "            </tr><tr>\n",
       "                <td><strong>Objective expression</strong></td>\n",
       "                <td>1.0*biomass_simplified - 1.0*biomass_simplified_reverse_02ae0</td>\n",
       "            </tr><tr>\n",
       "                <td><strong>Compartments</strong></td>\n",
       "                <td>Cytoplasm, Extracellular</td>\n",
       "            </tr>\n",
       "          </table>"
      ],
      "text/plain": [
       "<Model Escherichia_coli_str_K_12_substr_MG1655 at 0x7f80ad2623b0>"
      ]
     },
     "execution_count": 47,
     "metadata": {},
     "output_type": "execute_result"
    }
   ],
   "source": [
    "model"
   ]
  },
  {
   "cell_type": "code",
   "execution_count": 48,
   "metadata": {},
   "outputs": [],
   "source": [
    "model.id = \"mock_e_coli_vmh\"\n",
    "model.name = \"Simplified model obtained subsetting vmh's ecoli K12_substr_MG1655\""
   ]
  },
  {
   "cell_type": "code",
   "execution_count": 49,
   "metadata": {},
   "outputs": [
    {
     "data": {
      "text/html": [
       "\n",
       "        <table>\n",
       "            <tr>\n",
       "                <td><strong>Name</strong></td>\n",
       "                <td>mock_e_coli_vmh</td>\n",
       "            </tr><tr>\n",
       "                <td><strong>Memory address</strong></td>\n",
       "                <td>7f80ad2623b0</td>\n",
       "            </tr><tr>\n",
       "                <td><strong>Number of metabolites</strong></td>\n",
       "                <td>234</td>\n",
       "            </tr><tr>\n",
       "                <td><strong>Number of reactions</strong></td>\n",
       "                <td>273</td>\n",
       "            </tr><tr>\n",
       "                <td><strong>Number of genes</strong></td>\n",
       "                <td>407</td>\n",
       "            </tr><tr>\n",
       "                <td><strong>Number of groups</strong></td>\n",
       "                <td>78</td>\n",
       "            </tr><tr>\n",
       "                <td><strong>Objective expression</strong></td>\n",
       "                <td>1.0*biomass_simplified - 1.0*biomass_simplified_reverse_02ae0</td>\n",
       "            </tr><tr>\n",
       "                <td><strong>Compartments</strong></td>\n",
       "                <td>Cytoplasm, Extracellular</td>\n",
       "            </tr>\n",
       "          </table>"
      ],
      "text/plain": [
       "<Model mock_e_coli_vmh at 0x7f80ad2623b0>"
      ]
     },
     "execution_count": 49,
     "metadata": {},
     "output_type": "execute_result"
    }
   ],
   "source": [
    "model"
   ]
  },
  {
   "cell_type": "code",
   "execution_count": 50,
   "metadata": {},
   "outputs": [
    {
     "data": {
      "text/plain": [
       "[('Alanine and aspartate metabolism', 6),\n",
       " ('Aminobenzoate degradation', 0),\n",
       " ('Aminosugar metabolism', 0),\n",
       " ('Arginine and proline metabolism', 7),\n",
       " ('Ascorbate and aldarate metabolism', 0),\n",
       " ('Benzoate degradation', 0),\n",
       " ('Bile acid metabolism', 0),\n",
       " ('Biosynthesis of siderophore group nonribosomal peptides', 0),\n",
       " ('Biotin metabolism', 0),\n",
       " ('Butanoate metabolism', 3),\n",
       " ('Cell wall biosynthesis', 0),\n",
       " ('Cholesterol metabolism', 0),\n",
       " ('Citric acid cycle', 11),\n",
       " ('CoA synthesis', 0),\n",
       " ('Exchange/demand reaction', 34),\n",
       " ('Fatty acid oxidation', 6),\n",
       " ('Fatty acid synthesis', 20),\n",
       " ('Folate metabolism', 5),\n",
       " ('Fructose and mannose metabolism', 0),\n",
       " ('Galactose metabolism', 0),\n",
       " ('Glutamate metabolism', 5),\n",
       " ('Glutathione metabolism', 0),\n",
       " ('Glycerophospholipid metabolism', 0),\n",
       " ('Glycine, serine, alanine, and threonine metabolism', 11),\n",
       " ('Glycolysis/gluconeogenesis', 18),\n",
       " ('Glyoxylate and dicarboxylate metabolism', 5),\n",
       " ('Heme synthesis', 0),\n",
       " ('Histidine metabolism', 0),\n",
       " ('Inositol phosphate metabolism', 0),\n",
       " ('Lipoate metabolism', 0),\n",
       " ('Lipopolysaccharide biosynthesis', 0),\n",
       " ('Lysine metabolism', 0),\n",
       " ('Methane metabolism', 0),\n",
       " ('Methionine and cysteine metabolism', 10),\n",
       " ('Miscellaneous', 1),\n",
       " ('Mucin O-glycan degradation', 0),\n",
       " ('NAD metabolism', 5),\n",
       " ('Naphthalene degradation', 0),\n",
       " ('Nitrogen metabolism', 0),\n",
       " ('Nucleotide interconversion', 12),\n",
       " ('Nucleotide salvage pathway', 1),\n",
       " ('Nucleotide sugar metabolism', 0),\n",
       " ('O-Glycan degradation', 0),\n",
       " ('Others', 0),\n",
       " ('Oxidative phosphorylation', 3),\n",
       " ('Pentose and glucuronate interconversions', 0),\n",
       " ('Pentose phosphate pathway', 17),\n",
       " ('Peptide metabolism', 0),\n",
       " ('Phenylalanine metabolism', 7),\n",
       " ('Plant polysaccharide degradation', 0),\n",
       " ('Propanoate metabolism', 0),\n",
       " ('Purine catabolism', 2),\n",
       " ('Purine synthesis', 12),\n",
       " ('Pyrimidine catabolism', 3),\n",
       " ('Pyrimidine synthesis', 1),\n",
       " ('Pyruvate metabolism', 14),\n",
       " ('ROS detoxification', 0),\n",
       " ('Respiration', 3),\n",
       " ('Selenoamino acid metabolism', 0),\n",
       " ('Squalene and cholesterol synthesis', 0),\n",
       " ('Starch and sucrose metabolism', 2),\n",
       " ('Sulfur metabolism', 2),\n",
       " ('Terpenoid backbone biosynthesis', 0),\n",
       " ('Tetrahydrobiopterin metabolism', 0),\n",
       " ('Thiamine metabolism', 0),\n",
       " ('Transport, extracellular', 32),\n",
       " ('Tropane, piperidine and pyridine alkaloid biosynthesis', 0),\n",
       " ('Tryptophan metabolism', 7),\n",
       " ('Tyrosine metabolism', 0),\n",
       " ('Ubiquinone and other terpenoid-quinone biosynthesis', 0),\n",
       " ('Unassigned', 1),\n",
       " ('Urea cycle', 4),\n",
       " ('Valine, leucine, and isoleucine metabolism', 0),\n",
       " ('Vitamin B12 metabolism', 0),\n",
       " ('Vitamin B2 metabolism', 1),\n",
       " ('Vitamin B6 metabolism', 0),\n",
       " ('beta-Alanine metabolism', 1),\n",
       " ('tRNA Charging', 0)]"
      ]
     },
     "execution_count": 50,
     "metadata": {},
     "output_type": "execute_result"
    }
   ],
   "source": [
    "[(group.name, len(group.members)) for group in model.groups]"
   ]
  },
  {
   "cell_type": "markdown",
   "metadata": {},
   "source": [
    "<H1>Save model</H1>"
   ]
  },
  {
   "cell_type": "code",
   "execution_count": 51,
   "metadata": {},
   "outputs": [],
   "source": [
    "for reac in model.reactions:\n",
    "    reac.lower_bound = float(reac.lower_bound)\n",
    "    reac.upper_bound = float(reac.upper_bound)"
   ]
  },
  {
   "cell_type": "code",
   "execution_count": 52,
   "metadata": {},
   "outputs": [],
   "source": [
    "cobra.io.write_sbml_model(model,\"../tests/dat/subset_of_e_coli_vmh.xml\")"
   ]
  },
  {
   "cell_type": "code",
   "execution_count": 53,
   "metadata": {},
   "outputs": [
    {
     "data": {
      "text/html": [
       "\n",
       "        <table>\n",
       "            <tr>\n",
       "                <td><strong>Name</strong></td>\n",
       "                <td>mock_e_coli_vmh</td>\n",
       "            </tr><tr>\n",
       "                <td><strong>Memory address</strong></td>\n",
       "                <td>7f80ad2623b0</td>\n",
       "            </tr><tr>\n",
       "                <td><strong>Number of metabolites</strong></td>\n",
       "                <td>234</td>\n",
       "            </tr><tr>\n",
       "                <td><strong>Number of reactions</strong></td>\n",
       "                <td>273</td>\n",
       "            </tr><tr>\n",
       "                <td><strong>Number of genes</strong></td>\n",
       "                <td>407</td>\n",
       "            </tr><tr>\n",
       "                <td><strong>Number of groups</strong></td>\n",
       "                <td>78</td>\n",
       "            </tr><tr>\n",
       "                <td><strong>Objective expression</strong></td>\n",
       "                <td>1.0*biomass_simplified - 1.0*biomass_simplified_reverse_02ae0</td>\n",
       "            </tr><tr>\n",
       "                <td><strong>Compartments</strong></td>\n",
       "                <td>Cytoplasm, Extracellular</td>\n",
       "            </tr>\n",
       "          </table>"
      ],
      "text/plain": [
       "<Model mock_e_coli_vmh at 0x7f80ad2623b0>"
      ]
     },
     "execution_count": 53,
     "metadata": {},
     "output_type": "execute_result"
    }
   ],
   "source": [
    "model"
   ]
  }
 ],
 "metadata": {
  "kernelspec": {
   "display_name": "Python Mamba modelmerge",
   "language": "python",
   "name": "modelmerge"
  },
  "language_info": {
   "codemirror_mode": {
    "name": "ipython",
    "version": 3
   },
   "file_extension": ".py",
   "mimetype": "text/x-python",
   "name": "python",
   "nbconvert_exporter": "python",
   "pygments_lexer": "ipython3",
   "version": "3.10.6"
  }
 },
 "nbformat": 4,
 "nbformat_minor": 2
}
