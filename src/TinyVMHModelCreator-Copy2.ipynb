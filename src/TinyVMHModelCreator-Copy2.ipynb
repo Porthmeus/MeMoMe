{
 "cells": [
  {
   "cell_type": "code",
   "execution_count": 1,
   "metadata": {},
   "outputs": [],
   "source": [
    "import cobra\n",
    "import pandas as pd\n",
    "import os"
   ]
  },
  {
   "cell_type": "code",
   "execution_count": 2,
   "metadata": {},
   "outputs": [
    {
     "name": "stdout",
     "output_type": "stream",
     "text": [
      "Set parameter Username\n",
      "Academic license - for non-commercial use only - expires 2024-06-26\n"
     ]
    }
   ],
   "source": [
    "model = cobra.io.read_sbml_model(\"../tests/dat/e_coli_vmh.xml\")"
   ]
  },
  {
   "cell_type": "code",
   "execution_count": 3,
   "metadata": {},
   "outputs": [
    {
     "data": {
      "text/plain": [
       "{'EX_12ppd_S(e)': 1000.0,\n",
       " 'EX_15dap(e)': 1000.0,\n",
       " 'EX_2ddglcn(e)': 1000.0,\n",
       " 'EX_3hpppn(e)': 1000.0,\n",
       " 'EX_4abut(e)': 1000.0,\n",
       " 'EX_4hbz(e)': 1000.0,\n",
       " 'EX_4hoxpacd(e)': 1000.0,\n",
       " 'EX_7dhcdchol(e)': 1000.0,\n",
       " 'EX_7ocholate(e)': 1000.0,\n",
       " 'EX_C02528(e)': 1000.0,\n",
       " 'EX_Lcyst(e)': 1000.0,\n",
       " 'EX_MGlcn100(e)': 1000.0,\n",
       " 'EX_MGlcn100_rl(e)': 1000.0,\n",
       " 'EX_MGlcn101(e)': 1000.0,\n",
       " 'EX_MGlcn101_rl(e)': 1000.0,\n",
       " 'EX_MGlcn102(e)': 1000.0,\n",
       " 'EX_MGlcn102_rl(e)': 1000.0,\n",
       " 'EX_MGlcn104(e)': 1000.0,\n",
       " 'EX_MGlcn104_rl(e)': 1000.0,\n",
       " 'EX_MGlcn105(e)': 1000.0,\n",
       " 'EX_MGlcn105_rl(e)': 1000.0,\n",
       " 'EX_MGlcn106(e)': 1000.0,\n",
       " 'EX_MGlcn106_rl(e)': 1000.0,\n",
       " 'EX_MGlcn107(e)': 1000.0,\n",
       " 'EX_MGlcn107_rl(e)': 1000.0,\n",
       " 'EX_MGlcn109(e)': 1000.0,\n",
       " 'EX_MGlcn109_rl(e)': 1000.0,\n",
       " 'EX_MGlcn110(e)': 1000.0,\n",
       " 'EX_MGlcn110_rl(e)': 1000.0,\n",
       " 'EX_MGlcn111(e)': 1000.0,\n",
       " 'EX_MGlcn111_rl(e)': 1000.0,\n",
       " 'EX_MGlcn112(e)': 1000.0,\n",
       " 'EX_MGlcn112_rl(e)': 1000.0,\n",
       " 'EX_MGlcn113(e)': 1000.0,\n",
       " 'EX_MGlcn113_rl(e)': 1000.0,\n",
       " 'EX_MGlcn114(e)': 1000.0,\n",
       " 'EX_MGlcn114_rl(e)': 1000.0,\n",
       " 'EX_MGlcn115(e)': 1000.0,\n",
       " 'EX_MGlcn115_rl(e)': 1000.0,\n",
       " 'EX_MGlcn117(e)': 1000.0,\n",
       " 'EX_MGlcn117_rl(e)': 1000.0,\n",
       " 'EX_MGlcn12(e)': 1000.0,\n",
       " 'EX_MGlcn120(e)': 1000.0,\n",
       " 'EX_MGlcn120_rl(e)': 1000.0,\n",
       " 'EX_MGlcn126(e)': 1000.0,\n",
       " 'EX_MGlcn126_rl(e)': 1000.0,\n",
       " 'EX_MGlcn12_rl(e)': 1000.0,\n",
       " 'EX_MGlcn13(e)': 1000.0,\n",
       " 'EX_MGlcn130(e)': 1000.0,\n",
       " 'EX_MGlcn130_rl(e)': 1000.0,\n",
       " 'EX_MGlcn131(e)': 1000.0,\n",
       " 'EX_MGlcn131_rl(e)': 1000.0,\n",
       " 'EX_MGlcn137(e)': 1000.0,\n",
       " 'EX_MGlcn137_rl(e)': 1000.0,\n",
       " 'EX_MGlcn138(e)': 1000.0,\n",
       " 'EX_MGlcn138_rl(e)': 1000.0,\n",
       " 'EX_MGlcn139(e)': 1000.0,\n",
       " 'EX_MGlcn139_rl(e)': 1000.0,\n",
       " 'EX_MGlcn13_rl(e)': 1000.0,\n",
       " 'EX_MGlcn14(e)': 1000.0,\n",
       " 'EX_MGlcn140(e)': 1000.0,\n",
       " 'EX_MGlcn140_rl(e)': 1000.0,\n",
       " 'EX_MGlcn141(e)': 1000.0,\n",
       " 'EX_MGlcn141_rl(e)': 1000.0,\n",
       " 'EX_MGlcn142(e)': 1000.0,\n",
       " 'EX_MGlcn142_rl(e)': 1000.0,\n",
       " 'EX_MGlcn143(e)': 1000.0,\n",
       " 'EX_MGlcn143_rl(e)': 1000.0,\n",
       " 'EX_MGlcn144(e)': 1000.0,\n",
       " 'EX_MGlcn144_rl(e)': 1000.0,\n",
       " 'EX_MGlcn145(e)': 1000.0,\n",
       " 'EX_MGlcn145_rl(e)': 1000.0,\n",
       " 'EX_MGlcn146(e)': 1000.0,\n",
       " 'EX_MGlcn146_rl(e)': 1000.0,\n",
       " 'EX_MGlcn147(e)': 1000.0,\n",
       " 'EX_MGlcn147_rl(e)': 1000.0,\n",
       " 'EX_MGlcn148(e)': 1000.0,\n",
       " 'EX_MGlcn148_rl(e)': 1000.0,\n",
       " 'EX_MGlcn149(e)': 1000.0,\n",
       " 'EX_MGlcn149_rl(e)': 1000.0,\n",
       " 'EX_MGlcn14_rl(e)': 1000.0,\n",
       " 'EX_MGlcn150(e)': 1000.0,\n",
       " 'EX_MGlcn150_rl(e)': 1000.0,\n",
       " 'EX_MGlcn151(e)': 1000.0,\n",
       " 'EX_MGlcn151_rl(e)': 1000.0,\n",
       " 'EX_MGlcn152(e)': 1000.0,\n",
       " 'EX_MGlcn152_rl(e)': 1000.0,\n",
       " 'EX_MGlcn153(e)': 1000.0,\n",
       " 'EX_MGlcn153_rl(e)': 1000.0,\n",
       " 'EX_MGlcn154(e)': 1000.0,\n",
       " 'EX_MGlcn154_rl(e)': 1000.0,\n",
       " 'EX_MGlcn155(e)': 1000.0,\n",
       " 'EX_MGlcn155_rl(e)': 1000.0,\n",
       " 'EX_MGlcn156(e)': 1000.0,\n",
       " 'EX_MGlcn156_rl(e)': 1000.0,\n",
       " 'EX_MGlcn157(e)': 1000.0,\n",
       " 'EX_MGlcn157_rl(e)': 1000.0,\n",
       " 'EX_MGlcn158(e)': 1000.0,\n",
       " 'EX_MGlcn158_rl(e)': 1000.0,\n",
       " 'EX_MGlcn159(e)': 1000.0,\n",
       " 'EX_MGlcn159_rl(e)': 1000.0,\n",
       " 'EX_MGlcn16(e)': 1000.0,\n",
       " 'EX_MGlcn160(e)': 1000.0,\n",
       " 'EX_MGlcn160_rl(e)': 1000.0,\n",
       " 'EX_MGlcn161(e)': 1000.0,\n",
       " 'EX_MGlcn161_rl(e)': 1000.0,\n",
       " 'EX_MGlcn163(e)': 1000.0,\n",
       " 'EX_MGlcn163_rl(e)': 1000.0,\n",
       " 'EX_MGlcn164(e)': 1000.0,\n",
       " 'EX_MGlcn164_rl(e)': 1000.0,\n",
       " 'EX_MGlcn165(e)': 1000.0,\n",
       " 'EX_MGlcn165_rl(e)': 1000.0,\n",
       " 'EX_MGlcn166(e)': 1000.0,\n",
       " 'EX_MGlcn166_rl(e)': 1000.0,\n",
       " 'EX_MGlcn167(e)': 1000.0,\n",
       " 'EX_MGlcn167_rl(e)': 1000.0,\n",
       " 'EX_MGlcn168(e)': 1000.0,\n",
       " 'EX_MGlcn168_rl(e)': 1000.0,\n",
       " 'EX_MGlcn169(e)': 1000.0,\n",
       " 'EX_MGlcn169_rl(e)': 1000.0,\n",
       " 'EX_MGlcn16_rl(e)': 1000.0,\n",
       " 'EX_MGlcn170(e)': 1000.0,\n",
       " 'EX_MGlcn170_rl(e)': 1000.0,\n",
       " 'EX_MGlcn171(e)': 1000.0,\n",
       " 'EX_MGlcn171_rl(e)': 1000.0,\n",
       " 'EX_MGlcn172(e)': 1000.0,\n",
       " 'EX_MGlcn172_rl(e)': 1000.0,\n",
       " 'EX_MGlcn173(e)': 1000.0,\n",
       " 'EX_MGlcn173_rl(e)': 1000.0,\n",
       " 'EX_MGlcn174(e)': 1000.0,\n",
       " 'EX_MGlcn174_rl(e)': 1000.0,\n",
       " 'EX_MGlcn175(e)': 1000.0,\n",
       " 'EX_MGlcn175_rl(e)': 1000.0,\n",
       " 'EX_MGlcn176(e)': 1000.0,\n",
       " 'EX_MGlcn176_rl(e)': 1000.0,\n",
       " 'EX_MGlcn177(e)': 1000.0,\n",
       " 'EX_MGlcn177_rl(e)': 1000.0,\n",
       " 'EX_MGlcn178(e)': 1000.0,\n",
       " 'EX_MGlcn178_rl(e)': 1000.0,\n",
       " 'EX_MGlcn179(e)': 1000.0,\n",
       " 'EX_MGlcn179_rl(e)': 1000.0,\n",
       " 'EX_MGlcn18(e)': 1000.0,\n",
       " 'EX_MGlcn180(e)': 1000.0,\n",
       " 'EX_MGlcn180_rl(e)': 1000.0,\n",
       " 'EX_MGlcn181(e)': 1000.0,\n",
       " 'EX_MGlcn181_rl(e)': 1000.0,\n",
       " 'EX_MGlcn182(e)': 1000.0,\n",
       " 'EX_MGlcn182_rl(e)': 1000.0,\n",
       " 'EX_MGlcn18_rl(e)': 1000.0,\n",
       " 'EX_MGlcn195(e)': 1000.0,\n",
       " 'EX_MGlcn195_rl(e)': 1000.0,\n",
       " 'EX_MGlcn196(e)': 1000.0,\n",
       " 'EX_MGlcn196_rl(e)': 1000.0,\n",
       " 'EX_MGlcn2(e)': 1000.0,\n",
       " 'EX_MGlcn21(e)': 1000.0,\n",
       " 'EX_MGlcn21_rl(e)': 1000.0,\n",
       " 'EX_MGlcn22(e)': 1000.0,\n",
       " 'EX_MGlcn22_rl(e)': 1000.0,\n",
       " 'EX_MGlcn23(e)': 1000.0,\n",
       " 'EX_MGlcn23_rl(e)': 1000.0,\n",
       " 'EX_MGlcn25(e)': 1000.0,\n",
       " 'EX_MGlcn25_rl(e)': 1000.0,\n",
       " 'EX_MGlcn26(e)': 1000.0,\n",
       " 'EX_MGlcn26_rl(e)': 1000.0,\n",
       " 'EX_MGlcn27(e)': 1000.0,\n",
       " 'EX_MGlcn27_rl(e)': 1000.0,\n",
       " 'EX_MGlcn28(e)': 1000.0,\n",
       " 'EX_MGlcn28_rl(e)': 1000.0,\n",
       " 'EX_MGlcn29(e)': 1000.0,\n",
       " 'EX_MGlcn29_rl(e)': 1000.0,\n",
       " 'EX_MGlcn2_rl(e)': 1000.0,\n",
       " 'EX_MGlcn3(e)': 1000.0,\n",
       " 'EX_MGlcn30(e)': 1000.0,\n",
       " 'EX_MGlcn30_rl(e)': 1000.0,\n",
       " 'EX_MGlcn31(e)': 1000.0,\n",
       " 'EX_MGlcn31_rl(e)': 1000.0,\n",
       " 'EX_MGlcn32(e)': 1000.0,\n",
       " 'EX_MGlcn32_rl(e)': 1000.0,\n",
       " 'EX_MGlcn34(e)': 1000.0,\n",
       " 'EX_MGlcn34_rl(e)': 1000.0,\n",
       " 'EX_MGlcn35(e)': 1000.0,\n",
       " 'EX_MGlcn35_rl(e)': 1000.0,\n",
       " 'EX_MGlcn36(e)': 1000.0,\n",
       " 'EX_MGlcn36_rl(e)': 1000.0,\n",
       " 'EX_MGlcn39(e)': 1000.0,\n",
       " 'EX_MGlcn39_rl(e)': 1000.0,\n",
       " 'EX_MGlcn3_rl(e)': 1000.0,\n",
       " 'EX_MGlcn4(e)': 1000.0,\n",
       " 'EX_MGlcn42(e)': 1000.0,\n",
       " 'EX_MGlcn42_rl(e)': 1000.0,\n",
       " 'EX_MGlcn45(e)': 1000.0,\n",
       " 'EX_MGlcn45_rl(e)': 1000.0,\n",
       " 'EX_MGlcn46(e)': 1000.0,\n",
       " 'EX_MGlcn46_rl(e)': 1000.0,\n",
       " 'EX_MGlcn48(e)': 1000.0,\n",
       " 'EX_MGlcn48_rl(e)': 1000.0,\n",
       " 'EX_MGlcn4_rl(e)': 1000.0,\n",
       " 'EX_MGlcn5(e)': 1000.0,\n",
       " 'EX_MGlcn51(e)': 1000.0,\n",
       " 'EX_MGlcn51_rl(e)': 1000.0,\n",
       " 'EX_MGlcn53(e)': 1000.0,\n",
       " 'EX_MGlcn53_rl(e)': 1000.0,\n",
       " 'EX_MGlcn55(e)': 1000.0,\n",
       " 'EX_MGlcn55_rl(e)': 1000.0,\n",
       " 'EX_MGlcn56(e)': 1000.0,\n",
       " 'EX_MGlcn56_rl(e)': 1000.0,\n",
       " 'EX_MGlcn57(e)': 1000.0,\n",
       " 'EX_MGlcn57_rl(e)': 1000.0,\n",
       " 'EX_MGlcn58(e)': 1000.0,\n",
       " 'EX_MGlcn58_rl(e)': 1000.0,\n",
       " 'EX_MGlcn5_rl(e)': 1000.0,\n",
       " 'EX_MGlcn6(e)': 1000.0,\n",
       " 'EX_MGlcn61(e)': 1000.0,\n",
       " 'EX_MGlcn61_rl(e)': 1000.0,\n",
       " 'EX_MGlcn64(e)': 1000.0,\n",
       " 'EX_MGlcn64_rl(e)': 1000.0,\n",
       " 'EX_MGlcn65(e)': 1000.0,\n",
       " 'EX_MGlcn65_rl(e)': 1000.0,\n",
       " 'EX_MGlcn66(e)': 1000.0,\n",
       " 'EX_MGlcn66_rl(e)': 1000.0,\n",
       " 'EX_MGlcn68(e)': 1000.0,\n",
       " 'EX_MGlcn68_rl(e)': 1000.0,\n",
       " 'EX_MGlcn69(e)': 1000.0,\n",
       " 'EX_MGlcn69_rl(e)': 1000.0,\n",
       " 'EX_MGlcn6_rl(e)': 1000.0,\n",
       " 'EX_MGlcn70(e)': 1000.0,\n",
       " 'EX_MGlcn70_rl(e)': 1000.0,\n",
       " 'EX_MGlcn71(e)': 1000.0,\n",
       " 'EX_MGlcn71_rl(e)': 1000.0,\n",
       " 'EX_MGlcn72(e)': 1000.0,\n",
       " 'EX_MGlcn72_rl(e)': 1000.0,\n",
       " 'EX_MGlcn74(e)': 1000.0,\n",
       " 'EX_MGlcn74_rl(e)': 1000.0,\n",
       " 'EX_MGlcn75(e)': 1000.0,\n",
       " 'EX_MGlcn75_rl(e)': 1000.0,\n",
       " 'EX_MGlcn77(e)': 1000.0,\n",
       " 'EX_MGlcn77_rl(e)': 1000.0,\n",
       " 'EX_MGlcn78(e)': 1000.0,\n",
       " 'EX_MGlcn78_rl(e)': 1000.0,\n",
       " 'EX_MGlcn79(e)': 1000.0,\n",
       " 'EX_MGlcn79_rl(e)': 1000.0,\n",
       " 'EX_MGlcn80(e)': 1000.0,\n",
       " 'EX_MGlcn80_rl(e)': 1000.0,\n",
       " 'EX_MGlcn81(e)': 1000.0,\n",
       " 'EX_MGlcn81_rl(e)': 1000.0,\n",
       " 'EX_MGlcn82(e)': 1000.0,\n",
       " 'EX_MGlcn82_rl(e)': 1000.0,\n",
       " 'EX_MGlcn83(e)': 1000.0,\n",
       " 'EX_MGlcn83_rl(e)': 1000.0,\n",
       " 'EX_MGlcn84(e)': 1000.0,\n",
       " 'EX_MGlcn84_rl(e)': 1000.0,\n",
       " 'EX_MGlcn85(e)': 1000.0,\n",
       " 'EX_MGlcn85_rl(e)': 1000.0,\n",
       " 'EX_MGlcn90(e)': 1000.0,\n",
       " 'EX_MGlcn90_rl(e)': 1000.0,\n",
       " 'EX_MGlcn91(e)': 1000.0,\n",
       " 'EX_MGlcn91_rl(e)': 1000.0,\n",
       " 'EX_MGlcn92(e)': 1000.0,\n",
       " 'EX_MGlcn92_rl(e)': 1000.0,\n",
       " 'EX_MGlcn93(e)': 1000.0,\n",
       " 'EX_MGlcn93_rl(e)': 1000.0,\n",
       " 'EX_MGlcn94(e)': 1000.0,\n",
       " 'EX_MGlcn94_rl(e)': 1000.0,\n",
       " 'EX_MGlcn95(e)': 1000.0,\n",
       " 'EX_MGlcn95_rl(e)': 1000.0,\n",
       " 'EX_MGlcn96(e)': 1000.0,\n",
       " 'EX_MGlcn96_rl(e)': 1000.0,\n",
       " 'EX_MGlcn97(e)': 1000.0,\n",
       " 'EX_MGlcn97_rl(e)': 1000.0,\n",
       " 'EX_MGlcn98(e)': 1000.0,\n",
       " 'EX_MGlcn98_rl(e)': 1000.0,\n",
       " 'EX_MGlcn99(e)': 1000.0,\n",
       " 'EX_MGlcn99_rl(e)': 1000.0,\n",
       " 'EX_T_antigen(e)': 1000.0,\n",
       " 'EX_Tn_antigen(e)': 1000.0,\n",
       " 'EX_ac(e)': 1000.0,\n",
       " 'EX_acac(e)': 1000.0,\n",
       " 'EX_acald(e)': 1000.0,\n",
       " 'EX_acgal(e)': 1000.0,\n",
       " 'EX_acgam(e)': 1000.0,\n",
       " 'EX_acnam(e)': 1000.0,\n",
       " 'EX_acnam2a6agal(e)': 1000.0,\n",
       " 'EX_adn(e)': 1000.0,\n",
       " 'EX_adocbl(e)': 1000.0,\n",
       " 'EX_agam1b3agal(e)': 1000.0,\n",
       " 'EX_agam1b6agal(e)': 1000.0,\n",
       " 'EX_akg(e)': 1000.0,\n",
       " 'EX_ala_D(e)': 1000.0,\n",
       " 'EX_ala_L(e)': 1000.0,\n",
       " 'EX_alaasp(e)': 1000.0,\n",
       " 'EX_alagln(e)': 1000.0,\n",
       " 'EX_alaglu(e)': 1000.0,\n",
       " 'EX_alagly(e)': 1000.0,\n",
       " 'EX_alahis(e)': 1000.0,\n",
       " 'EX_alaleu(e)': 1000.0,\n",
       " 'EX_alathr(e)': 1000.0,\n",
       " 'EX_alltn(e)': 1000.0,\n",
       " 'EX_arab_L(e)': 1000.0,\n",
       " 'EX_arbt(e)': 1000.0,\n",
       " 'EX_arg_L(e)': 1000.0,\n",
       " 'EX_asn_L(e)': 1000.0,\n",
       " 'EX_aso3(e)': 1000.0,\n",
       " 'EX_aso4(e)': 1000.0,\n",
       " 'EX_asp_L(e)': 1000.0,\n",
       " 'EX_btn(e)': 1000.0,\n",
       " 'EX_but(e)': 1000.0,\n",
       " 'EX_butso3(e)': 1000.0,\n",
       " 'EX_ca2(e)': 1000.0,\n",
       " 'EX_cbl1(e)': 1000.0,\n",
       " 'EX_cbl2(e)': 1000.0,\n",
       " 'EX_cd2(e)': 1000.0,\n",
       " 'EX_cgly(e)': 1000.0,\n",
       " 'EX_chol(e)': 1000.0,\n",
       " 'EX_cholate(e)': 1000.0,\n",
       " 'EX_cinnm(e)': 1000.0,\n",
       " 'EX_cit(e)': 1000.0,\n",
       " 'EX_cl(e)': 1000.0,\n",
       " 'EX_co2(e)': 1000.0,\n",
       " 'EX_cobalt2(e)': 1000.0,\n",
       " 'EX_core2(e)': 1000.0,\n",
       " 'EX_core2_rl(e)': 1000.0,\n",
       " 'EX_core3(e)': 1000.0,\n",
       " 'EX_core6(e)': 1000.0,\n",
       " 'EX_core8(e)': 1000.0,\n",
       " 'EX_crn(e)': 1000.0,\n",
       " 'EX_csn(e)': 1000.0,\n",
       " 'EX_ctbt(e)': 1000.0,\n",
       " 'EX_cu2(e)': 1000.0,\n",
       " 'EX_cynt(e)': 1000.0,\n",
       " 'EX_cys_L(e)': 1000.0,\n",
       " 'EX_cytd(e)': 1000.0,\n",
       " 'EX_dad_2(e)': 1000.0,\n",
       " 'EX_dcyt(e)': 1000.0,\n",
       " 'EX_ddca(e)': 1000.0,\n",
       " 'EX_dgsn(e)': 1000.0,\n",
       " 'EX_dhcinnm(e)': 1000.0,\n",
       " 'EX_dhpppn(e)': 1000.0,\n",
       " 'EX_din(e)': 1000.0,\n",
       " 'EX_dms(e)': 1000.0,\n",
       " 'EX_dmso(e)': 1000.0,\n",
       " 'EX_drib(e)': 1000.0,\n",
       " 'EX_duri(e)': 1000.0,\n",
       " 'EX_etha(e)': 1000.0,\n",
       " 'EX_ethso3(e)': 1000.0,\n",
       " 'EX_etoh(e)': 1000.0,\n",
       " 'EX_f1a(e)': 1000.0,\n",
       " 'EX_f1a_rl(e)': 1000.0,\n",
       " 'EX_fe2(e)': 1000.0,\n",
       " 'EX_fe3(e)': 1000.0,\n",
       " 'EX_fecrm(e)': 1000.0,\n",
       " 'EX_for(e)': 1000.0,\n",
       " 'EX_fru(e)': 1000.0,\n",
       " 'EX_fuc1p_L(e)': 1000.0,\n",
       " 'EX_fuc_L(e)': 1000.0,\n",
       " 'EX_fum(e)': 1000.0,\n",
       " 'EX_g6p(e)': 1000.0,\n",
       " 'EX_gal(e)': 1000.0,\n",
       " 'EX_gal1a3acgal(e)': 1000.0,\n",
       " 'EX_gal1b3acgal(e)': 1000.0,\n",
       " 'EX_galct_D(e)': 1000.0,\n",
       " 'EX_galctn_D(e)': 1000.0,\n",
       " 'EX_galt(e)': 1000.0,\n",
       " 'EX_galur(e)': 1000.0,\n",
       " 'EX_gbbtn(e)': 1000.0,\n",
       " 'EX_gcald(e)': 1000.0,\n",
       " 'EX_glc_D(e)': 1000.0,\n",
       " 'EX_glcn(e)': 1000.0,\n",
       " 'EX_glcr(e)': 1000.0,\n",
       " 'EX_glcur(e)': 1000.0,\n",
       " 'EX_gln_L(e)': 1000.0,\n",
       " 'EX_glu_L(e)': 1000.0,\n",
       " 'EX_gly(e)': 1000.0,\n",
       " 'EX_glyasn(e)': 1000.0,\n",
       " 'EX_glyasp(e)': 1000.0,\n",
       " 'EX_glyb(e)': 1000.0,\n",
       " 'EX_glyc(e)': 1000.0,\n",
       " 'EX_glyc3p(e)': 1000.0,\n",
       " 'EX_glyclt(e)': 1000.0,\n",
       " 'EX_glycys(e)': 1000.0,\n",
       " 'EX_glygln(e)': 1000.0,\n",
       " 'EX_glyglu(e)': 1000.0,\n",
       " 'EX_glyleu(e)': 1000.0,\n",
       " 'EX_glymet(e)': 1000.0,\n",
       " 'EX_glyphe(e)': 1000.0,\n",
       " 'EX_glypro(e)': 1000.0,\n",
       " 'EX_glytyr(e)': 1000.0,\n",
       " 'EX_gsn(e)': 1000.0,\n",
       " 'EX_h(e)': 1000.0,\n",
       " 'EX_h2(e)': 1000.0,\n",
       " 'EX_h2o(e)': 1000.0,\n",
       " 'EX_h2s(e)': 1000.0,\n",
       " 'EX_hdca(e)': 1000.0,\n",
       " 'EX_hexs(e)': 1000.0,\n",
       " 'EX_hg2(e)': 1000.0,\n",
       " 'EX_his_L(e)': 1000.0,\n",
       " 'EX_hxan(e)': 1000.0,\n",
       " 'EX_idon_L(e)': 1000.0,\n",
       " 'EX_ile_L(e)': 1000.0,\n",
       " 'EX_indole(e)': 1000.0,\n",
       " 'EX_ins(e)': 1000.0,\n",
       " 'EX_isetac(e)': 1000.0,\n",
       " 'EX_k(e)': 1000.0,\n",
       " 'EX_lac_D(e)': 1000.0,\n",
       " 'EX_lac_L(e)': 1000.0,\n",
       " 'EX_lcts(e)': 1000.0,\n",
       " 'EX_leu_L(e)': 1000.0,\n",
       " 'EX_lys_L(e)': 1000.0,\n",
       " 'EX_mal_L(e)': 1000.0,\n",
       " 'EX_malt(e)': 1000.0,\n",
       " 'EX_malthx(e)': 1000.0,\n",
       " 'EX_malttr(e)': 1000.0,\n",
       " 'EX_man(e)': 1000.0,\n",
       " 'EX_man6p(e)': 1000.0,\n",
       " 'EX_mantr(e)': 1000.0,\n",
       " 'EX_melib(e)': 1000.0,\n",
       " 'EX_met_D(e)': 1000.0,\n",
       " 'EX_met_L(e)': 1000.0,\n",
       " 'EX_metala(e)': 1000.0,\n",
       " 'EX_metsox_R_L(e)': 1000.0,\n",
       " 'EX_metsox_S_L(e)': 1000.0,\n",
       " 'EX_mg2(e)': 1000.0,\n",
       " 'EX_mn2(e)': 1000.0,\n",
       " 'EX_mnl(e)': 1000.0,\n",
       " 'EX_mops(e)': 1000.0,\n",
       " 'EX_mso3(e)': 1000.0,\n",
       " 'EX_na1(e)': 1000.0,\n",
       " 'EX_nac(e)': 1000.0,\n",
       " 'EX_nh4(e)': 1000.0,\n",
       " 'EX_nmn(e)': 1000.0,\n",
       " 'EX_no2(e)': 1000.0,\n",
       " 'EX_no3(e)': 1000.0,\n",
       " 'EX_o2(e)': 1000.0,\n",
       " 'EX_ocdca(e)': 1000.0,\n",
       " 'EX_orn(e)': 1000.0,\n",
       " 'EX_pac(e)': 1000.0,\n",
       " 'EX_pb(e)': 1000.0,\n",
       " 'EX_phe_L(e)': 1000.0,\n",
       " 'EX_pi(e)': 1000.0,\n",
       " 'EX_pnto_R(e)': 1000.0,\n",
       " 'EX_ppa(e)': 1000.0,\n",
       " 'EX_ppi(e)': 1000.0,\n",
       " 'EX_pppn(e)': 1000.0,\n",
       " 'EX_pro_L(e)': 1000.0,\n",
       " 'EX_ptrc(e)': 1000.0,\n",
       " 'EX_pydam(e)': 1000.0,\n",
       " 'EX_pydx(e)': 1000.0,\n",
       " 'EX_pydxn(e)': 1000.0,\n",
       " 'EX_rib_D(e)': 1000.0,\n",
       " 'EX_rmn(e)': 1000.0,\n",
       " 'EX_sTn_antigen(e)': 1000.0,\n",
       " 'EX_salcn(e)': 1000.0,\n",
       " 'EX_sbt_D(e)': 1000.0,\n",
       " 'EX_sel(e)': 1000.0,\n",
       " 'EX_selni(e)': 1000.0,\n",
       " 'EX_ser_D(e)': 1000.0,\n",
       " 'EX_ser_L(e)': 1000.0,\n",
       " 'EX_so4(e)': 1000.0,\n",
       " 'EX_spmd(e)': 1000.0,\n",
       " 'EX_succ(e)': 1000.0,\n",
       " 'EX_sucr(e)': 1000.0,\n",
       " 'EX_sulfac(e)': 1000.0,\n",
       " 'EX_taur(e)': 1000.0,\n",
       " 'EX_thm(e)': 1000.0,\n",
       " 'EX_thr_L(e)': 1000.0,\n",
       " 'EX_thymd(e)': 1000.0,\n",
       " 'EX_tma(e)': 1000.0,\n",
       " 'EX_tmao(e)': 1000.0,\n",
       " 'EX_tre(e)': 1000.0,\n",
       " 'EX_trp_L(e)': 1000.0,\n",
       " 'EX_tsul(e)': 1000.0,\n",
       " 'EX_ttdca(e)': 1000.0,\n",
       " 'EX_tym(e)': 1000.0,\n",
       " 'EX_tyr_L(e)': 1000.0,\n",
       " 'EX_ura(e)': 1000.0,\n",
       " 'EX_urea(e)': 1000.0,\n",
       " 'EX_uri(e)': 1000.0,\n",
       " 'EX_val_L(e)': 1000.0,\n",
       " 'EX_xan(e)': 1000.0,\n",
       " 'EX_xtsn(e)': 1000.0,\n",
       " 'EX_xyl_D(e)': 1000.0,\n",
       " 'EX_zn2(e)': 1000.0}"
      ]
     },
     "execution_count": 3,
     "metadata": {},
     "output_type": "execute_result"
    }
   ],
   "source": [
    "model.medium"
   ]
  },
  {
   "cell_type": "code",
   "execution_count": 4,
   "metadata": {},
   "outputs": [],
   "source": [
    "old_medium = model.medium.copy()"
   ]
  },
  {
   "cell_type": "code",
   "execution_count": 5,
   "metadata": {},
   "outputs": [],
   "source": [
    "desired_outputs = [\"EX_lac_D(e)\",\n",
    "                   \"EX_for(e)\",\n",
    "                   \"EX_ac(e)\",\n",
    "                   \"EX_etoh(e)\"]"
   ]
  },
  {
   "cell_type": "code",
   "execution_count": 6,
   "metadata": {},
   "outputs": [],
   "source": [
    "for exch in desired_outputs:\n",
    "    try:\n",
    "        model.reactions.get_by_id(exch)\n",
    "    except:\n",
    "        print(exch + \" is mispelled or not part of the exchange reactions of the model\")"
   ]
  },
  {
   "cell_type": "code",
   "execution_count": 7,
   "metadata": {},
   "outputs": [
    {
     "name": "stderr",
     "output_type": "stream",
     "text": [
      "/home/stefano/.conda/envs/modelmerge/lib/python3.10/site-packages/cobra/medium/minimal_medium.py:112: FutureWarning: The default dtype for empty Series will be 'object' instead of 'float64' in a future version. Specify a dtype explicitly to silence this warning.\n",
      "  medium = pd.Series()\n"
     ]
    },
    {
     "data": {
      "text/plain": [
       "EX_12ppd_S(e)     424.390171\n",
       "EX_acnam(e)        25.839514\n",
       "EX_arg_L(e)        61.512188\n",
       "EX_asn_L(e)        32.786978\n",
       "EX_but(e)        1000.000000\n",
       "EX_ca2(e)           1.091046\n",
       "EX_cit(e)        1000.000000\n",
       "EX_cl(e)            1.091046\n",
       "EX_cobalt2(e)       1.091046\n",
       "EX_cu2(e)           1.091046\n",
       "EX_cys_L(e)        14.613425\n",
       "EX_cytd(e)         19.786609\n",
       "EX_dad_2(e)        87.275477\n",
       "EX_dgsn(e)         33.036471\n",
       "EX_din(e)         708.098748\n",
       "EX_etoh(e)        171.589303\n",
       "EX_fe2(e)           1.091046\n",
       "EX_fe3(e)           1.091046\n",
       "EX_glu_L(e)        84.453712\n",
       "EX_glyc3p(e)      267.590095\n",
       "EX_glyleu(e)       59.642403\n",
       "EX_h2s(e)          21.955233\n",
       "EX_his_L(e)        12.940294\n",
       "EX_ile_L(e)        39.474862\n",
       "EX_k(e)             1.091046\n",
       "EX_lac_D(e)         5.428463\n",
       "EX_leu_L(e)         1.642478\n",
       "EX_lys_L(e)        46.600037\n",
       "EX_mg2(e)           1.091046\n",
       "EX_mn2(e)           1.091046\n",
       "EX_nmn(e)        1000.000000\n",
       "EX_phe_L(e)        25.225911\n",
       "EX_pnto_R(e)        2.182092\n",
       "EX_pro_L(e)        30.097574\n",
       "EX_ser_L(e)        52.893438\n",
       "EX_so4(e)           1.091046\n",
       "EX_thr_L(e)      1000.000000\n",
       "EX_tmao(e)        806.440785\n",
       "EX_trp_L(e)         7.705946\n",
       "EX_tyr_L(e)        18.755973\n",
       "EX_val_L(e)        57.504348\n",
       "EX_zn2(e)           1.091046\n",
       "dtype: float64"
      ]
     },
     "execution_count": 7,
     "metadata": {},
     "output_type": "execute_result"
    }
   ],
   "source": [
    "max_growth = model.slim_optimize()\n",
    "cobra.medium.minimal_medium(model, max_growth)"
   ]
  },
  {
   "cell_type": "code",
   "execution_count": 8,
   "metadata": {},
   "outputs": [
    {
     "data": {
      "text/latex": [
       "$\\displaystyle 1.0 \\cdot biomass_{525} - 1.0 \\cdot biomass_{525 reverse 5c178}$"
      ],
      "text/plain": [
       "1.0*biomass525 - 1.0*biomass525_reverse_5c178"
      ]
     },
     "execution_count": 8,
     "metadata": {},
     "output_type": "execute_result"
    }
   ],
   "source": [
    "model.objective.expression"
   ]
  },
  {
   "cell_type": "code",
   "execution_count": 9,
   "metadata": {},
   "outputs": [],
   "source": [
    "biomass_func = model.reactions.get_by_id(\"biomass525\")"
   ]
  },
  {
   "cell_type": "code",
   "execution_count": 10,
   "metadata": {},
   "outputs": [
    {
     "data": {
      "text/plain": [
       "{<Metabolite ACP[c] at 0x7f29eedcae00>: -0.0078094,\n",
       " <Metabolite PGP[c] at 0x7f29ee346380>: -0.092476,\n",
       " <Metabolite ala_L[c] at 0x7f29ee347220>: -0.50006,\n",
       " <Metabolite amet[c] at 0x7f29ee3474f0>: -0.0078094,\n",
       " <Metabolite arg_L[c] at 0x7f29ee3479a0>: -0.28827,\n",
       " <Metabolite asn_L[c] at 0x7f29ee347a60>: -0.23468,\n",
       " <Metabolite asp_L[c] at 0x7f29ee3477f0>: -0.23468,\n",
       " <Metabolite atp[c] at 0x7f29ee347be0>: -40.1701,\n",
       " <Metabolite ca2[c] at 0x7f29ee347fa0>: -0.0078094,\n",
       " <Metabolite cl[c] at 0x7f29ee398820>: -0.0078094,\n",
       " <Metabolite coa[c] at 0x7f29ee398af0>: -0.0078094,\n",
       " <Metabolite cobalt2[c] at 0x7f29ee398b20>: -0.0078094,\n",
       " <Metabolite ctp[c] at 0x7f29ee398a60>: -0.12988,\n",
       " <Metabolite cu2[c] at 0x7f29ee398c70>: -0.0078094,\n",
       " <Metabolite cys_L[c] at 0x7f29ee398f70>: -0.08898,\n",
       " <Metabolite datp[c] at 0x7f29ee3991b0>: -0.011747,\n",
       " <Metabolite dctp[c] at 0x7f29ee399330>: -0.011747,\n",
       " <Metabolite dgtp[c] at 0x7f29ee399570>: -0.011747,\n",
       " <Metabolite dnarep[c] at 0x7f29ee399900>: -1.0,\n",
       " <Metabolite dttp[c] at 0x7f29ee399d80>: -0.011747,\n",
       " <Metabolite fad[c] at 0x7f29ee39a110>: -0.0078094,\n",
       " <Metabolite fe2[c] at 0x7f29ee39a410>: -0.0078094,\n",
       " <Metabolite fe3[c] at 0x7f29ee39a4a0>: -0.0078094,\n",
       " <Metabolite gln_L[c] at 0x7f29ee39b1f0>: -0.25601,\n",
       " <Metabolite glu_L[c] at 0x7f29ee39b160>: -0.25601,\n",
       " <Metabolite gly[c] at 0x7f29ee39b460>: -0.5958,\n",
       " <Metabolite gtp[c] at 0x7f29ee39bc70>: -0.2091,\n",
       " <Metabolite h2o[c] at 0x7f29ee39bdc0>: -34.7965,\n",
       " <Metabolite his_L[c] at 0x7f29ee408070>: -0.092623,\n",
       " <Metabolite ile_L[c] at 0x7f29ee408940>: -0.28255,\n",
       " <Metabolite k[c] at 0x7f29ee408a00>: -0.0078094,\n",
       " <Metabolite leu_L[c] at 0x7f29ee408f70>: -0.43866,\n",
       " <Metabolite lys_L[c] at 0x7f29ee409120>: -0.33355,\n",
       " <Metabolite met_L[c] at 0x7f29ee409720>: -0.14934,\n",
       " <Metabolite mg2[c] at 0x7f29ee409780>: -0.0078094,\n",
       " <Metabolite mn2[c] at 0x7f29ee409ab0>: -0.0078094,\n",
       " <Metabolite nad[c] at 0x7f29ee409e40>: -0.0078094,\n",
       " <Metabolite nadp[c] at 0x7f29ee409ea0>: -0.0078094,\n",
       " <Metabolite phe_L[c] at 0x7f29ee40b250>: -0.18056,\n",
       " <Metabolite pro_L[c] at 0x7f29ee40b820>: -0.21543,\n",
       " <Metabolite proteinsynth[c] at 0x7f29ee40bbb0>: -1.0,\n",
       " <Metabolite pydx5p[c] at 0x7f29ee40bfd0>: -0.0078094,\n",
       " <Metabolite ribflv[c] at 0x7f29ee26c190>: -0.0078094,\n",
       " <Metabolite rnatrans[c] at 0x7f29ee26c3a0>: -1.0,\n",
       " <Metabolite ser_L[c] at 0x7f29ee26c670>: -0.2097,\n",
       " <Metabolite so4[c] at 0x7f29ee26c490>: -0.0078094,\n",
       " <Metabolite thr_L[c] at 0x7f29ee26d2a0>: -0.24665,\n",
       " <Metabolite trp_L[c] at 0x7f29ee26c9d0>: -0.055157,\n",
       " <Metabolite tyr_L[c] at 0x7f29ee26d7e0>: -0.13425,\n",
       " <Metabolite udcpdp[c] at 0x7f29ee26d9f0>: -0.092476,\n",
       " <Metabolite utp[c] at 0x7f29ee26dff0>: -0.14027,\n",
       " <Metabolite val_L[c] at 0x7f29ee26e020>: -0.4116,\n",
       " <Metabolite zn2[c] at 0x7f29ee26e2c0>: -0.0078094,\n",
       " <Metabolite PGPm1[c] at 0x7f29ee3464a0>: 0.092476,\n",
       " <Metabolite adp[c] at 0x7f29ee346b00>: 40.0,\n",
       " <Metabolite apoACP[c] at 0x7f29ee347820>: 0.0078094,\n",
       " <Metabolite biomass[c] at 0x7f29ee347bb0>: 1.0,\n",
       " <Metabolite h[c] at 0x7f29ee39be80>: 40.0,\n",
       " <Metabolite pi[c] at 0x7f29ee40ae00>: 39.9922,\n",
       " <Metabolite ppi[c] at 0x7f29ee40b850>: 0.6024}"
      ]
     },
     "execution_count": 10,
     "metadata": {},
     "output_type": "execute_result"
    }
   ],
   "source": [
    "biomass_func.metabolites"
   ]
  },
  {
   "cell_type": "code",
   "execution_count": 11,
   "metadata": {},
   "outputs": [],
   "source": [
    "old_biomass = biomass_func.copy()"
   ]
  },
  {
   "cell_type": "code",
   "execution_count": 13,
   "metadata": {},
   "outputs": [],
   "source": [
    "desired_biomass_components =['biomass[c]',\n",
    "                             'h[c]',\n",
    "                             'pi[c]',\n",
    "                             'ppi[c]'\n",
    "                             'ala_L[c]',\n",
    "                             'amet[c]',\n",
    "                             'arg_L[c]',\n",
    "                             'asn_L[c]',\n",
    "                             'asp_L[c]',\n",
    "                             'atp[c]',\n",
    "                             'ca2[c]',\n",
    "                             'cl[c]',\n",
    "                             'proteinsynth[c]',\n",
    "                             'dnarep[c]',\n",
    "                             'rnatrans[c]']"
   ]
  },
  {
   "cell_type": "code",
   "execution_count": 23,
   "metadata": {},
   "outputs": [
    {
     "ename": "TypeError",
     "evalue": "Object.__init__() got an unexpected keyword argument 'metabolites'",
     "output_type": "error",
     "traceback": [
      "\u001b[0;31m---------------------------------------------------------------------------\u001b[0m",
      "\u001b[0;31mTypeError\u001b[0m                                 Traceback (most recent call last)",
      "Cell \u001b[0;32mIn[23], line 3\u001b[0m\n\u001b[1;32m      1\u001b[0m new_metabolites \u001b[38;5;241m=\u001b[39m {met: old_biomass\u001b[38;5;241m.\u001b[39mmetabolites[met] \n\u001b[1;32m      2\u001b[0m                    \u001b[38;5;28;01mfor\u001b[39;00m met \u001b[38;5;129;01min\u001b[39;00m old_biomass\u001b[38;5;241m.\u001b[39mmetabolites\u001b[38;5;241m.\u001b[39mkeys() \u001b[38;5;28;01mif\u001b[39;00m met\u001b[38;5;241m.\u001b[39mid \u001b[38;5;129;01min\u001b[39;00m desired_biomass_components}\n\u001b[0;32m----> 3\u001b[0m new_biomass \u001b[38;5;241m=\u001b[39m  \u001b[43mcobra\u001b[49m\u001b[38;5;241;43m.\u001b[39;49m\u001b[43mcore\u001b[49m\u001b[38;5;241;43m.\u001b[39;49m\u001b[43mReaction\u001b[49m\u001b[43m(\u001b[49m\u001b[38;5;28;43mid\u001b[39;49m\u001b[43m \u001b[49m\u001b[38;5;241;43m=\u001b[39;49m\u001b[43m \u001b[49m\u001b[38;5;124;43m\"\u001b[39;49m\u001b[38;5;124;43mbiomass_simplified\u001b[39;49m\u001b[38;5;124;43m\"\u001b[39;49m\u001b[43m,\u001b[49m\u001b[43m \u001b[49m\u001b[43mname\u001b[49m\u001b[38;5;241;43m=\u001b[39;49m\u001b[38;5;124;43m\"\u001b[39;49m\u001b[38;5;124;43mbiomass with less metabolic requirement\u001b[39;49m\u001b[38;5;124;43m\"\u001b[39;49m\u001b[43m,\u001b[49m\u001b[43m \u001b[49m\u001b[43mmetabolites\u001b[49m\u001b[43m \u001b[49m\u001b[38;5;241;43m=\u001b[39;49m\u001b[43m \u001b[49m\u001b[43mnew_metabolites\u001b[49m\u001b[43m)\u001b[49m\n\u001b[1;32m      4\u001b[0m new_biomass\n",
      "File \u001b[0;32m~/.conda/envs/modelmerge/lib/python3.10/site-packages/cobra/core/reaction.py:99\u001b[0m, in \u001b[0;36mReaction.__init__\u001b[0;34m(self, id, name, subsystem, lower_bound, upper_bound, **kwargs)\u001b[0m\n\u001b[1;32m     89\u001b[0m \u001b[38;5;28;01mdef\u001b[39;00m \u001b[38;5;21m__init__\u001b[39m(\n\u001b[1;32m     90\u001b[0m     \u001b[38;5;28mself\u001b[39m,\n\u001b[1;32m     91\u001b[0m     \u001b[38;5;28mid\u001b[39m: Optional[\u001b[38;5;28mstr\u001b[39m] \u001b[38;5;241m=\u001b[39m \u001b[38;5;28;01mNone\u001b[39;00m,\n\u001b[0;32m   (...)\u001b[0m\n\u001b[1;32m     96\u001b[0m     \u001b[38;5;241m*\u001b[39m\u001b[38;5;241m*\u001b[39mkwargs,\n\u001b[1;32m     97\u001b[0m ) \u001b[38;5;241m-\u001b[39m\u001b[38;5;241m>\u001b[39m \u001b[38;5;28;01mNone\u001b[39;00m:\n\u001b[1;32m     98\u001b[0m \u001b[38;5;250m    \u001b[39m\u001b[38;5;124;03m\"\"\"Initialize the Reaction class.\"\"\"\u001b[39;00m\n\u001b[0;32m---> 99\u001b[0m     \u001b[38;5;28;43msuper\u001b[39;49m\u001b[43m(\u001b[49m\u001b[43m)\u001b[49m\u001b[38;5;241;43m.\u001b[39;49m\u001b[38;5;21;43m__init__\u001b[39;49m\u001b[43m(\u001b[49m\u001b[38;5;28;43mid\u001b[39;49m\u001b[43m,\u001b[49m\u001b[43m \u001b[49m\u001b[43mname\u001b[49m\u001b[43m,\u001b[49m\u001b[43m \u001b[49m\u001b[38;5;241;43m*\u001b[39;49m\u001b[38;5;241;43m*\u001b[39;49m\u001b[43mkwargs\u001b[49m\u001b[43m)\u001b[49m\n\u001b[1;32m    100\u001b[0m     \u001b[38;5;28mself\u001b[39m\u001b[38;5;241m.\u001b[39m_gpr \u001b[38;5;241m=\u001b[39m GPR()\n\u001b[1;32m    101\u001b[0m     \u001b[38;5;28mself\u001b[39m\u001b[38;5;241m.\u001b[39msubsystem \u001b[38;5;241m=\u001b[39m subsystem\n",
      "\u001b[0;31mTypeError\u001b[0m: Object.__init__() got an unexpected keyword argument 'metabolites'"
     ]
    }
   ],
   "source": [
    "new_metabolites = {met: old_biomass.metabolites[met] \n",
    "                   for met in old_biomass.metabolites.keys() if met.id in desired_biomass_components}\n",
    "\n",
    "reactions_toadd = cobra.core.DictList()\n",
    "new_react = cobra.core.reaction.Reaction(\"biomass_simplified\")\n",
    "metamodel_react.name = \"biomass with less metabolic requirement\"\n",
    "#metamodel_react.subsystem = react.subsystem\n",
    "metamodel_react.lower_bound = 0\n",
    "metamodel_react.upper_bound = 1000\n",
    "\n",
    "\n",
    "\n",
    "\n",
    "\n",
    "\n",
    "\n",
    "#tocontinue here\n",
    "metamodel_mets = dict()\n",
    "metamodel_met =cobra.core.metabolite.Metabolite(ident,\n",
    "                                                name=name,\n",
    "                                                charge=met.charge,\n",
    "                                                compartment=compartment, \n",
    "                                                formula=met.formula)\n",
    "metamodel_met.annotation = met.annotation\n",
    "metamodel_met.elements = met.elements\n",
    "metamodel_met.notes = met.notes\n",
    "metamodel_mets[metamodel_met] = react.get_coefficient(met.id)\n",
    "metamodel_react.add_metabolites(metamodel_mets)\n",
    "metamodel_reactions.add(metamodel_react)\n",
    "\n",
    "new_biomass =  cobra.core.Reaction(id = \"biomass_simplified\", name=\"biomass with less metabolic requirement\", metabolites = new_metabolites)\n",
    "new_biomass\n"
   ]
  },
  {
   "cell_type": "code",
   "execution_count": 15,
   "metadata": {},
   "outputs": [
    {
     "data": {
      "text/html": [
       "<strong><em>Optimal</em> solution with objective value 139.709</strong><br><div>\n",
       "<style scoped>\n",
       "    .dataframe tbody tr th:only-of-type {\n",
       "        vertical-align: middle;\n",
       "    }\n",
       "\n",
       "    .dataframe tbody tr th {\n",
       "        vertical-align: top;\n",
       "    }\n",
       "\n",
       "    .dataframe thead th {\n",
       "        text-align: right;\n",
       "    }\n",
       "</style>\n",
       "<table border=\"1\" class=\"dataframe\">\n",
       "  <thead>\n",
       "    <tr style=\"text-align: right;\">\n",
       "      <th></th>\n",
       "      <th>fluxes</th>\n",
       "      <th>reduced_costs</th>\n",
       "    </tr>\n",
       "  </thead>\n",
       "  <tbody>\n",
       "    <tr>\n",
       "      <th>12PPDt</th>\n",
       "      <td>0.000000</td>\n",
       "      <td>-0.000000e+00</td>\n",
       "    </tr>\n",
       "    <tr>\n",
       "      <th>15DAPt</th>\n",
       "      <td>0.000000</td>\n",
       "      <td>0.000000e+00</td>\n",
       "    </tr>\n",
       "    <tr>\n",
       "      <th>23DHMPO</th>\n",
       "      <td>0.000000</td>\n",
       "      <td>0.000000e+00</td>\n",
       "    </tr>\n",
       "    <tr>\n",
       "      <th>23PDE2</th>\n",
       "      <td>0.000000</td>\n",
       "      <td>0.000000e+00</td>\n",
       "    </tr>\n",
       "    <tr>\n",
       "      <th>23PDE4</th>\n",
       "      <td>0.000000</td>\n",
       "      <td>0.000000e+00</td>\n",
       "    </tr>\n",
       "    <tr>\n",
       "      <th>...</th>\n",
       "      <td>...</td>\n",
       "      <td>...</td>\n",
       "    </tr>\n",
       "    <tr>\n",
       "      <th>r1667</th>\n",
       "      <td>21.238189</td>\n",
       "      <td>0.000000e+00</td>\n",
       "    </tr>\n",
       "    <tr>\n",
       "      <th>r2137</th>\n",
       "      <td>1.091046</td>\n",
       "      <td>0.000000e+00</td>\n",
       "    </tr>\n",
       "    <tr>\n",
       "      <th>rtranscription</th>\n",
       "      <td>139.709299</td>\n",
       "      <td>0.000000e+00</td>\n",
       "    </tr>\n",
       "    <tr>\n",
       "      <th>sink_s</th>\n",
       "      <td>0.000000</td>\n",
       "      <td>-0.000000e+00</td>\n",
       "    </tr>\n",
       "    <tr>\n",
       "      <th>biomass525</th>\n",
       "      <td>139.709299</td>\n",
       "      <td>4.440892e-16</td>\n",
       "    </tr>\n",
       "  </tbody>\n",
       "</table>\n",
       "<p>2313 rows × 2 columns</p>\n",
       "</div>"
      ],
      "text/plain": [
       "<Solution 139.709 at 0x7f2a388a3e20>"
      ]
     },
     "execution_count": 15,
     "metadata": {},
     "output_type": "execute_result"
    }
   ],
   "source": [
    "model.optimize()"
   ]
  },
  {
   "cell_type": "code",
   "execution_count": 16,
   "metadata": {},
   "outputs": [
    {
     "name": "stderr",
     "output_type": "stream",
     "text": [
      "/home/stefano/.conda/envs/modelmerge/lib/python3.10/site-packages/cobra/medium/minimal_medium.py:112: FutureWarning: The default dtype for empty Series will be 'object' instead of 'float64' in a future version. Specify a dtype explicitly to silence this warning.\n",
      "  medium = pd.Series()\n"
     ]
    },
    {
     "data": {
      "text/plain": [
       "EX_MGlcn196_rl(e)    1.546397\n",
       "EX_alahis(e)         0.129403\n",
       "EX_arg_L(e)          1.605653\n",
       "EX_ca2(e)            0.010910\n",
       "EX_cl(e)             0.010910\n",
       "EX_cobalt2(e)        0.010910\n",
       "EX_cu2(e)            0.010910\n",
       "EX_dad_2(e)          0.638974\n",
       "EX_dcyt(e)           0.410248\n",
       "EX_fe2(e)            0.010910\n",
       "EX_fe3(e)            0.010910\n",
       "EX_glycys(e)         0.146134\n",
       "EX_k(e)              0.010910\n",
       "EX_metala(e)         0.219552\n",
       "EX_mg2(e)            0.010910\n",
       "EX_mn2(e)            0.010910\n",
       "EX_nmn(e)            1.635547\n",
       "EX_so4(e)            0.010910\n",
       "EX_zn2(e)            0.010910\n",
       "dtype: float64"
      ]
     },
     "execution_count": 16,
     "metadata": {},
     "output_type": "execute_result"
    }
   ],
   "source": [
    "max_growth = model.slim_optimize()\n",
    "desired_medium = cobra.medium.minimal_medium(model, max_growth/100)\n",
    "desired_medium"
   ]
  },
  {
   "cell_type": "code",
   "execution_count": 17,
   "metadata": {},
   "outputs": [],
   "source": [
    "for reac_id in model.medium.keys():\n",
    "    model.reactions.get_by_id(reac_id).lower_bound = 0.0"
   ]
  },
  {
   "cell_type": "code",
   "execution_count": 18,
   "metadata": {},
   "outputs": [
    {
     "data": {
      "text/html": [
       "<strong><em>Optimal</em> solution with objective value 0.000</strong><br><div>\n",
       "<style scoped>\n",
       "    .dataframe tbody tr th:only-of-type {\n",
       "        vertical-align: middle;\n",
       "    }\n",
       "\n",
       "    .dataframe tbody tr th {\n",
       "        vertical-align: top;\n",
       "    }\n",
       "\n",
       "    .dataframe thead th {\n",
       "        text-align: right;\n",
       "    }\n",
       "</style>\n",
       "<table border=\"1\" class=\"dataframe\">\n",
       "  <thead>\n",
       "    <tr style=\"text-align: right;\">\n",
       "      <th></th>\n",
       "      <th>fluxes</th>\n",
       "      <th>reduced_costs</th>\n",
       "    </tr>\n",
       "  </thead>\n",
       "  <tbody>\n",
       "    <tr>\n",
       "      <th>12PPDt</th>\n",
       "      <td>0.0</td>\n",
       "      <td>0.000000e+00</td>\n",
       "    </tr>\n",
       "    <tr>\n",
       "      <th>15DAPt</th>\n",
       "      <td>0.0</td>\n",
       "      <td>0.000000e+00</td>\n",
       "    </tr>\n",
       "    <tr>\n",
       "      <th>23DHMPO</th>\n",
       "      <td>0.0</td>\n",
       "      <td>0.000000e+00</td>\n",
       "    </tr>\n",
       "    <tr>\n",
       "      <th>23PDE2</th>\n",
       "      <td>0.0</td>\n",
       "      <td>0.000000e+00</td>\n",
       "    </tr>\n",
       "    <tr>\n",
       "      <th>23PDE4</th>\n",
       "      <td>0.0</td>\n",
       "      <td>0.000000e+00</td>\n",
       "    </tr>\n",
       "    <tr>\n",
       "      <th>...</th>\n",
       "      <td>...</td>\n",
       "      <td>...</td>\n",
       "    </tr>\n",
       "    <tr>\n",
       "      <th>r1667</th>\n",
       "      <td>0.0</td>\n",
       "      <td>0.000000e+00</td>\n",
       "    </tr>\n",
       "    <tr>\n",
       "      <th>r2137</th>\n",
       "      <td>0.0</td>\n",
       "      <td>0.000000e+00</td>\n",
       "    </tr>\n",
       "    <tr>\n",
       "      <th>rtranscription</th>\n",
       "      <td>0.0</td>\n",
       "      <td>0.000000e+00</td>\n",
       "    </tr>\n",
       "    <tr>\n",
       "      <th>sink_s</th>\n",
       "      <td>0.0</td>\n",
       "      <td>0.000000e+00</td>\n",
       "    </tr>\n",
       "    <tr>\n",
       "      <th>biomass525</th>\n",
       "      <td>0.0</td>\n",
       "      <td>-4.263256e-14</td>\n",
       "    </tr>\n",
       "  </tbody>\n",
       "</table>\n",
       "<p>2313 rows × 2 columns</p>\n",
       "</div>"
      ],
      "text/plain": [
       "<Solution 0.000 at 0x7f29eed8e5f0>"
      ]
     },
     "execution_count": 18,
     "metadata": {},
     "output_type": "execute_result"
    }
   ],
   "source": [
    "model.optimize()"
   ]
  },
  {
   "cell_type": "code",
   "execution_count": 19,
   "metadata": {},
   "outputs": [],
   "source": [
    "for reac_id in desired_medium.keys():\n",
    "    model.reactions.get_by_id(reac_id).lower_bound = - desired_medium[reac_id]"
   ]
  },
  {
   "cell_type": "code",
   "execution_count": 20,
   "metadata": {},
   "outputs": [
    {
     "data": {
      "text/plain": [
       "1.3970929909844159"
      ]
     },
     "execution_count": 20,
     "metadata": {},
     "output_type": "execute_result"
    }
   ],
   "source": [
    "model.slim_optimize()"
   ]
  },
  {
   "cell_type": "code",
   "execution_count": 21,
   "metadata": {},
   "outputs": [
    {
     "data": {
      "text/latex": [
       "$\\displaystyle 1.0 \\cdot biomass_{525} - 1.0 \\cdot biomass_{525 reverse 5c178}$"
      ],
      "text/plain": [
       "1.0*biomass525 - 1.0*biomass525_reverse_5c178"
      ]
     },
     "execution_count": 21,
     "metadata": {},
     "output_type": "execute_result"
    }
   ],
   "source": [
    "model.objective.expression"
   ]
  },
  {
   "cell_type": "code",
   "execution_count": 12,
   "metadata": {},
   "outputs": [
    {
     "data": {
      "text/plain": [
       "{'EX_co2(e)': 10,\n",
       " 'EX_fru(e)': 10,\n",
       " 'EX_glc_D(e)': 10,\n",
       " 'EX_h(e)': 10,\n",
       " 'EX_h2o(e)': 100,\n",
       " 'EX_nh4(e)': 10,\n",
       " 'EX_pi(e)': 10}"
      ]
     },
     "execution_count": 12,
     "metadata": {},
     "output_type": "execute_result"
    }
   ],
   "source": [
    "model.medium"
   ]
  },
  {
   "cell_type": "code",
   "execution_count": 14,
   "metadata": {},
   "outputs": [
    {
     "name": "stdout",
     "output_type": "stream",
     "text": [
      "EX_nh4_e is mispelled or not part of the exchange reactions of the model\n",
      "EX_pi_e is mispelled or not part of the exchange reactions of the model\n"
     ]
    }
   ],
   "source": [
    "for key in desired_medium:\n",
    "    try:\n",
    "        model.reactions.get_by_id(key)\n",
    "    except:\n",
    "        print(key + \" is mispelled or not part of the exchange reactions of the model\")"
   ]
  },
  {
   "cell_type": "code",
   "execution_count": 8,
   "metadata": {},
   "outputs": [],
   "source": [
    "old_objective = model.objective"
   ]
  },
  {
   "cell_type": "code",
   "execution_count": null,
   "metadata": {},
   "outputs": [],
   "source": []
  },
  {
   "cell_type": "code",
   "execution_count": 12,
   "metadata": {},
   "outputs": [
    {
     "name": "stdout",
     "output_type": "stream",
     "text": [
      "{'D_LACt2': -10.0, 'EX_lac_D(e)': 10.0, 'EX_lac_L(e)': -10.0, 'LDH_D': -10.0, 'LDH_L': 10.0, 'L_LACt2r': 10.0}\n",
      "10.0\n"
     ]
    }
   ],
   "source": [
    "reac_id = \"EX_lac_D(e)\"\n",
    "model.objective = reac_id\n",
    "max_exch = model.slim_optimize()\n",
    "desired_exch = max_exch/100\n",
    "old_ub = model.reactions.get_by_id(reac_id).upper_bound\n",
    "model.reactions.get_by_id(reac_id).upper_bound = desired_exch\n",
    "sol = cobra.flux_analysis.pfba(model)\n",
    "print({flux_id: sol.fluxes[flux_id] for flux_id in sol.fluxes.keys() if abs(sol.fluxes[flux_id])>1e-06})\n",
    "print(desired_exch)\n",
    "model.reactions.get_by_id(reac_id).upper_bound = old_ub"
   ]
  },
  {
   "cell_type": "code",
   "execution_count": 43,
   "metadata": {},
   "outputs": [
    {
     "data": {
      "text/html": [
       "<strong><em>Optimal</em> solution with objective value 0.006</strong><br><div>\n",
       "<style scoped>\n",
       "    .dataframe tbody tr th:only-of-type {\n",
       "        vertical-align: middle;\n",
       "    }\n",
       "\n",
       "    .dataframe tbody tr th {\n",
       "        vertical-align: top;\n",
       "    }\n",
       "\n",
       "    .dataframe thead th {\n",
       "        text-align: right;\n",
       "    }\n",
       "</style>\n",
       "<table border=\"1\" class=\"dataframe\">\n",
       "  <thead>\n",
       "    <tr style=\"text-align: right;\">\n",
       "      <th></th>\n",
       "      <th>fluxes</th>\n",
       "      <th>reduced_costs</th>\n",
       "    </tr>\n",
       "  </thead>\n",
       "  <tbody>\n",
       "    <tr>\n",
       "      <th>12PPDt</th>\n",
       "      <td>0.0</td>\n",
       "      <td>0.578723</td>\n",
       "    </tr>\n",
       "    <tr>\n",
       "      <th>15DAPt</th>\n",
       "      <td>0.0</td>\n",
       "      <td>-2.000000</td>\n",
       "    </tr>\n",
       "    <tr>\n",
       "      <th>23DHMPO</th>\n",
       "      <td>0.0</td>\n",
       "      <td>0.000000</td>\n",
       "    </tr>\n",
       "    <tr>\n",
       "      <th>23PDE2</th>\n",
       "      <td>0.0</td>\n",
       "      <td>-2.000000</td>\n",
       "    </tr>\n",
       "    <tr>\n",
       "      <th>23PDE4</th>\n",
       "      <td>0.0</td>\n",
       "      <td>-2.000000</td>\n",
       "    </tr>\n",
       "    <tr>\n",
       "      <th>...</th>\n",
       "      <td>...</td>\n",
       "      <td>...</td>\n",
       "    </tr>\n",
       "    <tr>\n",
       "      <th>r1667</th>\n",
       "      <td>0.0</td>\n",
       "      <td>-1.421277</td>\n",
       "    </tr>\n",
       "    <tr>\n",
       "      <th>r2137</th>\n",
       "      <td>0.0</td>\n",
       "      <td>2.000000</td>\n",
       "    </tr>\n",
       "    <tr>\n",
       "      <th>rtranscription</th>\n",
       "      <td>0.0</td>\n",
       "      <td>-2.000000</td>\n",
       "    </tr>\n",
       "    <tr>\n",
       "      <th>sink_s</th>\n",
       "      <td>0.0</td>\n",
       "      <td>2.000000</td>\n",
       "    </tr>\n",
       "    <tr>\n",
       "      <th>biomass525</th>\n",
       "      <td>0.0</td>\n",
       "      <td>-2.000000</td>\n",
       "    </tr>\n",
       "  </tbody>\n",
       "</table>\n",
       "<p>2313 rows × 2 columns</p>\n",
       "</div>"
      ],
      "text/plain": [
       "<Solution 0.006 at 0x7fc687907010>"
      ]
     },
     "execution_count": 43,
     "metadata": {},
     "output_type": "execute_result"
    }
   ],
   "source": [
    "sol"
   ]
  },
  {
   "cell_type": "code",
   "execution_count": 4,
   "metadata": {},
   "outputs": [
    {
     "data": {
      "text/plain": [
       "{<Reaction 3CARLPDH at 0x7fe6e814f580>,\n",
       " <Reaction ACONT at 0x7fe6e7ee4e80>,\n",
       " <Reaction ACONTa at 0x7fe6e7ee5840>,\n",
       " <Reaction ACONTb at 0x7fe6e7ee53c0>,\n",
       " <Reaction CITL at 0x7fe6e7c4b7c0>,\n",
       " <Reaction FRD2 at 0x7fe6e7808ee0>,\n",
       " <Reaction FRD3 at 0x7fe6e7809120>,\n",
       " <Reaction FRD7 at 0x7fe6e78097b0>,\n",
       " <Reaction FUM at 0x7fe6e78093c0>,\n",
       " <Reaction ICDHy at 0x7fe6e7646e00>,\n",
       " <Reaction ICL at 0x7fe6e76471f0>,\n",
       " <Reaction MALFADOi at 0x7fe6e74bd210>,\n",
       " <Reaction MDH2 at 0x7fe6e7572560>,\n",
       " <Reaction MDH3 at 0x7fe6e7572920>,\n",
       " <Reaction MDH at 0x7fe6e7572350>,\n",
       " <Reaction ME1 at 0x7fe6e7572410>,\n",
       " <Reaction OAASr at 0x7fe6e73eeb90>,\n",
       " <Reaction PPCK at 0x7fe6e735fd90>,\n",
       " <Reaction SUCD1 at 0x7fe6e7260f40>,\n",
       " <Reaction SUCD4 at 0x7fe6e70cee90>,\n",
       " <Reaction SUCDi at 0x7fe6e70cfa30>,\n",
       " <Reaction SUCDimq at 0x7fe6e70cffd0>,\n",
       " <Reaction SUCOAS at 0x7fe6e71047f0>,\n",
       " <Reaction r0163c at 0x7fe6e705c6d0>,\n",
       " <Reaction r0556ci at 0x7fe6e703ad40>}"
      ]
     },
     "execution_count": 4,
     "metadata": {},
     "output_type": "execute_result"
    }
   ],
   "source": [
    "subs_reacs = model.groups.get_by_id(\"group13\").members\n",
    "subs_reacs"
   ]
  },
  {
   "cell_type": "code",
   "execution_count": 5,
   "metadata": {},
   "outputs": [
    {
     "name": "stdout",
     "output_type": "stream",
     "text": [
      "[('2dmmq8[c]', '2-Demethylmenaquinone 8'), ('2dmmql8[c]', '2-Demethylmenaquinol 8'), ('HC00695[c]', 'S-Succinyldihydrolipoamide'), ('HC01435[c]', '3-Carboxy-1-hydroxypropyl-ThPP'), ('ac[c]', 'acetate'), ('accoa[c]', 'Acetyl-CoA'), ('acon_C[c]', 'cis-Aconitate'), ('adp[c]', 'ADP'), ('akg[c]', '2-Oxoglutarate'), ('atp[c]', 'ATP'), ('cit[c]', 'Citrate'), ('co2[c]', 'carbon dioxide'), ('coa[c]', 'Coenzyme A'), ('dhlam[c]', 'dihydrolipoamide'), ('fad[c]', 'Flavin adenine dinucleotide oxidized'), ('fadh2[c]', 'Flavin adenine dinucleotide reduced'), ('fum[c]', 'Fumarate'), ('glx[c]', 'glyoxylate'), ('h2o[c]', 'Water'), ('h[c]', 'proton'), ('icit[c]', 'Isocitrate'), ('lpam[c]', 'lipoamide'), ('mal_L[c]', '(S)-malate(2-)'), ('mql8[c]', 'Menaquinol 8'), ('mqn8[c]', 'Menaquinone 8'), ('nad[c]', 'Nicotinamide adenine dinucleotide'), ('nadh[c]', 'Nicotinamide adenine dinucleotide - reduced'), ('nadp[c]', 'Nicotinamide adenine dinucleotide phosphate'), ('nadph[c]', 'Nicotinamide adenine dinucleotide phosphate - reduced'), ('oaa[c]', 'Oxaloacetate'), ('pep[c]', 'Phosphoenolpyruvate'), ('pi[c]', 'hydrogenphosphate'), ('pyr[c]', 'pyruvate'), ('q8[c]', 'Ubiquinone-8'), ('q8h2[c]', 'Ubiquinol-8'), ('succ[c]', 'Succinate'), ('succoa[c]', 'Succinyl-CoA'), ('thmpp[c]', 'Thiamine diphosphate')]\n",
      "38\n"
     ]
    }
   ],
   "source": [
    "metabolites = set()\n",
    "for met_set in [set(reac.metabolites.keys()) for reac in list(subs_reacs)]:\n",
    "    metabolites = metabolites.union(met_set)\n",
    "print(sorted(list([(met.id, met.name) for met in metabolites])))\n",
    "print(len(metabolites))"
   ]
  },
  {
   "cell_type": "code",
   "execution_count": 6,
   "metadata": {},
   "outputs": [],
   "source": [
    "cit = list(metabolites)[1]"
   ]
  },
  {
   "cell_type": "code",
   "execution_count": 7,
   "metadata": {},
   "outputs": [
    {
     "data": {
      "text/plain": [
       "{'kegg.compound': 'C00828', 'pubchem.compound': '4086'}"
      ]
     },
     "execution_count": 7,
     "metadata": {},
     "output_type": "execute_result"
    }
   ],
   "source": [
    "cit.annotation"
   ]
  },
  {
   "cell_type": "code",
   "execution_count": 8,
   "metadata": {},
   "outputs": [
    {
     "data": {
      "text/plain": [
       "0"
      ]
     },
     "execution_count": 8,
     "metadata": {},
     "output_type": "execute_result"
    }
   ],
   "source": [
    "cit.charge"
   ]
  },
  {
   "cell_type": "code",
   "execution_count": 9,
   "metadata": {},
   "outputs": [
    {
     "data": {
      "text/plain": [
       "'c'"
      ]
     },
     "execution_count": 9,
     "metadata": {},
     "output_type": "execute_result"
    }
   ],
   "source": [
    "cit.compartment"
   ]
  },
  {
   "cell_type": "code",
   "execution_count": 10,
   "metadata": {},
   "outputs": [
    {
     "data": {
      "text/plain": [
       "{'C': 51, 'H': 72, 'O': 2}"
      ]
     },
     "execution_count": 10,
     "metadata": {},
     "output_type": "execute_result"
    }
   ],
   "source": [
    "cit.elements"
   ]
  },
  {
   "cell_type": "code",
   "execution_count": 11,
   "metadata": {},
   "outputs": [
    {
     "data": {
      "text/plain": [
       "'C51H72O2'"
      ]
     },
     "execution_count": 11,
     "metadata": {},
     "output_type": "execute_result"
    }
   ],
   "source": [
    "cit.formula"
   ]
  },
  {
   "cell_type": "code",
   "execution_count": 12,
   "metadata": {},
   "outputs": [
    {
     "data": {
      "text/plain": [
       "717.11618"
      ]
     },
     "execution_count": 12,
     "metadata": {},
     "output_type": "execute_result"
    }
   ],
   "source": [
    "cit.formula_weight"
   ]
  },
  {
   "cell_type": "code",
   "execution_count": 13,
   "metadata": {},
   "outputs": [
    {
     "data": {
      "text/plain": [
       "'mqn8[c]'"
      ]
     },
     "execution_count": 13,
     "metadata": {},
     "output_type": "execute_result"
    }
   ],
   "source": [
    "cit.id"
   ]
  },
  {
   "cell_type": "code",
   "execution_count": 14,
   "metadata": {},
   "outputs": [
    {
     "data": {
      "text/html": [
       "\n",
       "        <table>\n",
       "            <tr>\n",
       "                <td><strong>Name</strong></td>\n",
       "                <td>Escherichia_coli_str_K_12_substr_MG1655</td>\n",
       "            </tr><tr>\n",
       "                <td><strong>Memory address</strong></td>\n",
       "                <td>7fe6e8c56800</td>\n",
       "            </tr><tr>\n",
       "                <td><strong>Number of metabolites</strong></td>\n",
       "                <td>1625</td>\n",
       "            </tr><tr>\n",
       "                <td><strong>Number of reactions</strong></td>\n",
       "                <td>2313</td>\n",
       "            </tr><tr>\n",
       "                <td><strong>Number of genes</strong></td>\n",
       "                <td>1205</td>\n",
       "            </tr><tr>\n",
       "                <td><strong>Number of groups</strong></td>\n",
       "                <td>78</td>\n",
       "            </tr><tr>\n",
       "                <td><strong>Objective expression</strong></td>\n",
       "                <td>1.0*biomass525 - 1.0*biomass525_reverse_5c178</td>\n",
       "            </tr><tr>\n",
       "                <td><strong>Compartments</strong></td>\n",
       "                <td>Cytoplasm, Extracellular</td>\n",
       "            </tr>\n",
       "          </table>"
      ],
      "text/plain": [
       "<Model Escherichia_coli_str_K_12_substr_MG1655 at 0x7fe6e8c56800>"
      ]
     },
     "execution_count": 14,
     "metadata": {},
     "output_type": "execute_result"
    }
   ],
   "source": [
    "cit.model"
   ]
  },
  {
   "cell_type": "code",
   "execution_count": 15,
   "metadata": {},
   "outputs": [
    {
     "data": {
      "text/plain": [
       "'Menaquinone 8'"
      ]
     },
     "execution_count": 15,
     "metadata": {},
     "output_type": "execute_result"
    }
   ],
   "source": [
    "cit.name"
   ]
  },
  {
   "cell_type": "code",
   "execution_count": 16,
   "metadata": {},
   "outputs": [
    {
     "data": {
      "text/plain": [
       "frozenset({<Reaction AMMQT8r at 0x7fe6e7e324a0>,\n",
       "           <Reaction APSRmq at 0x7fe6e7e707c0>,\n",
       "           <Reaction CYOmq at 0x7fe6e7c83af0>,\n",
       "           <Reaction CYTBD2 at 0x7fe6e7c83670>,\n",
       "           <Reaction DHORD5 at 0x7fe6e7b33fa0>,\n",
       "           <Reaction DMSOR1 at 0x7fe6e7b6a020>,\n",
       "           <Reaction DMSORmq at 0x7fe6e7b6a560>,\n",
       "           <Reaction FRD2 at 0x7fe6e7808ee0>,\n",
       "           <Reaction G3PD6 at 0x7fe6e78457b0>,\n",
       "           <Reaction GLYCTO3 at 0x7fe6e7727100>,\n",
       "           <Reaction GNOXmq at 0x7fe6e778a800>,\n",
       "           <Reaction HYD2 at 0x7fe6e76450f0>,\n",
       "           <Reaction L_LACD3 at 0x7fe6e7541210>,\n",
       "           <Reaction MDH3 at 0x7fe6e7572920>,\n",
       "           <Reaction NADH10 at 0x7fe6e73bae60>,\n",
       "           <Reaction NO2rPmq at 0x7fe6e742ca00>,\n",
       "           <Reaction NO3R2 at 0x7fe6e742d6c0>,\n",
       "           <Reaction NO3rPmq at 0x7fe6e742e410>,\n",
       "           <Reaction SELRmq at 0x7fe6e728e380>,\n",
       "           <Reaction SUCDimq at 0x7fe6e70cffd0>,\n",
       "           <Reaction TMAOR1 at 0x7fe6e713bc70>,\n",
       "           <Reaction TMAOR1e at 0x7fe6e713beb0>})"
      ]
     },
     "execution_count": 16,
     "metadata": {},
     "output_type": "execute_result"
    }
   ],
   "source": [
    "cit.reactions"
   ]
  },
  {
   "cell_type": "code",
   "execution_count": 17,
   "metadata": {},
   "outputs": [
    {
     "data": {
      "text/plain": [
       "{}"
      ]
     },
     "execution_count": 17,
     "metadata": {},
     "output_type": "execute_result"
    }
   ],
   "source": [
    "cit.notes"
   ]
  },
  {
   "cell_type": "markdown",
   "metadata": {},
   "source": [
    "Inputs of glycolisis are: ATP, NAD+, glucose <br/>\n",
    "Outputs of glycolisis are: pyr, ATP, NADH"
   ]
  },
  {
   "cell_type": "markdown",
   "metadata": {},
   "source": [
    "Inputs of cytric acid cycle are: Acetyl CoA, NAD+, FAD, ADP, Pi <br/>\n",
    "Outputs of cytric acid cycle are: CO2, NADH, H+, FADH2, ATP, CoA"
   ]
  },
  {
   "cell_type": "markdown",
   "metadata": {},
   "source": [
    "exchanges to create:FAD and FADH2"
   ]
  },
  {
   "cell_type": "markdown",
   "metadata": {},
   "source": [
    "reaction to include and modify: biomass"
   ]
  },
  {
   "cell_type": "code",
   "execution_count": null,
   "metadata": {},
   "outputs": [],
   "source": []
  },
  {
   "cell_type": "code",
   "execution_count": 18,
   "metadata": {},
   "outputs": [
    {
     "data": {
      "text/plain": [
       "[<Reaction EX_glc_D(e) at 0x7fe6e7949fc0>,\n",
       " <Reaction EX_fru(e) at 0x7fe6e7948070>,\n",
       " <Reaction EX_ac(e) at 0x7fe6e7906b00>,\n",
       " <Reaction EX_cit(e) at 0x7fe6e7925f00>,\n",
       " <Reaction EX_gcald(e) at 0x7fe6e7949ea0>,\n",
       " <Reaction EX_glyclt(e) at 0x7fe6e794ad40>,\n",
       " <Reaction EX_h2o(e) at 0x7fe6e794bcd0>,\n",
       " <Reaction EX_h(e) at 0x7fe6e794b880>,\n",
       " <Reaction EX_co2(e) at 0x7fe6e7926140>,\n",
       " <Reaction EX_pi(e) at 0x7fe6e7973400>,\n",
       " <Reaction EX_for(e) at 0x7fe6e7948d00>,\n",
       " <Reaction EX_acald(e) at 0x7fe6e803e410>,\n",
       " <Reaction EX_lac_D(e) at 0x7fe6e7970b20>]"
      ]
     },
     "execution_count": 18,
     "metadata": {},
     "output_type": "execute_result"
    }
   ],
   "source": [
    "reactions_to_include = []\n",
    "reactions_to_include.append(model.reactions.get_by_id(\"EX_glc_D(e)\"))\n",
    "reactions_to_include.append(model.reactions.get_by_id(\"EX_fru(e)\"))\n",
    "reactions_to_include.append(model.reactions.get_by_id(\"EX_ac(e)\"))\n",
    "#TO ALLOW FOR acetate production (below):\n",
    "reactions_to_include.append(model.reactions.get_by_id(\"EX_cit(e)\"))\n",
    "reactions_to_include.append(model.reactions.get_by_id(\"EX_gcald(e)\"))\n",
    "reactions_to_include.append(model.reactions.get_by_id(\"EX_glyclt(e)\"))\n",
    "#TO ALLOW FOR acetate production (above):\n",
    "reactions_to_include.append(model.reactions.get_by_id(\"EX_h2o(e)\"))\n",
    "reactions_to_include.append(model.reactions.get_by_id(\"EX_h(e)\"))\n",
    "reactions_to_include.append(model.reactions.get_by_id(\"EX_co2(e)\"))\n",
    "reactions_to_include.append(model.reactions.get_by_id(\"EX_pi(e)\"))\n",
    "reactions_to_include.append(model.reactions.get_by_id(\"EX_for(e)\"))\n",
    "reactions_to_include.append(model.reactions.get_by_id(\"EX_acald(e)\"))\n",
    "reactions_to_include.append(model.reactions.get_by_id(\"EX_lac_D(e)\"))\n",
    "reactions_to_include"
   ]
  },
  {
   "cell_type": "code",
   "execution_count": 19,
   "metadata": {},
   "outputs": [
    {
     "data": {
      "text/html": [
       "<h3>accoa[c]</h3><p>C23H34N7O17P3S</p><h4>Producing Reactions</h4><table border=\"1\" class=\"dataframe\">\n",
       "  <thead>\n",
       "    <tr style=\"text-align: right;\">\n",
       "      <th>Percent</th>\n",
       "      <th>Flux</th>\n",
       "      <th>Reaction</th>\n",
       "      <th>Definition</th>\n",
       "    </tr>\n",
       "  </thead>\n",
       "  <tbody>\n",
       "    <tr>\n",
       "      <td>8.50%</td>\n",
       "      <td>265.2</td>\n",
       "      <td>ACACCTr</td>\n",
       "      <td>aacoa[c] + ac[c] &lt;=&gt; acac[c] + accoa[c]</td>\n",
       "    </tr>\n",
       "    <tr>\n",
       "      <td>32.04%</td>\n",
       "      <td>1000</td>\n",
       "      <td>ACALD</td>\n",
       "      <td>acald[c] + coa[c] + nad[c] &lt;=&gt; accoa[c] + h[c] + nadh[c]</td>\n",
       "    </tr>\n",
       "    <tr>\n",
       "      <td>32.04%</td>\n",
       "      <td>1000</td>\n",
       "      <td>OAASr</td>\n",
       "      <td>cit[c] + coa[c] + h[c] &lt;=&gt; accoa[c] + h2o[c] + oaa[c]</td>\n",
       "    </tr>\n",
       "    <tr>\n",
       "      <td>1.60%</td>\n",
       "      <td>49.87</td>\n",
       "      <td>PFL</td>\n",
       "      <td>coa[c] + pyr[c] --&gt; accoa[c] + for[c]</td>\n",
       "    </tr>\n",
       "    <tr>\n",
       "      <td>25.84%</td>\n",
       "      <td>806.4</td>\n",
       "      <td>POR4</td>\n",
       "      <td>accoa[c] + co2[c] + fdxrd[c] &lt;=&gt; coa[c] + fdxox[c] + h[c] + pyr[c]</td>\n",
       "    </tr>\n",
       "  </tbody>\n",
       "</table><h4>Consuming Reactions</h4><table border=\"1\" class=\"dataframe\">\n",
       "  <thead>\n",
       "    <tr style=\"text-align: right;\">\n",
       "      <th>Percent</th>\n",
       "      <th>Flux</th>\n",
       "      <th>Reaction</th>\n",
       "      <th>Definition</th>\n",
       "    </tr>\n",
       "  </thead>\n",
       "  <tbody>\n",
       "    <tr>\n",
       "      <td>16.99%</td>\n",
       "      <td>-530.4</td>\n",
       "      <td>ACACT1r</td>\n",
       "      <td>2.0 accoa[c] &lt;=&gt; aacoa[c] + coa[c]</td>\n",
       "    </tr>\n",
       "    <tr>\n",
       "      <td>8.50%</td>\n",
       "      <td>-265.2</td>\n",
       "      <td>ACACT2r</td>\n",
       "      <td>accoa[c] + btcoa[c] &lt;=&gt; 3ohcoa[c] + coa[c]</td>\n",
       "    </tr>\n",
       "    <tr>\n",
       "      <td>8.50%</td>\n",
       "      <td>-265.2</td>\n",
       "      <td>ACACT3r</td>\n",
       "      <td>accoa[c] + hxcoa[c] &lt;=&gt; 3oocoa[c] + coa[c]</td>\n",
       "    </tr>\n",
       "    <tr>\n",
       "      <td>8.50%</td>\n",
       "      <td>-265.2</td>\n",
       "      <td>ACACT4r</td>\n",
       "      <td>accoa[c] + occoa[c] &lt;=&gt; 3odcoa[c] + coa[c]</td>\n",
       "    </tr>\n",
       "    <tr>\n",
       "      <td>8.50%</td>\n",
       "      <td>-265.2</td>\n",
       "      <td>ACACT5r</td>\n",
       "      <td>accoa[c] + dcacoa[c] &lt;=&gt; 3oddcoa[c] + coa[c]</td>\n",
       "    </tr>\n",
       "    <tr>\n",
       "      <td>8.50%</td>\n",
       "      <td>-265.2</td>\n",
       "      <td>ACACT6r</td>\n",
       "      <td>accoa[c] + ddcacoa[c] &lt;=&gt; 3otdcoa[c] + coa[c]</td>\n",
       "    </tr>\n",
       "    <tr>\n",
       "      <td>8.50%</td>\n",
       "      <td>-265.2</td>\n",
       "      <td>BUTCT</td>\n",
       "      <td>accoa[c] + but[c] --&gt; ac[c] + btcoa[c]</td>\n",
       "    </tr>\n",
       "    <tr>\n",
       "      <td>32.04%</td>\n",
       "      <td>-1000</td>\n",
       "      <td>PTAr</td>\n",
       "      <td>accoa[c] + pi[c] &lt;=&gt; actp[c] + coa[c]</td>\n",
       "    </tr>\n",
       "  </tbody>\n",
       "</table>"
      ],
      "text/plain": [
       "<cobra.summary.metabolite_summary.MetaboliteSummary at 0x7fe6e6bd42b0>"
      ]
     },
     "execution_count": 19,
     "metadata": {},
     "output_type": "execute_result"
    }
   ],
   "source": [
    "model.metabolites.get_by_id(\"accoa[c]\").summary()"
   ]
  },
  {
   "cell_type": "code",
   "execution_count": 20,
   "metadata": {
    "scrolled": true
   },
   "outputs": [
    {
     "data": {
      "text/html": [
       "<h3>pyr[c]</h3><p>C3H3O3</p><h4>Producing Reactions</h4><table border=\"1\" class=\"dataframe\">\n",
       "  <thead>\n",
       "    <tr style=\"text-align: right;\">\n",
       "      <th>Percent</th>\n",
       "      <th>Flux</th>\n",
       "      <th>Reaction</th>\n",
       "      <th>Definition</th>\n",
       "    </tr>\n",
       "  </thead>\n",
       "  <tbody>\n",
       "    <tr>\n",
       "      <td>2.17%</td>\n",
       "      <td>25.84</td>\n",
       "      <td>ACNML</td>\n",
       "      <td>acnam[c] --&gt; acmana[c] + pyr[c]</td>\n",
       "    </tr>\n",
       "    <tr>\n",
       "      <td>13.80%</td>\n",
       "      <td>164.3</td>\n",
       "      <td>LDH_D</td>\n",
       "      <td>lac_D[c] + nad[c] &lt;=&gt; h[c] + nadh[c] + pyr[c]</td>\n",
       "    </tr>\n",
       "    <tr>\n",
       "      <td>84.03%</td>\n",
       "      <td>1000</td>\n",
       "      <td>PYK</td>\n",
       "      <td>adp[c] + h[c] + pep[c] --&gt; atp[c] + pyr[c]</td>\n",
       "    </tr>\n",
       "  </tbody>\n",
       "</table><h4>Consuming Reactions</h4><table border=\"1\" class=\"dataframe\">\n",
       "  <thead>\n",
       "    <tr style=\"text-align: right;\">\n",
       "      <th>Percent</th>\n",
       "      <th>Flux</th>\n",
       "      <th>Reaction</th>\n",
       "      <th>Definition</th>\n",
       "    </tr>\n",
       "  </thead>\n",
       "  <tbody>\n",
       "    <tr>\n",
       "      <td>14.93%</td>\n",
       "      <td>-177.7</td>\n",
       "      <td>ALATA_L</td>\n",
       "      <td>akg[c] + ala_L[c] &lt;=&gt; glu_L[c] + pyr[c]</td>\n",
       "    </tr>\n",
       "    <tr>\n",
       "      <td>1.09%</td>\n",
       "      <td>-12.92</td>\n",
       "      <td>DHDPS</td>\n",
       "      <td>aspsa[c] + pyr[c] --&gt; 23dhdp[c] + 2.0 h2o[c] + h[c]</td>\n",
       "    </tr>\n",
       "    <tr>\n",
       "      <td>12.03%</td>\n",
       "      <td>-143.2</td>\n",
       "      <td>DXPS</td>\n",
       "      <td>g3p[c] + h[c] + pyr[c] --&gt; co2[c] + dxyl5p[c]</td>\n",
       "    </tr>\n",
       "    <tr>\n",
       "      <td>4.19%</td>\n",
       "      <td>-49.87</td>\n",
       "      <td>PFL</td>\n",
       "      <td>coa[c] + pyr[c] --&gt; accoa[c] + for[c]</td>\n",
       "    </tr>\n",
       "    <tr>\n",
       "      <td>67.76%</td>\n",
       "      <td>-806.4</td>\n",
       "      <td>POR4</td>\n",
       "      <td>accoa[c] + co2[c] + fdxrd[c] &lt;=&gt; coa[c] + fdxox[c] + h[c] + pyr[c]</td>\n",
       "    </tr>\n",
       "  </tbody>\n",
       "</table>"
      ],
      "text/plain": [
       "<cobra.summary.metabolite_summary.MetaboliteSummary at 0x7fe6e6c56da0>"
      ]
     },
     "execution_count": 20,
     "metadata": {},
     "output_type": "execute_result"
    }
   ],
   "source": [
    "model.metabolites.get_by_id(\"pyr[c]\").summary()"
   ]
  },
  {
   "cell_type": "code",
   "execution_count": 21,
   "metadata": {},
   "outputs": [
    {
     "data": {
      "text/html": [
       "<h3>pep[c]</h3><p>C3H2O6P</p><h4>Producing Reactions</h4><table border=\"1\" class=\"dataframe\">\n",
       "  <thead>\n",
       "    <tr style=\"text-align: right;\">\n",
       "      <th>Percent</th>\n",
       "      <th>Flux</th>\n",
       "      <th>Reaction</th>\n",
       "      <th>Definition</th>\n",
       "    </tr>\n",
       "  </thead>\n",
       "  <tbody>\n",
       "    <tr>\n",
       "      <td>98.72%</td>\n",
       "      <td>1000</td>\n",
       "      <td>ENO</td>\n",
       "      <td>2pg[c] &lt;=&gt; h2o[c] + pep[c]</td>\n",
       "    </tr>\n",
       "    <tr>\n",
       "      <td>1.28%</td>\n",
       "      <td>12.92</td>\n",
       "      <td>PPCr</td>\n",
       "      <td>h[c] + oaa[c] + pi[c] &lt;=&gt; co2[c] + h2o[c] + pep[c]</td>\n",
       "    </tr>\n",
       "  </tbody>\n",
       "</table><h4>Consuming Reactions</h4><table border=\"1\" class=\"dataframe\">\n",
       "  <thead>\n",
       "    <tr style=\"text-align: right;\">\n",
       "      <th>Percent</th>\n",
       "      <th>Flux</th>\n",
       "      <th>Reaction</th>\n",
       "      <th>Definition</th>\n",
       "    </tr>\n",
       "  </thead>\n",
       "  <tbody>\n",
       "    <tr>\n",
       "      <td>98.72%</td>\n",
       "      <td>-1000</td>\n",
       "      <td>PYK</td>\n",
       "      <td>adp[c] + h[c] + pep[c] --&gt; atp[c] + pyr[c]</td>\n",
       "    </tr>\n",
       "    <tr>\n",
       "      <td>1.28%</td>\n",
       "      <td>-12.92</td>\n",
       "      <td>UAGCVT_r</td>\n",
       "      <td>pep[c] + uacgam[c] &lt;=&gt; pi[c] + uaccg[c]</td>\n",
       "    </tr>\n",
       "  </tbody>\n",
       "</table>"
      ],
      "text/plain": [
       "<cobra.summary.metabolite_summary.MetaboliteSummary at 0x7fe6e6c098a0>"
      ]
     },
     "execution_count": 21,
     "metadata": {},
     "output_type": "execute_result"
    }
   ],
   "source": [
    "model.metabolites.get_by_id(\"pep[c]\").summary()"
   ]
  },
  {
   "cell_type": "code",
   "execution_count": 22,
   "metadata": {},
   "outputs": [
    {
     "data": {
      "text/html": [
       "<h3>2pg[c]</h3><p>C3H4O7P</p><h4>Producing Reactions</h4><table border=\"1\" class=\"dataframe\">\n",
       "  <thead>\n",
       "    <tr style=\"text-align: right;\">\n",
       "      <th>Percent</th>\n",
       "      <th>Flux</th>\n",
       "      <th>Reaction</th>\n",
       "      <th>Definition</th>\n",
       "    </tr>\n",
       "  </thead>\n",
       "  <tbody>\n",
       "    <tr>\n",
       "      <td>100.00%</td>\n",
       "      <td>1000</td>\n",
       "      <td>PGM</td>\n",
       "      <td>2pg[c] &lt;=&gt; 3pg[c]</td>\n",
       "    </tr>\n",
       "  </tbody>\n",
       "</table><h4>Consuming Reactions</h4><table border=\"1\" class=\"dataframe\">\n",
       "  <thead>\n",
       "    <tr style=\"text-align: right;\">\n",
       "      <th>Percent</th>\n",
       "      <th>Flux</th>\n",
       "      <th>Reaction</th>\n",
       "      <th>Definition</th>\n",
       "    </tr>\n",
       "  </thead>\n",
       "  <tbody>\n",
       "    <tr>\n",
       "      <td>100.00%</td>\n",
       "      <td>-1000</td>\n",
       "      <td>ENO</td>\n",
       "      <td>2pg[c] &lt;=&gt; h2o[c] + pep[c]</td>\n",
       "    </tr>\n",
       "  </tbody>\n",
       "</table>"
      ],
      "text/plain": [
       "<cobra.summary.metabolite_summary.MetaboliteSummary at 0x7fe6e6b62aa0>"
      ]
     },
     "execution_count": 22,
     "metadata": {},
     "output_type": "execute_result"
    }
   ],
   "source": [
    "model.metabolites.get_by_id(\"2pg[c]\").summary()"
   ]
  },
  {
   "cell_type": "code",
   "execution_count": 23,
   "metadata": {},
   "outputs": [
    {
     "data": {
      "text/html": [
       "<h3>3pg[c]</h3><p>C3H4O7P</p><h4>Producing Reactions</h4><table border=\"1\" class=\"dataframe\">\n",
       "  <thead>\n",
       "    <tr style=\"text-align: right;\">\n",
       "      <th>Percent</th>\n",
       "      <th>Flux</th>\n",
       "      <th>Reaction</th>\n",
       "      <th>Definition</th>\n",
       "    </tr>\n",
       "  </thead>\n",
       "  <tbody>\n",
       "    <tr>\n",
       "      <td>100.00%</td>\n",
       "      <td>1000</td>\n",
       "      <td>PGK</td>\n",
       "      <td>3pg[c] + atp[c] &lt;=&gt; 13dpg[c] + adp[c]</td>\n",
       "    </tr>\n",
       "  </tbody>\n",
       "</table><h4>Consuming Reactions</h4><table border=\"1\" class=\"dataframe\">\n",
       "  <thead>\n",
       "    <tr style=\"text-align: right;\">\n",
       "      <th>Percent</th>\n",
       "      <th>Flux</th>\n",
       "      <th>Reaction</th>\n",
       "      <th>Definition</th>\n",
       "    </tr>\n",
       "  </thead>\n",
       "  <tbody>\n",
       "    <tr>\n",
       "      <td>100.00%</td>\n",
       "      <td>-1000</td>\n",
       "      <td>PGM</td>\n",
       "      <td>2pg[c] &lt;=&gt; 3pg[c]</td>\n",
       "    </tr>\n",
       "  </tbody>\n",
       "</table>"
      ],
      "text/plain": [
       "<cobra.summary.metabolite_summary.MetaboliteSummary at 0x7fe6e6b63eb0>"
      ]
     },
     "execution_count": 23,
     "metadata": {},
     "output_type": "execute_result"
    }
   ],
   "source": [
    "model.metabolites.get_by_id(\"3pg[c]\").summary()"
   ]
  },
  {
   "cell_type": "code",
   "execution_count": 24,
   "metadata": {},
   "outputs": [
    {
     "data": {
      "text/html": [
       "<h3>13dpg[c]</h3><p>C3H4O10P2</p><h4>Producing Reactions</h4><table border=\"1\" class=\"dataframe\">\n",
       "  <thead>\n",
       "    <tr style=\"text-align: right;\">\n",
       "      <th>Percent</th>\n",
       "      <th>Flux</th>\n",
       "      <th>Reaction</th>\n",
       "      <th>Definition</th>\n",
       "    </tr>\n",
       "  </thead>\n",
       "  <tbody>\n",
       "    <tr>\n",
       "      <td>100.00%</td>\n",
       "      <td>1000</td>\n",
       "      <td>GAPD</td>\n",
       "      <td>g3p[c] + nad[c] + pi[c] &lt;=&gt; 13dpg[c] + h[c] + nadh[c]</td>\n",
       "    </tr>\n",
       "  </tbody>\n",
       "</table><h4>Consuming Reactions</h4><table border=\"1\" class=\"dataframe\">\n",
       "  <thead>\n",
       "    <tr style=\"text-align: right;\">\n",
       "      <th>Percent</th>\n",
       "      <th>Flux</th>\n",
       "      <th>Reaction</th>\n",
       "      <th>Definition</th>\n",
       "    </tr>\n",
       "  </thead>\n",
       "  <tbody>\n",
       "    <tr>\n",
       "      <td>100.00%</td>\n",
       "      <td>-1000</td>\n",
       "      <td>PGK</td>\n",
       "      <td>3pg[c] + atp[c] &lt;=&gt; 13dpg[c] + adp[c]</td>\n",
       "    </tr>\n",
       "  </tbody>\n",
       "</table>"
      ],
      "text/plain": [
       "<cobra.summary.metabolite_summary.MetaboliteSummary at 0x7fe6e6c0a440>"
      ]
     },
     "execution_count": 24,
     "metadata": {},
     "output_type": "execute_result"
    }
   ],
   "source": [
    "model.metabolites.get_by_id(\"13dpg[c]\").summary()"
   ]
  },
  {
   "cell_type": "code",
   "execution_count": 25,
   "metadata": {},
   "outputs": [
    {
     "data": {
      "text/html": [
       "<h3>g3p[c]</h3><p>C3H5O6P</p><h4>Producing Reactions</h4><table border=\"1\" class=\"dataframe\">\n",
       "  <thead>\n",
       "    <tr style=\"text-align: right;\">\n",
       "      <th>Percent</th>\n",
       "      <th>Flux</th>\n",
       "      <th>Reaction</th>\n",
       "      <th>Definition</th>\n",
       "    </tr>\n",
       "  </thead>\n",
       "  <tbody>\n",
       "    <tr>\n",
       "      <td>70.80%</td>\n",
       "      <td>810.1</td>\n",
       "      <td>DRPAr</td>\n",
       "      <td>2dr5p[c] &lt;=&gt; acald[c] + g3p[c]</td>\n",
       "    </tr>\n",
       "    <tr>\n",
       "      <td>0.05%</td>\n",
       "      <td>0.5455</td>\n",
       "      <td>TKT1</td>\n",
       "      <td>r5p[c] + xu5p_D[c] &lt;=&gt; g3p[c] + s7p[c]</td>\n",
       "    </tr>\n",
       "    <tr>\n",
       "      <td>29.16%</td>\n",
       "      <td>333.6</td>\n",
       "      <td>TPI</td>\n",
       "      <td>dhap[c] &lt;=&gt; g3p[c]</td>\n",
       "    </tr>\n",
       "  </tbody>\n",
       "</table><h4>Consuming Reactions</h4><table border=\"1\" class=\"dataframe\">\n",
       "  <thead>\n",
       "    <tr style=\"text-align: right;\">\n",
       "      <th>Percent</th>\n",
       "      <th>Flux</th>\n",
       "      <th>Reaction</th>\n",
       "      <th>Definition</th>\n",
       "    </tr>\n",
       "  </thead>\n",
       "  <tbody>\n",
       "    <tr>\n",
       "      <td>12.51%</td>\n",
       "      <td>-143.2</td>\n",
       "      <td>DXPS</td>\n",
       "      <td>g3p[c] + h[c] + pyr[c] --&gt; co2[c] + dxyl5p[c]</td>\n",
       "    </tr>\n",
       "    <tr>\n",
       "      <td>87.39%</td>\n",
       "      <td>-1000</td>\n",
       "      <td>GAPD</td>\n",
       "      <td>g3p[c] + nad[c] + pi[c] &lt;=&gt; 13dpg[c] + h[c] + nadh[c]</td>\n",
       "    </tr>\n",
       "    <tr>\n",
       "      <td>0.05%</td>\n",
       "      <td>-0.5455</td>\n",
       "      <td>TALA</td>\n",
       "      <td>g3p[c] + s7p[c] &lt;=&gt; e4p[c] + f6p[c]</td>\n",
       "    </tr>\n",
       "    <tr>\n",
       "      <td>0.05%</td>\n",
       "      <td>-0.5455</td>\n",
       "      <td>TKT2</td>\n",
       "      <td>e4p[c] + xu5p_D[c] &lt;=&gt; f6p[c] + g3p[c]</td>\n",
       "    </tr>\n",
       "  </tbody>\n",
       "</table>"
      ],
      "text/plain": [
       "<cobra.summary.metabolite_summary.MetaboliteSummary at 0x7fe6e6b62890>"
      ]
     },
     "execution_count": 25,
     "metadata": {},
     "output_type": "execute_result"
    }
   ],
   "source": [
    "model.metabolites.get_by_id(\"g3p[c]\").summary()"
   ]
  },
  {
   "cell_type": "code",
   "execution_count": 26,
   "metadata": {},
   "outputs": [
    {
     "data": {
      "text/html": [
       "\n",
       "        <table>\n",
       "            <tr>\n",
       "                <td><strong>Reaction identifier</strong></td><td>TPI</td>\n",
       "            </tr><tr>\n",
       "                <td><strong>Name</strong></td><td>Triose-Phosphate Isomerase</td>\n",
       "            </tr><tr>\n",
       "                <td><strong>Memory address</strong></td>\n",
       "                <td>0x7fe6e7179810</td>\n",
       "            </tr><tr>\n",
       "                <td><strong>Stoichiometry</strong></td>\n",
       "                <td>\n",
       "                    <p style='text-align:right'>dhap[c] <=> g3p[c]</p>\n",
       "                    <p style='text-align:right'>Dihydroxyacetone phosphate <=> Glyceraldehyde 3-phosphate</p>\n",
       "                </td>\n",
       "            </tr><tr>\n",
       "                <td><strong>GPR</strong></td><td>511145.12.peg.4036</td>\n",
       "            </tr><tr>\n",
       "                <td><strong>Lower bound</strong></td><td>-1000.0</td>\n",
       "            </tr><tr>\n",
       "                <td><strong>Upper bound</strong></td><td>1000.0</td>\n",
       "            </tr>\n",
       "        </table>\n",
       "        "
      ],
      "text/plain": [
       "<Reaction TPI at 0x7fe6e7179810>"
      ]
     },
     "execution_count": 26,
     "metadata": {},
     "output_type": "execute_result"
    }
   ],
   "source": [
    "model.reactions.get_by_id(\"TPI\")"
   ]
  },
  {
   "cell_type": "code",
   "execution_count": 27,
   "metadata": {},
   "outputs": [
    {
     "data": {
      "text/html": [
       "\n",
       "        <table>\n",
       "            <tr>\n",
       "                <td><strong>Reaction identifier</strong></td><td>FBA</td>\n",
       "            </tr><tr>\n",
       "                <td><strong>Name</strong></td><td>Fructose-Bisphosphate Aldolase</td>\n",
       "            </tr><tr>\n",
       "                <td><strong>Memory address</strong></td>\n",
       "                <td>0x7fe6e7997340</td>\n",
       "            </tr><tr>\n",
       "                <td><strong>Stoichiometry</strong></td>\n",
       "                <td>\n",
       "                    <p style='text-align:right'>fdp[c] <=> dhap[c] + g3p[c]</p>\n",
       "                    <p style='text-align:right'>D-Fructose 1,6-bisphosphate <=> Dihydroxyacetone phosphate + Glyceraldehyde 3-phosphate</p>\n",
       "                </td>\n",
       "            </tr><tr>\n",
       "                <td><strong>GPR</strong></td><td>511145.12.peg.2174 or 511145.12.peg.3020</td>\n",
       "            </tr><tr>\n",
       "                <td><strong>Lower bound</strong></td><td>-1000.0</td>\n",
       "            </tr><tr>\n",
       "                <td><strong>Upper bound</strong></td><td>1000.0</td>\n",
       "            </tr>\n",
       "        </table>\n",
       "        "
      ],
      "text/plain": [
       "<Reaction FBA at 0x7fe6e7997340>"
      ]
     },
     "execution_count": 27,
     "metadata": {},
     "output_type": "execute_result"
    }
   ],
   "source": [
    "model.reactions.get_by_id(\"FBA\")"
   ]
  },
  {
   "cell_type": "code",
   "execution_count": 28,
   "metadata": {},
   "outputs": [
    {
     "data": {
      "text/plain": [
       "frozenset({<Reaction FBA at 0x7fe6e7997340>,\n",
       "           <Reaction FBP at 0x7fe6e77c45e0>,\n",
       "           <Reaction FRUK at 0x7fe6e78090c0>,\n",
       "           <Reaction PFK at 0x7fe6e72b2020>})"
      ]
     },
     "execution_count": 28,
     "metadata": {},
     "output_type": "execute_result"
    }
   ],
   "source": [
    "model.metabolites.get_by_id(\"fdp[c]\").reactions"
   ]
  },
  {
   "cell_type": "code",
   "execution_count": 29,
   "metadata": {},
   "outputs": [
    {
     "data": {
      "text/html": [
       "\n",
       "        <table>\n",
       "            <tr>\n",
       "                <td><strong>Reaction identifier</strong></td><td>PFK</td>\n",
       "            </tr><tr>\n",
       "                <td><strong>Name</strong></td><td>Phosphofructokinase</td>\n",
       "            </tr><tr>\n",
       "                <td><strong>Memory address</strong></td>\n",
       "                <td>0x7fe6e72b2020</td>\n",
       "            </tr><tr>\n",
       "                <td><strong>Stoichiometry</strong></td>\n",
       "                <td>\n",
       "                    <p style='text-align:right'>atp[c] + f6p[c] --> adp[c] + fdp[c] + h[c]</p>\n",
       "                    <p style='text-align:right'>ATP + D-Fructose 6-phosphate --> ADP + D-Fructose 1,6-bisphosphate + proton</p>\n",
       "                </td>\n",
       "            </tr><tr>\n",
       "                <td><strong>GPR</strong></td><td>511145.12.peg.1794 or 511145.12.peg.4032</td>\n",
       "            </tr><tr>\n",
       "                <td><strong>Lower bound</strong></td><td>0.0</td>\n",
       "            </tr><tr>\n",
       "                <td><strong>Upper bound</strong></td><td>1000.0</td>\n",
       "            </tr>\n",
       "        </table>\n",
       "        "
      ],
      "text/plain": [
       "<Reaction PFK at 0x7fe6e72b2020>"
      ]
     },
     "execution_count": 29,
     "metadata": {},
     "output_type": "execute_result"
    }
   ],
   "source": [
    "model.reactions.get_by_id(\"PFK\")"
   ]
  },
  {
   "cell_type": "code",
   "execution_count": 30,
   "metadata": {},
   "outputs": [
    {
     "data": {
      "text/html": [
       "\n",
       "        <table>\n",
       "            <tr>\n",
       "                <td><strong>Reaction identifier</strong></td><td>EX_for(e)</td>\n",
       "            </tr><tr>\n",
       "                <td><strong>Name</strong></td><td>Formate exchange</td>\n",
       "            </tr><tr>\n",
       "                <td><strong>Memory address</strong></td>\n",
       "                <td>0x7fe6e7948d00</td>\n",
       "            </tr><tr>\n",
       "                <td><strong>Stoichiometry</strong></td>\n",
       "                <td>\n",
       "                    <p style='text-align:right'>for[e] <=></p>\n",
       "                    <p style='text-align:right'>Formate <=></p>\n",
       "                </td>\n",
       "            </tr><tr>\n",
       "                <td><strong>GPR</strong></td><td></td>\n",
       "            </tr><tr>\n",
       "                <td><strong>Lower bound</strong></td><td>-1000.0</td>\n",
       "            </tr><tr>\n",
       "                <td><strong>Upper bound</strong></td><td>1000.0</td>\n",
       "            </tr>\n",
       "        </table>\n",
       "        "
      ],
      "text/plain": [
       "<Reaction EX_for(e) at 0x7fe6e7948d00>"
      ]
     },
     "execution_count": 30,
     "metadata": {},
     "output_type": "execute_result"
    }
   ],
   "source": [
    "model.reactions.get_by_id(\"EX_for(e)\")"
   ]
  },
  {
   "cell_type": "code",
   "execution_count": 31,
   "metadata": {},
   "outputs": [
    {
     "data": {
      "text/html": [
       "\n",
       "        <table>\n",
       "            <tr>\n",
       "                <td><strong>Reaction identifier</strong></td><td>FRUpts</td>\n",
       "            </tr><tr>\n",
       "                <td><strong>Name</strong></td><td>D-fructose transport via PEP:Pyr PTS</td>\n",
       "            </tr><tr>\n",
       "                <td><strong>Memory address</strong></td>\n",
       "                <td>0x7fe6e7809fc0</td>\n",
       "            </tr><tr>\n",
       "                <td><strong>Stoichiometry</strong></td>\n",
       "                <td>\n",
       "                    <p style='text-align:right'>fru[e] + pep[c] --> f1p[c] + pyr[c]</p>\n",
       "                    <p style='text-align:right'>D-Fructose + Phosphoenolpyruvate --> D-Fructose 1-phosphate + pyruvate</p>\n",
       "                </td>\n",
       "            </tr><tr>\n",
       "                <td><strong>GPR</strong></td><td>(511145.12.peg.2252 and 511145.12.peg.2254 and 511145.12.peg.2481) or (511145.12.peg.2252 and...</td>\n",
       "            </tr><tr>\n",
       "                <td><strong>Lower bound</strong></td><td>0.0</td>\n",
       "            </tr><tr>\n",
       "                <td><strong>Upper bound</strong></td><td>1000.0</td>\n",
       "            </tr>\n",
       "        </table>\n",
       "        "
      ],
      "text/plain": [
       "<Reaction FRUpts at 0x7fe6e7809fc0>"
      ]
     },
     "execution_count": 31,
     "metadata": {},
     "output_type": "execute_result"
    }
   ],
   "source": [
    "model.reactions.get_by_id(\"FRUpts\")"
   ]
  },
  {
   "cell_type": "code",
   "execution_count": 32,
   "metadata": {},
   "outputs": [
    {
     "data": {
      "text/html": [
       "\n",
       "        <table>\n",
       "            <tr>\n",
       "                <td><strong>Reaction identifier</strong></td><td>EX_fru(e)</td>\n",
       "            </tr><tr>\n",
       "                <td><strong>Name</strong></td><td>exchange reaction for D-Fructose</td>\n",
       "            </tr><tr>\n",
       "                <td><strong>Memory address</strong></td>\n",
       "                <td>0x7fe6e7948070</td>\n",
       "            </tr><tr>\n",
       "                <td><strong>Stoichiometry</strong></td>\n",
       "                <td>\n",
       "                    <p style='text-align:right'>fru[e] <=></p>\n",
       "                    <p style='text-align:right'>D-Fructose <=></p>\n",
       "                </td>\n",
       "            </tr><tr>\n",
       "                <td><strong>GPR</strong></td><td></td>\n",
       "            </tr><tr>\n",
       "                <td><strong>Lower bound</strong></td><td>-1000.0</td>\n",
       "            </tr><tr>\n",
       "                <td><strong>Upper bound</strong></td><td>1000.0</td>\n",
       "            </tr>\n",
       "        </table>\n",
       "        "
      ],
      "text/plain": [
       "<Reaction EX_fru(e) at 0x7fe6e7948070>"
      ]
     },
     "execution_count": 32,
     "metadata": {},
     "output_type": "execute_result"
    }
   ],
   "source": [
    "model.reactions.get_by_id(\"EX_fru(e)\")"
   ]
  },
  {
   "cell_type": "code",
   "execution_count": 33,
   "metadata": {},
   "outputs": [
    {
     "data": {
      "text/html": [
       "\n",
       "        <table>\n",
       "            <tr>\n",
       "                <td><strong>Reaction identifier</strong></td><td>PGI</td>\n",
       "            </tr><tr>\n",
       "                <td><strong>Name</strong></td><td>Glucose-6-Phosphate Isomerase</td>\n",
       "            </tr><tr>\n",
       "                <td><strong>Memory address</strong></td>\n",
       "                <td>0x7fe6e72b2bc0</td>\n",
       "            </tr><tr>\n",
       "                <td><strong>Stoichiometry</strong></td>\n",
       "                <td>\n",
       "                    <p style='text-align:right'>g6p[c] <=> f6p[c]</p>\n",
       "                    <p style='text-align:right'>D-Glucose 6-phosphate <=> D-Fructose 6-phosphate</p>\n",
       "                </td>\n",
       "            </tr><tr>\n",
       "                <td><strong>GPR</strong></td><td>511145.12.peg.4138</td>\n",
       "            </tr><tr>\n",
       "                <td><strong>Lower bound</strong></td><td>-1000.0</td>\n",
       "            </tr><tr>\n",
       "                <td><strong>Upper bound</strong></td><td>1000.0</td>\n",
       "            </tr>\n",
       "        </table>\n",
       "        "
      ],
      "text/plain": [
       "<Reaction PGI at 0x7fe6e72b2bc0>"
      ]
     },
     "execution_count": 33,
     "metadata": {},
     "output_type": "execute_result"
    }
   ],
   "source": [
    "model.reactions.get_by_id(\"PGI\")"
   ]
  },
  {
   "cell_type": "code",
   "execution_count": 34,
   "metadata": {},
   "outputs": [
    {
     "data": {
      "text/html": [
       "\n",
       "        <table>\n",
       "            <tr>\n",
       "                <td><strong>Reaction identifier</strong></td><td>GLCpts</td>\n",
       "            </tr><tr>\n",
       "                <td><strong>Name</strong></td><td>D-glucose transport via PEP:Pyr PTS</td>\n",
       "            </tr><tr>\n",
       "                <td><strong>Memory address</strong></td>\n",
       "                <td>0x7fe6e76e45b0</td>\n",
       "            </tr><tr>\n",
       "                <td><strong>Stoichiometry</strong></td>\n",
       "                <td>\n",
       "                    <p style='text-align:right'>glc_D[e] + pep[c] --> g6p[c] + pyr[c]</p>\n",
       "                    <p style='text-align:right'>D-glucose + Phosphoenolpyruvate --> D-Glucose 6-phosphate + pyruvate</p>\n",
       "                </td>\n",
       "            </tr><tr>\n",
       "                <td><strong>GPR</strong></td><td>(511145.12.peg.1144 and 511145.12.peg.2481 and 511145.12.peg.2510 and 511145.12.peg.2511) or...</td>\n",
       "            </tr><tr>\n",
       "                <td><strong>Lower bound</strong></td><td>0.0</td>\n",
       "            </tr><tr>\n",
       "                <td><strong>Upper bound</strong></td><td>1000.0</td>\n",
       "            </tr>\n",
       "        </table>\n",
       "        "
      ],
      "text/plain": [
       "<Reaction GLCpts at 0x7fe6e76e45b0>"
      ]
     },
     "execution_count": 34,
     "metadata": {},
     "output_type": "execute_result"
    }
   ],
   "source": [
    "model.reactions.get_by_id(\"GLCpts\")"
   ]
  },
  {
   "cell_type": "code",
   "execution_count": 35,
   "metadata": {
    "scrolled": true
   },
   "outputs": [
    {
     "data": {
      "text/html": [
       "\n",
       "        <table>\n",
       "            <tr>\n",
       "                <td><strong>Reaction identifier</strong></td><td>EX_glc_D(e)</td>\n",
       "            </tr><tr>\n",
       "                <td><strong>Name</strong></td><td>D-Glucose exchange</td>\n",
       "            </tr><tr>\n",
       "                <td><strong>Memory address</strong></td>\n",
       "                <td>0x7fe6e7949fc0</td>\n",
       "            </tr><tr>\n",
       "                <td><strong>Stoichiometry</strong></td>\n",
       "                <td>\n",
       "                    <p style='text-align:right'>glc_D[e] <=></p>\n",
       "                    <p style='text-align:right'>D-glucose <=></p>\n",
       "                </td>\n",
       "            </tr><tr>\n",
       "                <td><strong>GPR</strong></td><td></td>\n",
       "            </tr><tr>\n",
       "                <td><strong>Lower bound</strong></td><td>-1000.0</td>\n",
       "            </tr><tr>\n",
       "                <td><strong>Upper bound</strong></td><td>1000.0</td>\n",
       "            </tr>\n",
       "        </table>\n",
       "        "
      ],
      "text/plain": [
       "<Reaction EX_glc_D(e) at 0x7fe6e7949fc0>"
      ]
     },
     "execution_count": 35,
     "metadata": {},
     "output_type": "execute_result"
    }
   ],
   "source": [
    "model.reactions.get_by_id(\"EX_glc_D(e)\")"
   ]
  },
  {
   "cell_type": "code",
   "execution_count": 36,
   "metadata": {},
   "outputs": [
    {
     "data": {
      "text/plain": [
       "frozenset({<Reaction ACACCTr at 0x7fe6e80669e0>,\n",
       "           <Reaction ACKr at 0x7fe6e80a18d0>,\n",
       "           <Reaction ACODAr at 0x7fe6e7ee4b50>,\n",
       "           <Reaction ACS at 0x7fe6e7ee6560>,\n",
       "           <Reaction ACYP_2 at 0x7fe6e7ee7490>,\n",
       "           <Reaction ACt2r at 0x7fe6e7ee78e0>,\n",
       "           <Reaction AGDC2 at 0x7fe6e7f8bee0>,\n",
       "           <Reaction AGDC at 0x7fe6e7f8bd30>,\n",
       "           <Reaction BUTCT at 0x7fe6e7c12e90>,\n",
       "           <Reaction CITL at 0x7fe6e7c4b7c0>,\n",
       "           <Reaction CYSS3r at 0x7fe6e7ac0eb0>,\n",
       "           <Reaction CYSS at 0x7fe6e7ac07f0>,\n",
       "           <Reaction METB1 at 0x7fe6e7573df0>,\n",
       "           <Reaction POX at 0x7fe6e735f4f0>,\n",
       "           <Reaction UHGADA at 0x7fe6e6fb36d0>})"
      ]
     },
     "execution_count": 36,
     "metadata": {},
     "output_type": "execute_result"
    }
   ],
   "source": [
    "model.metabolites.get_by_id(\"ac[c]\").reactions"
   ]
  },
  {
   "cell_type": "code",
   "execution_count": 37,
   "metadata": {},
   "outputs": [
    {
     "data": {
      "text/plain": [
       "['BUTCT', 'ACS', 'ACACCTr']"
      ]
     },
     "execution_count": 37,
     "metadata": {},
     "output_type": "execute_result"
    }
   ],
   "source": [
    "[reac.id for reac in model.metabolites.get_by_id(\"ac[c]\").reactions if \n",
    " \"accoa[c]\" in [met.id for met in reac.metabolites]]"
   ]
  },
  {
   "cell_type": "code",
   "execution_count": 38,
   "metadata": {},
   "outputs": [
    {
     "data": {
      "text/plain": [
       "['3CARLPDH',\n",
       " 'ACALD',\n",
       " 'ACALDt',\n",
       " 'ACKr',\n",
       " 'ACONT',\n",
       " 'ACONTa',\n",
       " 'ACONTb',\n",
       " 'ACS',\n",
       " 'ACYP_2',\n",
       " 'ACt2r',\n",
       " 'ALCD2x',\n",
       " 'CDCA7aHSDHe',\n",
       " 'CITL',\n",
       " 'CITt7',\n",
       " 'CO2t',\n",
       " 'D_LACt2',\n",
       " 'ENO',\n",
       " 'ETOHt',\n",
       " 'EX_7dhcdchol(e)',\n",
       " 'EX_C02528(e)',\n",
       " 'EX_ac(e)',\n",
       " 'EX_acald(e)',\n",
       " 'EX_cit(e)',\n",
       " 'EX_co2(e)',\n",
       " 'EX_for(e)',\n",
       " 'EX_fru(e)',\n",
       " 'EX_gcald(e)',\n",
       " 'EX_glc_D(e)',\n",
       " 'EX_glyclt(e)',\n",
       " 'EX_h(e)',\n",
       " 'EX_h2o(e)',\n",
       " 'EX_lac_D(e)',\n",
       " 'EX_pi(e)',\n",
       " 'FBA',\n",
       " 'FDH',\n",
       " 'FORt2r',\n",
       " 'FRD2',\n",
       " 'FRD3',\n",
       " 'FRD7',\n",
       " 'FRUpts',\n",
       " 'FUM',\n",
       " 'GAPD',\n",
       " 'GCALDDr',\n",
       " 'GCALDt',\n",
       " 'GLCpts',\n",
       " 'GLYCLTt2r',\n",
       " 'ICDHy',\n",
       " 'ICL',\n",
       " 'LDH_D',\n",
       " 'MALFADOi',\n",
       " 'MDH',\n",
       " 'MDH2',\n",
       " 'MDH3',\n",
       " 'ME1',\n",
       " 'OAASr',\n",
       " 'PFL',\n",
       " 'PGK',\n",
       " 'PGM',\n",
       " 'PPCK',\n",
       " 'PPCr',\n",
       " 'PTAr',\n",
       " 'PYK',\n",
       " 'SUCCt2_3',\n",
       " 'SUCD1',\n",
       " 'SUCD4',\n",
       " 'SUCDi',\n",
       " 'SUCDimq',\n",
       " 'SUCOAS',\n",
       " 'TPI',\n",
       " 'r0163c',\n",
       " 'r0556ci']"
      ]
     },
     "execution_count": 38,
     "metadata": {},
     "output_type": "execute_result"
    }
   ],
   "source": [
    "reactions_to_include.append(model.reactions.get_by_id(\"ACALD\"))\n",
    "reactions_to_include.append(model.reactions.get_by_id(\"ACALDt\"))\n",
    "reactions_to_include.append(model.reactions.get_by_id(\"ALCD2x\"))\n",
    "reactions_to_include.append(model.reactions.get_by_id(\"ETOHt\"))\n",
    "reactions_to_include.append(model.reactions.get_by_id(\"PFL\"))\n",
    "reactions_to_include.append(model.reactions.get_by_id(\"FORt2r\"))\n",
    "reactions_to_include.append(model.reactions.get_by_id(\"LDH_D\"))\n",
    "reactions_to_include.append(model.reactions.get_by_id(\"D_LACt2\"))\n",
    "reactions_to_include.append(model.reactions.get_by_id(\"PYK\"))\n",
    "reactions_to_include.append(model.reactions.get_by_id(\"ENO\"))\n",
    "reactions_to_include.append(model.reactions.get_by_id(\"PPCr\"))\n",
    "reactions_to_include.append(model.reactions.get_by_id(\"PGM\"))\n",
    "reactions_to_include.append(model.reactions.get_by_id(\"PGK\"))\n",
    "reactions_to_include.append(model.reactions.get_by_id(\"GAPD\"))\n",
    "reactions_to_include.append(model.reactions.get_by_id(\"TPI\"))\n",
    "reactions_to_include.append(model.reactions.get_by_id(\"FBA\"))\n",
    "reactions_to_include.append(model.reactions.get_by_id(\"GLCpts\"))\n",
    "reactions_to_include.append(model.reactions.get_by_id(\"FRUpts\"))\n",
    "reactions_to_include.append(model.reactions.get_by_id(\"ACt2r\"))\n",
    "reactions_to_include.append(model.reactions.get_by_id(\"ACKr\"))\n",
    "reactions_to_include.append(model.reactions.get_by_id(\"ACS\"))\n",
    "#TO ALLOW FOR acetate production:\n",
    "reactions_to_include.append(model.reactions.get_by_id(\"ACYP_2\"))\n",
    "reactions_to_include.append(model.reactions.get_by_id(\"CITt7\"))\n",
    "reactions_to_include.append(model.reactions.get_by_id(\"CO2t\"))\n",
    "reactions_to_include.append(model.reactions.get_by_id(\"FDH\"))\n",
    "reactions_to_include.append(model.reactions.get_by_id(\"GCALDDr\"))\n",
    "reactions_to_include.append(model.reactions.get_by_id(\"GCALDt\"))\n",
    "reactions_to_include.append(model.reactions.get_by_id(\"GLYCLTt2r\"))\n",
    "reactions_to_include.append(model.reactions.get_by_id(\"PTAr\"))\n",
    "reactions_to_include.append(model.reactions.get_by_id(\"SUCCt2_3\"))\n",
    "#TO ALLOW FOR lactate production:\n",
    "reactions_to_include.append(model.reactions.get_by_id(\"CDCA7aHSDHe\"))\n",
    "reactions_to_include.append(model.reactions.get_by_id(\"EX_C02528(e)\"))\n",
    "reactions_to_include.append(model.reactions.get_by_id(\"EX_7dhcdchol(e)\"))\n",
    "\n",
    "reactions_to_include = reactions_to_include + list(subs_reacs)\n",
    "#internal_reactions_to_include.append()\n",
    "#internal_reactions_to_include.append()\n",
    "#internal_reactions_to_include.append()\n",
    "#internal_reactions_to_include.append()\n",
    "sorted([reac.id for reac in reactions_to_include])"
   ]
  },
  {
   "cell_type": "code",
   "execution_count": 39,
   "metadata": {},
   "outputs": [
    {
     "data": {
      "text/plain": [
       "{'Bile acid metabolism',\n",
       " 'Citric acid cycle',\n",
       " 'Exchange/demand reaction',\n",
       " 'Glycolysis/gluconeogenesis',\n",
       " 'Glyoxylate and dicarboxylate metabolism',\n",
       " 'Pyruvate metabolism',\n",
       " 'Transport, extracellular'}"
      ]
     },
     "execution_count": 39,
     "metadata": {},
     "output_type": "execute_result"
    }
   ],
   "source": [
    "group_names = set()\n",
    "for reac in reactions_to_include:\n",
    "    group_names.add(reac.subsystem)\n",
    "group_names"
   ]
  },
  {
   "cell_type": "code",
   "execution_count": 40,
   "metadata": {
    "scrolled": true
   },
   "outputs": [
    {
     "data": {
      "text/plain": [
       "[<Group group7 at 0x7fe6e6d394b0>,\n",
       " <Group group13 at 0x7fe6e6c0b6a0>,\n",
       " <Group group15 at 0x7fe6e6c0b7c0>,\n",
       " <Group group25 at 0x7fe6e6c0b8b0>,\n",
       " <Group group26 at 0x7fe6e6c0b850>,\n",
       " <Group group56 at 0x7fe6e6c0bfa0>,\n",
       " <Group group66 at 0x7fe6e6c0b670>]"
      ]
     },
     "execution_count": 40,
     "metadata": {},
     "output_type": "execute_result"
    }
   ],
   "source": [
    "groups_to_add = [group for group in model.groups if group.name in group_names]\n",
    "groups_to_add"
   ]
  },
  {
   "cell_type": "code",
   "execution_count": 41,
   "metadata": {},
   "outputs": [],
   "source": [
    "#metab_ids_toadd = set()\n",
    "#groups_toadd = list()\n",
    "#group_ids_toadd = set()\n",
    "#gene_ids_toadd = set()\n",
    "\n",
    "#create an empty model\n",
    "minimal_model = cobra.Model(id_or_model=\"minimal_model\", name=\"minimal_model\")\n",
    "\n",
    "#add reactions to the model\n",
    "minimal_model_reactions = cobra.core.DictList()\n",
    "for react in reactions_to_include:\n",
    "    minimal_model_react = cobra.core.reaction.Reaction(react.id, name= react.name)\n",
    "    minimal_model_react.lower_bound = react.lower_bound\n",
    "    minimal_model_react.upper_bound = react.upper_bound\n",
    "    minimal_model_react.annotation = react.annotation\n",
    "    minimal_model_mets = dict()\n",
    "    for met in react.metabolites:\n",
    "        minimal_model_met =cobra.core.metabolite.Metabolite(met.id,\n",
    "                                                        name=met.name,\n",
    "                                                        charge=met.charge,\n",
    "                                                        compartment=met.compartment, \n",
    "                                                        formula=met.formula)\n",
    "        minimal_model_met.annotation = met.annotation\n",
    "        minimal_model_met.elements = met.elements\n",
    "        minimal_model_met.notes = met.notes\n",
    "        minimal_model_mets[minimal_model_met] = react.get_coefficient(met.id)\n",
    "    minimal_model_react.add_metabolites(minimal_model_mets)\n",
    "    minimal_model_reactions.add(minimal_model_react)\n",
    "minimal_model.add_reactions(minimal_model_reactions)\n",
    "\n",
    "\n",
    "minimal_model_reac_ids = [reac.id for reac in minimal_model.reactions]\n",
    "minimal_model_groups = cobra.core.DictList()\n",
    "for group in model.groups:\n",
    "    if group in groups_to_add:\n",
    "        members = cobra.core.DictList()\n",
    "        for member in group.members:\n",
    "            if member.id in minimal_model_reac_ids:\n",
    "                members.add(minimal_model.reactions.get_by_id(member.id))\n",
    "        minimal_model_group = cobra.core.group.Group(group.id, group.name,\n",
    "                                                     members=members, \n",
    "                                                     kind=group.kind)\n",
    "        minimal_model_groups.add(minimal_model_group)\n",
    "minimal_model.add_groups(minimal_model_groups)\n",
    "\n",
    "\n",
    "#minimal_model_genes = cobra.core.DictList() #unfortunately the add_genes function doesn't exist yet\n",
    "#for gene in model.genes:\n",
    "#    for reac in gene.reactions:\n",
    "#        if reac.id in [minimal_model_reac_ids]:\n",
    "#            ...\n",
    "#            ...\n",
    "#minimal_model.add_genes(minimal_model_genes) #unfortunately the add_genes function doesn't exist yet\n"
   ]
  },
  {
   "cell_type": "code",
   "execution_count": 42,
   "metadata": {},
   "outputs": [],
   "source": [
    "#ADDING FAKE EXCHANGE OF FAD, FADH2 NAD AND NADH\n",
    "\n",
    "def add_ex_tr(met_c_id, minimal_model):\n",
    "    minimal_model_reactions = cobra.core.DictList()\n",
    "    minimal_model_react = cobra.core.reaction.Reaction(\"FAKE_tr_\" + met_c_id, name=\"fake transport\")\n",
    "    minimal_model_react.lower_bound = -1000.0\n",
    "    minimal_model_react.upper_bound = 1000.0\n",
    "    minimal_model_react.notes = \"this reactions has been added to make the minimal model feasible\"\n",
    "    minimal_model_mets = dict()\n",
    "    met_c = minimal_model.metabolites.get_by_id(met_c_id)\n",
    "    met_e = cobra.core.metabolite.Metabolite(met_c.id.replace(\"[c]\",\"[e]\"),\n",
    "                                             name=met_c.name,\n",
    "                                             charge=met_c.charge,\n",
    "                                             compartment=\"e\", \n",
    "                                             formula=met_c.formula)\n",
    "    met_e.annotation = met_c.annotation\n",
    "    met_e.elements = met_c.elements\n",
    "    met_e.notes = met_c.notes\n",
    "    minimal_model_mets[met_c] = -1.0\n",
    "    minimal_model_mets[met_e] = 1.0\n",
    "    minimal_model_react.add_metabolites(minimal_model_mets)\n",
    "    minimal_model_reactions.add(minimal_model_react)\n",
    "\n",
    "    minimal_model_react = cobra.core.reaction.Reaction(\"EX_FAKE_\" + met_e.id ,name=\"fake exchange\")\n",
    "    minimal_model_react.lower_bound = -1000.0\n",
    "    minimal_model_react.upper_bound = 1000.0\n",
    "    minimal_model_react.notes = \"this reactions has been added to make the minimal model feasible\"\n",
    "    minimal_model_mets = dict()\n",
    "    #met_e = minimal_model.metabolites.get_by_id(\"fad[e]\")\n",
    "    minimal_model_mets[met_e] = -1.0\n",
    "    minimal_model_react.add_metabolites(minimal_model_mets)\n",
    "    minimal_model_reactions.add(minimal_model_react)\n",
    "\n",
    "    minimal_model.add_reactions(minimal_model_reactions)\n",
    "\n",
    "add_ex_tr(\"fad[c]\",minimal_model)\n",
    "add_ex_tr(\"fadh2[c]\",minimal_model)\n",
    "add_ex_tr(\"nad[c]\",minimal_model)\n",
    "add_ex_tr(\"nadh[c]\",minimal_model)\n",
    "#add_ex_tr(\"amp[c]\",minimal_model)"
   ]
  },
  {
   "cell_type": "code",
   "execution_count": 43,
   "metadata": {},
   "outputs": [
    {
     "data": {
      "text/html": [
       "\n",
       "        <table>\n",
       "            <tr>\n",
       "                <td><strong>Name</strong></td>\n",
       "                <td>minimal_model</td>\n",
       "            </tr><tr>\n",
       "                <td><strong>Memory address</strong></td>\n",
       "                <td>7fe6e6abea70</td>\n",
       "            </tr><tr>\n",
       "                <td><strong>Number of metabolites</strong></td>\n",
       "                <td>76</td>\n",
       "            </tr><tr>\n",
       "                <td><strong>Number of reactions</strong></td>\n",
       "                <td>79</td>\n",
       "            </tr><tr>\n",
       "                <td><strong>Number of genes</strong></td>\n",
       "                <td>0</td>\n",
       "            </tr><tr>\n",
       "                <td><strong>Number of groups</strong></td>\n",
       "                <td>7</td>\n",
       "            </tr><tr>\n",
       "                <td><strong>Objective expression</strong></td>\n",
       "                <td>0</td>\n",
       "            </tr><tr>\n",
       "                <td><strong>Compartments</strong></td>\n",
       "                <td>e, c</td>\n",
       "            </tr>\n",
       "          </table>"
      ],
      "text/plain": [
       "<Model minimal_model at 0x7fe6e6abea70>"
      ]
     },
     "execution_count": 43,
     "metadata": {},
     "output_type": "execute_result"
    }
   ],
   "source": [
    "minimal_model"
   ]
  },
  {
   "cell_type": "code",
   "execution_count": 44,
   "metadata": {},
   "outputs": [
    {
     "data": {
      "text/html": [
       "\n",
       "        <table>\n",
       "            <tr>\n",
       "                <td><strong>Metabolite identifier</strong></td><td>fad[c]</td>\n",
       "            </tr><tr>\n",
       "                <td><strong>Name</strong></td><td>Flavin adenine dinucleotide oxidized</td>\n",
       "            </tr><tr>\n",
       "                <td><strong>Memory address</strong></td>\n",
       "                <td>0x7fe6e6b4df90</td>\n",
       "            </tr><tr>\n",
       "                <td><strong>Formula</strong></td><td>C27H31N9O15P2</td>\n",
       "            </tr><tr>\n",
       "                <td><strong>Compartment</strong></td><td>c</td>\n",
       "            </tr><tr>\n",
       "                <td><strong>In 4 reaction(s)</strong></td><td>\n",
       "                    SUCD4, MALFADOi, SUCD1, FAKE_tr_fad[c]\n",
       "                    </td>\n",
       "            </tr>\n",
       "        </table>"
      ],
      "text/plain": [
       "<Metabolite fad[c] at 0x7fe6e6b4df90>"
      ]
     },
     "execution_count": 44,
     "metadata": {},
     "output_type": "execute_result"
    }
   ],
   "source": [
    "minimal_model.metabolites.get_by_id(\"fad[c]\")"
   ]
  },
  {
   "cell_type": "code",
   "execution_count": 45,
   "metadata": {},
   "outputs": [
    {
     "data": {
      "text/html": [
       "\n",
       "        <table>\n",
       "            <tr>\n",
       "                <td><strong>Reaction identifier</strong></td><td>FAKE_tr_fad[c]</td>\n",
       "            </tr><tr>\n",
       "                <td><strong>Name</strong></td><td>fake transport</td>\n",
       "            </tr><tr>\n",
       "                <td><strong>Memory address</strong></td>\n",
       "                <td>0x7fe6e6ba13c0</td>\n",
       "            </tr><tr>\n",
       "                <td><strong>Stoichiometry</strong></td>\n",
       "                <td>\n",
       "                    <p style='text-align:right'>fad[c] <=> fad[e]</p>\n",
       "                    <p style='text-align:right'>Flavin adenine dinucleotide oxidized <=> Flavin adenine dinucleotide oxidized</p>\n",
       "                </td>\n",
       "            </tr><tr>\n",
       "                <td><strong>GPR</strong></td><td></td>\n",
       "            </tr><tr>\n",
       "                <td><strong>Lower bound</strong></td><td>-1000.0</td>\n",
       "            </tr><tr>\n",
       "                <td><strong>Upper bound</strong></td><td>1000.0</td>\n",
       "            </tr>\n",
       "        </table>\n",
       "        "
      ],
      "text/plain": [
       "<Reaction FAKE_tr_fad[c] at 0x7fe6e6ba13c0>"
      ]
     },
     "execution_count": 45,
     "metadata": {},
     "output_type": "execute_result"
    }
   ],
   "source": [
    "minimal_model.reactions.get_by_id(\"FAKE_tr_fad[c]\")"
   ]
  },
  {
   "cell_type": "code",
   "execution_count": 46,
   "metadata": {},
   "outputs": [
    {
     "data": {
      "text/html": [
       "\n",
       "        <table>\n",
       "            <tr>\n",
       "                <td><strong>Metabolite identifier</strong></td><td>fad[e]</td>\n",
       "            </tr><tr>\n",
       "                <td><strong>Name</strong></td><td>Flavin adenine dinucleotide oxidized</td>\n",
       "            </tr><tr>\n",
       "                <td><strong>Memory address</strong></td>\n",
       "                <td>0x7fe6e6ba14b0</td>\n",
       "            </tr><tr>\n",
       "                <td><strong>Formula</strong></td><td>C27H31N9O15P2</td>\n",
       "            </tr><tr>\n",
       "                <td><strong>Compartment</strong></td><td>e</td>\n",
       "            </tr><tr>\n",
       "                <td><strong>In 2 reaction(s)</strong></td><td>\n",
       "                    EX_FAKE_fad[e], FAKE_tr_fad[c]\n",
       "                    </td>\n",
       "            </tr>\n",
       "        </table>"
      ],
      "text/plain": [
       "<Metabolite fad[e] at 0x7fe6e6ba14b0>"
      ]
     },
     "execution_count": 46,
     "metadata": {},
     "output_type": "execute_result"
    }
   ],
   "source": [
    "minimal_model.metabolites.get_by_id(\"fad[e]\")"
   ]
  },
  {
   "cell_type": "code",
   "execution_count": 47,
   "metadata": {},
   "outputs": [
    {
     "data": {
      "text/html": [
       "\n",
       "        <table>\n",
       "            <tr>\n",
       "                <td><strong>Reaction identifier</strong></td><td>EX_FAKE_fad[e]</td>\n",
       "            </tr><tr>\n",
       "                <td><strong>Name</strong></td><td>fake exchange</td>\n",
       "            </tr><tr>\n",
       "                <td><strong>Memory address</strong></td>\n",
       "                <td>0x7fe6e6ba1510</td>\n",
       "            </tr><tr>\n",
       "                <td><strong>Stoichiometry</strong></td>\n",
       "                <td>\n",
       "                    <p style='text-align:right'>fad[e] <=></p>\n",
       "                    <p style='text-align:right'>Flavin adenine dinucleotide oxidized <=></p>\n",
       "                </td>\n",
       "            </tr><tr>\n",
       "                <td><strong>GPR</strong></td><td></td>\n",
       "            </tr><tr>\n",
       "                <td><strong>Lower bound</strong></td><td>-1000.0</td>\n",
       "            </tr><tr>\n",
       "                <td><strong>Upper bound</strong></td><td>1000.0</td>\n",
       "            </tr>\n",
       "        </table>\n",
       "        "
      ],
      "text/plain": [
       "<Reaction EX_FAKE_fad[e] at 0x7fe6e6ba1510>"
      ]
     },
     "execution_count": 47,
     "metadata": {},
     "output_type": "execute_result"
    }
   ],
   "source": [
    "minimal_model.reactions.get_by_id(\"EX_FAKE_fad[e]\")"
   ]
  },
  {
   "cell_type": "code",
   "execution_count": 48,
   "metadata": {},
   "outputs": [
    {
     "data": {
      "text/plain": [
       "{'EX_glc_D(e)': 1000.0,\n",
       " 'EX_fru(e)': 1000.0,\n",
       " 'EX_ac(e)': 1000.0,\n",
       " 'EX_cit(e)': 1000.0,\n",
       " 'EX_gcald(e)': 1000.0,\n",
       " 'EX_glyclt(e)': 1000.0,\n",
       " 'EX_h2o(e)': 1000.0,\n",
       " 'EX_h(e)': 1000.0,\n",
       " 'EX_co2(e)': 1000.0,\n",
       " 'EX_pi(e)': 1000.0,\n",
       " 'EX_for(e)': 1000.0,\n",
       " 'EX_acald(e)': 1000.0,\n",
       " 'EX_lac_D(e)': 1000.0,\n",
       " 'EX_C02528(e)': 1000.0,\n",
       " 'EX_7dhcdchol(e)': 1000.0,\n",
       " 'EX_FAKE_fad[e]': 1000.0,\n",
       " 'EX_FAKE_fadh2[e]': 1000.0,\n",
       " 'EX_FAKE_nad[e]': 1000.0,\n",
       " 'EX_FAKE_nadh[e]': 1000.0}"
      ]
     },
     "execution_count": 48,
     "metadata": {},
     "output_type": "execute_result"
    }
   ],
   "source": [
    "minimal_model.medium"
   ]
  },
  {
   "cell_type": "code",
   "execution_count": 49,
   "metadata": {},
   "outputs": [],
   "source": [
    "minimal_model.reactions.get_by_id(\"EX_glc_D(e)\").lower_bound = -1.0\n",
    "minimal_model.reactions.get_by_id(\"EX_fru(e)\").lower_bound = -1.0\n",
    "minimal_model.reactions.get_by_id(\"EX_h(e)\").lower_bound = -1.0\n",
    "minimal_model.reactions.get_by_id(\"EX_ac(e)\").lower_bound = 0.0\n",
    "minimal_model.reactions.get_by_id(\"EX_for(e)\").lower_bound = 0.0\n",
    "minimal_model.reactions.get_by_id(\"EX_acald(e)\").lower_bound = 0.0\n",
    "minimal_model.reactions.get_by_id(\"EX_lac_D(e)\").lower_bound = 0.0"
   ]
  },
  {
   "cell_type": "code",
   "execution_count": 50,
   "metadata": {},
   "outputs": [
    {
     "data": {
      "text/plain": [
       "{'EX_glc_D(e)': 1.0,\n",
       " 'EX_fru(e)': 1.0,\n",
       " 'EX_cit(e)': 1000.0,\n",
       " 'EX_gcald(e)': 1000.0,\n",
       " 'EX_glyclt(e)': 1000.0,\n",
       " 'EX_h2o(e)': 1000.0,\n",
       " 'EX_h(e)': 1.0,\n",
       " 'EX_co2(e)': 1000.0,\n",
       " 'EX_pi(e)': 1000.0,\n",
       " 'EX_C02528(e)': 1000.0,\n",
       " 'EX_7dhcdchol(e)': 1000.0,\n",
       " 'EX_FAKE_fad[e]': 1000.0,\n",
       " 'EX_FAKE_fadh2[e]': 1000.0,\n",
       " 'EX_FAKE_nad[e]': 1000.0,\n",
       " 'EX_FAKE_nadh[e]': 1000.0}"
      ]
     },
     "execution_count": 50,
     "metadata": {},
     "output_type": "execute_result"
    }
   ],
   "source": [
    "minimal_model.medium"
   ]
  },
  {
   "cell_type": "code",
   "execution_count": 56,
   "metadata": {},
   "outputs": [],
   "source": [
    "minimal_model.reactions.get_by_id(\"EX_glc_D(e)\").lower_bound = -1000.0\n",
    "minimal_model.reactions.get_by_id(\"EX_fru(e)\").lower_bound = -1000.0\n",
    "minimal_model.reactions.get_by_id(\"EX_ac(e)\").lower_bound = -1000.0\n",
    "minimal_model.reactions.get_by_id(\"EX_h2o(e)\").lower_bound = -1000.0\n",
    "minimal_model.reactions.get_by_id(\"EX_h(e)\").lower_bound = -1000.0\n",
    "minimal_model.reactions.get_by_id(\"EX_co2(e)\").lower_bound = -1000.0\n",
    "minimal_model.reactions.get_by_id(\"EX_pi(e)\").lower_bound = -1000.0\n",
    "minimal_model.reactions.get_by_id(\"EX_for(e)\").lower_bound = -1000.0\n",
    "minimal_model.reactions.get_by_id(\"EX_acald(e)\").lower_bound = -1000.0\n",
    "minimal_model.reactions.get_by_id(\"EX_lac_D(e)\").lower_bound = -1000.0\n",
    "minimal_model.reactions.get_by_id(\"EX_FAKE_fad[e]\").lower_bound = -1000.0\n",
    "minimal_model.reactions.get_by_id(\"EX_FAKE_fadh2[e]\").lower_bound = -1000.0\n",
    "minimal_model.reactions.get_by_id(\"EX_FAKE_nad[e]\").lower_bound = -1000.0\n",
    "minimal_model.reactions.get_by_id(\"EX_FAKE_nadh[e]\").lower_bound = -1000.0"
   ]
  },
  {
   "cell_type": "code",
   "execution_count": 57,
   "metadata": {},
   "outputs": [],
   "source": [
    "minimal_model.objective = \"EX_lac_D(e)\""
   ]
  },
  {
   "cell_type": "code",
   "execution_count": 58,
   "metadata": {},
   "outputs": [],
   "source": [
    "fva_res = cobra.flux_analysis.flux_variability_analysis(minimal_model,fraction_of_optimum=0.0)"
   ]
  },
  {
   "cell_type": "code",
   "execution_count": 60,
   "metadata": {},
   "outputs": [
    {
     "data": {
      "text/html": [
       "<div>\n",
       "<style scoped>\n",
       "    .dataframe tbody tr th:only-of-type {\n",
       "        vertical-align: middle;\n",
       "    }\n",
       "\n",
       "    .dataframe tbody tr th {\n",
       "        vertical-align: top;\n",
       "    }\n",
       "\n",
       "    .dataframe thead th {\n",
       "        text-align: right;\n",
       "    }\n",
       "</style>\n",
       "<table border=\"1\" class=\"dataframe\">\n",
       "  <thead>\n",
       "    <tr style=\"text-align: right;\">\n",
       "      <th></th>\n",
       "      <th>minimum</th>\n",
       "      <th>maximum</th>\n",
       "    </tr>\n",
       "  </thead>\n",
       "  <tbody>\n",
       "    <tr>\n",
       "      <th>EX_glc_D(e)</th>\n",
       "      <td>0.0</td>\n",
       "      <td>0.0</td>\n",
       "    </tr>\n",
       "    <tr>\n",
       "      <th>EX_fru(e)</th>\n",
       "      <td>0.0</td>\n",
       "      <td>0.0</td>\n",
       "    </tr>\n",
       "    <tr>\n",
       "      <th>EX_ac(e)</th>\n",
       "      <td>-500.0</td>\n",
       "      <td>1000.0</td>\n",
       "    </tr>\n",
       "    <tr>\n",
       "      <th>EX_cit(e)</th>\n",
       "      <td>-1000.0</td>\n",
       "      <td>0.0</td>\n",
       "    </tr>\n",
       "    <tr>\n",
       "      <th>EX_gcald(e)</th>\n",
       "      <td>-1000.0</td>\n",
       "      <td>1000.0</td>\n",
       "    </tr>\n",
       "    <tr>\n",
       "      <th>...</th>\n",
       "      <td>...</td>\n",
       "      <td>...</td>\n",
       "    </tr>\n",
       "    <tr>\n",
       "      <th>EX_FAKE_fadh2[e]</th>\n",
       "      <td>0.0</td>\n",
       "      <td>1000.0</td>\n",
       "    </tr>\n",
       "    <tr>\n",
       "      <th>FAKE_tr_nad[c]</th>\n",
       "      <td>0.0</td>\n",
       "      <td>0.0</td>\n",
       "    </tr>\n",
       "    <tr>\n",
       "      <th>EX_FAKE_nad[e]</th>\n",
       "      <td>0.0</td>\n",
       "      <td>0.0</td>\n",
       "    </tr>\n",
       "    <tr>\n",
       "      <th>FAKE_tr_nadh[c]</th>\n",
       "      <td>0.0</td>\n",
       "      <td>0.0</td>\n",
       "    </tr>\n",
       "    <tr>\n",
       "      <th>EX_FAKE_nadh[e]</th>\n",
       "      <td>0.0</td>\n",
       "      <td>0.0</td>\n",
       "    </tr>\n",
       "  </tbody>\n",
       "</table>\n",
       "<p>79 rows × 2 columns</p>\n",
       "</div>"
      ],
      "text/plain": [
       "                  minimum  maximum\n",
       "EX_glc_D(e)           0.0      0.0\n",
       "EX_fru(e)             0.0      0.0\n",
       "EX_ac(e)           -500.0   1000.0\n",
       "EX_cit(e)         -1000.0      0.0\n",
       "EX_gcald(e)       -1000.0   1000.0\n",
       "...                   ...      ...\n",
       "EX_FAKE_fadh2[e]      0.0   1000.0\n",
       "FAKE_tr_nad[c]        0.0      0.0\n",
       "EX_FAKE_nad[e]        0.0      0.0\n",
       "FAKE_tr_nadh[c]       0.0      0.0\n",
       "EX_FAKE_nadh[e]       0.0      0.0\n",
       "\n",
       "[79 rows x 2 columns]"
      ]
     },
     "execution_count": 60,
     "metadata": {},
     "output_type": "execute_result"
    }
   ],
   "source": [
    "fva_res"
   ]
  },
  {
   "cell_type": "code",
   "execution_count": 66,
   "metadata": {},
   "outputs": [
    {
     "name": "stdout",
     "output_type": "stream",
     "text": [
      "EX_glc_D(e)\n",
      "EX_fru(e)\n",
      "EX_h2o(e)\n",
      "EX_pi(e)\n",
      "ALCD2x\n",
      "ETOHt\n",
      "ENO\n",
      "PGM\n",
      "PGK\n",
      "GAPD\n",
      "TPI\n",
      "FBA\n",
      "GLCpts\n",
      "FRUpts\n",
      "ACS\n",
      "FRD3\n",
      "ICL\n",
      "FUM\n",
      "r0556ci\n",
      "3CARLPDH\n",
      "ICDHy\n",
      "r0163c\n",
      "SUCOAS\n",
      "FAKE_tr_nad[c]\n",
      "EX_FAKE_nad[e]\n",
      "FAKE_tr_nadh[c]\n",
      "EX_FAKE_nadh[e]\n"
     ]
    }
   ],
   "source": [
    "reac_ids_toremove = []\n",
    "for reac in fva_res.index:\n",
    "    if fva_res.loc[reac,\"minimum\"] == 0 and fva_res.loc[reac,\"maximum\"] == 0:\n",
    "        print(reac)\n",
    "\n"
   ]
  },
  {
   "cell_type": "code",
   "execution_count": 67,
   "metadata": {},
   "outputs": [
    {
     "name": "stderr",
     "output_type": "stream",
     "text": [
      "/home/stefano/.conda/envs/modelmerge/lib/python3.10/site-packages/cobra/core/model.py:787: UserWarning: EX_glc_D(e) not in minimal_model\n",
      "  warn(f\"{reaction} not in {self}\")\n",
      "/home/stefano/.conda/envs/modelmerge/lib/python3.10/site-packages/cobra/core/model.py:787: UserWarning: EX_fru(e) not in minimal_model\n",
      "  warn(f\"{reaction} not in {self}\")\n",
      "/home/stefano/.conda/envs/modelmerge/lib/python3.10/site-packages/cobra/core/model.py:787: UserWarning: ALCD2x not in minimal_model\n",
      "  warn(f\"{reaction} not in {self}\")\n",
      "/home/stefano/.conda/envs/modelmerge/lib/python3.10/site-packages/cobra/core/model.py:787: UserWarning: ETOHt not in minimal_model\n",
      "  warn(f\"{reaction} not in {self}\")\n",
      "/home/stefano/.conda/envs/modelmerge/lib/python3.10/site-packages/cobra/core/model.py:787: UserWarning: ENO not in minimal_model\n",
      "  warn(f\"{reaction} not in {self}\")\n",
      "/home/stefano/.conda/envs/modelmerge/lib/python3.10/site-packages/cobra/core/model.py:787: UserWarning: PGM not in minimal_model\n",
      "  warn(f\"{reaction} not in {self}\")\n",
      "/home/stefano/.conda/envs/modelmerge/lib/python3.10/site-packages/cobra/core/model.py:787: UserWarning: PGK not in minimal_model\n",
      "  warn(f\"{reaction} not in {self}\")\n",
      "/home/stefano/.conda/envs/modelmerge/lib/python3.10/site-packages/cobra/core/model.py:787: UserWarning: GAPD not in minimal_model\n",
      "  warn(f\"{reaction} not in {self}\")\n",
      "/home/stefano/.conda/envs/modelmerge/lib/python3.10/site-packages/cobra/core/model.py:787: UserWarning: TPI not in minimal_model\n",
      "  warn(f\"{reaction} not in {self}\")\n",
      "/home/stefano/.conda/envs/modelmerge/lib/python3.10/site-packages/cobra/core/model.py:787: UserWarning: FBA not in minimal_model\n",
      "  warn(f\"{reaction} not in {self}\")\n"
     ]
    }
   ],
   "source": [
    "minimal_model.remove_reactions([\"EX_glc_D(e)\",\"EX_fru(e)\",\"ALCD2x\",\n",
    "                                \"ETOHt\",\"ENO\",\"PGM\",\"PGK\",\"GAPD\",\"TPI\",\n",
    "                                \"FBA\"])\n",
    "#GLCpts\n",
    "#FRUpts\n",
    "#ACS\n",
    "#FRD3\n",
    "#ICL\n",
    "#FUM\n",
    "#r0556ci\n",
    "#3CARLPDH\n",
    "#ICDHy\n",
    "#r0163c\n",
    "#SUCOAS\n",
    "#FAKE_tr_nad[c]\n",
    "#EX_FAKE_nad[e]\n",
    "#FAKE_tr_nadh[c]\n",
    "#EX_FAKE_nadh[e]])"
   ]
  },
  {
   "cell_type": "code",
   "execution_count": 70,
   "metadata": {},
   "outputs": [
    {
     "data": {
      "text/html": [
       "\n",
       "        <table>\n",
       "            <tr>\n",
       "                <td><strong>Name</strong></td>\n",
       "                <td>minimal_model</td>\n",
       "            </tr><tr>\n",
       "                <td><strong>Memory address</strong></td>\n",
       "                <td>7fe6e6abea70</td>\n",
       "            </tr><tr>\n",
       "                <td><strong>Number of metabolites</strong></td>\n",
       "                <td>76</td>\n",
       "            </tr><tr>\n",
       "                <td><strong>Number of reactions</strong></td>\n",
       "                <td>52</td>\n",
       "            </tr><tr>\n",
       "                <td><strong>Number of genes</strong></td>\n",
       "                <td>0</td>\n",
       "            </tr><tr>\n",
       "                <td><strong>Number of groups</strong></td>\n",
       "                <td>7</td>\n",
       "            </tr><tr>\n",
       "                <td><strong>Objective expression</strong></td>\n",
       "                <td>1.0*EX_lac_D(e) - 1.0*EX_lac_D(e)_reverse_b1bb0</td>\n",
       "            </tr><tr>\n",
       "                <td><strong>Compartments</strong></td>\n",
       "                <td>e, c</td>\n",
       "            </tr>\n",
       "          </table>"
      ],
      "text/plain": [
       "<Model minimal_model at 0x7fe6e6abea70>"
      ]
     },
     "execution_count": 70,
     "metadata": {},
     "output_type": "execute_result"
    }
   ],
   "source": [
    "minimal_model"
   ]
  },
  {
   "cell_type": "code",
   "execution_count": null,
   "metadata": {},
   "outputs": [],
   "source": [
    "#TODO prune unusee metabolites"
   ]
  },
  {
   "cell_type": "code",
   "execution_count": 55,
   "metadata": {},
   "outputs": [
    {
     "data": {
      "text/html": [
       "<div>\n",
       "<style scoped>\n",
       "    .dataframe tbody tr th:only-of-type {\n",
       "        vertical-align: middle;\n",
       "    }\n",
       "\n",
       "    .dataframe tbody tr th {\n",
       "        vertical-align: top;\n",
       "    }\n",
       "\n",
       "    .dataframe thead th {\n",
       "        text-align: right;\n",
       "    }\n",
       "</style>\n",
       "<table border=\"1\" class=\"dataframe\">\n",
       "  <thead>\n",
       "    <tr style=\"text-align: right;\">\n",
       "      <th></th>\n",
       "      <th>minimum</th>\n",
       "      <th>maximum</th>\n",
       "    </tr>\n",
       "  </thead>\n",
       "  <tbody>\n",
       "    <tr>\n",
       "      <th>EX_glc_D(e)</th>\n",
       "      <td>0.0</td>\n",
       "      <td>0.0</td>\n",
       "    </tr>\n",
       "    <tr>\n",
       "      <th>EX_fru(e)</th>\n",
       "      <td>0.0</td>\n",
       "      <td>0.0</td>\n",
       "    </tr>\n",
       "    <tr>\n",
       "      <th>EX_ac(e)</th>\n",
       "      <td>0.0</td>\n",
       "      <td>2.0</td>\n",
       "    </tr>\n",
       "    <tr>\n",
       "      <th>EX_cit(e)</th>\n",
       "      <td>-1.0</td>\n",
       "      <td>0.0</td>\n",
       "    </tr>\n",
       "    <tr>\n",
       "      <th>EX_gcald(e)</th>\n",
       "      <td>-1.0</td>\n",
       "      <td>1.0</td>\n",
       "    </tr>\n",
       "    <tr>\n",
       "      <th>...</th>\n",
       "      <td>...</td>\n",
       "      <td>...</td>\n",
       "    </tr>\n",
       "    <tr>\n",
       "      <th>EX_FAKE_fadh2[e]</th>\n",
       "      <td>0.0</td>\n",
       "      <td>1000.0</td>\n",
       "    </tr>\n",
       "    <tr>\n",
       "      <th>FAKE_tr_nad[c]</th>\n",
       "      <td>0.0</td>\n",
       "      <td>0.0</td>\n",
       "    </tr>\n",
       "    <tr>\n",
       "      <th>EX_FAKE_nad[e]</th>\n",
       "      <td>0.0</td>\n",
       "      <td>0.0</td>\n",
       "    </tr>\n",
       "    <tr>\n",
       "      <th>FAKE_tr_nadh[c]</th>\n",
       "      <td>0.0</td>\n",
       "      <td>0.0</td>\n",
       "    </tr>\n",
       "    <tr>\n",
       "      <th>EX_FAKE_nadh[e]</th>\n",
       "      <td>0.0</td>\n",
       "      <td>0.0</td>\n",
       "    </tr>\n",
       "  </tbody>\n",
       "</table>\n",
       "<p>79 rows × 2 columns</p>\n",
       "</div>"
      ],
      "text/plain": [
       "                  minimum  maximum\n",
       "EX_glc_D(e)           0.0      0.0\n",
       "EX_fru(e)             0.0      0.0\n",
       "EX_ac(e)              0.0      2.0\n",
       "EX_cit(e)            -1.0      0.0\n",
       "EX_gcald(e)          -1.0      1.0\n",
       "...                   ...      ...\n",
       "EX_FAKE_fadh2[e]      0.0   1000.0\n",
       "FAKE_tr_nad[c]        0.0      0.0\n",
       "EX_FAKE_nad[e]        0.0      0.0\n",
       "FAKE_tr_nadh[c]       0.0      0.0\n",
       "EX_FAKE_nadh[e]       0.0      0.0\n",
       "\n",
       "[79 rows x 2 columns]"
      ]
     },
     "execution_count": 55,
     "metadata": {},
     "output_type": "execute_result"
    }
   ],
   "source": [
    "fva_res"
   ]
  },
  {
   "cell_type": "code",
   "execution_count": 52,
   "metadata": {},
   "outputs": [
    {
     "data": {
      "text/html": [
       "<strong><em>Optimal</em> solution with objective value 1.000</strong><br><div>\n",
       "<style scoped>\n",
       "    .dataframe tbody tr th:only-of-type {\n",
       "        vertical-align: middle;\n",
       "    }\n",
       "\n",
       "    .dataframe tbody tr th {\n",
       "        vertical-align: top;\n",
       "    }\n",
       "\n",
       "    .dataframe thead th {\n",
       "        text-align: right;\n",
       "    }\n",
       "</style>\n",
       "<table border=\"1\" class=\"dataframe\">\n",
       "  <thead>\n",
       "    <tr style=\"text-align: right;\">\n",
       "      <th></th>\n",
       "      <th>fluxes</th>\n",
       "      <th>reduced_costs</th>\n",
       "    </tr>\n",
       "  </thead>\n",
       "  <tbody>\n",
       "    <tr>\n",
       "      <th>EX_glc_D(e)</th>\n",
       "      <td>0.0</td>\n",
       "      <td>-0.0</td>\n",
       "    </tr>\n",
       "    <tr>\n",
       "      <th>EX_fru(e)</th>\n",
       "      <td>0.0</td>\n",
       "      <td>-0.0</td>\n",
       "    </tr>\n",
       "    <tr>\n",
       "      <th>EX_ac(e)</th>\n",
       "      <td>1.0</td>\n",
       "      <td>0.0</td>\n",
       "    </tr>\n",
       "    <tr>\n",
       "      <th>EX_cit(e)</th>\n",
       "      <td>-1.0</td>\n",
       "      <td>-0.0</td>\n",
       "    </tr>\n",
       "    <tr>\n",
       "      <th>EX_gcald(e)</th>\n",
       "      <td>0.0</td>\n",
       "      <td>-0.0</td>\n",
       "    </tr>\n",
       "    <tr>\n",
       "      <th>...</th>\n",
       "      <td>...</td>\n",
       "      <td>...</td>\n",
       "    </tr>\n",
       "    <tr>\n",
       "      <th>EX_FAKE_fadh2[e]</th>\n",
       "      <td>0.0</td>\n",
       "      <td>-0.0</td>\n",
       "    </tr>\n",
       "    <tr>\n",
       "      <th>FAKE_tr_nad[c]</th>\n",
       "      <td>0.0</td>\n",
       "      <td>-0.0</td>\n",
       "    </tr>\n",
       "    <tr>\n",
       "      <th>EX_FAKE_nad[e]</th>\n",
       "      <td>0.0</td>\n",
       "      <td>-0.0</td>\n",
       "    </tr>\n",
       "    <tr>\n",
       "      <th>FAKE_tr_nadh[c]</th>\n",
       "      <td>0.0</td>\n",
       "      <td>0.0</td>\n",
       "    </tr>\n",
       "    <tr>\n",
       "      <th>EX_FAKE_nadh[e]</th>\n",
       "      <td>0.0</td>\n",
       "      <td>0.0</td>\n",
       "    </tr>\n",
       "  </tbody>\n",
       "</table>\n",
       "<p>79 rows × 2 columns</p>\n",
       "</div>"
      ],
      "text/plain": [
       "<Solution 1.000 at 0x7fe6e6ba3190>"
      ]
     },
     "execution_count": 52,
     "metadata": {},
     "output_type": "execute_result"
    }
   ],
   "source": [
    "sol = minimal_model.optimize()\n",
    "sol"
   ]
  },
  {
   "cell_type": "code",
   "execution_count": 53,
   "metadata": {},
   "outputs": [
    {
     "name": "stdout",
     "output_type": "stream",
     "text": [
      "('EX_ac(e)', 1.0)\n",
      "('EX_cit(e)', -1.0)\n",
      "('EX_h(e)', -1.0)\n",
      "('EX_co2(e)', 1.0)\n",
      "('EX_lac_D(e)', 1.0)\n",
      "('LDH_D', -1.0)\n",
      "('D_LACt2', -1.0)\n",
      "('PYK', 1.0)\n",
      "('ACt2r', -1.0)\n",
      "('CITt7', 1.0)\n",
      "('CO2t', -1.0)\n",
      "('SUCCt2_3', 1.0)\n",
      "('CDCA7aHSDHe', 1.0)\n",
      "('EX_C02528(e)', -1.0)\n",
      "('EX_7dhcdchol(e)', 1.0)\n",
      "('PPCK', 1.0)\n",
      "('CITL', 1.0)\n"
     ]
    }
   ],
   "source": [
    "for fl in sol.fluxes.items():\n",
    "    if fl[1] !=0:\n",
    "        print(fl)"
   ]
  },
  {
   "cell_type": "code",
   "execution_count": 61,
   "metadata": {},
   "outputs": [
    {
     "name": "stdout",
     "output_type": "stream",
     "text": [
      "('ACt2r', -1000.0)\n",
      "('CDCA7aHSDHe', 1000.0)\n",
      "('CITL', 1000.0)\n",
      "('CITt7', 1000.0)\n",
      "('CO2t', -1000.0)\n",
      "('D_LACt2', -1000.0)\n",
      "('EX_7dhcdchol(e)', 1000.0)\n",
      "('EX_C02528(e)', -1000.0)\n",
      "('EX_ac(e)', 1000.0)\n",
      "('EX_cit(e)', -1000.0)\n",
      "('EX_co2(e)', 1000.0)\n",
      "('EX_h(e)', -1000.0)\n",
      "('EX_lac_D(e)', 1000.0)\n",
      "('LDH_D', -1000.0)\n",
      "('PPCK', 1000.0)\n",
      "('PYK', 1000.0)\n",
      "('SUCCt2_3', 1000.0)\n"
     ]
    }
   ],
   "source": [
    "model.objective = \"EX_lac_D(e)\"\n",
    "sol = model.optimize()\n",
    "for fl in sol.fluxes.items():\n",
    "    if fl[1] !=0:\n",
    "        print(fl)"
   ]
  },
  {
   "cell_type": "code",
   "execution_count": 30,
   "metadata": {},
   "outputs": [
    {
     "data": {
      "text/plain": [
       "{'EX_glc_D(e)': 1000.0,\n",
       " 'EX_fru(e)': 1000.0,\n",
       " 'EX_ac(e)': 1000.0,\n",
       " 'EX_h2o(e)': 1000.0,\n",
       " 'EX_co2(e)': 1000.0,\n",
       " 'EX_pi(e)': 1000.0,\n",
       " 'EX_for(e)': 1000.0,\n",
       " 'EX_acald(e)': 1000.0,\n",
       " 'EX_lac_D(e)': 1000.0}"
      ]
     },
     "execution_count": 30,
     "metadata": {},
     "output_type": "execute_result"
    }
   ],
   "source": [
    "minimal_model.medium"
   ]
  },
  {
   "cell_type": "code",
   "execution_count": null,
   "metadata": {},
   "outputs": [],
   "source": []
  },
  {
   "cell_type": "code",
   "execution_count": null,
   "metadata": {},
   "outputs": [],
   "source": []
  },
  {
   "cell_type": "code",
   "execution_count": null,
   "metadata": {},
   "outputs": [],
   "source": []
  },
  {
   "cell_type": "code",
   "execution_count": 52,
   "metadata": {},
   "outputs": [
    {
     "data": {
      "text/html": [
       "\n",
       "        <table>\n",
       "            <tr>\n",
       "                <td><strong>Reaction identifier</strong></td><td>biomass456</td>\n",
       "            </tr><tr>\n",
       "                <td><strong>Name</strong></td><td>biomass456</td>\n",
       "            </tr><tr>\n",
       "                <td><strong>Memory address</strong></td>\n",
       "                <td>0x7fe9b17a8dc0</td>\n",
       "            </tr><tr>\n",
       "                <td><strong>Stoichiometry</strong></td>\n",
       "                <td>\n",
       "                    <p style='text-align:right'>0.0030965 10fthf[c] + 0.0030965 2dmmq8[c] + 0.0030965 5mthf[c] + 0.0030965 ACP[c] + 0.025011 PGP[c] + 0.0030965 adocbl[c] + 0.42793 ala_L[c] + 0.0030965 amet[c] + 0.2467 arg_L[c] + 0.20083 asn_L[c]...</p>\n",
       "                    <p style='text-align:right'>0.0030965 10-Formyltetrahydrofolate + 0.0030965 2-Demethylmenaquinone 8 + 0.0030965 5-Methyltetrahydrofolate + 0.0030965 acyl carrier protein + 0.025011 Peptidoglycan polymer (n subunits) +...</p>\n",
       "                </td>\n",
       "            </tr><tr>\n",
       "                <td><strong>GPR</strong></td><td></td>\n",
       "            </tr><tr>\n",
       "                <td><strong>Lower bound</strong></td><td>0.0</td>\n",
       "            </tr><tr>\n",
       "                <td><strong>Upper bound</strong></td><td>1000.0</td>\n",
       "            </tr>\n",
       "        </table>\n",
       "        "
      ],
      "text/plain": [
       "<Reaction biomass456 at 0x7fe9b17a8dc0>"
      ]
     },
     "execution_count": 52,
     "metadata": {},
     "output_type": "execute_result"
    }
   ],
   "source": [
    "model.reactions.get_by_id(\"biomass456\")"
   ]
  },
  {
   "cell_type": "markdown",
   "metadata": {},
   "source": [
    "<H1>Save model</H1>"
   ]
  },
  {
   "cell_type": "code",
   "execution_count": 47,
   "metadata": {},
   "outputs": [],
   "source": [
    "cobra.io.write_sbml_model(metamodel,\"\")"
   ]
  }
 ],
 "metadata": {
  "kernelspec": {
   "display_name": "Python Mamba modelmerge",
   "language": "python",
   "name": "modelmerge"
  },
  "language_info": {
   "codemirror_mode": {
    "name": "ipython",
    "version": 3
   },
   "file_extension": ".py",
   "mimetype": "text/x-python",
   "name": "python",
   "nbconvert_exporter": "python",
   "pygments_lexer": "ipython3",
   "version": "3.10.6"
  }
 },
 "nbformat": 4,
 "nbformat_minor": 2
}
