{
 "cells": [
  {
   "cell_type": "code",
   "execution_count": 1,
   "id": "6feb491d",
   "metadata": {},
   "outputs": [],
   "source": [
    "from rdkit import Chem\n",
    "import pandas as pd"
   ]
  },
  {
   "cell_type": "code",
   "execution_count": 2,
   "id": "5e3db62c",
   "metadata": {},
   "outputs": [],
   "source": [
    "test_metabs = pd.read_csv(\"test_metabolites.csv\",index_col=[\"ID\",\"Source\"])"
   ]
  },
  {
   "cell_type": "code",
   "execution_count": 3,
   "id": "73c70faa",
   "metadata": {},
   "outputs": [
    {
     "data": {
      "text/plain": [
       "MultiIndex([('cpd00047', 'ModelSEED'),\n",
       "            ('cpd00220', 'ModelSEED'),\n",
       "            (     'for',       'VMH'),\n",
       "            (  'ribflv',       'VMH')],\n",
       "           names=['ID', 'Source'])"
      ]
     },
     "execution_count": 3,
     "metadata": {},
     "output_type": "execute_result"
    }
   ],
   "source": [
    "test_metabs.index"
   ]
  },
  {
   "cell_type": "code",
   "execution_count": 4,
   "id": "ebc41c7a",
   "metadata": {},
   "outputs": [],
   "source": [
    "formate_modelseed = test_metabs.loc[('cpd00047','ModelSEED'),]"
   ]
  },
  {
   "cell_type": "code",
   "execution_count": 5,
   "id": "b4b6f471",
   "metadata": {},
   "outputs": [],
   "source": [
    "formate_vmh = test_metabs.loc[('for','VMH'),]"
   ]
  },
  {
   "cell_type": "code",
   "execution_count": 6,
   "id": "80fd48ce",
   "metadata": {},
   "outputs": [],
   "source": [
    "ribflv_modelseed = test_metabs.loc[('cpd00220','ModelSEED'),]"
   ]
  },
  {
   "cell_type": "code",
   "execution_count": 7,
   "id": "bb580b9e",
   "metadata": {},
   "outputs": [],
   "source": [
    "ribflv_vmh = test_metabs.loc[('ribflv','VMH'),]"
   ]
  },
  {
   "cell_type": "code",
   "execution_count": 8,
   "id": "fc66338f",
   "metadata": {},
   "outputs": [
    {
     "data": {
      "text/plain": [
       "Name                                                       Formate\n",
       "Formula                                                       CHO2\n",
       "Charge                                                          -1\n",
       "SMILES                                                     [O-]C=O\n",
       "InChi                        InChI=1S/CH2O2/c2-1-3/h1H,(H,2,3)/p-1\n",
       "InChiKey                               BDAGIHXWWSANSR-UHFFFAOYSA-M\n",
       "Molfile                                                       None\n",
       "XML_file                                                       NaN\n",
       "SDF_file                                                       NaN\n",
       "Matching                                                       YES\n",
       "Differentially protonated                                       NO\n",
       "Match                                                          for\n",
       "Name: (cpd00047, ModelSEED), dtype: object"
      ]
     },
     "execution_count": 8,
     "metadata": {},
     "output_type": "execute_result"
    }
   ],
   "source": [
    "formate_modelseed"
   ]
  },
  {
   "cell_type": "code",
   "execution_count": 9,
   "id": "19ade5dd",
   "metadata": {},
   "outputs": [
    {
     "data": {
      "text/plain": [
       "Name                                                                   Formate\n",
       "Formula                                                                  CH1O2\n",
       "Charge                                                                      -1\n",
       "SMILES                                                            [H]C([O-])=O\n",
       "InChi                                    InChI=1S/CH2O2/c2-1-3/h1H,(H,2,3)/p-1\n",
       "InChiKey                                           BDAGIHXWWSANSR-UHFFFAOYSA-M\n",
       "Molfile                      chemical_structures/VMH_manually_retrieved/for...\n",
       "XML_file                                                                   NaN\n",
       "SDF_file                                                                   NaN\n",
       "Matching                                                                   YES\n",
       "Differentially protonated                                                   NO\n",
       "Match                                                                 cpd00047\n",
       "Name: (for, VMH), dtype: object"
      ]
     },
     "execution_count": 9,
     "metadata": {},
     "output_type": "execute_result"
    }
   ],
   "source": [
    "formate_vmh"
   ]
  },
  {
   "cell_type": "code",
   "execution_count": 10,
   "id": "dd612a91",
   "metadata": {},
   "outputs": [
    {
     "data": {
      "text/plain": [
       "Name                                                                Riboflavin\n",
       "Formula                                                             C17H19N4O6\n",
       "Charge                                                                      -1\n",
       "SMILES                       OC[C@H]([C@H]([C@H](Cn1c2cc(C)c(cc2nc2c1nc(O)n...\n",
       "InChi                        InChI=1S/C17H20N4O6/c1-7-3-9-10(4-8(7)2)21(5-1...\n",
       "InChiKey                                           AUNGANRZJHBGPY-SCRDCRAPSA-M\n",
       "Molfile                                                                   None\n",
       "XML_file                                                                   NaN\n",
       "SDF_file                                                                   NaN\n",
       "Matching                                                                   YES\n",
       "Differentially protonated                                                  YES\n",
       "Match                                                                   ribflv\n",
       "Name: (cpd00220, ModelSEED), dtype: object"
      ]
     },
     "execution_count": 10,
     "metadata": {},
     "output_type": "execute_result"
    }
   ],
   "source": [
    "ribflv_modelseed"
   ]
  },
  {
   "cell_type": "code",
   "execution_count": 11,
   "id": "935974ee",
   "metadata": {},
   "outputs": [
    {
     "data": {
      "text/plain": [
       "Name                                                                Riboflavin\n",
       "Formula                                                             C17H20N4O6\n",
       "Charge                                                                       0\n",
       "SMILES                       [H]OC([H])([H])[C@@]([H])(O[H])[C@@]([H])(O[H]...\n",
       "InChi                        InChI=1S/C17H20N4O6/c1-7-3-9-10(4-8(7)2)21(5-1...\n",
       "InChiKey                                           AUNGANRZJHBGPY-SCRDCRAPSA-N\n",
       "Molfile                      chemical_structures/VMH_manually_retrieved/rib...\n",
       "XML_file                                                                   NaN\n",
       "SDF_file                                                                   NaN\n",
       "Matching                                                                   YES\n",
       "Differentially protonated                                                  YES\n",
       "Match                                                                 cpd00220\n",
       "Name: (ribflv, VMH), dtype: object"
      ]
     },
     "execution_count": 11,
     "metadata": {},
     "output_type": "execute_result"
    }
   ],
   "source": [
    "ribflv_vmh"
   ]
  },
  {
   "cell_type": "code",
   "execution_count": null,
   "id": "cb155560",
   "metadata": {},
   "outputs": [],
   "source": []
  },
  {
   "cell_type": "markdown",
   "id": "6e1762ce",
   "metadata": {},
   "source": [
    "<H3>Canonical Smiles: formate's canonical smile doesn't include protons but riboflavin does</H3>"
   ]
  },
  {
   "cell_type": "markdown",
   "id": "4d385ebb",
   "metadata": {},
   "source": [
    "#TODO<H4>Compare substructures</H4>\n"
   ]
  },
  {
   "cell_type": "code",
   "execution_count": 12,
   "id": "e81fa368",
   "metadata": {},
   "outputs": [
    {
     "data": {
      "text/plain": [
       "'O=C[O-]'"
      ]
     },
     "execution_count": 12,
     "metadata": {},
     "output_type": "execute_result"
    }
   ],
   "source": [
    "Chem.CanonSmiles(formate_modelseed.SMILES)"
   ]
  },
  {
   "cell_type": "code",
   "execution_count": 13,
   "id": "009e5f0d",
   "metadata": {},
   "outputs": [
    {
     "data": {
      "text/plain": [
       "'O=C[O-]'"
      ]
     },
     "execution_count": 13,
     "metadata": {},
     "output_type": "execute_result"
    }
   ],
   "source": [
    "Chem.CanonSmiles(formate_vmh.SMILES)"
   ]
  },
  {
   "cell_type": "code",
   "execution_count": 14,
   "id": "0c0320a3",
   "metadata": {},
   "outputs": [
    {
     "data": {
      "text/plain": [
       "'Cc1cc2nc3c(=O)nc(O)nc-3n(C[C@H](O)[C@H](O)[C@H](O)CO)c2cc1C'"
      ]
     },
     "execution_count": 14,
     "metadata": {},
     "output_type": "execute_result"
    }
   ],
   "source": [
    "Chem.CanonSmiles(ribflv_modelseed.SMILES)"
   ]
  },
  {
   "cell_type": "code",
   "execution_count": 15,
   "id": "f2d8b237",
   "metadata": {},
   "outputs": [
    {
     "data": {
      "text/plain": [
       "'Cc1cc2nc3c(=O)[nH]c(=O)nc-3n(C[C@H](O)[C@H](O)[C@H](O)CO)c2cc1C'"
      ]
     },
     "execution_count": 15,
     "metadata": {},
     "output_type": "execute_result"
    }
   ],
   "source": [
    "Chem.CanonSmiles(ribflv_vmh.SMILES)"
   ]
  },
  {
   "cell_type": "markdown",
   "id": "a0de5a47",
   "metadata": {},
   "source": [
    "<H3>Mol from Smiles</H3>\n",
    "<H4>Atom connection tables are unambiguous but not canonical, see Morgan algorithm to create canonical versions of a connection table</H4>"
   ]
  },
  {
   "cell_type": "code",
   "execution_count": 16,
   "id": "bacad70e",
   "metadata": {},
   "outputs": [],
   "source": [
    "form_vmh_mol = Chem.MolFromSmiles(formate_vmh.SMILES)"
   ]
  },
  {
   "cell_type": "code",
   "execution_count": 17,
   "id": "a7e76da1",
   "metadata": {},
   "outputs": [
    {
     "data": {
      "image/png": "[encoded data removed]",
      "text/plain": [
       "<rdkit.Chem.rdchem.Mol at 0x7f9e5833b5a0>"
      ]
     },
     "execution_count": 17,
     "metadata": {},
     "output_type": "execute_result"
    }
   ],
   "source": [
    "form_vmh_mol"
   ]
  },
  {
   "cell_type": "code",
   "execution_count": 18,
   "id": "525ab89f",
   "metadata": {},
   "outputs": [
    {
     "name": "stdout",
     "output_type": "stream",
     "text": [
      "\n",
      "     RDKit          2D\n",
      "\n",
      "  3  2  0  0  0  0  0  0  0  0999 V2000\n",
      "    0.0000    0.0000    0.0000 C   0  0  0  0  0  0  0  0  0  0  0  0\n",
      "    1.2990    0.7500    0.0000 O   0  0  0  0  0  1  0  0  0  0  0  0\n",
      "   -1.2990    0.7500    0.0000 O   0  0  0  0  0  0  0  0  0  0  0  0\n",
      "  1  2  1  0\n",
      "  1  3  2  0\n",
      "M  CHG  1   2  -1\n",
      "M  END\n",
      "\n"
     ]
    }
   ],
   "source": [
    "print(Chem.MolToMolBlock(form_vmh_mol))"
   ]
  },
  {
   "cell_type": "code",
   "execution_count": null,
   "id": "0ab3071f",
   "metadata": {},
   "outputs": [],
   "source": []
  },
  {
   "cell_type": "code",
   "execution_count": 19,
   "id": "f8e8d995",
   "metadata": {},
   "outputs": [],
   "source": [
    "ribflv_modelseed_mol = Chem.MolFromSmiles(ribflv_modelseed.SMILES)"
   ]
  },
  {
   "cell_type": "code",
   "execution_count": 20,
   "id": "34b8cdc1",
   "metadata": {},
   "outputs": [
    {
     "data": {
      "image/png": "[encoded data removed]",
      "text/plain": [
       "<rdkit.Chem.rdchem.Mol at 0x7f9e5833b530>"
      ]
     },
     "execution_count": 20,
     "metadata": {},
     "output_type": "execute_result"
    }
   ],
   "source": [
    "ribflv_modelseed_mol"
   ]
  },
  {
   "cell_type": "code",
   "execution_count": 21,
   "id": "bee0c5c8",
   "metadata": {},
   "outputs": [
    {
     "name": "stdout",
     "output_type": "stream",
     "text": [
      "\n",
      "     RDKit          2D\n",
      "\n",
      " 27 29  0  0  0  0  0  0  0  0999 V2000\n",
      "    8.2500   -6.4952    0.0000 O   0  0  0  0  0  0  0  0  0  0  0  0\n",
      "    7.5000   -5.1962    0.0000 C   0  0  0  0  0  0  0  0  0  0  0  0\n",
      "    6.0000   -5.1962    0.0000 C   0  0  0  0  0  0  0  0  0  0  0  0\n",
      "    5.2500   -3.8971    0.0000 C   0  0  0  0  0  0  0  0  0  0  0  0\n",
      "    3.7500   -3.8971    0.0000 C   0  0  0  0  0  0  0  0  0  0  0  0\n",
      "    3.0000   -2.5981    0.0000 C   0  0  0  0  0  0  0  0  0  0  0  0\n",
      "    1.5000   -2.5981    0.0000 N   0  0  0  0  0  0  0  0  0  0  0  0\n",
      "    0.7500   -1.2990    0.0000 C   0  0  0  0  0  0  0  0  0  0  0  0\n",
      "    1.5000    0.0000    0.0000 C   0  0  0  0  0  0  0  0  0  0  0  0\n",
      "    0.7500    1.2990    0.0000 C   0  0  0  0  0  0  0  0  0  0  0  0\n",
      "    1.5000    2.5981    0.0000 C   0  0  0  0  0  0  0  0  0  0  0  0\n",
      "   -0.7500    1.2990    0.0000 C   0  0  0  0  0  0  0  0  0  0  0  0\n",
      "   -1.5000    0.0000    0.0000 C   0  0  0  0  0  0  0  0  0  0  0  0\n",
      "   -0.7500   -1.2990    0.0000 C   0  0  0  0  0  0  0  0  0  0  0  0\n",
      "   -1.5000   -2.5981    0.0000 N   0  0  0  0  0  0  0  0  0  0  0  0\n",
      "   -0.7500   -3.8971    0.0000 C   0  0  0  0  0  0  0  0  0  0  0  0\n",
      "    0.7500   -3.8971    0.0000 C   0  0  0  0  0  0  0  0  0  0  0  0\n",
      "    1.5000   -5.1962    0.0000 N   0  0  0  0  0  0  0  0  0  0  0  0\n",
      "    0.7500   -6.4952    0.0000 C   0  0  0  0  0  0  0  0  0  0  0  0\n",
      "    1.5000   -7.7942    0.0000 O   0  0  0  0  0  0  0  0  0  0  0  0\n",
      "   -0.7500   -6.4952    0.0000 N   0  0  0  0  0  0  0  0  0  0  0  0\n",
      "   -1.5000   -5.1962    0.0000 C   0  0  0  0  0  0  0  0  0  0  0  0\n",
      "   -3.0000   -5.1962    0.0000 O   0  0  0  0  0  0  0  0  0  0  0  0\n",
      "   -1.5000    2.5981    0.0000 C   0  0  0  0  0  0  0  0  0  0  0  0\n",
      "    3.0000   -5.1962    0.0000 O   0  0  0  0  0  0  0  0  0  0  0  0\n",
      "    6.0000   -2.5981    0.0000 O   0  0  0  0  0  0  0  0  0  0  0  0\n",
      "    5.2500   -6.4952    0.0000 O   0  0  0  0  0  0  0  0  0  0  0  0\n",
      "  1  2  1  0\n",
      "  2  3  1  0\n",
      "  3  4  1  0\n",
      "  4  5  1  0\n",
      "  5  6  1  0\n",
      "  6  7  1  0\n",
      "  7  8  1  0\n",
      "  8  9  2  0\n",
      "  9 10  1  0\n",
      " 10 11  1  0\n",
      " 10 12  2  0\n",
      " 12 13  1  0\n",
      " 13 14  2  0\n",
      " 14 15  1  0\n",
      " 15 16  2  0\n",
      " 16 17  1  0\n",
      " 17 18  2  0\n",
      " 18 19  1  0\n",
      " 19 20  1  0\n",
      " 19 21  2  0\n",
      " 21 22  1  0\n",
      " 22 23  2  0\n",
      " 12 24  1  0\n",
      "  5 25  1  1\n",
      "  4 26  1  6\n",
      "  3 27  1  1\n",
      " 17  7  1  0\n",
      " 14  8  1  0\n",
      " 22 16  1  0\n",
      "M  END\n",
      "\n"
     ]
    }
   ],
   "source": [
    "print(Chem.MolToMolBlock(ribflv_modelseed_mol))"
   ]
  },
  {
   "cell_type": "code",
   "execution_count": 22,
   "id": "91242edc",
   "metadata": {},
   "outputs": [],
   "source": [
    "ribflv_vmh_mol = Chem.MolFromSmiles(ribflv_vmh.SMILES)"
   ]
  },
  {
   "cell_type": "code",
   "execution_count": 23,
   "id": "a6c0ef21",
   "metadata": {},
   "outputs": [
    {
     "data": {
      "image/png": "[encoded data removed]",
      "text/plain": [
       "<rdkit.Chem.rdchem.Mol at 0x7f9e5833bbc0>"
      ]
     },
     "execution_count": 23,
     "metadata": {},
     "output_type": "execute_result"
    }
   ],
   "source": [
    "ribflv_vmh_mol"
   ]
  },
  {
   "cell_type": "code",
   "execution_count": 24,
   "id": "c99fbe54",
   "metadata": {},
   "outputs": [
    {
     "name": "stdout",
     "output_type": "stream",
     "text": [
      "\n",
      "     RDKit          2D\n",
      "\n",
      " 27 29  0  0  0  0  0  0  0  0999 V2000\n",
      "    8.2500   -6.4952    0.0000 O   0  0  0  0  0  0  0  0  0  0  0  0\n",
      "    7.5000   -5.1962    0.0000 C   0  0  0  0  0  0  0  0  0  0  0  0\n",
      "    6.0000   -5.1962    0.0000 C   0  0  0  0  0  0  0  0  0  0  0  0\n",
      "    5.2500   -6.4952    0.0000 O   0  0  0  0  0  0  0  0  0  0  0  0\n",
      "    5.2500   -3.8971    0.0000 C   0  0  0  0  0  0  0  0  0  0  0  0\n",
      "    6.0000   -2.5981    0.0000 O   0  0  0  0  0  0  0  0  0  0  0  0\n",
      "    3.7500   -3.8971    0.0000 C   0  0  0  0  0  0  0  0  0  0  0  0\n",
      "    3.0000   -5.1962    0.0000 O   0  0  0  0  0  0  0  0  0  0  0  0\n",
      "    3.0000   -2.5981    0.0000 C   0  0  0  0  0  0  0  0  0  0  0  0\n",
      "    1.5000   -2.5981    0.0000 N   0  0  0  0  0  0  0  0  0  0  0  0\n",
      "    0.7500   -1.2990    0.0000 C   0  0  0  0  0  0  0  0  0  0  0  0\n",
      "    1.5000    0.0000    0.0000 N   0  0  0  0  0  0  0  0  0  0  0  0\n",
      "    0.7500    1.2990    0.0000 C   0  0  0  0  0  0  0  0  0  0  0  0\n",
      "    1.5000    2.5981    0.0000 O   0  0  0  0  0  0  0  0  0  0  0  0\n",
      "   -0.7500    1.2990    0.0000 N   0  0  0  0  0  0  0  0  0  0  0  0\n",
      "   -1.5000    0.0000    0.0000 C   0  0  0  0  0  0  0  0  0  0  0  0\n",
      "   -3.0000    0.0000    0.0000 O   0  0  0  0  0  0  0  0  0  0  0  0\n",
      "   -0.7500   -1.2990    0.0000 C   0  0  0  0  0  0  0  0  0  0  0  0\n",
      "   -1.5000   -2.5981    0.0000 N   0  0  0  0  0  0  0  0  0  0  0  0\n",
      "   -0.7500   -3.8971    0.0000 C   0  0  0  0  0  0  0  0  0  0  0  0\n",
      "   -1.5000   -5.1962    0.0000 C   0  0  0  0  0  0  0  0  0  0  0  0\n",
      "   -0.7500   -6.4952    0.0000 C   0  0  0  0  0  0  0  0  0  0  0  0\n",
      "    0.7500   -6.4952    0.0000 C   0  0  0  0  0  0  0  0  0  0  0  0\n",
      "    1.5000   -5.1962    0.0000 C   0  0  0  0  0  0  0  0  0  0  0  0\n",
      "    0.7500   -3.8971    0.0000 C   0  0  0  0  0  0  0  0  0  0  0  0\n",
      "    1.5000   -7.7942    0.0000 C   0  0  0  0  0  0  0  0  0  0  0  0\n",
      "   -1.5000   -7.7942    0.0000 C   0  0  0  0  0  0  0  0  0  0  0  0\n",
      "  1  2  1  0\n",
      "  2  3  1  0\n",
      "  3  4  1  1\n",
      "  3  5  1  0\n",
      "  5  6  1  6\n",
      "  5  7  1  0\n",
      "  7  8  1  1\n",
      "  7  9  1  0\n",
      "  9 10  1  0\n",
      " 10 11  1  0\n",
      " 11 12  2  0\n",
      " 12 13  1  0\n",
      " 13 14  2  0\n",
      " 13 15  1  0\n",
      " 15 16  1  0\n",
      " 16 17  2  0\n",
      " 16 18  1  0\n",
      " 18 19  2  0\n",
      " 19 20  1  0\n",
      " 20 21  2  0\n",
      " 21 22  1  0\n",
      " 22 23  2  0\n",
      " 23 24  1  0\n",
      " 24 25  2  0\n",
      " 23 26  1  0\n",
      " 22 27  1  0\n",
      " 25 10  1  0\n",
      " 18 11  1  0\n",
      " 25 20  1  0\n",
      "M  END\n",
      "\n"
     ]
    }
   ],
   "source": [
    "print(Chem.MolToMolBlock(ribflv_vmh_mol))"
   ]
  }
 ],
 "metadata": {
  "kernelspec": {
   "display_name": "Python 3 (ipykernel)",
   "language": "python",
   "name": "python3"
  },
  "language_info": {
   "codemirror_mode": {
    "name": "ipython",
    "version": 3
   },
   "file_extension": ".py",
   "mimetype": "text/x-python",
   "name": "python",
   "nbconvert_exporter": "python",
   "pygments_lexer": "ipython3",
   "version": "3.10.8"
  }
 },
 "nbformat": 4,
 "nbformat_minor": 5
}
